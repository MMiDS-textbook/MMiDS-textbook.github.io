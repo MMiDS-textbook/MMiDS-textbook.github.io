{
 "cells": [
  {
   "cell_type": "markdown",
   "id": "be7cf5d2",
   "metadata": {
    "slideshow": {
     "slide_type": "slide"
    },
    "tags": [
     "remove-cell",
     "colab-keep"
    ]
   },
   "source": [
    "***\n",
    "\n",
    "*Course:* [Math 535](https://people.math.wisc.edu/~roch/mmids/) - Mathematical Methods in Data Science (MMiDS)  \n",
    "*Chapter:* 4-Spectral graph theory   \n",
    "*Author:* [Sebastien Roch](https://people.math.wisc.edu/~roch/), Department of Mathematics, University of Wisconsin-Madison  \n",
    "*Updated:* Jan 6, 2024   \n",
    "*Copyright:* &copy; 2024 Sebastien Roch\n",
    "\n",
    "***"
   ]
  },
  {
   "cell_type": "code",
   "execution_count": null,
   "id": "8bc028a9",
   "metadata": {
    "slideshow": {
     "slide_type": "skip"
    },
    "tags": [
     "remove-cell"
    ]
   },
   "outputs": [],
   "source": [
    "# IF RUNNING ON GOOGLE COLAB, UNCOMMENT THE FOLLOWING CODE CELL\n",
    "# When prompted, upload: \n",
    "#     * mmids.py\n",
    "# from your local file system\n",
    "# Files at: https://github.com/MMiDS-textbook/MMiDS-textbook.github.io/tree/main/utils\n",
    "# Alternative instructions: https://colab.research.google.com/notebooks/io.ipynb"
   ]
  },
  {
   "cell_type": "code",
   "execution_count": null,
   "id": "b181c18c",
   "metadata": {
    "slideshow": {
     "slide_type": "skip"
    },
    "tags": [
     "remove-cell",
     "colab-uncomment"
    ]
   },
   "outputs": [],
   "source": [
    "from google.colab import files\n",
    "\n",
    "uploaded = files.upload()\n",
    "\n",
    "for fn in uploaded.keys():\n",
    "    print('User uploaded file \"{name}\" with length {length} bytes'.format(\n",
    "      name=fn, length=len(uploaded[fn])))"
   ]
  },
  {
   "cell_type": "code",
   "execution_count": null,
   "id": "75490b6e",
   "metadata": {
    "slideshow": {
     "slide_type": "skip"
    },
    "tags": [
     "remove-cell"
    ]
   },
   "outputs": [],
   "source": [
    "# PYTHON 3\n",
    "import numpy as np\n",
    "from numpy import linalg as LA\n",
    "from numpy.random import default_rng\n",
    "rng = default_rng(535)\n",
    "import matplotlib.pyplot as plt\n",
    "import pandas as pd\n",
    "import networkx as nx\n",
    "import mmids"
   ]
  },
  {
   "cell_type": "markdown",
   "id": "43ad835d",
   "metadata": {
    "slideshow": {
     "slide_type": "slide"
    },
    "tags": [
     "colab-keep"
    ]
   },
   "source": [
    "## Motivating example: finding communities"
   ]
  },
  {
   "cell_type": "markdown",
   "id": "c2e1bb49",
   "metadata": {
    "slideshow": {
     "slide_type": "slide"
    },
    "tags": [
     "colab-keep"
    ]
   },
   "source": [
    "In this chapter, we analyze datasets in the form of networks. As motivation, we first look at the [Karate Club dataset](https://en.wikipedia.org/wiki/Zachary%27s_karate_club). "
   ]
  },
  {
   "cell_type": "markdown",
   "id": "0c08c2ea",
   "metadata": {
    "slideshow": {
     "slide_type": "fragment"
    },
    "tags": [
     "colab-keep"
    ]
   },
   "source": [
    "From [Wikipedia](https://en.wikipedia.org/wiki/Zachary%27s_karate_club):\n",
    "> A social network of a karate club was studied by Wayne W. Zachary for a period of three years from 1970 to 1972. The network captures 34 members of a karate club, documenting links between pairs of members who interacted outside the club. During the study a conflict arose between the administrator \"John A\" and instructor \"Mr. Hi\" (pseudonyms), which led to the split of the club into two. Half of the members formed a new club around Mr. Hi; members from the other part found a new instructor or gave up karate. Based on collected data Zachary correctly assigned all but one member of the club to the groups they actually joined after the split."
   ]
  },
  {
   "cell_type": "markdown",
   "id": "5b54cd69",
   "metadata": {
    "slideshow": {
     "slide_type": "slide"
    },
    "tags": [
     "colab-keep"
    ]
   },
   "source": [
    "![Karate club network](https://upload.wikimedia.org/wikipedia/commons/thumb/0/0d/Social_Network_Model_of_Relationships_in_the_Karate_Club.png/480px-Social_Network_Model_of_Relationships_in_the_Karate_Club.png)\n",
    "\n",
    "**Figure:** Karate Club network ([Source](https://commons.wikimedia.org/wiki/File:Social_Network_Model_of_Relationships_in_the_Karate_Club.png))"
   ]
  },
  {
   "cell_type": "markdown",
   "id": "c12fbfbd",
   "metadata": {
    "slideshow": {
     "slide_type": "slide"
    },
    "tags": [
     "colab-keep"
    ]
   },
   "source": [
    "We use the [`NetworkX`](https://networkx.org) package to load the data and vizualize it. We will say more about it later in this chapter. In the meantime, there is a good tutorial [here](https://networkx.org/documentation/stable/tutorial.html)."
   ]
  },
  {
   "cell_type": "code",
   "execution_count": null,
   "id": "fa2bcbd3",
   "metadata": {
    "slideshow": {
     "slide_type": "fragment"
    }
   },
   "outputs": [],
   "source": [
    "import networkx as nx"
   ]
  },
  {
   "cell_type": "code",
   "execution_count": null,
   "id": "60db7c5e",
   "metadata": {
    "slideshow": {
     "slide_type": "fragment"
    }
   },
   "outputs": [],
   "source": [
    "G = nx.karate_club_graph()\n",
    "nx.draw_networkx(G)"
   ]
  },
  {
   "cell_type": "markdown",
   "id": "980ec02e",
   "metadata": {
    "slideshow": {
     "slide_type": "slide"
    },
    "tags": [
     "colab-keep"
    ]
   },
   "source": [
    "Our goal: \n",
    "\n",
    "> identify natural sub-communities in the network \n",
    "\n",
    "That is, we want to find groups of nodes that have many links between them, but relatively few with the other nodes. \n",
    "\n",
    "It will turn out that the eigenvectors of the Laplacian matrix, a matrix naturally associated to the graph, contain useful information about such communities."
   ]
  },
  {
   "cell_type": "markdown",
   "id": "7f3e01ca",
   "metadata": {
    "slideshow": {
     "slide_type": "slide"
    },
    "tags": [
     "colab-keep"
    ]
   },
   "source": [
    "## Background: review of graphs and associated matrices"
   ]
  },
  {
   "cell_type": "markdown",
   "id": "bff7e3a2",
   "metadata": {
    "slideshow": {
     "slide_type": "slide"
    },
    "tags": [
     "colab-keep"
    ]
   },
   "source": [
    "**NUMERICAL CORNER:** In Python, the [`NetworkX`](https://networkx.org) package provides many functionalities for defining, modifying and plotting graphs. For instance, many standard graphs can be defined conveniently. The [`petersen_graph()`](https://networkx.org/documentation/stable/reference/generated/networkx.generators.small.petersen_graph.html#networkx.generators.small.petersen_graph) function defines the Petersen graph."
   ]
  },
  {
   "cell_type": "code",
   "execution_count": null,
   "id": "bd180d2d",
   "metadata": {
    "slideshow": {
     "slide_type": "fragment"
    }
   },
   "outputs": [],
   "source": [
    "import networkx as nx"
   ]
  },
  {
   "cell_type": "code",
   "execution_count": null,
   "id": "1fc9a962",
   "metadata": {
    "slideshow": {
     "slide_type": "fragment"
    }
   },
   "outputs": [],
   "source": [
    "G = nx.petersen_graph()"
   ]
  },
  {
   "cell_type": "markdown",
   "id": "3aa2853c",
   "metadata": {
    "slideshow": {
     "slide_type": "slide"
    },
    "tags": [
     "colab-keep"
    ]
   },
   "source": [
    "This graph can be plotted using the function [`draw_networkx()`](https://networkx.org/documentation/networkx-1.7/reference/generated/networkx.drawing.nx_pylab.draw_networkx.html)."
   ]
  },
  {
   "cell_type": "code",
   "execution_count": null,
   "id": "de9068b1",
   "metadata": {
    "slideshow": {
     "slide_type": "fragment"
    }
   },
   "outputs": [],
   "source": [
    "nx.draw_networkx(G, node_size=600, node_color='black', font_size=16, font_color='white')"
   ]
  },
  {
   "cell_type": "markdown",
   "id": "33c0757c",
   "metadata": {
    "slideshow": {
     "slide_type": "slide"
    },
    "tags": [
     "colab-keep"
    ]
   },
   "source": [
    "Other standard graphs can be generated with special functions, e.g. complete graphs using [`complete_graph()`](https://networkx.org/documentation/stable/reference/generated/networkx.generators.classic.complete_graph.html#networkx.generators.classic.complete_graph). See [here](https://networkx.org/documentation/stable/reference/generators.html#module-networkx.generators.classic) for a complete list."
   ]
  },
  {
   "cell_type": "code",
   "execution_count": null,
   "id": "9c7d54fb",
   "metadata": {
    "slideshow": {
     "slide_type": "fragment"
    }
   },
   "outputs": [],
   "source": [
    "G = nx.complete_graph(3)"
   ]
  },
  {
   "cell_type": "code",
   "execution_count": null,
   "id": "37082b3b",
   "metadata": {
    "slideshow": {
     "slide_type": "fragment"
    }
   },
   "outputs": [],
   "source": [
    "nx.draw_networkx(G, node_size=600, node_color='black', font_size=16, font_color='white')"
   ]
  },
  {
   "cell_type": "markdown",
   "id": "9ee002be",
   "metadata": {
    "slideshow": {
     "slide_type": "slide"
    },
    "tags": [
     "colab-keep"
    ]
   },
   "source": [
    "See [here](https://networkx.org/documentation/stable/reference/functions.html) and [here](https://networkx.org/documentation/stable/reference/algorithms/index.html) for a list of functions to access various properties of a graph. Here are a few examples:"
   ]
  },
  {
   "cell_type": "code",
   "execution_count": null,
   "id": "a7ec5213",
   "metadata": {
    "slideshow": {
     "slide_type": "fragment"
    }
   },
   "outputs": [],
   "source": [
    "G = nx.path_graph(10)"
   ]
  },
  {
   "cell_type": "code",
   "execution_count": null,
   "id": "9bdf0e53",
   "metadata": {
    "slideshow": {
     "slide_type": "fragment"
    }
   },
   "outputs": [],
   "source": [
    "nx.draw_networkx(G, node_size=600, node_color='black', font_size=16, font_color='white')"
   ]
  },
  {
   "cell_type": "code",
   "execution_count": null,
   "id": "f7053046",
   "metadata": {
    "slideshow": {
     "slide_type": "slide"
    }
   },
   "outputs": [],
   "source": [
    "G.number_of_nodes() # number of nodes"
   ]
  },
  {
   "cell_type": "code",
   "execution_count": null,
   "id": "0fafa084",
   "metadata": {
    "slideshow": {
     "slide_type": "fragment"
    }
   },
   "outputs": [],
   "source": [
    "G.number_of_edges() # number of edges"
   ]
  },
  {
   "cell_type": "code",
   "execution_count": null,
   "id": "f1737860",
   "metadata": {
    "slideshow": {
     "slide_type": "skip"
    }
   },
   "outputs": [],
   "source": [
    "G.has_node(7) # checks whether the graph has a particular vertex"
   ]
  },
  {
   "cell_type": "code",
   "execution_count": null,
   "id": "c960274f",
   "metadata": {
    "slideshow": {
     "slide_type": "skip"
    }
   },
   "outputs": [],
   "source": [
    "G.has_node(10)"
   ]
  },
  {
   "cell_type": "code",
   "execution_count": null,
   "id": "2f1b38f5",
   "metadata": {
    "slideshow": {
     "slide_type": "fragment"
    }
   },
   "outputs": [],
   "source": [
    "G.has_edge(0, 1) # checks whether the graph has a particular vertex"
   ]
  },
  {
   "cell_type": "code",
   "execution_count": null,
   "id": "be0636ea",
   "metadata": {
    "slideshow": {
     "slide_type": "fragment"
    }
   },
   "outputs": [],
   "source": [
    "G.has_edge(0, 2)"
   ]
  },
  {
   "cell_type": "code",
   "execution_count": null,
   "id": "8325e1b8",
   "metadata": {
    "slideshow": {
     "slide_type": "slide"
    }
   },
   "outputs": [],
   "source": [
    "[n for n in G.neighbors(2)] # returns a list of neighbors of the specified vertex"
   ]
  },
  {
   "cell_type": "code",
   "execution_count": null,
   "id": "b586ccbf",
   "metadata": {
    "slideshow": {
     "slide_type": "fragment"
    }
   },
   "outputs": [],
   "source": [
    "nx.is_connected(G) # checks whether the graph is connected"
   ]
  },
  {
   "cell_type": "code",
   "execution_count": null,
   "id": "3fdc0a7b",
   "metadata": {
    "slideshow": {
     "slide_type": "fragment"
    }
   },
   "outputs": [],
   "source": [
    "[cc for cc in nx.connected_components(G)] # returns the connected components"
   ]
  },
  {
   "cell_type": "code",
   "execution_count": null,
   "id": "8cae7423",
   "metadata": {
    "slideshow": {
     "slide_type": "slide"
    }
   },
   "outputs": [],
   "source": [
    "for e in G.edges():\n",
    "    print(e)"
   ]
  },
  {
   "cell_type": "markdown",
   "id": "6849b68d",
   "metadata": {
    "slideshow": {
     "slide_type": "slide"
    },
    "tags": [
     "colab-keep"
    ]
   },
   "source": [
    "Another way of specifying a graph is to start with an empty graph with a given number of vertices and then add edges one by one. The following command creates a graph with $4$ vertices and no edge (see [`empty_graph()`](https://networkx.org/documentation/stable/reference/generated/networkx.generators.classic.empty_graph.html#networkx.generators.classic.empty_graph))."
   ]
  },
  {
   "cell_type": "code",
   "execution_count": null,
   "id": "91f09d0b",
   "metadata": {
    "scrolled": true,
    "slideshow": {
     "slide_type": "fragment"
    }
   },
   "outputs": [],
   "source": [
    "G = nx.empty_graph(4)"
   ]
  },
  {
   "cell_type": "code",
   "execution_count": null,
   "id": "64174237",
   "metadata": {
    "slideshow": {
     "slide_type": "fragment"
    }
   },
   "outputs": [],
   "source": [
    "G.add_edge(0, 1)\n",
    "G.add_edge(2, 3)\n",
    "G.add_edge(0, 3)\n",
    "G.add_edge(3, 0)"
   ]
  },
  {
   "cell_type": "code",
   "execution_count": null,
   "id": "3237c43f",
   "metadata": {
    "scrolled": true,
    "slideshow": {
     "slide_type": "fragment"
    }
   },
   "outputs": [],
   "source": [
    "nx.draw_networkx(G, node_size=600, node_color='black', font_size=16, font_color='white')"
   ]
  },
  {
   "cell_type": "markdown",
   "id": "edafc541",
   "metadata": {
    "slideshow": {
     "slide_type": "skip"
    },
    "tags": [
     "colab-keep"
    ]
   },
   "source": [
    "$\\unlhd$"
   ]
  },
  {
   "cell_type": "markdown",
   "id": "55705e97",
   "metadata": {
    "slideshow": {
     "slide_type": "slide"
    },
    "tags": [
     "colab-keep"
    ]
   },
   "source": [
    "**NUMERICAL CORNER:** The package `NetworkX` also supports digraphs."
   ]
  },
  {
   "cell_type": "code",
   "execution_count": null,
   "id": "cbf210d9",
   "metadata": {
    "slideshow": {
     "slide_type": "fragment"
    }
   },
   "outputs": [],
   "source": [
    "G = nx.DiGraph()\n",
    "nx.add_star(G, [0, 1, 2, 3, 4])"
   ]
  },
  {
   "cell_type": "code",
   "execution_count": null,
   "id": "3607558a",
   "metadata": {
    "slideshow": {
     "slide_type": "fragment"
    }
   },
   "outputs": [],
   "source": [
    "nx.draw_networkx(G, node_size=600, node_color='black', font_size=16, font_color='white')"
   ]
  },
  {
   "cell_type": "markdown",
   "id": "ae1b27fe",
   "metadata": {
    "slideshow": {
     "slide_type": "slide"
    },
    "tags": [
     "colab-keep"
    ]
   },
   "source": [
    "Another way of specifying a digraph is to start with an empty graph with a given number of vertices and then add edges one by one (compare to the undirected case above). The following command creates a graph with no vertices."
   ]
  },
  {
   "cell_type": "code",
   "execution_count": null,
   "id": "f68fce25",
   "metadata": {
    "slideshow": {
     "slide_type": "fragment"
    }
   },
   "outputs": [],
   "source": [
    "G = nx.DiGraph()"
   ]
  },
  {
   "cell_type": "code",
   "execution_count": null,
   "id": "22b48a0d",
   "metadata": {
    "slideshow": {
     "slide_type": "fragment"
    }
   },
   "outputs": [],
   "source": [
    "G.add_edge(0, 1)\n",
    "G.add_edge(2, 3)\n",
    "G.add_edge(0, 3)\n",
    "G.add_edge(3, 0)\n",
    "G.add_edge(1,1)"
   ]
  },
  {
   "cell_type": "code",
   "execution_count": null,
   "id": "e24a3a6b",
   "metadata": {
    "slideshow": {
     "slide_type": "slide"
    }
   },
   "outputs": [],
   "source": [
    "nx.draw_networkx(G, node_size=600, node_color='black', font_size=16, font_color='white')"
   ]
  },
  {
   "cell_type": "markdown",
   "id": "b1876a4e",
   "metadata": {
    "tags": [
     "colab-keep"
    ]
   },
   "source": [
    "$\\unlhd$"
   ]
  },
  {
   "cell_type": "markdown",
   "id": "a2455de8",
   "metadata": {
    "slideshow": {
     "slide_type": "slide"
    },
    "tags": [
     "colab-keep"
    ]
   },
   "source": [
    "**NUMERICAL CORNER:** Using `NetworkX`, the adjacency matrix of a graph can be obtained with [`adjacency_matrix()`](https://networkx.org/documentation/stable/reference/generated/networkx.linalg.graphmatrix.adjacency_matrix.html). By default, it returns a `SciPy` sparse matrix. Alternatively, one can get a regular array with [`toarray()`](https://docs.scipy.org/doc/scipy/reference/generated/scipy.sparse.csr_matrix.toarray.html). Recall that in NumPy (and SciPy) array indices start at $0$. Consistently, NetworkX also names vertices starting at $0$. **Note, however, that this conflicts with our mathematical conventions.**"
   ]
  },
  {
   "cell_type": "code",
   "execution_count": null,
   "id": "fcc3a45a",
   "metadata": {
    "slideshow": {
     "slide_type": "fragment"
    }
   },
   "outputs": [],
   "source": [
    "G = nx.complete_graph(3)"
   ]
  },
  {
   "cell_type": "code",
   "execution_count": null,
   "id": "05ef63fc",
   "metadata": {
    "slideshow": {
     "slide_type": "fragment"
    }
   },
   "outputs": [],
   "source": [
    "A = nx.adjacency_matrix(G)\n",
    "print(A)"
   ]
  },
  {
   "cell_type": "code",
   "execution_count": null,
   "id": "f4bd77fd",
   "metadata": {
    "slideshow": {
     "slide_type": "fragment"
    }
   },
   "outputs": [],
   "source": [
    "A = nx.adjacency_matrix(G).toarray()\n",
    "print(A)"
   ]
  },
  {
   "cell_type": "code",
   "execution_count": null,
   "id": "0b3a8914",
   "metadata": {
    "slideshow": {
     "slide_type": "slide"
    }
   },
   "outputs": [],
   "source": [
    "G = nx.petersen_graph()\n",
    "A = nx.adjacency_matrix(G)\n",
    "print(A)"
   ]
  },
  {
   "cell_type": "markdown",
   "id": "a8233b07",
   "metadata": {
    "slideshow": {
     "slide_type": "slide"
    },
    "tags": [
     "colab-keep"
    ]
   },
   "source": [
    "The incidence matrix is obtained with [`incidence_matrix()`](https://networkx.org/documentation/stable/reference/generated/networkx.linalg.graphmatrix.incidence_matrix.html) -- again as a sparse array."
   ]
  },
  {
   "cell_type": "code",
   "execution_count": null,
   "id": "643139cb",
   "metadata": {
    "slideshow": {
     "slide_type": "fragment"
    }
   },
   "outputs": [],
   "source": [
    "B = nx.incidence_matrix(G)\n",
    "print(B)"
   ]
  },
  {
   "cell_type": "code",
   "execution_count": null,
   "id": "7b4addd0",
   "metadata": {
    "slideshow": {
     "slide_type": "fragment"
    }
   },
   "outputs": [],
   "source": [
    "B = nx.incidence_matrix(G).toarray()\n",
    "print(B)"
   ]
  },
  {
   "cell_type": "markdown",
   "id": "f910484f",
   "metadata": {
    "slideshow": {
     "slide_type": "slide"
    },
    "tags": [
     "colab-keep"
    ]
   },
   "source": [
    "In the digraph case, the definitions are adapted as follows. The adjacency matrix $A$ of a digraph $G = (V, E)$ is the matrix\n",
    "defined as\n",
    "\n",
    "\\begin{align*}\n",
    "A_{xy} \n",
    "= \n",
    "\\begin{cases}\n",
    "1 & \\text{if $(x,y) \\in E$}\\\\ \n",
    "0 & \\text{o.w.}\n",
    "\\end{cases}\n",
    "\\end{align*}\n",
    "\n",
    "The incidence matrix of a digraph $G$ with vertices $1,\\ldots,n$ and edges $e_1, \\ldots, e_m$ is the matrix $B$ such that $B_{ij} = -1$ if egde $e_j$ leaves vertex $i$, $B_{ij} = 1$ if egde $e_j$ enters vertex $i$, and 0 otherwise. "
   ]
  },
  {
   "cell_type": "markdown",
   "id": "31f9c42a",
   "metadata": {
    "slideshow": {
     "slide_type": "slide"
    },
    "tags": [
     "colab-keep"
    ]
   },
   "source": [
    "**NUMERICAL CORNER:** We revisit an earlier directed graph."
   ]
  },
  {
   "cell_type": "code",
   "execution_count": null,
   "id": "059b8e1f",
   "metadata": {
    "slideshow": {
     "slide_type": "fragment"
    }
   },
   "outputs": [],
   "source": [
    "G = nx.DiGraph()"
   ]
  },
  {
   "cell_type": "code",
   "execution_count": null,
   "id": "a776e1ee",
   "metadata": {
    "slideshow": {
     "slide_type": "fragment"
    }
   },
   "outputs": [],
   "source": [
    "G.add_edge(0, 1)\n",
    "G.add_edge(2, 3)\n",
    "G.add_edge(0, 3)\n",
    "G.add_edge(3, 0)\n",
    "G.add_edge(1,1)"
   ]
  },
  {
   "cell_type": "markdown",
   "id": "27f1cbc5",
   "metadata": {
    "slideshow": {
     "slide_type": "slide"
    },
    "tags": [
     "colab-keep"
    ]
   },
   "source": [
    "We compute the adjacency and incidence matrices. For the incidence matrix, one must specify `oriented=True` for the oriented version."
   ]
  },
  {
   "cell_type": "code",
   "execution_count": null,
   "id": "5550b5b4",
   "metadata": {
    "slideshow": {
     "slide_type": "fragment"
    }
   },
   "outputs": [],
   "source": [
    "A = nx.adjacency_matrix(G).toarray()\n",
    "print(A)"
   ]
  },
  {
   "cell_type": "code",
   "execution_count": null,
   "id": "d1f7635b",
   "metadata": {
    "slideshow": {
     "slide_type": "fragment"
    }
   },
   "outputs": [],
   "source": [
    "B = nx.incidence_matrix(G, oriented=True).toarray()\n",
    "print(B)"
   ]
  },
  {
   "cell_type": "markdown",
   "id": "72079185",
   "metadata": {
    "slideshow": {
     "slide_type": "slide"
    },
    "tags": [
     "colab-keep"
    ]
   },
   "source": [
    "Revisiting an ealier undirected graph, we note that `incidence_matrix()` can also produce an arbitrary oriented incidence matrix by using the `oriented=True` option."
   ]
  },
  {
   "cell_type": "code",
   "execution_count": null,
   "id": "a00c3f37",
   "metadata": {
    "scrolled": true,
    "slideshow": {
     "slide_type": "fragment"
    }
   },
   "outputs": [],
   "source": [
    "G = nx.empty_graph(4)"
   ]
  },
  {
   "cell_type": "code",
   "execution_count": null,
   "id": "cd4fc5e7",
   "metadata": {
    "slideshow": {
     "slide_type": "fragment"
    }
   },
   "outputs": [],
   "source": [
    "G.add_edge(0, 1)\n",
    "G.add_edge(2, 3)\n",
    "G.add_edge(0, 3)\n",
    "G.add_edge(3, 0)"
   ]
  },
  {
   "cell_type": "code",
   "execution_count": null,
   "id": "7fbfc08b",
   "metadata": {
    "slideshow": {
     "slide_type": "fragment"
    }
   },
   "outputs": [],
   "source": [
    "B = nx.incidence_matrix(G, oriented=True).toarray()\n",
    "print(B)"
   ]
  },
  {
   "cell_type": "markdown",
   "id": "b9990471",
   "metadata": {
    "slideshow": {
     "slide_type": "skip"
    },
    "tags": [
     "colab-keep"
    ]
   },
   "source": [
    "$\\unlhd$"
   ]
  }
 ],
 "metadata": {},
 "nbformat": 4,
 "nbformat_minor": 5
}

{
 "cells": [
  {
   "cell_type": "markdown",
   "id": "6461ddca",
   "metadata": {
    "slideshow": {
     "slide_type": "slide"
    },
    "tags": [
     "remove-cell",
     "colab-keep"
    ]
   },
   "source": [
    "***\n",
    "\n",
    "*Course:* [Math 535](https://people.math.wisc.edu/~roch/mmids/) - Mathematical Methods in Data Science (MMiDS)  \n",
    "*Chapter:* 4-Spectral graph theory   \n",
    "*Author:* [Sebastien Roch](https://people.math.wisc.edu/~roch/), Department of Mathematics, University of Wisconsin-Madison  \n",
    "*Updated:* May 30, 2024   \n",
    "*Copyright:* &copy; 2024 Sebastien Roch\n",
    "\n",
    "***"
   ]
  },
  {
   "cell_type": "code",
   "execution_count": null,
   "id": "bf10e32c",
   "metadata": {
    "slideshow": {
     "slide_type": "skip"
    },
    "tags": [
     "remove-cell"
    ]
   },
   "outputs": [],
   "source": [
    "# You will need the files:\n",
    "#     * mmids.py\n",
    "# from https://github.com/MMiDS-textbook/MMiDS-textbook.github.io/tree/main/utils\n",
    "#\n",
    "# IF RUNNING ON GOOGLE COLAB (RECOMMENDED):\n",
    "# \"Upload to session storage\" from the Files tab on the left\n",
    "# Alternative instructions: https://colab.research.google.com/notebooks/io.ipynb"
   ]
  },
  {
   "cell_type": "code",
   "execution_count": null,
   "id": "c0983e87",
   "metadata": {
    "slideshow": {
     "slide_type": "skip"
    },
    "tags": [
     "remove-cell"
    ]
   },
   "outputs": [],
   "source": [
    "# PYTHON 3\n",
    "import numpy as np\n",
    "from numpy import linalg as LA\n",
    "import matplotlib.pyplot as plt\n",
    "import pandas as pd\n",
    "import networkx as nx\n",
    "import mmids\n",
    "seed = 535\n",
    "rng = np.random.default_rng(seed)\n",
    "import warnings\n",
    "warnings.filterwarnings('ignore')"
   ]
  },
  {
   "cell_type": "markdown",
   "id": "64562f88",
   "metadata": {
    "slideshow": {
     "slide_type": "slide"
    },
    "tags": [
     "colab-keep"
    ]
   },
   "source": [
    "## Motivating example: uncovering social groups"
   ]
  },
  {
   "cell_type": "markdown",
   "id": "6a8debad",
   "metadata": {
    "slideshow": {
     "slide_type": "slide"
    },
    "tags": [
     "colab-keep"
    ]
   },
   "source": [
    "In this chapter, we analyze datasets in the form of networks. As motivation, we first look at the [Karate Club dataset](https://en.wikipedia.org/wiki/Zachary%27s_karate_club). "
   ]
  },
  {
   "cell_type": "markdown",
   "id": "bd0b7321",
   "metadata": {
    "slideshow": {
     "slide_type": "fragment"
    },
    "tags": [
     "colab-keep"
    ]
   },
   "source": [
    "From [Wikipedia](https://en.wikipedia.org/wiki/Zachary%27s_karate_club):\n",
    "\n",
    "> A social network of a karate club was studied by Wayne W. Zachary for a period of three years from 1970 to 1972. The network captures 34 members of a karate club, documenting links between pairs of members who interacted outside the club. During the study a conflict arose between the administrator \"John A\" and instructor \"Mr. Hi\" (pseudonyms), which led to the split of the club into two. Half of the members formed a new club around Mr. Hi; members from the other part found a new instructor or gave up karate. Based on collected data Zachary correctly assigned all but one member of the club to the groups they actually joined after the split.\n"
   ]
  },
  {
   "cell_type": "markdown",
   "id": "eb520f10",
   "metadata": {
    "slideshow": {
     "slide_type": "slide"
    },
    "tags": [
     "colab-keep"
    ]
   },
   "source": [
    "**Figure:** Karate Club network ([Source](https://commons.wikimedia.org/wiki/File:Social_Network_Model_of_Relationships_in_the_Karate_Club.png))\n",
    "\n",
    "![Karate club network](https://upload.wikimedia.org/wikipedia/commons/thumb/0/0d/Social_Network_Model_of_Relationships_in_the_Karate_Club.png/480px-Social_Network_Model_of_Relationships_in_the_Karate_Club.png)\n",
    "\n",
    "$\\bowtie$"
   ]
  },
  {
   "cell_type": "markdown",
   "id": "cb796119",
   "metadata": {
    "slideshow": {
     "slide_type": "slide"
    },
    "tags": [
     "colab-keep"
    ]
   },
   "source": [
    "We use the [`NetworkX`](https://networkx.org) package to load the data and vizualize it. We will say more about it later in this chapter. In the meantime, there is a good tutorial [here](https://networkx.org/documentation/stable/tutorial.html)."
   ]
  },
  {
   "cell_type": "code",
   "execution_count": null,
   "id": "249912b6",
   "metadata": {
    "slideshow": {
     "slide_type": "fragment"
    }
   },
   "outputs": [],
   "source": [
    "import networkx as nx"
   ]
  },
  {
   "cell_type": "code",
   "execution_count": null,
   "id": "c2c8d3bd",
   "metadata": {
    "slideshow": {
     "slide_type": "fragment"
    }
   },
   "outputs": [],
   "source": [
    "G = nx.karate_club_graph()\n",
    "nx.draw_networkx(G)"
   ]
  },
  {
   "cell_type": "markdown",
   "id": "69487c7b",
   "metadata": {
    "slideshow": {
     "slide_type": "slide"
    },
    "tags": [
     "colab-keep"
    ]
   },
   "source": [
    "Our goal: \n",
    "\n",
    "> identify natural sub-groups in the network \n",
    "\n",
    "That is, we want to find groups of nodes that have many links between them, but relatively few with the other nodes. \n",
    "\n",
    "It will turn out that the eigenvectors of the Laplacian matrix, a matrix naturally associated to the graph, contain useful information about such communities."
   ]
  },
  {
   "cell_type": "markdown",
   "id": "6fc2fdb9",
   "metadata": {
    "slideshow": {
     "slide_type": "slide"
    },
    "tags": [
     "colab-keep"
    ]
   },
   "source": [
    "## Background: basic concepts in graph theory"
   ]
  },
  {
   "cell_type": "markdown",
   "id": "88f038ea",
   "metadata": {
    "slideshow": {
     "slide_type": "slide"
    },
    "tags": [
     "colab-keep"
    ]
   },
   "source": [
    "**NUMERICAL CORNER:** In Python, the [`NetworkX`](https://networkx.org) package provides many functionalities for defining, modifying and plotting graphs. For instance, many standard graphs can be defined conveniently. The [`petersen_graph()`](https://networkx.org/documentation/stable/reference/generated/networkx.generators.small.petersen_graph.html#networkx.generators.small.petersen_graph) function defines the Petersen graph."
   ]
  },
  {
   "cell_type": "code",
   "execution_count": null,
   "id": "890b66df",
   "metadata": {
    "slideshow": {
     "slide_type": "fragment"
    }
   },
   "outputs": [],
   "source": [
    "import networkx as nx"
   ]
  },
  {
   "cell_type": "code",
   "execution_count": null,
   "id": "c904fbd0",
   "metadata": {
    "slideshow": {
     "slide_type": "fragment"
    }
   },
   "outputs": [],
   "source": [
    "G = nx.petersen_graph()"
   ]
  },
  {
   "cell_type": "markdown",
   "id": "40c8693a",
   "metadata": {
    "slideshow": {
     "slide_type": "slide"
    },
    "tags": [
     "colab-keep"
    ]
   },
   "source": [
    "This graph can be plotted using the function [`draw_networkx()`](https://networkx.org/documentation/networkx-1.7/reference/generated/networkx.drawing.nx_pylab.draw_networkx.html)."
   ]
  },
  {
   "cell_type": "code",
   "execution_count": null,
   "id": "a3f2e66e",
   "metadata": {
    "slideshow": {
     "slide_type": "fragment"
    }
   },
   "outputs": [],
   "source": [
    "nx.draw_networkx(G, node_size=600, node_color='black', font_size=16, font_color='white')"
   ]
  },
  {
   "cell_type": "markdown",
   "id": "6268b698",
   "metadata": {
    "slideshow": {
     "slide_type": "slide"
    },
    "tags": [
     "colab-keep"
    ]
   },
   "source": [
    "Other standard graphs can be generated with special functions, e.g. complete graphs using [`complete_graph()`](https://networkx.org/documentation/stable/reference/generated/networkx.generators.classic.complete_graph.html#networkx.generators.classic.complete_graph). See [here](https://networkx.org/documentation/stable/reference/generators.html#module-networkx.generators.classic) for a complete list."
   ]
  },
  {
   "cell_type": "code",
   "execution_count": null,
   "id": "3caf7c16",
   "metadata": {
    "slideshow": {
     "slide_type": "fragment"
    }
   },
   "outputs": [],
   "source": [
    "G = nx.complete_graph(3)"
   ]
  },
  {
   "cell_type": "code",
   "execution_count": null,
   "id": "b449ab7b",
   "metadata": {
    "slideshow": {
     "slide_type": "fragment"
    }
   },
   "outputs": [],
   "source": [
    "nx.draw_networkx(G, node_size=600, node_color='black', font_size=16, font_color='white')"
   ]
  },
  {
   "cell_type": "markdown",
   "id": "ebb68ea3",
   "metadata": {
    "slideshow": {
     "slide_type": "slide"
    },
    "tags": [
     "colab-keep"
    ]
   },
   "source": [
    "See [here](https://networkx.org/documentation/stable/reference/functions.html) and [here](https://networkx.org/documentation/stable/reference/algorithms/index.html) for a list of functions to access various properties of a graph. Here are a few examples:"
   ]
  },
  {
   "cell_type": "code",
   "execution_count": null,
   "id": "e7d18f4e",
   "metadata": {
    "slideshow": {
     "slide_type": "fragment"
    }
   },
   "outputs": [],
   "source": [
    "G = nx.path_graph(10)"
   ]
  },
  {
   "cell_type": "code",
   "execution_count": null,
   "id": "5bdde4e5",
   "metadata": {
    "slideshow": {
     "slide_type": "fragment"
    }
   },
   "outputs": [],
   "source": [
    "nx.draw_networkx(G, node_size=600, node_color='black', font_size=16, font_color='white')"
   ]
  },
  {
   "cell_type": "code",
   "execution_count": null,
   "id": "7d385b6a",
   "metadata": {
    "slideshow": {
     "slide_type": "slide"
    }
   },
   "outputs": [],
   "source": [
    "G.number_of_nodes() # number of nodes"
   ]
  },
  {
   "cell_type": "code",
   "execution_count": null,
   "id": "a053280e",
   "metadata": {
    "slideshow": {
     "slide_type": "fragment"
    }
   },
   "outputs": [],
   "source": [
    "G.number_of_edges() # number of edges"
   ]
  },
  {
   "cell_type": "code",
   "execution_count": null,
   "id": "d92475d2",
   "metadata": {
    "slideshow": {
     "slide_type": "skip"
    }
   },
   "outputs": [],
   "source": [
    "G.has_node(7) # checks whether the graph has a particular vertex"
   ]
  },
  {
   "cell_type": "code",
   "execution_count": null,
   "id": "a659bdb9",
   "metadata": {
    "slideshow": {
     "slide_type": "skip"
    }
   },
   "outputs": [],
   "source": [
    "G.has_node(10)"
   ]
  },
  {
   "cell_type": "code",
   "execution_count": null,
   "id": "7d786523",
   "metadata": {
    "slideshow": {
     "slide_type": "fragment"
    }
   },
   "outputs": [],
   "source": [
    "G.has_edge(0, 1) # checks whether the graph has a particular vertex"
   ]
  },
  {
   "cell_type": "code",
   "execution_count": null,
   "id": "b4cb1197",
   "metadata": {
    "slideshow": {
     "slide_type": "fragment"
    }
   },
   "outputs": [],
   "source": [
    "G.has_edge(0, 2)"
   ]
  },
  {
   "cell_type": "code",
   "execution_count": null,
   "id": "09fb63ea",
   "metadata": {
    "slideshow": {
     "slide_type": "slide"
    }
   },
   "outputs": [],
   "source": [
    "[n for n in G.neighbors(2)] # returns a list of neighbors of the specified vertex"
   ]
  },
  {
   "cell_type": "code",
   "execution_count": null,
   "id": "8cd8c1a9",
   "metadata": {
    "slideshow": {
     "slide_type": "fragment"
    }
   },
   "outputs": [],
   "source": [
    "nx.is_connected(G) # checks whether the graph is connected"
   ]
  },
  {
   "cell_type": "code",
   "execution_count": null,
   "id": "d64b05a0",
   "metadata": {
    "slideshow": {
     "slide_type": "fragment"
    }
   },
   "outputs": [],
   "source": [
    "[cc for cc in nx.connected_components(G)] # returns the connected components"
   ]
  },
  {
   "cell_type": "code",
   "execution_count": null,
   "id": "736c0b76",
   "metadata": {
    "slideshow": {
     "slide_type": "slide"
    }
   },
   "outputs": [],
   "source": [
    "for e in G.edges():\n",
    "    print(e)"
   ]
  },
  {
   "cell_type": "markdown",
   "id": "3ae7a1f4",
   "metadata": {
    "slideshow": {
     "slide_type": "slide"
    },
    "tags": [
     "colab-keep"
    ]
   },
   "source": [
    "Another way of specifying a graph is to start with an empty graph with a given number of vertices and then add edges one by one. The following command creates a graph with $4$ vertices and no edge (see [`empty_graph()`](https://networkx.org/documentation/stable/reference/generated/networkx.generators.classic.empty_graph.html#networkx.generators.classic.empty_graph))."
   ]
  },
  {
   "cell_type": "code",
   "execution_count": null,
   "id": "fa027060",
   "metadata": {
    "scrolled": true,
    "slideshow": {
     "slide_type": "fragment"
    }
   },
   "outputs": [],
   "source": [
    "G = nx.empty_graph(4)"
   ]
  },
  {
   "cell_type": "code",
   "execution_count": null,
   "id": "418e7aad",
   "metadata": {
    "slideshow": {
     "slide_type": "fragment"
    }
   },
   "outputs": [],
   "source": [
    "G.add_edge(0, 1)\n",
    "G.add_edge(2, 3)\n",
    "G.add_edge(0, 3)\n",
    "G.add_edge(3, 0)"
   ]
  },
  {
   "cell_type": "code",
   "execution_count": null,
   "id": "9ffc0bbe",
   "metadata": {
    "scrolled": true,
    "slideshow": {
     "slide_type": "fragment"
    }
   },
   "outputs": [],
   "source": [
    "nx.draw_networkx(G, node_size=600, node_color='black', font_size=16, font_color='white')"
   ]
  },
  {
   "cell_type": "markdown",
   "id": "6df9514a",
   "metadata": {
    "slideshow": {
     "slide_type": "skip"
    },
    "tags": [
     "colab-keep"
    ]
   },
   "source": [
    "$\\unlhd$"
   ]
  },
  {
   "cell_type": "markdown",
   "id": "7530bae8",
   "metadata": {
    "slideshow": {
     "slide_type": "slide"
    },
    "tags": [
     "colab-keep"
    ]
   },
   "source": [
    "**NUMERICAL CORNER:** The package `NetworkX` also supports digraphs."
   ]
  },
  {
   "cell_type": "code",
   "execution_count": null,
   "id": "0a1e4315",
   "metadata": {
    "slideshow": {
     "slide_type": "fragment"
    }
   },
   "outputs": [],
   "source": [
    "G = nx.DiGraph()\n",
    "nx.add_star(G, [0, 1, 2, 3, 4])"
   ]
  },
  {
   "cell_type": "code",
   "execution_count": null,
   "id": "b9970dcc",
   "metadata": {
    "slideshow": {
     "slide_type": "fragment"
    }
   },
   "outputs": [],
   "source": [
    "nx.draw_networkx(G, node_size=600, node_color='black', font_size=16, font_color='white')"
   ]
  },
  {
   "cell_type": "markdown",
   "id": "443463f8",
   "metadata": {
    "slideshow": {
     "slide_type": "slide"
    },
    "tags": [
     "colab-keep"
    ]
   },
   "source": [
    "Another way of specifying a digraph is to start with an empty graph with a given number of vertices and then add edges one by one (compare to the undirected case above). The following command creates a graph with no vertices."
   ]
  },
  {
   "cell_type": "code",
   "execution_count": null,
   "id": "020bf9a4",
   "metadata": {
    "slideshow": {
     "slide_type": "fragment"
    }
   },
   "outputs": [],
   "source": [
    "G = nx.DiGraph()"
   ]
  },
  {
   "cell_type": "code",
   "execution_count": null,
   "id": "361647f0",
   "metadata": {
    "slideshow": {
     "slide_type": "fragment"
    }
   },
   "outputs": [],
   "source": [
    "G.add_edge(0, 1)\n",
    "G.add_edge(2, 3)\n",
    "G.add_edge(0, 3)\n",
    "G.add_edge(3, 0)\n",
    "G.add_edge(1,1)"
   ]
  },
  {
   "cell_type": "code",
   "execution_count": null,
   "id": "3bd3be6e",
   "metadata": {
    "slideshow": {
     "slide_type": "slide"
    }
   },
   "outputs": [],
   "source": [
    "nx.draw_networkx(G, node_size=600, node_color='black', font_size=16, font_color='white')"
   ]
  },
  {
   "cell_type": "markdown",
   "id": "ac67b0fe",
   "metadata": {
    "tags": [
     "colab-keep"
    ]
   },
   "source": [
    "$\\unlhd$"
   ]
  },
  {
   "cell_type": "markdown",
   "id": "891afd44",
   "metadata": {
    "slideshow": {
     "slide_type": "slide"
    },
    "tags": [
     "colab-keep"
    ]
   },
   "source": [
    "**NUMERICAL CORNER:** Using `NetworkX`, the adjacency matrix of a graph can be obtained with [`adjacency_matrix()`](https://networkx.org/documentation/stable/reference/generated/networkx.linalg.graphmatrix.adjacency_matrix.html). By default, it returns a `SciPy` sparse matrix. Alternatively, one can get a regular array with [`toarray()`](https://docs.scipy.org/doc/scipy/reference/generated/scipy.sparse.csr_matrix.toarray.html). Recall that in NumPy (and SciPy) array indices start at $0$. Consistently, NetworkX also names vertices starting at $0$. **Note, however, that this conflicts with our mathematical conventions.**"
   ]
  },
  {
   "cell_type": "code",
   "execution_count": null,
   "id": "1b2c07af",
   "metadata": {
    "slideshow": {
     "slide_type": "fragment"
    }
   },
   "outputs": [],
   "source": [
    "G = nx.complete_graph(3)"
   ]
  },
  {
   "cell_type": "code",
   "execution_count": null,
   "id": "e36d1674",
   "metadata": {
    "slideshow": {
     "slide_type": "fragment"
    }
   },
   "outputs": [],
   "source": [
    "A = nx.adjacency_matrix(G)\n",
    "print(A)"
   ]
  },
  {
   "cell_type": "code",
   "execution_count": null,
   "id": "9bf6c15c",
   "metadata": {
    "slideshow": {
     "slide_type": "fragment"
    }
   },
   "outputs": [],
   "source": [
    "A = nx.adjacency_matrix(G).toarray()\n",
    "print(A)"
   ]
  },
  {
   "cell_type": "code",
   "execution_count": null,
   "id": "32b48078",
   "metadata": {
    "slideshow": {
     "slide_type": "slide"
    }
   },
   "outputs": [],
   "source": [
    "G = nx.petersen_graph()\n",
    "A = nx.adjacency_matrix(G)\n",
    "print(A)"
   ]
  },
  {
   "cell_type": "markdown",
   "id": "5503c7d6",
   "metadata": {
    "slideshow": {
     "slide_type": "slide"
    },
    "tags": [
     "colab-keep"
    ]
   },
   "source": [
    "The incidence matrix is obtained with [`incidence_matrix()`](https://networkx.org/documentation/stable/reference/generated/networkx.linalg.graphmatrix.incidence_matrix.html) -- again as a sparse array."
   ]
  },
  {
   "cell_type": "code",
   "execution_count": null,
   "id": "9e73fa58",
   "metadata": {
    "slideshow": {
     "slide_type": "fragment"
    }
   },
   "outputs": [],
   "source": [
    "B = nx.incidence_matrix(G)\n",
    "print(B)"
   ]
  },
  {
   "cell_type": "code",
   "execution_count": null,
   "id": "400913d6",
   "metadata": {
    "slideshow": {
     "slide_type": "fragment"
    }
   },
   "outputs": [],
   "source": [
    "B = nx.incidence_matrix(G).toarray()\n",
    "print(B)"
   ]
  },
  {
   "cell_type": "markdown",
   "id": "300ece75",
   "metadata": {
    "slideshow": {
     "slide_type": "slide"
    },
    "tags": [
     "colab-keep"
    ]
   },
   "source": [
    "In the digraph case, the definitions are adapted as follows. The adjacency matrix $A$ of a digraph $G = (V, E)$ is the matrix\n",
    "defined as\n",
    "\n",
    "\\begin{align*}\n",
    "A_{xy} \n",
    "= \n",
    "\\begin{cases}\n",
    "1 & \\text{if $(x,y) \\in E$}\\\\ \n",
    "0 & \\text{o.w.}\n",
    "\\end{cases}\n",
    "\\end{align*}\n",
    "\n",
    "The incidence matrix of a digraph $G$ with vertices $1,\\ldots,n$ and edges $e_1, \\ldots, e_m$ is the matrix $B$ such that $B_{ij} = -1$ if egde $e_j$ leaves vertex $i$, $B_{ij} = 1$ if egde $e_j$ enters vertex $i$, and 0 otherwise. "
   ]
  },
  {
   "cell_type": "markdown",
   "id": "ebe2b8b5",
   "metadata": {
    "slideshow": {
     "slide_type": "slide"
    },
    "tags": [
     "colab-keep"
    ]
   },
   "source": [
    "**NUMERICAL CORNER:** We revisit an earlier directed graph."
   ]
  },
  {
   "cell_type": "code",
   "execution_count": null,
   "id": "402c0a43",
   "metadata": {
    "slideshow": {
     "slide_type": "fragment"
    }
   },
   "outputs": [],
   "source": [
    "G = nx.DiGraph()"
   ]
  },
  {
   "cell_type": "code",
   "execution_count": null,
   "id": "3cc127d7",
   "metadata": {
    "slideshow": {
     "slide_type": "fragment"
    }
   },
   "outputs": [],
   "source": [
    "G.add_edge(0, 1)\n",
    "G.add_edge(2, 3)\n",
    "G.add_edge(0, 3)\n",
    "G.add_edge(3, 0)\n",
    "G.add_edge(1,1)"
   ]
  },
  {
   "cell_type": "markdown",
   "id": "5d1db4f0",
   "metadata": {
    "slideshow": {
     "slide_type": "slide"
    },
    "tags": [
     "colab-keep"
    ]
   },
   "source": [
    "We compute the adjacency and incidence matrices. For the incidence matrix, one must specify `oriented=True` for the oriented version."
   ]
  },
  {
   "cell_type": "code",
   "execution_count": null,
   "id": "80d6a4e2",
   "metadata": {
    "slideshow": {
     "slide_type": "fragment"
    }
   },
   "outputs": [],
   "source": [
    "A = nx.adjacency_matrix(G).toarray()\n",
    "print(A)"
   ]
  },
  {
   "cell_type": "code",
   "execution_count": null,
   "id": "efb271bf",
   "metadata": {
    "slideshow": {
     "slide_type": "fragment"
    }
   },
   "outputs": [],
   "source": [
    "B = nx.incidence_matrix(G, oriented=True).toarray()\n",
    "print(B)"
   ]
  },
  {
   "cell_type": "markdown",
   "id": "40f7d133",
   "metadata": {
    "slideshow": {
     "slide_type": "slide"
    },
    "tags": [
     "colab-keep"
    ]
   },
   "source": [
    "Revisiting an ealier undirected graph, we note that `incidence_matrix()` can also produce an arbitrary oriented incidence matrix by using the `oriented=True` option."
   ]
  },
  {
   "cell_type": "code",
   "execution_count": null,
   "id": "e0ceadf1",
   "metadata": {
    "scrolled": true,
    "slideshow": {
     "slide_type": "fragment"
    }
   },
   "outputs": [],
   "source": [
    "G = nx.empty_graph(4)"
   ]
  },
  {
   "cell_type": "code",
   "execution_count": null,
   "id": "b1bb8b37",
   "metadata": {
    "slideshow": {
     "slide_type": "fragment"
    }
   },
   "outputs": [],
   "source": [
    "G.add_edge(0, 1)\n",
    "G.add_edge(2, 3)\n",
    "G.add_edge(0, 3)\n",
    "G.add_edge(3, 0)"
   ]
  },
  {
   "cell_type": "code",
   "execution_count": null,
   "id": "af842879",
   "metadata": {
    "slideshow": {
     "slide_type": "fragment"
    }
   },
   "outputs": [],
   "source": [
    "B = nx.incidence_matrix(G, oriented=True).toarray()\n",
    "print(B)"
   ]
  },
  {
   "cell_type": "markdown",
   "id": "9a6c21c5",
   "metadata": {
    "slideshow": {
     "slide_type": "skip"
    },
    "tags": [
     "colab-keep"
    ]
   },
   "source": [
    "$\\unlhd$"
   ]
  },
  {
   "cell_type": "markdown",
   "id": "b92ec703",
   "metadata": {
    "slideshow": {
     "slide_type": "slide"
    },
    "tags": [
     "colab-keep"
    ]
   },
   "source": [
    "## Spectral properties of the Laplacian matrix"
   ]
  },
  {
   "cell_type": "markdown",
   "id": "59e4ccf8",
   "metadata": {
    "slideshow": {
     "slide_type": "slide"
    },
    "tags": [
     "colab-keep"
    ]
   },
   "source": [
    "**NUMERICAL CORNER:** One use of the spectral decomposition of the Laplacian matrix is in graph drawing. We illustrate this next. Given a graph $G = (V, E)$, it is not clear a priori how to draw it in the plane since the only information available are adjacencies of vertices. One approach is just to position the vertices at random. The function [`networkx.draw()`](https://networkx.org/documentation/stable/reference/generated/networkx.drawing.nx_pylab.draw.html) or [`networkx.draw_networkx()`](https://networkx.org/documentation/stable/reference/generated/networkx.drawing.nx_pylab.draw_networkx.html#networkx.drawing.nx_pylab.draw_networkx)can take as input different [graph layout](https://networkx.org/documentation/stable/reference/drawing.html#module-networkx.drawing.layout) functions that return an $x$ and $y$-coordinate for each vertex.\n",
    "\n",
    "We will test this on a grid graph. Sometimes a picture is worth a thousand words. This is an example of a $4 \\times 7$-grid graph."
   ]
  },
  {
   "cell_type": "markdown",
   "id": "3e5c5f70",
   "metadata": {
    "slideshow": {
     "slide_type": "fragment"
    },
    "tags": [
     "colab-keep"
    ]
   },
   "source": [
    "**Figure:** Grid graph ([Source](https://mathworld.wolfram.com/GridGraph.html))\n",
    "\n",
    "![Grid graph](https://mathworld.wolfram.com/images/eps-gif/GridGraph_701.gif)\n",
    "\n",
    "$\\bowtie$"
   ]
  },
  {
   "cell_type": "markdown",
   "id": "a3a09bb1",
   "metadata": {
    "slideshow": {
     "slide_type": "slide"
    },
    "tags": [
     "colab-keep"
    ]
   },
   "source": [
    "We use [`grid_2d_graph()`](https://networkx.org/documentation/stable/reference/generated/networkx.generators.lattice.grid_2d_graph.html) to construct such a graph."
   ]
  },
  {
   "cell_type": "code",
   "execution_count": null,
   "id": "827ccab4",
   "metadata": {
    "scrolled": true,
    "slideshow": {
     "slide_type": "fragment"
    }
   },
   "outputs": [],
   "source": [
    "G = nx.grid_2d_graph(4,7)"
   ]
  },
  {
   "cell_type": "markdown",
   "id": "4f447a0b",
   "metadata": {
    "slideshow": {
     "slide_type": "slide"
    },
    "tags": [
     "colab-keep"
    ]
   },
   "source": [
    "One layout approach is to choose random locations for the nodes. Specifically, for every node, a position is generated by choosing each coordinate uniformly at random on the interval $[0,1]$."
   ]
  },
  {
   "cell_type": "code",
   "execution_count": null,
   "id": "8c49ecd4",
   "metadata": {
    "slideshow": {
     "slide_type": "fragment"
    }
   },
   "outputs": [],
   "source": [
    "nx.draw(G, pos=nx.random_layout(G))"
   ]
  },
  {
   "cell_type": "markdown",
   "id": "9ad66137",
   "metadata": {
    "slideshow": {
     "slide_type": "slide"
    },
    "tags": [
     "colab-keep"
    ]
   },
   "source": [
    "Clearly, this is a lot harder to read than the original graph above. \n",
    "\n",
    "Another approach is to map the vertices to two eigenvectors, similarly to what we did for dimensionality reduction. The eigenvector associated to $\\mu_1$ is constant and therefore not useful for drawing. We try the next two. We use the Laplacian matrix."
   ]
  },
  {
   "cell_type": "code",
   "execution_count": null,
   "id": "653a0934",
   "metadata": {
    "slideshow": {
     "slide_type": "fragment"
    }
   },
   "outputs": [],
   "source": [
    "nx.draw(G, pos=nx.spectral_layout(G))"
   ]
  },
  {
   "cell_type": "markdown",
   "id": "1446579c",
   "metadata": {
    "slideshow": {
     "slide_type": "fragment"
    },
    "tags": [
     "colab-keep"
    ]
   },
   "source": [
    "Interestingly, the outcome is very similar to the original, more natural drawing. We will come back later to try to explain this, after we have developed further understanding of the spectral properties of the Laplacian matrix."
   ]
  },
  {
   "cell_type": "markdown",
   "id": "b16885bd",
   "metadata": {
    "slideshow": {
     "slide_type": "skip"
    },
    "tags": [
     "colab-keep"
    ]
   },
   "source": [
    "$\\unlhd$"
   ]
  },
  {
   "cell_type": "markdown",
   "id": "09c11420",
   "metadata": {
    "slideshow": {
     "slide_type": "slide"
    },
    "tags": [
     "colab-keep"
    ]
   },
   "source": [
    "**NUMERICAL CORNER:** We construct a graph with two connected components and check the results above. We work directly with the adjacency matrix."
   ]
  },
  {
   "cell_type": "code",
   "execution_count": null,
   "id": "f16e1408",
   "metadata": {
    "slideshow": {
     "slide_type": "fragment"
    }
   },
   "outputs": [],
   "source": [
    "A = np.array([[0, 1, 1, 0, 0], \n",
    "              [1, 0, 1, 0, 0], \n",
    "              [1, 1, 0, 0, 0], \n",
    "              [0, 0, 0, 0, 1], \n",
    "              [0, 0, 0, 1, 0]])\n",
    "print(A)"
   ]
  },
  {
   "cell_type": "markdown",
   "id": "142c2a1e",
   "metadata": {
    "slideshow": {
     "slide_type": "fragment"
    },
    "tags": [
     "colab-keep"
    ]
   },
   "source": [
    "Note the block structure."
   ]
  },
  {
   "cell_type": "markdown",
   "id": "c4ca3276",
   "metadata": {
    "slideshow": {
     "slide_type": "slide"
    },
    "tags": [
     "colab-keep"
    ]
   },
   "source": [
    "The degrees can be obtained by summing the rows of the adjacency matrix."
   ]
  },
  {
   "cell_type": "code",
   "execution_count": null,
   "id": "eabfc08b",
   "metadata": {
    "slideshow": {
     "slide_type": "fragment"
    }
   },
   "outputs": [],
   "source": [
    "degrees = A.sum(axis=1)\n",
    "print(degrees)"
   ]
  },
  {
   "cell_type": "code",
   "execution_count": null,
   "id": "f07996a2",
   "metadata": {
    "slideshow": {
     "slide_type": "fragment"
    }
   },
   "outputs": [],
   "source": [
    "D = np.diag(degrees)\n",
    "print(D)"
   ]
  },
  {
   "cell_type": "code",
   "execution_count": null,
   "id": "8e874ed0",
   "metadata": {
    "slideshow": {
     "slide_type": "slide"
    }
   },
   "outputs": [],
   "source": [
    "L = D - A\n",
    "print(L)"
   ]
  },
  {
   "cell_type": "code",
   "execution_count": null,
   "id": "067e57da",
   "metadata": {
    "slideshow": {
     "slide_type": "fragment"
    }
   },
   "outputs": [],
   "source": [
    "LA.eigvals(L)"
   ]
  },
  {
   "cell_type": "markdown",
   "id": "399330c7",
   "metadata": {
    "slideshow": {
     "slide_type": "fragment"
    },
    "tags": [
     "colab-keep"
    ]
   },
   "source": [
    "Observe that (up to numerical error) there are two $0$ eigenvalues and that the largest eigenvalue is greater or equal than the maximum degree plus one."
   ]
  },
  {
   "cell_type": "markdown",
   "id": "c8a37375",
   "metadata": {
    "slideshow": {
     "slide_type": "slide"
    },
    "tags": [
     "colab-keep"
    ]
   },
   "source": [
    "To compute the Laplacian matrix, one can also use the function `laplacian_matrix()`. For example, the Laplacian of the Petersen graph is the following:"
   ]
  },
  {
   "cell_type": "code",
   "execution_count": null,
   "id": "613021bd",
   "metadata": {
    "slideshow": {
     "slide_type": "fragment"
    }
   },
   "outputs": [],
   "source": [
    "G = nx.petersen_graph()\n",
    "L = nx.laplacian_matrix(G).toarray()\n",
    "print(L)"
   ]
  },
  {
   "cell_type": "code",
   "execution_count": null,
   "id": "b333a937",
   "metadata": {
    "slideshow": {
     "slide_type": "slide"
    }
   },
   "outputs": [],
   "source": [
    "LA.eigvals(L)"
   ]
  },
  {
   "cell_type": "markdown",
   "id": "ae619a2c",
   "metadata": {
    "slideshow": {
     "slide_type": "skip"
    },
    "tags": [
     "colab-keep"
    ]
   },
   "source": [
    "$\\unlhd$"
   ]
  },
  {
   "cell_type": "markdown",
   "id": "d4b33f5b",
   "metadata": {
    "slideshow": {
     "slide_type": "slide"
    },
    "tags": [
     "colab-keep"
    ]
   },
   "source": [
    "**NUMERICAL CORNER:** This is perhaps easiest to see on a path graph. *Note:* `NetworkX` numbers vertices $0,\\ldots,n-1$. "
   ]
  },
  {
   "cell_type": "code",
   "execution_count": null,
   "id": "1a75b189",
   "metadata": {
    "slideshow": {
     "slide_type": "fragment"
    }
   },
   "outputs": [],
   "source": [
    "G = nx.path_graph(10)"
   ]
  },
  {
   "cell_type": "code",
   "execution_count": null,
   "id": "51da7303",
   "metadata": {
    "slideshow": {
     "slide_type": "fragment"
    },
    "tags": [
     "hide-input"
    ]
   },
   "outputs": [],
   "source": [
    "nx.draw_networkx(G, \n",
    "                 node_size=600, node_color='black',\n",
    "                 font_size=16, font_color='white', \n",
    "                 pos=nx.random_layout(G, seed=535)\n",
    "                )"
   ]
  },
  {
   "cell_type": "markdown",
   "id": "1a3b0983",
   "metadata": {
    "slideshow": {
     "slide_type": "slide"
    },
    "tags": [
     "colab-keep"
    ]
   },
   "source": [
    "We plot the second Laplacian eigenvector (i.e., the eigenvector of the Laplacian matrix corresponding to the second smallest eigenvalue). We use [`numpy.argsort()`](https://numpy.org/doc/stable/reference/generated/numpy.argsort.html) to find the index of the second smallest eigenvalue. Because indices start at `0`, we want entry `1` of the output of `np.argsort()`."
   ]
  },
  {
   "cell_type": "code",
   "execution_count": null,
   "id": "744a0e53",
   "metadata": {
    "slideshow": {
     "slide_type": "fragment"
    }
   },
   "outputs": [],
   "source": [
    "L = nx.laplacian_matrix(G).toarray()\n",
    "w, v = LA.eigh(L)\n",
    "y2 = v[:,np.argsort(w)[1]]"
   ]
  },
  {
   "cell_type": "code",
   "execution_count": null,
   "id": "fc94938a",
   "metadata": {
    "scrolled": false,
    "slideshow": {
     "slide_type": "fragment"
    },
    "tags": [
     "hide-input"
    ]
   },
   "outputs": [],
   "source": [
    "plt.plot(y2)\n",
    "plt.show()"
   ]
  },
  {
   "cell_type": "markdown",
   "id": "aad69c00",
   "metadata": {
    "slideshow": {
     "slide_type": "skip"
    },
    "tags": [
     "colab-keep"
    ]
   },
   "source": [
    "$\\unlhd$"
   ]
  },
  {
   "cell_type": "markdown",
   "id": "42ec6501",
   "metadata": {
    "slideshow": {
     "slide_type": "slide"
    },
    "tags": [
     "colab-keep"
    ]
   },
   "source": [
    "## Application to graph partitioning via spectral clustering"
   ]
  },
  {
   "cell_type": "code",
   "execution_count": null,
   "id": "57852fa8",
   "metadata": {
    "slideshow": {
     "slide_type": "fragment"
    }
   },
   "outputs": [],
   "source": [
    "G_tree = nx.random_tree(n=6, seed=111)"
   ]
  },
  {
   "cell_type": "code",
   "execution_count": null,
   "id": "205c5b58",
   "metadata": {
    "slideshow": {
     "slide_type": "fragment"
    },
    "tags": [
     "hide-input"
    ]
   },
   "outputs": [],
   "source": [
    "nx.draw(G_tree, pos=nx.circular_layout(G_tree), with_labels=True,\n",
    "                 node_size=200, node_color=\"black\", \n",
    "                 font_size=10, font_color=\"white\")"
   ]
  },
  {
   "cell_type": "markdown",
   "id": "454b05f1",
   "metadata": {
    "slideshow": {
     "slide_type": "slide"
    },
    "tags": [
     "colab-keep"
    ]
   },
   "source": [
    "**NUMERICAL CORNER:** **(A random tree)** We return to the random tree example above. We claimed that $\\phi_G = 1/3$. The maximum degree is $\\bar{\\delta} = 3$. We now compute $\\mu_2$. We first compute the Laplacian matrix."
   ]
  },
  {
   "cell_type": "code",
   "execution_count": null,
   "id": "b3bdf19c",
   "metadata": {
    "slideshow": {
     "slide_type": "fragment"
    }
   },
   "outputs": [],
   "source": [
    "phi_G = 1/3\n",
    "max_deg = 3"
   ]
  },
  {
   "cell_type": "markdown",
   "id": "aa6fc74a",
   "metadata": {
    "slideshow": {
     "slide_type": "slide"
    },
    "tags": [
     "colab-keep"
    ]
   },
   "source": [
    "We now compute $\\mu_2$. We first compute the Laplacian matrix."
   ]
  },
  {
   "cell_type": "code",
   "execution_count": null,
   "id": "8b684317",
   "metadata": {
    "slideshow": {
     "slide_type": "fragment"
    }
   },
   "outputs": [],
   "source": [
    "L_tree = nx.laplacian_matrix(G_tree).toarray()\n",
    "print(L_tree)"
   ]
  },
  {
   "cell_type": "code",
   "execution_count": null,
   "id": "983e5b16",
   "metadata": {
    "slideshow": {
     "slide_type": "fragment"
    }
   },
   "outputs": [],
   "source": [
    "w, v = LA.eigh(L_tree) \n",
    "mu_2 = np.sort(w)[1]\n",
    "print(mu_2)"
   ]
  },
  {
   "cell_type": "markdown",
   "id": "406a43b1",
   "metadata": {
    "slideshow": {
     "slide_type": "slide"
    },
    "tags": [
     "colab-keep"
    ]
   },
   "source": [
    "We check Cheeger's inequality. The left-hand side is:"
   ]
  },
  {
   "cell_type": "code",
   "execution_count": null,
   "id": "21595ecd",
   "metadata": {
    "slideshow": {
     "slide_type": "fragment"
    }
   },
   "outputs": [],
   "source": [
    "(phi_G ** 2) / (2 * max_deg)"
   ]
  },
  {
   "cell_type": "markdown",
   "id": "7a6a2429",
   "metadata": {
    "slideshow": {
     "slide_type": "slide"
    },
    "tags": [
     "colab-keep"
    ]
   },
   "source": [
    "The right-hand side is:"
   ]
  },
  {
   "cell_type": "code",
   "execution_count": null,
   "id": "e8c4acb7",
   "metadata": {
    "slideshow": {
     "slide_type": "fragment"
    }
   },
   "outputs": [],
   "source": [
    "2 * phi_G"
   ]
  },
  {
   "cell_type": "markdown",
   "id": "6284db6c",
   "metadata": {
    "slideshow": {
     "slide_type": "skip"
    },
    "tags": [
     "colab-keep"
    ]
   },
   "source": [
    "$\\unlhd$"
   ]
  },
  {
   "cell_type": "markdown",
   "id": "c79805c0",
   "metadata": {
    "slideshow": {
     "slide_type": "slide"
    },
    "tags": [
     "colab-keep"
    ]
   },
   "source": [
    "**NUMERICAL CORNER:** We implement the graph cutting algorithm above."
   ]
  },
  {
   "cell_type": "markdown",
   "id": "3796a3df",
   "metadata": {
    "slideshow": {
     "slide_type": "fragment"
    },
    "tags": [
     "colab-keep"
    ]
   },
   "source": [
    "We now implement this heuristic in Python. We first write an auxiliary function that takes as input an adjacency matrix, an ordering of the vertices and a value $k$. It returns the cut ratio for the first $k$ vertices in the order."
   ]
  },
  {
   "cell_type": "code",
   "execution_count": null,
   "id": "74a4fcd1",
   "metadata": {
    "slideshow": {
     "slide_type": "fragment"
    }
   },
   "outputs": [],
   "source": [
    "def cut_ratio(A, order, k):\n",
    "    \n",
    "    n = A.shape[0] # number of vertices\n",
    "    edge_boundary = 0 # initialize size of edge boundary \n",
    "    for i in range(k+1): # for all vertices before cut\n",
    "        for j in range(k+1,n): # for all vertices after cut\n",
    "            edge_boundary += A[order[i],order[j]] # add one if {i,j} in E\n",
    "            \n",
    "    denominator = np.minimum(k+1, n-k-1)\n",
    "    \n",
    "    return edge_boundary/denominator"
   ]
  },
  {
   "cell_type": "markdown",
   "id": "94c5fc57",
   "metadata": {
    "slideshow": {
     "slide_type": "slide"
    },
    "tags": [
     "colab-keep"
    ]
   },
   "source": [
    "Using the `cut_ratio` function, we first compute the Laplacian, find the second eigenvector and corresponding order of vertices. Then we compute the cut ratio for every $k$. Finally we output the cut (both $S_k$ and $S_k^c$) corresponding to the minimum, as a tuple of arrays."
   ]
  },
  {
   "cell_type": "code",
   "execution_count": null,
   "id": "e05f3c0c",
   "metadata": {
    "slideshow": {
     "slide_type": "fragment"
    }
   },
   "outputs": [],
   "source": [
    "def spectral_cut2(A):\n",
    "    n = A.shape[0] # number of vertices\n",
    "    \n",
    "    # laplacian\n",
    "    degrees = A.sum(axis=1)\n",
    "    D = np.diag(degrees)\n",
    "    L = D - A\n",
    "\n",
    "    # spectral decomposition\n",
    "    w, v = LA.eigh(L) \n",
    "    order = np.argsort(v[:,np.argsort(w)[1]]) # index of entries in increasing order\n",
    "    \n",
    "    # cut ratios\n",
    "    phi = np.zeros(n-1) # initialize cut ratios\n",
    "    for k in range(n-1):\n",
    "        phi[k] = cut_ratio(A, order, k)\n",
    "    imin = np.argmin(phi) # find best cut ratio\n",
    "    \n",
    "    return order[0:imin+1], order[imin+1:n]"
   ]
  },
  {
   "cell_type": "markdown",
   "id": "21814b7f",
   "metadata": {
    "slideshow": {
     "slide_type": "slide"
    },
    "tags": [
     "colab-keep"
    ]
   },
   "source": [
    "We will illustrate this on the path graph."
   ]
  },
  {
   "cell_type": "code",
   "execution_count": null,
   "id": "d43ba4b3",
   "metadata": {
    "slideshow": {
     "slide_type": "fragment"
    }
   },
   "outputs": [],
   "source": [
    "n = 10\n",
    "G = nx.path_graph(n)"
   ]
  },
  {
   "cell_type": "code",
   "execution_count": null,
   "id": "a1d5c063",
   "metadata": {
    "slideshow": {
     "slide_type": "fragment"
    },
    "tags": [
     "hide-input"
    ]
   },
   "outputs": [],
   "source": [
    "nx.draw(G, node_size=200, node_color='black', with_labels=True,\n",
    "                 font_size=10, font_color='white',\n",
    "                 pos=nx.spectral_layout(G))"
   ]
  },
  {
   "cell_type": "markdown",
   "id": "cbaa612a",
   "metadata": {
    "slideshow": {
     "slide_type": "slide"
    },
    "tags": [
     "colab-keep"
    ]
   },
   "source": [
    "We apply our spectral-based cutting algorihtm."
   ]
  },
  {
   "cell_type": "code",
   "execution_count": null,
   "id": "5a8ec686",
   "metadata": {
    "slideshow": {
     "slide_type": "fragment"
    }
   },
   "outputs": [],
   "source": [
    "A = nx.adjacency_matrix(G).toarray()\n",
    "s, sc = spectral_cut2(A)\n",
    "print(s)\n",
    "print(sc)"
   ]
  },
  {
   "cell_type": "markdown",
   "id": "051ba5cc",
   "metadata": {
    "slideshow": {
     "slide_type": "slide"
    },
    "tags": [
     "colab-keep"
    ]
   },
   "source": [
    "To help with vizualizing the output, we write a function coloring the vertices according to which side of the cut they are on."
   ]
  },
  {
   "cell_type": "code",
   "execution_count": null,
   "id": "83e7d89b",
   "metadata": {
    "slideshow": {
     "slide_type": "fragment"
    }
   },
   "outputs": [],
   "source": [
    "def viz_cut(G, s, pos):\n",
    "    n = G.number_of_nodes()\n",
    "    assign = np.ones(n)\n",
    "    assign[s] = 2\n",
    "    nx.draw(G, node_color=assign, pos=pos, with_labels=False, cmap=plt.cm.brg,\n",
    "       node_size=200, font_size=10, font_color='white')"
   ]
  },
  {
   "cell_type": "code",
   "execution_count": null,
   "id": "2edd3d5a",
   "metadata": {
    "scrolled": false,
    "slideshow": {
     "slide_type": "slide"
    }
   },
   "outputs": [],
   "source": [
    "pos = nx.spectral_layout(G)\n",
    "viz_cut(G, s, pos)"
   ]
  },
  {
   "cell_type": "markdown",
   "id": "728d5b4c",
   "metadata": {
    "slideshow": {
     "slide_type": "slide"
    },
    "tags": [
     "colab-keep"
    ]
   },
   "source": [
    "Let's try it on the grid graph. Can you guess what the cut will be?"
   ]
  },
  {
   "cell_type": "code",
   "execution_count": null,
   "id": "11ac7060",
   "metadata": {
    "slideshow": {
     "slide_type": "fragment"
    }
   },
   "outputs": [],
   "source": [
    "G = nx.grid_2d_graph(4,7)\n",
    "A = nx.adjacency_matrix(G).toarray()\n",
    "s, sc = spectral_cut2(A)\n",
    "pos = nx.spectral_layout(G)\n",
    "viz_cut(G, s, pos)"
   ]
  },
  {
   "cell_type": "markdown",
   "id": "38288d41",
   "metadata": {
    "slideshow": {
     "slide_type": "skip"
    },
    "tags": [
     "colab-keep"
    ]
   },
   "source": [
    "$\\unlhd$"
   ]
  },
  {
   "cell_type": "markdown",
   "id": "5920b5f0",
   "metadata": {
    "slideshow": {
     "slide_type": "slide"
    },
    "tags": [
     "colab-keep"
    ]
   },
   "source": [
    "### Back to community detection"
   ]
  },
  {
   "cell_type": "markdown",
   "id": "c69940fa",
   "metadata": {
    "slideshow": {
     "slide_type": "slide"
    },
    "tags": [
     "colab-keep"
    ]
   },
   "source": [
    "We return to the [Karate Club dataset](https://en.wikipedia.org/wiki/Zachary%27s_karate_club)."
   ]
  },
  {
   "cell_type": "code",
   "execution_count": null,
   "id": "7496726a",
   "metadata": {
    "slideshow": {
     "slide_type": "slide"
    }
   },
   "outputs": [],
   "source": [
    "G = nx.karate_club_graph()\n",
    "n = G.number_of_nodes()\n",
    "A = nx.adjacency_matrix(G).toarray()"
   ]
  },
  {
   "cell_type": "code",
   "execution_count": null,
   "id": "8ba85e3e",
   "metadata": {
    "slideshow": {
     "slide_type": "fragment"
    },
    "tags": [
     "hide-input"
    ]
   },
   "outputs": [],
   "source": [
    "nx.draw(G,  with_labels=True, \n",
    "        node_size=200, font_size=10, font_color='white', node_color='black')"
   ]
  },
  {
   "cell_type": "markdown",
   "id": "aaa6617f",
   "metadata": {
    "slideshow": {
     "slide_type": "slide"
    },
    "tags": [
     "colab-keep"
    ]
   },
   "source": [
    "We seek to find natural sub-communities. We use the spectral properties of the Laplacian as described in the lectures."
   ]
  },
  {
   "cell_type": "markdown",
   "id": "cf424932",
   "metadata": {
    "slideshow": {
     "slide_type": "slide"
    },
    "tags": [
     "colab-keep"
    ]
   },
   "source": [
    "We use our `spectral_cut2` and `viz_cut` functions to compute a good cut and vizualize it."
   ]
  },
  {
   "cell_type": "code",
   "execution_count": null,
   "id": "b47e376e",
   "metadata": {
    "slideshow": {
     "slide_type": "fragment"
    }
   },
   "outputs": [],
   "source": [
    "s, sc = spectral_cut2(A)\n",
    "print(s)\n",
    "print(sc)"
   ]
  },
  {
   "cell_type": "code",
   "execution_count": null,
   "id": "bc8422a4",
   "metadata": {
    "slideshow": {
     "slide_type": "fragment"
    }
   },
   "outputs": [],
   "source": [
    "pos = nx.spring_layout(G)\n",
    "viz_cut(G, s, pos)"
   ]
  },
  {
   "cell_type": "markdown",
   "id": "ced283f0",
   "metadata": {
    "slideshow": {
     "slide_type": "slide"
    },
    "tags": [
     "colab-keep"
    ]
   },
   "source": [
    "It is not trivial to assess the quality of the resulting cut. But this particular example has a known ground-truth community structure (which partly explains its widespread use). Quoting from [Wikipedia](https://en.wikipedia.org/wiki/Zachary%27s_karate_club):\n",
    "> A social network of a karate club was studied by Wayne W. Zachary for a period of three years from 1970 to 1972. The network captures 34 members of a karate club, documenting links between pairs of members who interacted outside the club. During the study a conflict arose between the administrator \"John A\" and instructor \"Mr. Hi\" (pseudonyms), which led to the split of the club into two. Half of the members formed a new club around Mr. Hi; members from the other part found a new instructor or gave up karate. Based on collected data Zachary correctly assigned all but one member of the club to the groups they actually joined after the split.\n",
    "\n",
    "This ground truth is the following."
   ]
  },
  {
   "cell_type": "code",
   "execution_count": null,
   "id": "2a7719c7",
   "metadata": {
    "slideshow": {
     "slide_type": "slide"
    }
   },
   "outputs": [],
   "source": [
    "truth = np.array([2, 2, 2, 2, 2, 2, 2, 2, 1, 1, 2, 2, 2, 2, 1, \n",
    "    1, 2, 2, 1, 2, 1, 2, 1, 1, 1, 1, 1, 1, 1, 1, 1, 1, 1, 1])\n",
    "nx.draw(G, node_color=truth, pos=pos,  with_labels=True, cmap=plt.cm.rainbow,\n",
    "       node_size=200, font_size=10, font_color='white')"
   ]
  },
  {
   "cell_type": "markdown",
   "id": "7fd931ed",
   "metadata": {
    "slideshow": {
     "slide_type": "fragment"
    },
    "tags": [
     "colab-keep"
    ]
   },
   "source": [
    "You can check that our cut perfectly matches the ground truth."
   ]
  },
  {
   "cell_type": "markdown",
   "id": "8cc96a3a",
   "metadata": {
    "slideshow": {
     "slide_type": "slide"
    },
    "tags": [
     "colab-keep"
    ]
   },
   "source": [
    "**NUMERICAL CORNER:** We implement the generation of an inhomogeneous ER graph using NetworkX. We first initialize a pseudorandom number generator `rng`. To determine whether an edge is present between `i` and `j`, we generate a uniform random variable `rng.random()` (see [`numpy.random.Generator.random`](https://numpy.org/doc/stable/reference/random/generated/numpy.random.Generator.random.html)) and add the edge with `G.add_edge(i, j)` if the random variable is `< M[i, j]` -- an event which indeed occurs with the desired probability (check it!). "
   ]
  },
  {
   "cell_type": "code",
   "execution_count": null,
   "id": "6cbb3239",
   "metadata": {
    "slideshow": {
     "slide_type": "fragment"
    }
   },
   "outputs": [],
   "source": [
    "seed = 535\n",
    "rng = np.random.default_rng(seed)"
   ]
  },
  {
   "cell_type": "code",
   "execution_count": null,
   "id": "3503da1c",
   "metadata": {
    "slideshow": {
     "slide_type": "fragment"
    }
   },
   "outputs": [],
   "source": [
    "def inhomogeneous_er_random_graph(n, M, rng):\n",
    "    # Initialize the random number generator\n",
    "\n",
    "    # Initialize an empty graph with n vertices\n",
    "    G = nx.Graph()\n",
    "    G.add_nodes_from(range(n))\n",
    "    \n",
    "    # Generate the adjacency matrix\n",
    "    for i in range(n):\n",
    "        for j in range(i + 1, n):\n",
    "            if rng.random() < M[i, j]:\n",
    "                G.add_edge(i, j)\n",
    "\n",
    "    return G"
   ]
  },
  {
   "cell_type": "markdown",
   "id": "9f9893a4",
   "metadata": {
    "slideshow": {
     "slide_type": "slide"
    },
    "tags": [
     "colab-keep"
    ]
   },
   "source": [
    "Here is an example usage. We generate probabilities $m_{i,j}$ uniformly at random between $0$ and $1$."
   ]
  },
  {
   "cell_type": "code",
   "execution_count": null,
   "id": "15cabf32",
   "metadata": {
    "slideshow": {
     "slide_type": "fragment"
    }
   },
   "outputs": [],
   "source": [
    "n = 20\n",
    "M = rng.random([n, n])\n",
    "M = (M + M.T) / 2  # Ensure symmetry\n",
    "\n",
    "G = inhomogeneous_er_random_graph(n, M, rng)"
   ]
  },
  {
   "cell_type": "markdown",
   "id": "28e0487a",
   "metadata": {
    "slideshow": {
     "slide_type": "slide"
    },
    "tags": [
     "colab-keep"
    ]
   },
   "source": [
    "We draw the resulting graph."
   ]
  },
  {
   "cell_type": "code",
   "execution_count": null,
   "id": "eb478a96",
   "metadata": {
    "scrolled": false,
    "slideshow": {
     "slide_type": "fragment"
    },
    "tags": [
     "hide-input"
    ]
   },
   "outputs": [],
   "source": [
    "nx.draw(G, with_labels=True,\n",
    "       node_size=200, font_size=10, font_color='white', node_color='black')\n",
    "plt.show()"
   ]
  },
  {
   "cell_type": "markdown",
   "id": "fc937fda",
   "metadata": {
    "slideshow": {
     "slide_type": "slide"
    },
    "tags": [
     "colab-keep"
    ]
   },
   "source": [
    "The following subroutine generates an ER graph. "
   ]
  },
  {
   "cell_type": "code",
   "execution_count": null,
   "id": "ea37a494",
   "metadata": {
    "slideshow": {
     "slide_type": "fragment"
    }
   },
   "outputs": [],
   "source": [
    "def er_random_graph(n, p, rng):\n",
    "\n",
    "    # Create the probability matrix M\n",
    "    M = p * (np.ones((n, n)) - np.eye(n))\n",
    "    \n",
    "    # Generate the graph using the inhomogeneous ER random graph function\n",
    "    G = inhomogeneous_er_random_graph(n, M, rng)\n",
    "    return G"
   ]
  },
  {
   "cell_type": "markdown",
   "id": "8b30fd64",
   "metadata": {
    "slideshow": {
     "slide_type": "slide"
    },
    "tags": [
     "colab-keep"
    ]
   },
   "source": [
    "To confirm our previous calculations, below is the implementation of a routine to estimate the edge density for an ER graph with a fixed parameter $p$. Recall that the edge density is defined as the number of edges present divided by the number of possible edges (i.e., the number of pairs of distinct vertices). The routine takes advantage of the *Law of Large Numbers* by generating a large number of sample graphs, computing their edge density, and then taking the mean. "
   ]
  },
  {
   "cell_type": "code",
   "execution_count": null,
   "id": "d1a633df",
   "metadata": {
    "slideshow": {
     "slide_type": "fragment"
    }
   },
   "outputs": [],
   "source": [
    "def estimate_edge_density(n, p, rng, num_samples=100):\n",
    "\n",
    "    total_edges = 0\n",
    "    total_possible_edges = n * (n - 1) / 2\n",
    "    \n",
    "    for _ in range(num_samples):\n",
    "        G = er_random_graph(n, p, rng)\n",
    "        total_edges += G.number_of_edges()\n",
    "    \n",
    "    average_edges = total_edges / num_samples\n",
    "    edge_density = average_edges / total_possible_edges\n",
    "    return edge_density"
   ]
  },
  {
   "cell_type": "markdown",
   "id": "05198c83",
   "metadata": {
    "slideshow": {
     "slide_type": "slide"
    },
    "tags": [
     "colab-keep"
    ]
   },
   "source": [
    "On a small example, we indeed get that the edge density is roughly $p$."
   ]
  },
  {
   "cell_type": "code",
   "execution_count": null,
   "id": "16bb0221",
   "metadata": {
    "slideshow": {
     "slide_type": "fragment"
    }
   },
   "outputs": [],
   "source": [
    "n = 10\n",
    "p = 0.3\n",
    "num_samples = 1000\n",
    "\n",
    "estimated_density = estimate_edge_density(n, p, rng, num_samples)\n",
    "print(f\"Estimated edge density for an ER graph with n={n} and p={p}: {estimated_density}\")"
   ]
  },
  {
   "cell_type": "markdown",
   "id": "b7bf7c69",
   "metadata": {
    "slideshow": {
     "slide_type": "skip"
    },
    "tags": [
     "colab-keep"
    ]
   },
   "source": [
    "**TRY IT!** Modify the code above to estimate the density of triangles. $\\ddagger$"
   ]
  },
  {
   "cell_type": "markdown",
   "id": "f10e68bb",
   "metadata": {
    "slideshow": {
     "slide_type": "slide"
    },
    "tags": [
     "colab-keep"
    ]
   },
   "source": [
    "When $n$, the number of vertices, is large, random graphs tend to exhibit fascinating large-scale emergent behavior. One classical example involves the probability of being connected in an ER graph. To illustrate, below is code to estimate that probability over a range of edge densities $p$."
   ]
  },
  {
   "cell_type": "code",
   "execution_count": null,
   "id": "43972878",
   "metadata": {
    "slideshow": {
     "slide_type": "fragment"
    }
   },
   "outputs": [],
   "source": [
    "def estimate_connected_probability(n, p, rng, num_samples=100):\n",
    "\n",
    "    connected_count = 0\n",
    "    \n",
    "    for _ in range(num_samples):\n",
    "        G = er_random_graph(n, p, rng)\n",
    "        if nx.is_connected(G):\n",
    "            connected_count += 1\n",
    "    \n",
    "    connected_probability = connected_count / num_samples\n",
    "    return connected_probability"
   ]
  },
  {
   "cell_type": "code",
   "execution_count": null,
   "id": "16f38221",
   "metadata": {
    "slideshow": {
     "slide_type": "slide"
    }
   },
   "outputs": [],
   "source": [
    "def plot_connected_probability(n, rng, p_values, num_samples=100):\n",
    "\n",
    "    probabilities = []\n",
    "    \n",
    "    for p in p_values:\n",
    "        prob = estimate_connected_probability(n, p, rng, num_samples)\n",
    "        probabilities.append(prob)\n",
    "    \n",
    "    plt.figure(figsize=(10, 6))\n",
    "    plt.plot(p_values, probabilities, marker='o')\n",
    "    plt.xlabel('p')\n",
    "    plt.ylabel('Estimated probability of being connected')\n",
    "    plt.title(f'Estimated Probability of Being Connected for ER Graph with n={n}')\n",
    "    plt.grid(True)\n",
    "    plt.show()"
   ]
  },
  {
   "cell_type": "code",
   "execution_count": null,
   "id": "34f84a7f",
   "metadata": {
    "slideshow": {
     "slide_type": "fragment"
    }
   },
   "outputs": [],
   "source": [
    "n = 100  # Number of vertices\n",
    "p_values = np.linspace(0, 0.1, 50)  # Range of p values\n",
    "num_samples = 250  # Number of samples to average over\n",
    "plot_connected_probability(n, rng, p_values, num_samples)"
   ]
  },
  {
   "cell_type": "markdown",
   "id": "b728e65d",
   "metadata": {
    "slideshow": {
     "slide_type": "slide"
    },
    "tags": [
     "colab-keep"
    ]
   },
   "source": [
    "Above, we ran the code for `n` equal to $100$. What do you observe? The probability of being connected starts out at $0$ when $p$ is small, which is understandable since it implies that the graph has a relatively small number of edges. But then that probability increases rapidly to $1$ as $p$ crosses a threshold. This is referred to as the phase transition of the ER graph.\n",
    "\n",
    "It can be shown rigorously that the transition occurs at roughly $p = \\log n/n$. That is:"
   ]
  },
  {
   "cell_type": "code",
   "execution_count": null,
   "id": "78240052",
   "metadata": {
    "slideshow": {
     "slide_type": "fragment"
    }
   },
   "outputs": [],
   "source": [
    "np.log(n)/n"
   ]
  },
  {
   "cell_type": "markdown",
   "id": "d644b6c3",
   "metadata": {
    "slideshow": {
     "slide_type": "fragment"
    },
    "tags": [
     "colab-keep"
    ]
   },
   "source": [
    "which is consistent with the plot above."
   ]
  },
  {
   "cell_type": "markdown",
   "id": "14a286f1",
   "metadata": {
    "slideshow": {
     "slide_type": "skip"
    },
    "tags": [
     "colab-keep"
    ]
   },
   "source": [
    "**TRY IT!** Taking a larger `n` would produce a sharper transition. Try it for yourself. Also try drawing one random sample for increasing values of $p$ around the threshold. What do you observe? [[Open In Colab]](https://colab.research.google.com/github/MMiDS-textbook/MMiDS-textbook.github.io/blob/main/just_the_code/roch_mmids_chap_specgraph_notebook.ipynb)  $\\ddagger$"
   ]
  },
  {
   "cell_type": "markdown",
   "id": "379ee5cb",
   "metadata": {
    "slideshow": {
     "slide_type": "skip"
    },
    "tags": [
     "colab-keep"
    ]
   },
   "source": [
    "**TRY IT!** Many other properties exhibit such sharp threshold behavior. Modify the code to to estimate the probability that a clique of size 4 exists in the graph. [[Open In Colab]](https://colab.research.google.com/github/MMiDS-textbook/MMiDS-textbook.github.io/blob/main/just_the_code/roch_mmids_chap_specgraph_notebook.ipynb) $\\ddagger$ "
   ]
  },
  {
   "cell_type": "markdown",
   "id": "9eef5a52",
   "metadata": {
    "slideshow": {
     "slide_type": "skip"
    },
    "tags": [
     "colab-keep"
    ]
   },
   "source": [
    "$\\unlhd$"
   ]
  },
  {
   "cell_type": "markdown",
   "id": "c38c6fb5",
   "metadata": {
    "slideshow": {
     "slide_type": "slide"
    },
    "tags": [
     "colab-keep"
    ]
   },
   "source": [
    "**NUMERICAL CORNER:** We implement the SBM model. We use blocks numbered $0$ and $1$."
   ]
  },
  {
   "cell_type": "code",
   "execution_count": null,
   "id": "f0824ce3",
   "metadata": {
    "slideshow": {
     "slide_type": "fragment"
    }
   },
   "outputs": [],
   "source": [
    "def sbm_random_graph(n, block_assignments, B, rng):\n",
    "\n",
    "    # Create the block assignment matrix Z\n",
    "    num_blocks = B.shape[0]\n",
    "    Z = np.zeros((n, num_blocks))\n",
    "    for i in range(n):\n",
    "        Z[i, block_assignments[i]] = 1\n",
    "    \n",
    "    # Compute the probability matrix M\n",
    "    M = Z @ B @ Z.T\n",
    "    \n",
    "    # Generate the graph using the inhomogeneous ER random graph function\n",
    "    G = inhomogeneous_er_random_graph(n, M, rng)\n",
    "    \n",
    "    return G"
   ]
  },
  {
   "cell_type": "markdown",
   "id": "ebad4132",
   "metadata": {
    "slideshow": {
     "slide_type": "slide"
    },
    "tags": [
     "colab-keep"
    ]
   },
   "source": [
    "Here is an example usage. We first pick a block assignment at random. Specifically, blocks are assigned randomly with [`numpy.random.Generator.choice`](https://numpy.org/doc/stable/reference/random/generated/numpy.random.Generator.choice.html#numpy.random.Generator.choice). It produces two blocks by assigning each vertex with equal probability to either block, independently of all other choices."
   ]
  },
  {
   "cell_type": "code",
   "execution_count": null,
   "id": "c9c40bda",
   "metadata": {
    "slideshow": {
     "slide_type": "fragment"
    }
   },
   "outputs": [],
   "source": [
    "n = 50\n",
    "block_assignments = rng.choice(2, n)  # Randomly assign vertices to two blocks\n",
    "B = np.array([\n",
    "    [0.8, 0.1],\n",
    "    [0.1, 0.8]\n",
    "])\n",
    "\n",
    "G = sbm_random_graph(n, block_assignments, B, rng)"
   ]
  },
  {
   "cell_type": "markdown",
   "id": "ba6ada64",
   "metadata": {
    "slideshow": {
     "slide_type": "slide"
    },
    "tags": [
     "colab-keep"
    ]
   },
   "source": [
    "We draw the graph with colored nodes based on block assignments. The \"good\" cut is clearly visible."
   ]
  },
  {
   "cell_type": "code",
   "execution_count": null,
   "id": "77a0d878",
   "metadata": {
    "slideshow": {
     "slide_type": "fragment"
    }
   },
   "outputs": [],
   "source": [
    "pos = nx.spring_layout(G)\n",
    "nx.draw(G, pos, with_labels=True, node_color=block_assignments, cmap=plt.cm.rainbow,\n",
    "       node_size=200, font_size=10, font_color='white')\n",
    "plt.show()"
   ]
  },
  {
   "cell_type": "markdown",
   "id": "7f20c19d",
   "metadata": {
    "slideshow": {
     "slide_type": "slide"
    },
    "tags": [
     "colab-keep"
    ]
   },
   "source": [
    "We introduce a subroutine which assigns blocks at random as follows. Let $\\beta_1, \\beta_2 \\in [0,1]$ with $\\beta_1 + \\beta_2 = 1$ be the probability that a vertex belongs respectively to block $1$ and $2$. We collect these probabilities in the following vector\n",
    "\n",
    "$$\n",
    "\\bbeta = (\\beta_1, \\beta_2).\n",
    "$$\n",
    "\n",
    "We pick block $z(i) \\in \\{1,2\\}$ for each vertex $1 \\leq i \\leq n$ according to the distribution $\\bbeta$, independently of all other vertices $\\neq i$."
   ]
  },
  {
   "cell_type": "code",
   "execution_count": null,
   "id": "87aab24e",
   "metadata": {
    "slideshow": {
     "slide_type": "fragment"
    }
   },
   "outputs": [],
   "source": [
    "def generate_block_assignments(n, beta, rng):\n",
    "\n",
    "    block_assignments = rng.choice(len(beta), size=n, p=beta)\n",
    "    \n",
    "    return block_assignments"
   ]
  },
  {
   "cell_type": "markdown",
   "id": "c37c014d",
   "metadata": {
    "slideshow": {
     "slide_type": "slide"
    },
    "tags": [
     "colab-keep"
    ]
   },
   "source": [
    "Here is an example usage."
   ]
  },
  {
   "cell_type": "code",
   "execution_count": null,
   "id": "ae52c590",
   "metadata": {
    "slideshow": {
     "slide_type": "fragment"
    }
   },
   "outputs": [],
   "source": [
    "n = 50  # number of vertices\n",
    "beta = [0.33, 0.67]  # block probabilities\n",
    "B = np.array([[0.5, 0.03], [0.03, 0.4]])  # block connection probabilities\n",
    "\n",
    "block_assignments = generate_block_assignments(n, beta, rng)\n",
    "G = sbm_random_graph(n, block_assignments, B, rng)"
   ]
  },
  {
   "cell_type": "markdown",
   "id": "079fc728",
   "metadata": {
    "slideshow": {
     "slide_type": "slide"
    },
    "tags": [
     "colab-keep"
    ]
   },
   "source": [
    "Observe that the blocks are more unbalanced this time."
   ]
  },
  {
   "cell_type": "code",
   "execution_count": null,
   "id": "ff019f23",
   "metadata": {
    "slideshow": {
     "slide_type": "fragment"
    }
   },
   "outputs": [],
   "source": [
    "pos = nx.spring_layout(G)\n",
    "nx.draw(G, pos, with_labels=True, node_color=block_assignments, cmap=plt.cm.rainbow,\n",
    "       node_size=200, font_size=10, font_color='white')\n",
    "plt.show()"
   ]
  },
  {
   "cell_type": "markdown",
   "id": "7d8b8ec2",
   "metadata": {
    "slideshow": {
     "slide_type": "slide"
    },
    "tags": [
     "colab-keep"
    ]
   },
   "source": [
    "To test our spectral partitioning algorithm, we run `spectral_cut2`, which indeed recovers the ground truth."
   ]
  },
  {
   "cell_type": "code",
   "execution_count": null,
   "id": "e037f2c7",
   "metadata": {
    "slideshow": {
     "slide_type": "fragment"
    }
   },
   "outputs": [],
   "source": [
    "A = nx.adjacency_matrix(G).toarray()\n",
    "s, sc = mmids.spectral_cut2(A)\n",
    "mmids.viz_cut(G, s, pos)"
   ]
  },
  {
   "cell_type": "markdown",
   "id": "d22f6b5c",
   "metadata": {
    "slideshow": {
     "slide_type": "slide"
    },
    "tags": [
     "colab-keep"
    ]
   },
   "source": [
    "The following code computes the fraction of incorrectly assigned vertices. Note that it considers *two* assignments corresponding to swapping the labels `0` and `1` which cannot be inferred. "
   ]
  },
  {
   "cell_type": "code",
   "execution_count": null,
   "id": "6a9af243",
   "metadata": {
    "slideshow": {
     "slide_type": "fragment"
    }
   },
   "outputs": [],
   "source": [
    "def calculate_incorrect_fraction(block_assignments, inferred_s, inferred_sc):\n",
    "    \n",
    "    n = len(block_assignments)\n",
    "    \n",
    "    # Create inferred block assignments\n",
    "    inferred_assignments = np.zeros(n)\n",
    "    for i in inferred_s:\n",
    "        inferred_assignments[i] = 0\n",
    "    for i in inferred_sc:\n",
    "        inferred_assignments[i] = 1\n",
    "    \n",
    "    # Calculate the fraction of incorrect assignments\n",
    "    incorrect_assignments_1 = np.sum(block_assignments != inferred_assignments) / n\n",
    "    incorrect_assignments_2 = np.sum(block_assignments == inferred_assignments) / n\n",
    "\n",
    "    # Return the best (minimum) fraction\n",
    "    return np.minimum(incorrect_assignments_1, incorrect_assignments_2)"
   ]
  },
  {
   "cell_type": "markdown",
   "id": "2a02ef3a",
   "metadata": {
    "slideshow": {
     "slide_type": "slide"
    },
    "tags": [
     "colab-keep"
    ]
   },
   "source": [
    "We confirm on our previous example that the ground truth was perfectly recovered."
   ]
  },
  {
   "cell_type": "code",
   "execution_count": null,
   "id": "61ed2480",
   "metadata": {
    "slideshow": {
     "slide_type": "fragment"
    }
   },
   "outputs": [],
   "source": [
    "fraction_incorrect = calculate_incorrect_fraction(block_assignments, s, sc)\n",
    "print(f\"Fraction of incorrectly assigned vertices: {fraction_incorrect}\")"
   ]
  },
  {
   "cell_type": "markdown",
   "id": "1592fe84",
   "metadata": {
    "slideshow": {
     "slide_type": "slide"
    },
    "tags": [
     "colab-keep"
    ]
   },
   "source": [
    "One expects that the ground truth is harder to recover if the probability of an edge between blocks is close to that within blocks, which makes the community structure more murky. To test this hypothesis, we modify our previous example by significantly increasing the inter-block probability. This time the blocks are much harder to tease apart through visual inspection."
   ]
  },
  {
   "cell_type": "code",
   "execution_count": null,
   "id": "d4e113ed",
   "metadata": {
    "slideshow": {
     "slide_type": "fragment"
    }
   },
   "outputs": [],
   "source": [
    "n = 100  # number of vertices\n",
    "beta = [0.55, 0.45]  # block probabilities\n",
    "B = np.array([[0.55, 0.25], [0.25, 0.45]])  # block connection probabilities\n",
    "\n",
    "block_assignments = generate_block_assignments(n, beta, rng)\n",
    "G = sbm_random_graph(n, block_assignments, B, rng)"
   ]
  },
  {
   "cell_type": "markdown",
   "id": "80c2e51f",
   "metadata": {
    "slideshow": {
     "slide_type": "fragment"
    },
    "tags": [
     "colab-keep"
    ]
   },
   "source": [
    "We run `spectral_cut2`. It recovers the ground truth only partially this time."
   ]
  },
  {
   "cell_type": "code",
   "execution_count": null,
   "id": "9329770c",
   "metadata": {
    "slideshow": {
     "slide_type": "fragment"
    },
    "tags": [
     "colab-keep"
    ]
   },
   "outputs": [],
   "source": [
    "A = nx.adjacency_matrix(G).toarray()\n",
    "s, sc = mmids.spectral_cut2(A)\n",
    "fraction_incorrect = calculate_incorrect_fraction(block_assignments, s, sc)\n",
    "print(f\"Fraction of incorrectly assigned vertices: {fraction_incorrect}\")"
   ]
  },
  {
   "cell_type": "markdown",
   "id": "1ca8ff09",
   "metadata": {
    "slideshow": {
     "slide_type": "skip"
    },
    "tags": [
     "colab-keep"
    ]
   },
   "source": [
    "$\\unlhd$"
   ]
  },
  {
   "cell_type": "markdown",
   "id": "339b2e51",
   "metadata": {
    "slideshow": {
     "slide_type": "slide"
    },
    "tags": [
     "colab-keep"
    ]
   },
   "source": [
    "**NUMERICAL CORNER:** We first construct the block assignment and matrix $M$ in the case of SSBM."
   ]
  },
  {
   "cell_type": "code",
   "execution_count": null,
   "id": "5b97441d",
   "metadata": {
    "slideshow": {
     "slide_type": "fragment"
    }
   },
   "outputs": [],
   "source": [
    "def build_ssbm(n, p, q):\n",
    "\n",
    "    # Check if n is even\n",
    "    if n % 2 != 0:\n",
    "        raise ValueError(\"Number of vertices n must be even.\")\n",
    "    \n",
    "    # Create block assignments\n",
    "    block_assignments = np.zeros(n, dtype=int)\n",
    "    block_assignments[n//2:] = 1  # Assign the second half of vertices to block 2\n",
    "    \n",
    "    # Create the all-one matrix J\n",
    "    J = np.ones((n//2, n//2))\n",
    "    \n",
    "    # Construct the block matrix M\n",
    "    M_top = np.hstack((p * J, q * J))\n",
    "    M_bottom = np.hstack((q * J, p * J))\n",
    "    M = np.vstack((M_top, M_bottom))\n",
    "    \n",
    "    return block_assignments, M"
   ]
  },
  {
   "cell_type": "markdown",
   "id": "4f2bcda4",
   "metadata": {
    "slideshow": {
     "slide_type": "slide"
    },
    "tags": [
     "colab-keep"
    ]
   },
   "source": [
    "Here is an example."
   ]
  },
  {
   "cell_type": "code",
   "execution_count": null,
   "id": "46c16b34",
   "metadata": {
    "slideshow": {
     "slide_type": "fragment"
    }
   },
   "outputs": [],
   "source": [
    "n = 10  # Number of vertices (must be even)\n",
    "p = 0.8  # Intra-block connection probability\n",
    "q = 0.2  # Inter-block connection probability\n",
    "\n",
    "block_assignments, M = build_ssbm(n, p, q)\n",
    "print(\"Block Assignments:\", block_assignments)\n",
    "print(\"Matrix M:\\n\", M)"
   ]
  },
  {
   "cell_type": "code",
   "execution_count": null,
   "id": "2e8ded4b",
   "metadata": {
    "slideshow": {
     "slide_type": "fragment"
    }
   },
   "outputs": [],
   "source": [
    "G = inhomogeneous_er_random_graph(n, M, rng)"
   ]
  },
  {
   "cell_type": "markdown",
   "id": "5dd53658",
   "metadata": {
    "slideshow": {
     "slide_type": "slide"
    },
    "tags": [
     "colab-keep"
    ]
   },
   "source": [
    "The eigenvectors and eigenvalues of the Laplacian in this case are:"
   ]
  },
  {
   "cell_type": "code",
   "execution_count": null,
   "id": "4ef0c7f6",
   "metadata": {
    "slideshow": {
     "slide_type": "fragment"
    }
   },
   "outputs": [],
   "source": [
    "L = nx.laplacian_matrix(G).toarray()\n",
    "eigenvalues, eigenvectors = LA.eigh(L)"
   ]
  },
  {
   "cell_type": "code",
   "execution_count": null,
   "id": "fd721aaa",
   "metadata": {
    "slideshow": {
     "slide_type": "fragment"
    }
   },
   "outputs": [],
   "source": [
    "print(\"Laplacian Matrix:\\n\", L)"
   ]
  },
  {
   "cell_type": "code",
   "execution_count": null,
   "id": "205453d0",
   "metadata": {
    "slideshow": {
     "slide_type": "fragment"
    }
   },
   "outputs": [],
   "source": [
    "print(\"Eigenvalues:\\n\", eigenvalues)"
   ]
  },
  {
   "cell_type": "code",
   "execution_count": null,
   "id": "2d1b77fa",
   "metadata": {
    "slideshow": {
     "slide_type": "slide"
    }
   },
   "outputs": [],
   "source": [
    "print(\"The first two eigenvectors:\\n\", eigenvectors[:,:2])"
   ]
  },
  {
   "cell_type": "markdown",
   "id": "b94a9cee",
   "metadata": {
    "slideshow": {
     "slide_type": "fragment"
    },
    "tags": [
     "colab-keep"
    ]
   },
   "source": [
    "The first eigenvalue is roughly $0$ as expected with an eigenvector which is proportional to the all-one vector. The second eigenvalue is somewhat close to the expected $q n = 0.2 \\cdot 10 = 2$ with an eigenvector that has different signs on the two blocks. This is consistent with our prediction. "
   ]
  },
  {
   "cell_type": "markdown",
   "id": "06b98ef8",
   "metadata": {
    "slideshow": {
     "slide_type": "slide"
    },
    "tags": [
     "colab-keep"
    ]
   },
   "source": [
    "The eigenvalues exhibit an interesting behavior that is common for random matrices. This is easier to see for larger $n$."
   ]
  },
  {
   "cell_type": "code",
   "execution_count": null,
   "id": "1dac9b17",
   "metadata": {
    "slideshow": {
     "slide_type": "fragment"
    }
   },
   "outputs": [],
   "source": [
    "n = 100  # Number of vertices (must be even)\n",
    "p = 0.8  # Intra-block connection probability\n",
    "q = 0.2  # Inter-block connection probability\n",
    "block_assignments, M = build_ssbm(n, p, q)\n",
    "G = inhomogeneous_er_random_graph(n, M, rng)\n",
    "L = nx.laplacian_matrix(G).toarray()\n",
    "eigenvalues, eigenvectors = LA.eigh(L)"
   ]
  },
  {
   "cell_type": "code",
   "execution_count": null,
   "id": "f5e144ce",
   "metadata": {
    "slideshow": {
     "slide_type": "slide"
    }
   },
   "outputs": [],
   "source": [
    "plt.figure(figsize=(10, 6))\n",
    "plt.hist(eigenvalues, bins=30, edgecolor='black')\n",
    "plt.title('Histogram of Eigenvalues of the Laplacian Matrix (n=100)')\n",
    "plt.xlabel('Eigenvalue')\n",
    "plt.ylabel('Frequency')\n",
    "plt.grid(True)\n",
    "plt.show()"
   ]
  },
  {
   "cell_type": "markdown",
   "id": "9de02da8",
   "metadata": {
    "slideshow": {
     "slide_type": "slide"
    },
    "tags": [
     "colab-keep"
    ]
   },
   "source": [
    "The first two eigenvalues are close to $0$ and $0.2 \\cdot 100 = 20$ as expected. The rest of the eigenvalues are centered around $ (0.2 + 0.8) 100 /2 = 50$, but they are quite spread out, with a density resembling a half-circle. This is related to [Wigner’s semicircular law](https://en.wikipedia.org/wiki/Wigner_semicircle_distribution) which plays a key role in random matrix theory. "
   ]
  },
  {
   "cell_type": "markdown",
   "id": "b39cd32d",
   "metadata": {
    "slideshow": {
     "slide_type": "skip"
    },
    "tags": [
     "colab-keep"
    ]
   },
   "source": [
    "$\\unlhd$"
   ]
  },
  {
   "cell_type": "markdown",
   "id": "61a692e6",
   "metadata": {
    "slideshow": {
     "slide_type": "fragment"
    },
    "tags": [
     "colab-keep"
    ]
   },
   "source": [
    "$\\newcommand{\\bSigma}{\\boldsymbol{\\Sigma}}$ $\\newcommand{\\bmu}{\\boldsymbol{\\mu}}$"
   ]
  },
  {
   "cell_type": "markdown",
   "id": "b3d6f187",
   "metadata": {
    "slideshow": {
     "slide_type": "slide"
    },
    "tags": [
     "colab-keep"
    ]
   },
   "source": [
    "## More advanced material: Weyl's inequality; weighted variants; image segmentation"
   ]
  },
  {
   "cell_type": "markdown",
   "id": "661f08fc",
   "metadata": {
    "slideshow": {
     "slide_type": "slide"
    },
    "tags": [
     "colab-keep"
    ]
   },
   "source": [
    "### Image segmentation"
   ]
  },
  {
   "cell_type": "markdown",
   "id": "2a42fc94",
   "metadata": {
    "slideshow": {
     "slide_type": "slide"
    },
    "tags": [
     "colab-keep"
    ]
   },
   "source": [
    "We give a different, more involved application of the ideas developed in this topic to image segmentation. Let us quote Wikipedia:\n",
    "\n",
    ">  In computer vision, image segmentation is the process of partitioning a digital image into multiple segments (sets of pixels, also known as image objects). The goal of segmentation is to simplify and/or change the representation of an image into something that is more meaningful and easier to analyze. Image segmentation is typically used to locate objects and boundaries (lines, curves, etc.) in images. More precisely, image segmentation is the process of assigning a label to every pixel in an image such that pixels with the same label share certain characteristics."
   ]
  },
  {
   "cell_type": "markdown",
   "id": "d9f86311",
   "metadata": {
    "slideshow": {
     "slide_type": "fragment"
    },
    "tags": [
     "colab-keep"
    ]
   },
   "source": [
    "Throughout, we will use the [`scikit-image`](https://scikit-image.org) library for processing images."
   ]
  },
  {
   "cell_type": "code",
   "execution_count": null,
   "id": "f20286ba",
   "metadata": {
    "slideshow": {
     "slide_type": "skip"
    }
   },
   "outputs": [],
   "source": [
    "from skimage import io, segmentation, color\n",
    "from skimage import graph\n",
    "from sklearn.cluster import KMeans"
   ]
  },
  {
   "cell_type": "markdown",
   "id": "a470173b",
   "metadata": {
    "slideshow": {
     "slide_type": "slide"
    },
    "tags": [
     "colab-keep"
    ]
   },
   "source": [
    "As an example, here is a picture of cell nuclei taken through optical microscopy as part of some medical experiment. It is taken from [here](https://www.kaggle.com/c/data-science-bowl-2018/data). Here we used the function [`skimage.io.imread`](https://scikit-image.org/docs/dev/api/skimage.io.html#skimage.io.imread) to load an image from file."
   ]
  },
  {
   "cell_type": "code",
   "execution_count": null,
   "id": "966114e0",
   "metadata": {
    "slideshow": {
     "slide_type": "fragment"
    }
   },
   "outputs": [],
   "source": [
    "img = io.imread('cell-nuclei.png')\n",
    "fig, ax = plt.subplots(figsize=(6, 6))\n",
    "ax.imshow(img)\n",
    "plt.show()"
   ]
  },
  {
   "cell_type": "markdown",
   "id": "9b25defe",
   "metadata": {
    "slideshow": {
     "slide_type": "slide"
    },
    "tags": [
     "colab-keep"
    ]
   },
   "source": [
    "Suppose that, as part of this experiment, we have a large number of such images and need to keep track of the cell nuclei in some way (maybe count how many there are, or track them from frame to frame). A natural pre-processing step is to identify the cell nuclei in the image. We use image segmentation for this purpose. \n",
    "\n",
    "We will come back to the example below. Let us start with some further examples."
   ]
  },
  {
   "cell_type": "markdown",
   "id": "ecc6f1f6",
   "metadata": {
    "slideshow": {
     "slide_type": "slide"
    },
    "tags": [
     "colab-keep"
    ]
   },
   "source": [
    "We will first work with the following [map of Wisconsin regions](https://www.dhs.wisconsin.gov/areaadmin/index.htm)."
   ]
  },
  {
   "cell_type": "code",
   "execution_count": null,
   "id": "abf1e47e",
   "metadata": {
    "slideshow": {
     "slide_type": "fragment"
    }
   },
   "outputs": [],
   "source": [
    "img = io.imread('wisconsin-regions.png')\n",
    "fig, ax = plt.subplots(figsize=(6, 6))\n",
    "ax.imshow(img)\n",
    "plt.show()"
   ]
  },
  {
   "cell_type": "markdown",
   "id": "3ef639a5",
   "metadata": {
    "slideshow": {
     "slide_type": "slide"
    },
    "tags": [
     "colab-keep"
    ]
   },
   "source": [
    "A color image such as this one is encoded as a $3$-dimensional array (or [tensor](https://en.wikipedia.org/wiki/Tensor)), meaning that it is an array with $3$ indices (unlike matrices which have only two indices). "
   ]
  },
  {
   "cell_type": "code",
   "execution_count": null,
   "id": "46f8c419",
   "metadata": {
    "slideshow": {
     "slide_type": "fragment"
    }
   },
   "outputs": [],
   "source": [
    "img.shape"
   ]
  },
  {
   "cell_type": "markdown",
   "id": "31690160",
   "metadata": {
    "slideshow": {
     "slide_type": "fragment"
    },
    "tags": [
     "colab-keep"
    ]
   },
   "source": [
    "The first two indices capture the position of a pixel. The third index capture the [RGB color model](https://en.wikipedia.org/wiki/RGB_color_model). Put differently, each pixel in the image has three numbers (between 0 and 255) attached to it that encodes its color. "
   ]
  },
  {
   "cell_type": "markdown",
   "id": "13392315",
   "metadata": {
    "slideshow": {
     "slide_type": "slide"
    },
    "tags": [
     "colab-keep"
    ]
   },
   "source": [
    "For instance, at position $(300,400)$ the RGB color is:"
   ]
  },
  {
   "cell_type": "code",
   "execution_count": null,
   "id": "4a242d36",
   "metadata": {
    "slideshow": {
     "slide_type": "fragment"
    }
   },
   "outputs": [],
   "source": [
    "img[300,400,:]"
   ]
  },
  {
   "cell_type": "code",
   "execution_count": null,
   "id": "c7621401",
   "metadata": {
    "slideshow": {
     "slide_type": "fragment"
    }
   },
   "outputs": [],
   "source": [
    "plt.imshow(np.reshape(img[300,400,:],(1,1,3)))\n",
    "plt.show()"
   ]
  },
  {
   "cell_type": "markdown",
   "id": "96c77b71",
   "metadata": {
    "slideshow": {
     "slide_type": "slide"
    },
    "tags": [
     "colab-keep"
    ]
   },
   "source": [
    "To perform image segmentation using the spectral graph theory we have developed, we transform our image into a graph. \n",
    "\n",
    "The first step is to coarsen the image by creating super-pixels, or regions of pixels that are close and have similar color. For this purpose, we will use [`skimage.segmentation.slic`](https://scikit-image.org/docs/stable/api/skimage.segmentation.html#skimage.segmentation.slic), which in essence uses $k$-means clustering on the color space to identify blobs of pixels that are in close proximity and have similar colors. It takes as imput a number of super-pixels desired (`n_segments`), a compactness parameter (`compactness`) and a smoothing parameter (`sigma`). The output is a label assignment for each pixel in the form of a $2$-dimensional array. \n",
    "\n",
    "On the choice of the parameter `compactness` via [scikit-image](https://scikit-image.org/docs/dev/api/skimage.segmentation.html#skimage.segmentation.slic):\n",
    "> Balances color proximity and space proximity. Higher values give more weight to space proximity, making superpixel shapes more square/cubic. This parameter depends strongly on image contrast and on the shapes of objects in the image. We recommend exploring possible values on a log scale, e.g., 0.01, 0.1, 1, 10, 100, before refining around a chosen value.\n",
    "\n",
    "The parameter `sigma` controls the level of [blurring](https://en.wikipedia.org/wiki/Gaussian_blur) applied to the image as a pre-processing step. In practice, experimentation is required to choose good parameters."
   ]
  },
  {
   "cell_type": "code",
   "execution_count": null,
   "id": "1457659f",
   "metadata": {
    "slideshow": {
     "slide_type": "slide"
    }
   },
   "outputs": [],
   "source": [
    "labels1 = segmentation.slic(img, \n",
    "                            compactness=25, \n",
    "                            n_segments=100, \n",
    "                            sigma=2., \n",
    "                            start_label=0)\n",
    "print(labels1)"
   ]
  },
  {
   "cell_type": "markdown",
   "id": "29a9169e",
   "metadata": {
    "slideshow": {
     "slide_type": "fragment"
    },
    "tags": [
     "colab-keep"
    ]
   },
   "source": [
    "A neat way to vizualize the super-pixels is to use the function [`skimage.color.label2rgb`](https://scikit-image.org/docs/dev/api/skimage.color.html#skimage.color.label2rgb) which takes as input an image and an array of labels. In the mode `kind='avg'`, it outputs a new image where the color of each pixel is replaced with the average color of its label (that is, the average of the RGB color over all pixels with the same label). As they say, an image is worth a thousand words - let's just see what it does. "
   ]
  },
  {
   "cell_type": "code",
   "execution_count": null,
   "id": "a26b6182",
   "metadata": {
    "slideshow": {
     "slide_type": "slide"
    }
   },
   "outputs": [],
   "source": [
    "out1 = color.label2rgb(labels1, img/255, kind='avg', bg_label=0)\n",
    "out1.shape"
   ]
  },
  {
   "cell_type": "code",
   "execution_count": null,
   "id": "36d7527a",
   "metadata": {
    "scrolled": false,
    "slideshow": {
     "slide_type": "fragment"
    }
   },
   "outputs": [],
   "source": [
    "fig, ax = plt.subplots(figsize=(6, 6))\n",
    "ax.imshow(out1)\n",
    "plt.show()"
   ]
  },
  {
   "cell_type": "markdown",
   "id": "6b6be2e7",
   "metadata": {
    "slideshow": {
     "slide_type": "slide"
    },
    "tags": [
     "colab-keep"
    ]
   },
   "source": [
    "Recall that our goal is to turn our original image into a graph. After the first step of creating super-pixels, the second step is to form a graph whose nodes are the super-pixels. Edges are added between adjacent super-pixels and a weight is given to each edge which reflects the difference in mean color between the two. \n",
    "\n",
    "We use [`skimage.graph.rag_mean_color`](https://scikit-image.org/docs/stable/api/skimage.graph.html#skimage.graph.rag_mean_color). In mode `similarity`, it uses the following weight formula (quoting the documentation):\n",
    "> The weight between two adjacent regions is exp(-d^2/sigma) where d=|c1−c2|, where c1 and c2 are the mean colors of the two regions. It represents how similar two regions are.\n",
    "\n",
    "The output, which is known as a region adjacency graph (RAG), is a `NetworkX` graph and can be manipulated using that package."
   ]
  },
  {
   "cell_type": "code",
   "execution_count": null,
   "id": "69f50763",
   "metadata": {
    "slideshow": {
     "slide_type": "slide"
    }
   },
   "outputs": [],
   "source": [
    "g = graph.rag_mean_color(img, labels1, mode='similarity')\n",
    "nx.draw(g, pos=nx.spring_layout(g))"
   ]
  },
  {
   "cell_type": "markdown",
   "id": "286c00a2",
   "metadata": {
    "slideshow": {
     "slide_type": "slide"
    },
    "tags": [
     "colab-keep"
    ]
   },
   "source": [
    "`scikit-image` also provides a more effective way of vizualizing a RAG, using the function [`skimage.future.graph.show_rag`](https://scikit-image.org/docs/dev/api/skimage.future.graph.html#skimage.future.graph.show_rag). Here the graph is super-imposed on the image and the edge weights are depicted by their color."
   ]
  },
  {
   "cell_type": "code",
   "execution_count": null,
   "id": "e01b17d3",
   "metadata": {
    "slideshow": {
     "slide_type": "fragment"
    }
   },
   "outputs": [],
   "source": [
    "fig, ax = plt.subplots(nrows=1, figsize=(6, 8))\n",
    "lc = graph.show_rag(labels1, g, img, ax=ax)\n",
    "fig.colorbar(lc, fraction=0.05, ax=ax)\n",
    "plt.show()"
   ]
  },
  {
   "cell_type": "markdown",
   "id": "08e70482",
   "metadata": {
    "slideshow": {
     "slide_type": "slide"
    },
    "tags": [
     "colab-keep"
    ]
   },
   "source": [
    "We can apply the spectral clustering techniques we have developed in this chapter. Next we compute a spectral decomposition of the weighted Laplacian and plot the eigenvalues."
   ]
  },
  {
   "cell_type": "code",
   "execution_count": null,
   "id": "b2e8b12c",
   "metadata": {
    "slideshow": {
     "slide_type": "fragment"
    }
   },
   "outputs": [],
   "source": [
    "L = nx.laplacian_matrix(g).toarray()\n",
    "print(L)"
   ]
  },
  {
   "cell_type": "code",
   "execution_count": null,
   "id": "dd22f7e8",
   "metadata": {
    "slideshow": {
     "slide_type": "slide"
    }
   },
   "outputs": [],
   "source": [
    "w, v = LA.eigh(L)\n",
    "plt.plot(np.sort(w))\n",
    "plt.show()"
   ]
  },
  {
   "cell_type": "markdown",
   "id": "06ce31c2",
   "metadata": {
    "slideshow": {
     "slide_type": "slide"
    },
    "tags": [
     "colab-keep"
    ]
   },
   "source": [
    "From the theory, this suggests that there are roughly 15 components in this graph. We project to $15$ dimensions and apply $k$-means clustering to find segments. Rather than using our own implementation, we use [`sklearn.cluster.KMeans`](https://scikit-learn.org/stable/modules/generated/sklearn.cluster.KMeans.html) from the [`scikit-learn`](https://scikit-learn.org/stable/index.html) library. That implementation uses the [$k$-means$++$](https://en.wikipedia.org/wiki/K-means%2B%2B) initialization, which is particularly effective in practice. A label assignment for each node can be accessed using `labels_`.  "
   ]
  },
  {
   "cell_type": "code",
   "execution_count": null,
   "id": "e6ffde23",
   "metadata": {
    "slideshow": {
     "slide_type": "fragment"
    }
   },
   "outputs": [],
   "source": [
    "ndims = 15 # number of dimensions to project to\n",
    "nsegs = 10 # number of segments\n",
    "\n",
    "top = np.argsort(w)[1:ndims]\n",
    "topvecs = v[:,top]\n",
    "topvals = w[top]\n",
    "\n",
    "kmeans = KMeans(n_clusters=nsegs, random_state=12345).fit(topvecs)\n",
    "assign_seg = kmeans.labels_\n",
    "print(assign_seg)"
   ]
  },
  {
   "cell_type": "markdown",
   "id": "fb7550f9",
   "metadata": {
    "slideshow": {
     "slide_type": "slide"
    },
    "tags": [
     "colab-keep"
    ]
   },
   "source": [
    "To vizualize the segmentation, we assign to each segment (i.e., collection of super-pixels) a random color. This can be done using [`skimage.color.label2rgb`](https://scikit-image.org/docs/dev/api/skimage.color.html#skimage.color.label2rgb) again, this time in mode `kind='overlay'`. First, we assign to each pixel from the original image its label under this clustering. Recall that `labels1` assigns to each pixel its super-pixel (represented by a node of the RAG), so that applying `assign_seg` element-wise to `labels1` results is assigning a cluster to each pixel. In code:"
   ]
  },
  {
   "cell_type": "code",
   "execution_count": null,
   "id": "81fe9ad5",
   "metadata": {
    "slideshow": {
     "slide_type": "fragment"
    }
   },
   "outputs": [],
   "source": [
    "labels2 = assign_seg[labels1]\n",
    "print(labels2)"
   ]
  },
  {
   "cell_type": "code",
   "execution_count": null,
   "id": "edbd65c1",
   "metadata": {
    "slideshow": {
     "slide_type": "fragment"
    }
   },
   "outputs": [],
   "source": [
    "out2 = color.label2rgb(labels2, kind='overlay', bg_label=0)\n",
    "out2.shape"
   ]
  },
  {
   "cell_type": "code",
   "execution_count": null,
   "id": "93b3c052",
   "metadata": {
    "slideshow": {
     "slide_type": "slide"
    }
   },
   "outputs": [],
   "source": [
    "fig, ax = plt.subplots(nrows=2, sharex=True, sharey=True, figsize=(16, 8))\n",
    "ax[0].imshow(img)\n",
    "ax[1].imshow(out2)\n",
    "plt.show()"
   ]
  },
  {
   "cell_type": "markdown",
   "id": "b73a8b63",
   "metadata": {
    "slideshow": {
     "slide_type": "slide"
    },
    "tags": [
     "colab-keep"
    ]
   },
   "source": [
    "As you can see, the result is reasonable but far from perfect. "
   ]
  },
  {
   "cell_type": "markdown",
   "id": "ace4f566",
   "metadata": {
    "slideshow": {
     "slide_type": "skip"
    },
    "tags": [
     "colab-keep"
    ]
   },
   "source": [
    "For ease of use, we encapsulate the main steps above in sub-routines. "
   ]
  },
  {
   "cell_type": "code",
   "execution_count": null,
   "id": "8cca5941",
   "metadata": {
    "slideshow": {
     "slide_type": "slide"
    }
   },
   "outputs": [],
   "source": [
    "def imgseg_rag(img, compactness=30, n_spixels=400, sigma=0., figsize=(10,10)):\n",
    "    labels1 = segmentation.slic(img, \n",
    "                                compactness=compactness, \n",
    "                                n_segments=n_spixels, \n",
    "                                sigma=sigma, \n",
    "                                start_label=0)\n",
    "    out1 = color.label2rgb(labels1, img/255, kind='avg', bg_label=0)\n",
    "    g = graph.rag_mean_color(img, labels1, mode='similarity')\n",
    "    fig, ax = plt.subplots(figsize=figsize)\n",
    "    ax.imshow(out1)\n",
    "    plt.show()\n",
    "    return labels1, g"
   ]
  },
  {
   "cell_type": "code",
   "execution_count": null,
   "id": "0ddf25af",
   "metadata": {
    "slideshow": {
     "slide_type": "fragment"
    }
   },
   "outputs": [],
   "source": [
    "def imgseg_eig(g):\n",
    "    L = nx.laplacian_matrix(g).toarray()\n",
    "    w, v = LA.eigh(L)\n",
    "    plt.plot(np.sort(w))\n",
    "    plt.show()\n",
    "    return w,v"
   ]
  },
  {
   "cell_type": "code",
   "execution_count": null,
   "id": "b154c620",
   "metadata": {
    "slideshow": {
     "slide_type": "slide"
    }
   },
   "outputs": [],
   "source": [
    "def imgseg_labels(w, v, n_dims=10, n_segments=5, random_state=0):\n",
    "    top = np.argsort(w)[1:n_dims]\n",
    "    topvecs = v[:,top]\n",
    "    topvals = w[top]\n",
    "    kmeans = KMeans(n_clusters=n_segments, \n",
    "                    random_state=random_state).fit(topvecs)\n",
    "    assign_seg = kmeans.labels_\n",
    "    labels2 = assign_seg[labels1]\n",
    "    return labels2"
   ]
  },
  {
   "cell_type": "code",
   "execution_count": null,
   "id": "9e5b4e24",
   "metadata": {
    "slideshow": {
     "slide_type": "fragment"
    }
   },
   "outputs": [],
   "source": [
    "def imgseg_viz(img, labels2, figsize=(20,10)):\n",
    "    out2 = color.label2rgb(labels2, kind='overlay', bg_label=0)\n",
    "    fig, ax = plt.subplots(nrows=2, sharex=True, sharey=True, figsize=figsize)\n",
    "    ax[0].imshow(img)\n",
    "    ax[1].imshow(out2)\n",
    "    plt.show()"
   ]
  },
  {
   "cell_type": "markdown",
   "id": "d420e4fc",
   "metadata": {
    "slideshow": {
     "slide_type": "slide"
    },
    "tags": [
     "colab-keep"
    ]
   },
   "source": [
    "Let's try a more complicated image. This one is taken from [here](https://www.reddit.com/r/aww/comments/169s6e/badgers_can_be_cute_too/)."
   ]
  },
  {
   "cell_type": "code",
   "execution_count": null,
   "id": "e2e36757",
   "metadata": {
    "slideshow": {
     "slide_type": "fragment"
    }
   },
   "outputs": [],
   "source": [
    "img = io.imread('two-badgers.jpg')\n",
    "fig, ax = plt.subplots(figsize=(10, 10))\n",
    "ax.imshow(img)\n",
    "plt.show()"
   ]
  },
  {
   "cell_type": "markdown",
   "id": "0c79ce65",
   "metadata": {
    "slideshow": {
     "slide_type": "slide"
    },
    "tags": [
     "colab-keep"
    ]
   },
   "source": [
    "Recall that the choice of parameters requires significant fidgeting. "
   ]
  },
  {
   "cell_type": "code",
   "execution_count": null,
   "id": "2429768e",
   "metadata": {
    "slideshow": {
     "slide_type": "fragment"
    }
   },
   "outputs": [],
   "source": [
    "labels1, g = imgseg_rag(img, \n",
    "                        compactness=30, \n",
    "                        n_spixels=1000, \n",
    "                        sigma=0., \n",
    "                        figsize=(10,10))"
   ]
  },
  {
   "cell_type": "code",
   "execution_count": null,
   "id": "a047e49a",
   "metadata": {
    "slideshow": {
     "slide_type": "slide"
    }
   },
   "outputs": [],
   "source": [
    "w, v = imgseg_eig(g)"
   ]
  },
  {
   "cell_type": "code",
   "execution_count": null,
   "id": "abc898fb",
   "metadata": {
    "slideshow": {
     "slide_type": "slide"
    }
   },
   "outputs": [],
   "source": [
    "labels2 = imgseg_labels(w, v, n_dims=60, n_segments=50, random_state=535)\n",
    "imgseg_viz(img,labels2,figsize=(20,10))"
   ]
  },
  {
   "cell_type": "markdown",
   "id": "b2a13698",
   "metadata": {
    "slideshow": {
     "slide_type": "skip"
    },
    "tags": [
     "colab-keep"
    ]
   },
   "source": [
    "Again, the results are far from perfect - but not unreasonable."
   ]
  },
  {
   "cell_type": "markdown",
   "id": "7dd1811d",
   "metadata": {
    "slideshow": {
     "slide_type": "slide"
    },
    "tags": [
     "colab-keep"
    ]
   },
   "source": [
    "Finally, we return to our medical example. We first reload the image and find super-pixels."
   ]
  },
  {
   "cell_type": "code",
   "execution_count": null,
   "id": "25b4d590",
   "metadata": {
    "slideshow": {
     "slide_type": "fragment"
    }
   },
   "outputs": [],
   "source": [
    "img = io.imread('cell-nuclei.png')\n",
    "labels1, g = imgseg_rag(img,compactness=40,n_spixels=300,sigma=0.1,figsize=(6,6))"
   ]
  },
  {
   "cell_type": "markdown",
   "id": "8177ec04",
   "metadata": {
    "slideshow": {
     "slide_type": "slide"
    },
    "tags": [
     "colab-keep"
    ]
   },
   "source": [
    "We then form the weighted Laplacian and plot its eigenvalues. This time, about $40$ dimensions seem appropriate."
   ]
  },
  {
   "cell_type": "code",
   "execution_count": null,
   "id": "b96a9c50",
   "metadata": {
    "slideshow": {
     "slide_type": "fragment"
    }
   },
   "outputs": [],
   "source": [
    "w, v = imgseg_eig(g)"
   ]
  },
  {
   "cell_type": "code",
   "execution_count": null,
   "id": "1520cde3",
   "metadata": {
    "slideshow": {
     "slide_type": "slide"
    }
   },
   "outputs": [],
   "source": [
    "labels2 = imgseg_labels(w, v, n_dims=40, n_segments=30, random_state=535)\n",
    "imgseg_viz(img,labels2,figsize=(20,10))"
   ]
  },
  {
   "cell_type": "markdown",
   "id": "85b8340e",
   "metadata": {
    "slideshow": {
     "slide_type": "slide"
    },
    "tags": [
     "colab-keep"
    ]
   },
   "source": [
    "This method is quite finicky. The choice of parameters affects the results significantly. You should see for yourself. \n",
    "\n",
    "We mention that `scikit-image` has an implementation of a closely related method, Normalized Cut, [`skimage.graph.cut_normalized`](https://scikit-image.org/docs/dev/api/skimage.graph.html#skimage.graph.cut_normalized). Rather than performing $k$-means after projection, it recursively performs $2$-way cuts on the RAG and resulting subgraphs. \n",
    "\n",
    "We try it next. The results are similar as you can see."
   ]
  },
  {
   "cell_type": "code",
   "execution_count": null,
   "id": "691b6fd7",
   "metadata": {
    "slideshow": {
     "slide_type": "slide"
    }
   },
   "outputs": [],
   "source": [
    "labels2 = graph.cut_normalized(labels1, g)\n",
    "imgseg_viz(img,labels2,figsize=(20,10))"
   ]
  },
  {
   "cell_type": "markdown",
   "id": "dd5764bb",
   "metadata": {
    "slideshow": {
     "slide_type": "skip"
    },
    "tags": [
     "colab-keep"
    ]
   },
   "source": [
    "There are many other image segmentation methods. See for example [here](https://scikit-image.org/docs/dev/api/skimage.segmentation.html#module-skimage.segmentation). "
   ]
  }
 ],
 "metadata": {
  "kernelspec": {
   "display_name": "Python 3 (ipykernel)",
   "language": "python",
   "name": "python3"
  },
  "language_info": {
   "codemirror_mode": {
    "name": "ipython",
    "version": 3
   },
   "file_extension": ".py",
   "mimetype": "text/x-python",
   "name": "python",
   "nbconvert_exporter": "python",
   "pygments_lexer": "ipython3",
   "version": "3.11.7"
  }
 },
 "nbformat": 4,
 "nbformat_minor": 5
}

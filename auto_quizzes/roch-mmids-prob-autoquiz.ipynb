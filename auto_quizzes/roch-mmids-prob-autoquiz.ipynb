{
 "cells": [
  {
   "cell_type": "markdown",
   "metadata": {
    "slideshow": {
     "slide_type": "slide"
    },
    "tags": [
     "remove-cell"
    ]
   },
   "source": [
    "***\n",
    "\n",
    "*Course:* [Math 535](https://people.math.wisc.edu/~roch/mmids/) - Mathematical Methods in Data Science (MMiDS)  \n",
    "*Chapter:* 7-Probabilistic models   \n",
    "*Author:* [Sebastien Roch](https://people.math.wisc.edu/~roch/), Department of Mathematics, University of Wisconsin-Madison  \n",
    "*Updated:* June 19, 2024   \n",
    "*Copyright:* &copy; 2024 Sebastien Roch\n",
    "\n",
    "***"
   ]
  },
  {
   "cell_type": "markdown",
   "metadata": {
    "id": "2DrwoxNutJOq"
   },
   "source": [
    "## Auto-quizzes"
   ]
  },
  {
   "cell_type": "markdown",
   "metadata": {
    "id": "W5LM12jotJOs"
   },
   "source": [
    "This notebook generates automated quizzes as well as the answers. Set the `seed` to any integer to produce unique quizzes. The questions were adapted from [Bis2] with help from ChatGPT."
   ]
  },
  {
   "cell_type": "code",
   "execution_count": null,
   "metadata": {
    "id": "b09f4787"
   },
   "outputs": [],
   "source": [
    "# Python 3\n",
    "import numpy as np\n",
    "from numpy import linalg as LA\n",
    "from numpy.random import default_rng\n",
    "import networkx as nx"
   ]
  },
  {
   "cell_type": "code",
   "execution_count": null,
   "metadata": {
    "id": "72bazlfytJOu"
   },
   "outputs": [],
   "source": [
    "# Set the `seed` to any integer\n",
    "seed = 535"
   ]
  },
  {
   "cell_type": "code",
   "execution_count": null,
   "metadata": {
    "id": "6HtWasWntJOu"
   },
   "outputs": [],
   "source": [
    "rng = default_rng(seed)"
   ]
  },
  {
   "cell_type": "markdown",
   "metadata": {
    "id": "nk-y3K34tJO2"
   },
   "source": [
    "**AQ7.1**  \n",
    "\n",
    "***\n",
    "\n",
    "*Use the following code to generate the quiz questions. You should be able to answer them by hand -- that is, without the help of numerical computation.*\n",
    "\n",
    "***"
   ]
  },
  {
   "cell_type": "markdown",
   "metadata": {
    "id": "w5qxheCRtJO2"
   },
   "source": [
    "Consider a sequence of two tokens $X_1$ and $X_2$ each of which takes values in $\\{0,1\\}$. The following matrix $P$ gives the joint probability mass function $P = (p(x_1, x_2))_{x_1, x_2}$, where $p(x_1, x_2) = \\mathbb{P}[X_1 = x_1, X_2 = x_2]$:"
   ]
  },
  {
   "cell_type": "code",
   "execution_count": null,
   "metadata": {
    "colab": {
     "base_uri": "https://localhost:8080/",
     "height": 248
    },
    "id": "ctRjQ--RtJO2",
    "outputId": "6f2ecca9-5287-4306-df85-b4bf2b124b84"
   },
   "outputs": [],
   "source": [
    "from itertools import product\n",
    "allowed_probs = np.array([0.1, 0.2, 0.3, 0.4, 0.5, 0.6, 0.7, 0.8, 0.9])\n",
    "combinations = np.array(list(product(allowed_probs, repeat=4)))\n",
    "valid_combinations = combinations[np.isclose(combinations.sum(axis=1), 1)]\n",
    "selected_probs = valid_combinations[rng.integers(len(valid_combinations))]\n",
    "P = selected_probs.reshape((2, 2))\n",
    "print(\"P=\", P)"
   ]
  },
  {
   "cell_type": "markdown",
   "metadata": {
    "id": "ftHmQf7GtJO3"
   },
   "source": [
    "(a) Compute the most probable sequence $(x_1^*, x_2^*)$. (In case of ties, List all of them.)\n",
    "\n",
    "(b) Compute the marginal distribution $(p(x_1))_{x_1}$, where $p(x_1) = \\mathbb{P}[X_1 = x_1]$. \n",
    "\n",
    "(c) Compute the conditional probability distribution $(p(x_2|x_1))_{x_1, x_2}$, where $p(x_2|x_1) = \\mathbb{P}[X_2 = x_2\\mid X_1 = x_1]$.\n",
    "\n",
    "(d) Maximize $p(x_1)$ to give a value $x_1^{**}$ (picking the lowest state in case of ties) and then subsequently maximize $p(x_2 | x_1^{**})$ to give a value $x_2^{**}$ (picking the lowest state in case of ties). Find the probability of the sequence $(x_1^{**}, x_2^{**})$."
   ]
  },
  {
   "cell_type": "markdown",
   "metadata": {
    "id": "FflVzvU8tJO3"
   },
   "source": [
    "***\n",
    "\n",
    "*Use the following code to generate the answers.*\n",
    "\n",
    "***"
   ]
  },
  {
   "cell_type": "code",
   "execution_count": null,
   "metadata": {
    "colab": {
     "base_uri": "https://localhost:8080/"
    },
    "id": "g9v3JONftJO3",
    "outputId": "4bd6328e-7c48-4599-9af4-5263a8a9a60c"
   },
   "outputs": [],
   "source": [
    "# (a)\n",
    "max_value = P.max()\n",
    "max_indices = np.argwhere(P == max_value)\n",
    "print(max_indices)"
   ]
  },
  {
   "cell_type": "code",
   "execution_count": null,
   "metadata": {
    "colab": {
     "base_uri": "https://localhost:8080/"
    },
    "id": "1i1Zdoi7tJO3",
    "outputId": "79805a58-6fc1-41c2-8060-c8abfebc827a"
   },
   "outputs": [],
   "source": [
    "# (b)\n",
    "marginal_X1 = P.sum(axis=1)\n",
    "print(marginal_X1)"
   ]
  },
  {
   "cell_type": "code",
   "execution_count": null,
   "metadata": {
    "colab": {
     "base_uri": "https://localhost:8080/"
    },
    "id": "2_QGQmpCtJO4",
    "outputId": "bdf68d34-fd50-40cc-8b1c-8ffb59b81126"
   },
   "outputs": [],
   "source": [
    "# (c)\n",
    "conditional_X2_given_X1 = P / marginal_X1[:, None]\n",
    "print(conditional_X2_given_X1)"
   ]
  },
  {
   "cell_type": "code",
   "execution_count": null,
   "metadata": {
    "colab": {
     "base_uri": "https://localhost:8080/"
    },
    "id": "BOuCgNYstJO4",
    "outputId": "c1c31097-f362-41f0-dbf0-2268a6057765"
   },
   "outputs": [],
   "source": [
    "# (d)\n",
    "x1_star_star = np.argmax(marginal_X1)\n",
    "x2_star_star = np.argmax(conditional_X2_given_X1[x1_star_star])\n",
    "joint_probability = P[x1_star_star, x2_star_star]\n",
    "print(x1_star_star)\n",
    "print(x2_star_star)\n",
    "print(joint_probability)"
   ]
  },
  {
   "cell_type": "markdown",
   "metadata": {
    "id": "Pk8URpJ6tJO4"
   },
   "source": [
    "$\\lhd$"
   ]
  }
 ],
 "metadata": {
  "celltoolbar": "Slideshow",
  "colab": {
   "provenance": []
  },
  "kernelspec": {
   "display_name": "Python 3 (ipykernel)",
   "language": "python",
   "name": "python3"
  },
  "language_info": {
   "codemirror_mode": {
    "name": "ipython",
    "version": 3
   },
   "file_extension": ".py",
   "mimetype": "text/x-python",
   "name": "python",
   "nbconvert_exporter": "python",
   "pygments_lexer": "ipython3",
   "version": "3.11.7"
  }
 },
 "nbformat": 4,
 "nbformat_minor": 1
}

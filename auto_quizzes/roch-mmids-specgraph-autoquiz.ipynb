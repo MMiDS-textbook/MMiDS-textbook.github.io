{
 "cells": [
  {
   "cell_type": "markdown",
   "metadata": {
    "slideshow": {
     "slide_type": "slide"
    },
    "tags": [
     "remove-cell"
    ]
   },
   "source": [
    "***\n",
    "\n",
    "*Course:* [Math 535](https://people.math.wisc.edu/~roch/mmids/) - Mathematical Methods in Data Science (MMiDS)  \n",
    "*Chapter:* 4-Spectral graph theory   \n",
    "*Author:* [Sebastien Roch](https://people.math.wisc.edu/~roch/), Department of Mathematics, University of Wisconsin-Madison  \n",
    "*Updated:* Jan 6, 2024   \n",
    "*Copyright:* &copy; 2024 Sebastien Roch\n",
    "\n",
    "***"
   ]
  },
  {
   "cell_type": "markdown",
   "metadata": {
    "id": "2DrwoxNutJOq"
   },
   "source": [
    "## Auto-quizzes"
   ]
  },
  {
   "cell_type": "markdown",
   "metadata": {
    "id": "W5LM12jotJOs"
   },
   "source": [
    "This notebook generates automated quizzes as well as the answers. Set the `seed` to any integer to produce unique quizzes."
   ]
  },
  {
   "cell_type": "code",
   "execution_count": null,
   "metadata": {
    "id": "b09f4787"
   },
   "outputs": [],
   "source": [
    "# Python 3\n",
    "import numpy as np\n",
    "from numpy import linalg as LA\n",
    "from numpy.random import default_rng\n",
    "import networkx as nx"
   ]
  },
  {
   "cell_type": "code",
   "execution_count": null,
   "metadata": {
    "id": "72bazlfytJOu"
   },
   "outputs": [],
   "source": [
    "# Set the `seed` to any integer\n",
    "seed=535"
   ]
  },
  {
   "cell_type": "code",
   "execution_count": null,
   "metadata": {
    "id": "6HtWasWntJOu"
   },
   "outputs": [],
   "source": [
    "rng = default_rng(seed)"
   ]
  },
  {
   "cell_type": "markdown",
   "metadata": {
    "id": "waatXWiOtJOu"
   },
   "source": [
    "**AQ4.1**  \n",
    "\n",
    "***\n",
    "\n",
    "*Use the following code to generate the quiz questions. You should be able to answer them by hand -- that is, without the help of numerical computation.*\n",
    "\n",
    "***"
   ]
  },
  {
   "cell_type": "markdown",
   "metadata": {
    "id": "ftrG3WzHtJOv"
   },
   "source": [
    "Consider the following graph $G = (V,E)$:"
   ]
  },
  {
   "cell_type": "code",
   "execution_count": null,
   "metadata": {
    "colab": {
     "base_uri": "https://localhost:8080/",
     "height": 248
    },
    "id": "14e649f6",
    "outputId": "0cb9efbb-53e6-4cf4-cd41-560483ba6e99"
   },
   "outputs": [],
   "source": [
    "n = 6\n",
    "G = nx.random_tree(n=n, seed=seed)\n",
    "nx.draw_networkx(G, pos=nx.circular_layout(G), labels={i: i+1 for i in range(n)},\n",
    "                 node_size=600, node_color=\"black\", font_size=16, font_color=\"white\")"
   ]
  },
  {
   "cell_type": "markdown",
   "metadata": {
    "id": "fU874PK4tJOx"
   },
   "source": [
    "(a) Compute the adjacency matrix $A$ of $G$.\n",
    "\n",
    "(b) Compute an oriented incidence matrix $B$ of $G$. (Orient edges from the lower-numbered node to the higher-numbered node.)\n",
    "\n",
    "(c) Compute the degree matrix $D$ of $G$.\n",
    "\n",
    "(d) Compute that Laplacian matrix $L$ of $G$."
   ]
  },
  {
   "cell_type": "markdown",
   "metadata": {
    "id": "H_AT0X0wtJOx"
   },
   "source": [
    "***\n",
    "\n",
    "*Use the following code to generate the answers.*\n",
    "\n",
    "***"
   ]
  },
  {
   "cell_type": "code",
   "execution_count": null,
   "metadata": {
    "colab": {
     "base_uri": "https://localhost:8080/"
    },
    "id": "6f3403fe",
    "outputId": "bd2cc6f6-871a-4689-d0c4-ad0892bd1b92"
   },
   "outputs": [],
   "source": [
    "# (a)\n",
    "A = nx.adjacency_matrix(G).toarray()\n",
    "print(A)"
   ]
  },
  {
   "cell_type": "code",
   "execution_count": null,
   "metadata": {
    "colab": {
     "base_uri": "https://localhost:8080/"
    },
    "id": "uMBIVNl2tJOy",
    "outputId": "3ca4d833-2594-4c78-b79b-340906f3750f"
   },
   "outputs": [],
   "source": [
    "# (b) [Note: Any permutation of the columns gives a valid answer.]\n",
    "B = nx.incidence_matrix(G, oriented=True).toarray()\n",
    "print(B)"
   ]
  },
  {
   "cell_type": "code",
   "execution_count": null,
   "metadata": {
    "colab": {
     "base_uri": "https://localhost:8080/"
    },
    "id": "jfcOdo9ntJOy",
    "outputId": "87ba7cf5-6e34-42b8-9dfa-6910f696f774"
   },
   "outputs": [],
   "source": [
    "# (c)\n",
    "D = np.diag(A @ np.ones(n))\n",
    "print(D)"
   ]
  },
  {
   "cell_type": "code",
   "execution_count": null,
   "metadata": {
    "colab": {
     "base_uri": "https://localhost:8080/"
    },
    "id": "H-MzIvWztJOz",
    "outputId": "e8c7323f-7725-4ed9-f0cf-403ecef07fba"
   },
   "outputs": [],
   "source": [
    "# (d)\n",
    "L = D - A\n",
    "print(L)"
   ]
  },
  {
   "cell_type": "markdown",
   "metadata": {
    "id": "680uoE4gtJOz"
   },
   "source": [
    "$\\lhd$"
   ]
  },
  {
   "cell_type": "markdown",
   "metadata": {
    "id": "vRwP8_YttJOz"
   },
   "source": [
    "**AQ4.2**  \n",
    "\n",
    "***\n",
    "\n",
    "*Use the following code to generate the quiz questions. You should be able to answer them by hand -- that is, without the help of numerical computation.*\n",
    "\n",
    "***"
   ]
  },
  {
   "cell_type": "markdown",
   "metadata": {
    "id": "yBqMCzy4tJO0"
   },
   "source": [
    "Consider the following graph $G = (V,E)$:"
   ]
  },
  {
   "cell_type": "code",
   "execution_count": null,
   "metadata": {
    "colab": {
     "base_uri": "https://localhost:8080/",
     "height": 248
    },
    "id": "7Un6Z3OotJO0",
    "outputId": "d2f7b450-8ac6-454b-bd16-933d19d8b5ec",
    "scrolled": true
   },
   "outputs": [],
   "source": [
    "n = 5\n",
    "p = 1/2\n",
    "G = nx.erdos_renyi_graph(n=n, p=p, seed=seed)\n",
    "nx.draw_networkx(G, pos=nx.circular_layout(G), labels={i: i+1 for i in range(n)},\n",
    "                 node_size=600, node_color=\"black\", font_size=16, font_color=\"white\")"
   ]
  },
  {
   "cell_type": "markdown",
   "metadata": {
    "id": "mBUSL4yMtJO0"
   },
   "source": [
    "and the following column vector $\\mathbf{z}$:"
   ]
  },
  {
   "cell_type": "code",
   "execution_count": null,
   "metadata": {
    "colab": {
     "base_uri": "https://localhost:8080/"
    },
    "id": "AV5DUScytJO0",
    "outputId": "287ad212-6c6f-495f-d068-90a72c8163d9"
   },
   "outputs": [],
   "source": [
    "z = rng.integers(low=-2,high=2,size=5)\n",
    "print(z)"
   ]
  },
  {
   "cell_type": "markdown",
   "metadata": {
    "id": "0yT55iBEtJO1"
   },
   "source": [
    "(a) Compute that Laplacian matrix $L$ of $G$.\n",
    "\n",
    "(b) Compute a right unit-norm eigenvector of $L$ with eigenvalue $0$.\n",
    "\n",
    "(c) Compute $\\mathbf{z}^T L \\mathbf{z}$.\n",
    "\n",
    "(d) Let $S = \\{1,2\\}$. Compute $\\phi(S)$."
   ]
  },
  {
   "cell_type": "markdown",
   "metadata": {
    "id": "y5C8JCB7tJO1"
   },
   "source": [
    "***\n",
    "\n",
    "*Use the following code to generate the answers.*\n",
    "\n",
    "***"
   ]
  },
  {
   "cell_type": "code",
   "execution_count": null,
   "metadata": {
    "colab": {
     "base_uri": "https://localhost:8080/"
    },
    "id": "70g0D1_5tJO1",
    "outputId": "d64062e3-b03c-4aca-b051-1a701fc14428"
   },
   "outputs": [],
   "source": [
    "# (a)\n",
    "L = nx.laplacian_matrix(G).toarray()\n",
    "print(L)"
   ]
  },
  {
   "cell_type": "code",
   "execution_count": null,
   "metadata": {
    "colab": {
     "base_uri": "https://localhost:8080/"
    },
    "id": "9NJ6OJ7atJO1",
    "outputId": "93cc3d1a-89c8-4e71-da6c-5ec952861e91"
   },
   "outputs": [],
   "source": [
    "# (b)\n",
    "w, v = LA.eigh(L)\n",
    "print(v[:,0])"
   ]
  },
  {
   "cell_type": "code",
   "execution_count": null,
   "metadata": {
    "colab": {
     "base_uri": "https://localhost:8080/"
    },
    "id": "uY50iysDtJO2",
    "outputId": "e8f0cebf-2420-48ba-c70e-a1ab72d485e3"
   },
   "outputs": [],
   "source": [
    "# (c)\n",
    "print(z.T @ L @ z)"
   ]
  },
  {
   "cell_type": "code",
   "execution_count": null,
   "metadata": {
    "colab": {
     "base_uri": "https://localhost:8080/"
    },
    "id": "pDDpwejntJO2",
    "outputId": "627acb3f-3895-45a6-9bda-277f75d15643"
   },
   "outputs": [],
   "source": [
    "# (d)\n",
    "edge_boundary = 0\n",
    "for i in range(2):\n",
    "    for j in range(2,5):\n",
    "        edge_boundary -= L[i,j]\n",
    "print(edge_boundary/2)"
   ]
  },
  {
   "cell_type": "markdown",
   "metadata": {
    "id": "_O0RdpjrtJO2"
   },
   "source": [
    "$\\lhd$"
   ]
  },
  {
   "cell_type": "markdown",
   "metadata": {
    "id": "nk-y3K34tJO2"
   },
   "source": [
    "**AQ4.3**  \n",
    "\n",
    "***\n",
    "\n",
    "*Use the following code to generate the quiz questions. You should be able to answer them by hand -- that is, without the help of numerical computation.*\n",
    "\n",
    "***"
   ]
  },
  {
   "cell_type": "markdown",
   "metadata": {
    "id": "w5qxheCRtJO2"
   },
   "source": [
    "Consider the following digraph $G = (V,E)$:"
   ]
  },
  {
   "cell_type": "code",
   "execution_count": null,
   "metadata": {
    "colab": {
     "base_uri": "https://localhost:8080/",
     "height": 248
    },
    "id": "ctRjQ--RtJO2",
    "outputId": "6f2ecca9-5287-4306-df85-b4bf2b124b84"
   },
   "outputs": [],
   "source": [
    "n = 5\n",
    "m = 15\n",
    "G = nx.DiGraph()\n",
    "for i in range(n):\n",
    "    G.add_node(i)\n",
    "for i in range(n):\n",
    "    G.add_edge(i,rng.integers(low=0, high=n))\n",
    "for j in range(n,m):\n",
    "    G.add_edge(rng.integers(low=0, high=n),rng.integers(low=0, high=n))\n",
    "nx.draw_networkx(G, pos=nx.circular_layout(G), \n",
    "                 labels={i: i+1 for i in range(n)}, \n",
    "                 node_size=600, node_color='black', font_size=16, font_color='white', \n",
    "                 connectionstyle='arc3, rad = 0.1')"
   ]
  },
  {
   "cell_type": "markdown",
   "metadata": {
    "id": "ftHmQf7GtJO3"
   },
   "source": [
    "(a) Compute the adjacency matrix $A$ of $G$.\n",
    "\n",
    "(b) Compute the transition matrix $P$ of random walk on $G$. \n",
    "\n",
    "(c) True or false: random walk on $G$ is irreducible.\n",
    "\n",
    "(d) True or false: random walk on $G$ is weakly lazy."
   ]
  },
  {
   "cell_type": "markdown",
   "metadata": {
    "id": "FflVzvU8tJO3"
   },
   "source": [
    "***\n",
    "\n",
    "*Use the following code to generate the answers.*\n",
    "\n",
    "***"
   ]
  },
  {
   "cell_type": "code",
   "execution_count": null,
   "metadata": {
    "colab": {
     "base_uri": "https://localhost:8080/"
    },
    "id": "g9v3JONftJO3",
    "outputId": "4bd6328e-7c48-4599-9af4-5263a8a9a60c"
   },
   "outputs": [],
   "source": [
    "# (a)\n",
    "A = nx.adjacency_matrix(G).toarray()\n",
    "print(A)"
   ]
  },
  {
   "cell_type": "code",
   "execution_count": null,
   "metadata": {
    "colab": {
     "base_uri": "https://localhost:8080/"
    },
    "id": "1i1Zdoi7tJO3",
    "outputId": "79805a58-6fc1-41c2-8060-c8abfebc827a"
   },
   "outputs": [],
   "source": [
    "# (b)\n",
    "D = np.diag(A @ np.ones(n))\n",
    "P = LA.inv(D) @ A\n",
    "print(P)"
   ]
  },
  {
   "cell_type": "code",
   "execution_count": null,
   "metadata": {
    "colab": {
     "base_uri": "https://localhost:8080/"
    },
    "id": "2_QGQmpCtJO4",
    "outputId": "bdf68d34-fd50-40cc-8b1c-8ffb59b81126"
   },
   "outputs": [],
   "source": [
    "# (c)\n",
    "nx.is_strongly_connected(G)"
   ]
  },
  {
   "cell_type": "code",
   "execution_count": null,
   "metadata": {
    "colab": {
     "base_uri": "https://localhost:8080/"
    },
    "id": "BOuCgNYstJO4",
    "outputId": "c1c31097-f362-41f0-dbf0-2268a6057765"
   },
   "outputs": [],
   "source": [
    "# (d)\n",
    "np.trace(A) == n"
   ]
  },
  {
   "cell_type": "markdown",
   "metadata": {
    "id": "Pk8URpJ6tJO4"
   },
   "source": [
    "$\\lhd$"
   ]
  }
 ],
 "metadata": {
  "celltoolbar": "Slideshow",
  "colab": {
   "provenance": []
  },
  "kernelspec": {
   "display_name": "Python 3",
   "language": "python",
   "name": "python3"
  },
  "language_info": {
   "codemirror_mode": {
    "name": "ipython",
    "version": 3
   },
   "file_extension": ".py",
   "mimetype": "text/x-python",
   "name": "python",
   "nbconvert_exporter": "python",
   "pygments_lexer": "ipython3",
   "version": "3.8.8"
  }
 },
 "nbformat": 4,
 "nbformat_minor": 1
}

{
 "cells": [
  {
   "cell_type": "markdown",
   "metadata": {
    "slideshow": {
     "slide_type": "slide"
    },
    "tags": [
     "remove-cell"
    ]
   },
   "source": [
    "***\n",
    "\n",
    "*Course:* [Math 535](https://people.math.wisc.edu/~roch/mmids/) - Mathematical Methods in Data Science (MMiDS)  \n",
    "*Chapter:* 6-Optimization theory and algorithms   \n",
    "*Author:* [Sebastien Roch](https://people.math.wisc.edu/~roch/), Department of Mathematics, University of Wisconsin-Madison  \n",
    "*Updated:* Jan 6, 2024   \n",
    "*Copyright:* &copy; 2024 Sebastien Roch\n",
    "\n",
    "***"
   ]
  },
  {
   "cell_type": "markdown",
   "metadata": {
    "id": "I2eusSsAuXkf"
   },
   "source": [
    "## Auto-quizzes"
   ]
  },
  {
   "cell_type": "markdown",
   "metadata": {
    "id": "9YIvbI9quXkh"
   },
   "source": [
    "This notebook generates automated quizzes as well as the answers. Set the `seed` to any integer to produce unique quizzes."
   ]
  },
  {
   "cell_type": "code",
   "execution_count": null,
   "metadata": {
    "id": "b09f4787"
   },
   "outputs": [],
   "source": [
    "# Python 3\n",
    "import numpy as np\n",
    "from numpy import linalg as LA\n",
    "from numpy.random import default_rng"
   ]
  },
  {
   "cell_type": "code",
   "execution_count": null,
   "metadata": {
    "id": "V_QTYzETuXkk"
   },
   "outputs": [],
   "source": [
    "# Set the `seed` to any integer\n",
    "seed=535"
   ]
  },
  {
   "cell_type": "code",
   "execution_count": null,
   "metadata": {
    "id": "Fq7naFZYuXkk"
   },
   "outputs": [],
   "source": [
    "rng = default_rng(seed)"
   ]
  },
  {
   "cell_type": "markdown",
   "metadata": {
    "id": "J7B1uK2JuXkk"
   },
   "source": [
    "**AQ6.1**  \n",
    "\n",
    "***\n",
    "\n",
    "*Use the following code to generate the quiz questions.*\n",
    "\n",
    "***"
   ]
  },
  {
   "cell_type": "markdown",
   "metadata": {
    "id": "cEmnH9YyuXkl"
   },
   "source": [
    "Consider the least-squares objective function\n",
    "\n",
    "$$\n",
    "f(\\mathbf{x}) = \\|A \\mathbf{x} - \\mathbf{b}\\|_2^2,\n",
    "$$\n",
    "\n",
    "with the following matrix $A$:"
   ]
  },
  {
   "cell_type": "code",
   "execution_count": null,
   "metadata": {
    "id": "_R-cXx-WuXkl"
   },
   "outputs": [],
   "source": [
    "A = np.sign(2 * rng.random(size=(3,2)) - 1)\n",
    "i = rng.integers(low=1,high=3,size=1)\n",
    "A[i,0] = 0\n",
    "print(A)"
   ]
  },
  {
   "cell_type": "markdown",
   "metadata": {
    "id": "60wH6GAquXkm"
   },
   "source": [
    "and the following column vector $\\mathbf{b}$:"
   ]
  },
  {
   "cell_type": "code",
   "execution_count": null,
   "metadata": {
    "id": "RBWGECWDuXkn"
   },
   "outputs": [],
   "source": [
    "b = np.zeros(3)\n",
    "b[0] = -2\n",
    "print(b)"
   ]
  },
  {
   "cell_type": "markdown",
   "metadata": {
    "id": "3WqT_Rq1uXkn"
   },
   "source": [
    "(a) What is the rank of $A$?\n",
    "\n",
    "(b) Compute the gradient and Hessian of $f$ at $\\mathbf{x}^0 = \\mathbf{0}$.\n",
    "\n",
    "(c) Perform one step of gradient descent from $\\mathbf{x}^0 = \\mathbf{0}$ with stepsize $1/2$.\n",
    "\n",
    "(d) Compute the stationary points of $f$."
   ]
  },
  {
   "cell_type": "markdown",
   "metadata": {
    "id": "prkdcY0uuXko"
   },
   "source": [
    "***\n",
    "\n",
    "*Use the following code to generate the answers.*\n",
    "\n",
    "***"
   ]
  },
  {
   "cell_type": "code",
   "execution_count": null,
   "metadata": {
    "id": "wTAybYu5uXko"
   },
   "outputs": [],
   "source": [
    "# (a)\n",
    "LA.matrix_rank(A)"
   ]
  },
  {
   "cell_type": "code",
   "execution_count": null,
   "metadata": {
    "id": "BqfiAoUUuXkp"
   },
   "outputs": [],
   "source": [
    "# (b) \n",
    "P = 2 * A.T @ A\n",
    "q = - 2 * A.T @ b\n",
    "r = LA.norm(b) ** 2\n",
    "x0 = np.zeros(2)\n",
    "gradient = P @ x0 + q\n",
    "print(gradient)"
   ]
  },
  {
   "cell_type": "code",
   "execution_count": null,
   "metadata": {
    "id": "rF1n_nYouXkp"
   },
   "outputs": [],
   "source": [
    "hessian = P\n",
    "print(hessian)"
   ]
  },
  {
   "cell_type": "code",
   "execution_count": null,
   "metadata": {
    "id": "PpHzl-qYuXkq"
   },
   "outputs": [],
   "source": [
    "# (c)\n",
    "stepsize = 1/2\n",
    "x1 = x0 - stepsize * gradient\n",
    "print(x1)"
   ]
  },
  {
   "cell_type": "code",
   "execution_count": null,
   "metadata": {
    "id": "T93yatBmuXkq"
   },
   "outputs": [],
   "source": [
    "# (d) \n",
    "xstar = LA.solve(P, -q)\n",
    "print(xstar)"
   ]
  },
  {
   "cell_type": "markdown",
   "metadata": {
    "id": "vO9UibfZuXkr"
   },
   "source": [
    "$\\lhd$"
   ]
  },
  {
   "cell_type": "markdown",
   "metadata": {
    "id": "Dj1-OUANuXkr"
   },
   "source": [
    "**AQ6.2**  \n",
    "\n",
    "***\n",
    "\n",
    "*Use the following code to generate the quiz questions.*\n",
    "\n",
    "***"
   ]
  },
  {
   "cell_type": "markdown",
   "metadata": {
    "id": "qUn_as5FuXkr"
   },
   "source": [
    "Consider the following function:\n",
    "\n",
    "$$\n",
    "f(\\mathbf{x}) = x_1^{a_1} x_2^{a_2} x_3^{a_3} + x_4^{a_4} x_5^{a_5} x_6^{a_6},\n",
    "$$\n",
    "\n",
    "where $\\mathbf{x} = (x_1,\\ldots,x_6)$ and $\\mathbf{a} = (a_1,\\ldots,a_6)$ are column vectors. Note that $\\mathbf{x}$ is the variable in $f$ while $\\mathbf{a}$ is a fixed parameter vector defined by:"
   ]
  },
  {
   "cell_type": "code",
   "execution_count": null,
   "metadata": {
    "id": "Omya-KeZuXks"
   },
   "outputs": [],
   "source": [
    "a = np.ones(6)\n",
    "i = rng.integers(low=0,high=3,size=1)\n",
    "j = rng.integers(low=3,high=6,size=1)\n",
    "a[i] = 2 * rng.integers(low=1,high=4,size=1)\n",
    "a[j] = 2 * rng.integers(low=1,high=4,size=1)\n",
    "print(a)"
   ]
  },
  {
   "cell_type": "markdown",
   "metadata": {
    "id": "HJiCuV6LuXks"
   },
   "source": [
    "Consider also the following column vector $\\mathbf{p}$:"
   ]
  },
  {
   "cell_type": "code",
   "execution_count": null,
   "metadata": {
    "id": "fF7mYsxSuXkt"
   },
   "outputs": [],
   "source": [
    "p = (-1) * np.ones(6)\n",
    "print(p)"
   ]
  },
  {
   "cell_type": "markdown",
   "metadata": {
    "id": "gxyAcJsQuXkt"
   },
   "source": [
    "(a) Compute the gradient of $f$ at $\\mathbf{x} = \\mathbf{p}$.\n",
    "\n",
    "(b) Compute the Hessian of $f$ at $\\mathbf{x} = \\mathbf{p}$.\n",
    "\n",
    "(c) Perform one step of gradient descent from $\\mathbf{x}^0 = \\mathbf{p}$ with stepsize $1/2$.\n",
    "\n",
    "(d) Let $h(z) = -\\log z$ for $z \\in \\mathbb{R}$. Use the *Chain rule* to compute the gradient of $h(f(\\mathbf{x}))$ at $\\mathbf{x} = \\mathbf{p}$."
   ]
  },
  {
   "cell_type": "markdown",
   "metadata": {
    "id": "rdL2D_tNuXku"
   },
   "source": [
    "***\n",
    "\n",
    "*Use the following code to generate the answers.*\n",
    "\n",
    "***"
   ]
  },
  {
   "cell_type": "code",
   "execution_count": null,
   "metadata": {
    "id": "P9KUPs0HuXku"
   },
   "outputs": [],
   "source": [
    "# (a)\n",
    "gradient = np.zeros(6)\n",
    "for k in range(3):\n",
    "    if (k == i):\n",
    "        gradient[k] = a[k] * ((-1) ** (a[k]-1))\n",
    "    else:\n",
    "        gradient[k] = - ((-1) ** a[i])\n",
    "for k in range(3,6):\n",
    "    if (k == j):\n",
    "        gradient[k] = a[k] * ((-1) ** (a[k]-1))\n",
    "    else:\n",
    "        gradient[k] = - ((-1) ** a[j])\n",
    "print(gradient)"
   ]
  },
  {
   "cell_type": "code",
   "execution_count": null,
   "metadata": {
    "id": "Bq7rvIhFuXku"
   },
   "outputs": [],
   "source": [
    "# (b) \n",
    "hessian = np.zeros((6,6))\n",
    "for k in range(3):\n",
    "    for l in range(k+1,3):\n",
    "        if (k == i) or (l == i):\n",
    "                hessian[k,l] = - a[i] * ((-1) ** (a[i]-1))\n",
    "        else:            \n",
    "                hessian[k,l] = (-1) ** a[k]\n",
    "for k in range(3,6):\n",
    "    for l in range(k+1,6):\n",
    "        if (k == j) or (l == j):\n",
    "                hessian[k,l] = - a[j] * ((-1) ** (a[j]-1))\n",
    "        else:            \n",
    "                hessian[k,l] = (-1) ** a[k]\n",
    "hessian += hessian.T\n",
    "for k in range(6):\n",
    "    if (k == i) or (k == j):\n",
    "        hessian[k,k] = a[k] * (a[k]-1) * ((-1) ** (a[k]-2))\n",
    "print(hessian)"
   ]
  },
  {
   "cell_type": "code",
   "execution_count": null,
   "metadata": {
    "id": "jGXpbBHkuXkv"
   },
   "outputs": [],
   "source": [
    "# (c)\n",
    "x0 = p\n",
    "stepsize = 1/2\n",
    "x1 = x0 - stepsize * gradient\n",
    "print(x1)"
   ]
  },
  {
   "cell_type": "code",
   "execution_count": null,
   "metadata": {
    "id": "9M596Dj8uXkv"
   },
   "outputs": [],
   "source": [
    "# (d) \n",
    "f = (-1) ** a[i] + (-1) ** a[j]\n",
    "gradient_comp = - (1/f) * gradient\n",
    "print(gradient_comp)"
   ]
  },
  {
   "cell_type": "markdown",
   "metadata": {
    "id": "ea2uqS9CuXkv"
   },
   "source": [
    "$\\lhd$"
   ]
  },
  {
   "cell_type": "markdown",
   "metadata": {
    "id": "Q7lDe1vDuXkw"
   },
   "source": [
    "**AQ6.3**  \n",
    "\n",
    "***\n",
    "\n",
    "*Use the following code to generate the quiz questions.*\n",
    "\n",
    "***"
   ]
  },
  {
   "cell_type": "markdown",
   "metadata": {
    "id": "3_l1xxGIuXkw"
   },
   "source": [
    "Consider the following matrix $A$:"
   ]
  },
  {
   "cell_type": "code",
   "execution_count": null,
   "metadata": {
    "id": "5AT4OopquXkw"
   },
   "outputs": [],
   "source": [
    "A = rng.integers(low=1,high=4,size=(2,4))\n",
    "S = np.sign(2 * rng.random(size=(2,4)) - 1)\n",
    "A = A * S\n",
    "print(A)"
   ]
  },
  {
   "cell_type": "markdown",
   "metadata": {
    "id": "qJubV_HnuXkw"
   },
   "source": [
    "and denote its columns by $\\mathbf{a}_1,\\ldots,\\mathbf{a}_4$. Define $B_1 = \\mathbf{a}_1 \\otimes \\mathbf{a}_2^T$ and $B_2= \\mathbf{a}_3 \\otimes \\mathbf{a}_4^T$."
   ]
  },
  {
   "cell_type": "markdown",
   "metadata": {
    "id": "lVomhaMzuXkw"
   },
   "source": [
    "(a) Compute $O = B_1 \\odot B_2$.\n",
    "\n",
    "(b) Compute $X = B_1 \\otimes B_2$.\n",
    "\n",
    "(c) Compute $\\mathrm{rk}(O)$.\n",
    "\n",
    "(d) Compute $\\mathrm{rk}(X)$."
   ]
  },
  {
   "cell_type": "markdown",
   "metadata": {
    "id": "-kL165lJuXkw"
   },
   "source": [
    "***\n",
    "\n",
    "*Use the following code to generate the answers.*\n",
    "\n",
    "***"
   ]
  },
  {
   "cell_type": "code",
   "execution_count": null,
   "metadata": {
    "id": "DTUicywtuXkx"
   },
   "outputs": [],
   "source": [
    "# (a)\n",
    "B1 = np.outer(A[:,0],A[:,1])\n",
    "B2 = np.outer(A[:,2],A[:,3])\n",
    "O = B1 * B2\n",
    "print(O)"
   ]
  },
  {
   "cell_type": "code",
   "execution_count": null,
   "metadata": {
    "id": "h8SlGC62uXkx"
   },
   "outputs": [],
   "source": [
    "# (b)\n",
    "X = np.kron(B1,B2)\n",
    "print(X)"
   ]
  },
  {
   "cell_type": "code",
   "execution_count": null,
   "metadata": {
    "id": "u5ah3VV-uXkx"
   },
   "outputs": [],
   "source": [
    "# (c)\n",
    "LA.matrix_rank(O)"
   ]
  },
  {
   "cell_type": "code",
   "execution_count": null,
   "metadata": {
    "id": "S7Wgu3oduXky"
   },
   "outputs": [],
   "source": [
    "# (d)\n",
    "LA.matrix_rank(X)"
   ]
  },
  {
   "cell_type": "markdown",
   "metadata": {
    "id": "8pjFrLP_uXky"
   },
   "source": [
    "$\\lhd$"
   ]
  }
 ],
 "metadata": {
  "celltoolbar": "Slideshow",
  "colab": {
   "provenance": []
  },
  "kernelspec": {
   "display_name": "Python 3",
   "language": "python",
   "name": "python3"
  },
  "language_info": {
   "codemirror_mode": {
    "name": "ipython",
    "version": 3
   },
   "file_extension": ".py",
   "mimetype": "text/x-python",
   "name": "python",
   "nbconvert_exporter": "python",
   "pygments_lexer": "ipython3",
   "version": "3.8.8"
  }
 },
 "nbformat": 4,
 "nbformat_minor": 1
}

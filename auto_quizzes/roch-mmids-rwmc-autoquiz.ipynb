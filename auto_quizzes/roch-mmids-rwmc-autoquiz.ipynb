{
 "cells": [
  {
   "cell_type": "markdown",
   "metadata": {
    "slideshow": {
     "slide_type": "slide"
    },
    "tags": [
     "remove-cell"
    ]
   },
   "source": [
    "***\n",
    "\n",
    "*Course:* [Math 535](https://people.math.wisc.edu/~roch/mmids/) - Mathematical Methods in Data Science (MMiDS)  \n",
    "*Chapter:* 6-Random walks on graphs and Markov chains   \n",
    "*Author:* [Sebastien Roch](https://people.math.wisc.edu/~roch/), Department of Mathematics, University of Wisconsin-Madison  \n",
    "*Updated:* May 31, 2024   \n",
    "*Copyright:* &copy; 2024 Sebastien Roch\n",
    "\n",
    "***"
   ]
  },
  {
   "cell_type": "markdown",
   "metadata": {
    "id": "2DrwoxNutJOq"
   },
   "source": [
    "## Auto-quizzes"
   ]
  },
  {
   "cell_type": "markdown",
   "metadata": {
    "id": "W5LM12jotJOs"
   },
   "source": [
    "This notebook generates automated quizzes as well as the answers. Set the `seed` to any integer to produce unique quizzes."
   ]
  },
  {
   "cell_type": "code",
   "execution_count": null,
   "metadata": {
    "id": "b09f4787"
   },
   "outputs": [],
   "source": [
    "# Python 3\n",
    "import numpy as np\n",
    "from numpy import linalg as LA\n",
    "from numpy.random import default_rng\n",
    "import networkx as nx"
   ]
  },
  {
   "cell_type": "code",
   "execution_count": null,
   "metadata": {
    "id": "72bazlfytJOu"
   },
   "outputs": [],
   "source": [
    "# Set the `seed` to any integer\n",
    "seed=535"
   ]
  },
  {
   "cell_type": "code",
   "execution_count": null,
   "metadata": {
    "id": "6HtWasWntJOu"
   },
   "outputs": [],
   "source": [
    "rng = default_rng(seed)"
   ]
  },
  {
   "cell_type": "markdown",
   "metadata": {
    "id": "nk-y3K34tJO2"
   },
   "source": [
    "**AQ6.1**  \n",
    "\n",
    "***\n",
    "\n",
    "*Use the following code to generate the quiz questions. You should be able to answer them by hand -- that is, without the help of numerical computation.*\n",
    "\n",
    "***"
   ]
  },
  {
   "cell_type": "markdown",
   "metadata": {
    "id": "w5qxheCRtJO2"
   },
   "source": [
    "Consider the following digraph $G = (V,E)$:"
   ]
  },
  {
   "cell_type": "code",
   "execution_count": null,
   "metadata": {
    "colab": {
     "base_uri": "https://localhost:8080/",
     "height": 248
    },
    "id": "ctRjQ--RtJO2",
    "outputId": "6f2ecca9-5287-4306-df85-b4bf2b124b84"
   },
   "outputs": [],
   "source": [
    "n = 5\n",
    "m = 15\n",
    "G = nx.DiGraph()\n",
    "for i in range(n):\n",
    "    G.add_node(i)\n",
    "for i in range(n):\n",
    "    G.add_edge(i,rng.integers(low=0, high=n))\n",
    "for j in range(n,m):\n",
    "    G.add_edge(rng.integers(low=0, high=n),rng.integers(low=0, high=n))\n",
    "nx.draw_networkx(G, pos=nx.circular_layout(G), \n",
    "                 labels={i: i+1 for i in range(n)}, \n",
    "                 node_size=600, node_color='black', font_size=16, font_color='white', \n",
    "                 connectionstyle='arc3, rad = 0.1')"
   ]
  },
  {
   "cell_type": "markdown",
   "metadata": {
    "id": "ftHmQf7GtJO3"
   },
   "source": [
    "(a) Compute the adjacency matrix $A$ of $G$.\n",
    "\n",
    "(b) Compute the transition matrix $P$ of random walk on $G$. \n",
    "\n",
    "(c) True or false: random walk on $G$ is irreducible.\n",
    "\n",
    "(d) True or false: random walk on $G$ is weakly lazy."
   ]
  },
  {
   "cell_type": "markdown",
   "metadata": {
    "id": "FflVzvU8tJO3"
   },
   "source": [
    "***\n",
    "\n",
    "*Use the following code to generate the answers.*\n",
    "\n",
    "***"
   ]
  },
  {
   "cell_type": "code",
   "execution_count": null,
   "metadata": {
    "colab": {
     "base_uri": "https://localhost:8080/"
    },
    "id": "g9v3JONftJO3",
    "outputId": "4bd6328e-7c48-4599-9af4-5263a8a9a60c"
   },
   "outputs": [],
   "source": [
    "# (a)\n",
    "A = nx.adjacency_matrix(G).toarray()\n",
    "print(A)"
   ]
  },
  {
   "cell_type": "code",
   "execution_count": null,
   "metadata": {
    "colab": {
     "base_uri": "https://localhost:8080/"
    },
    "id": "1i1Zdoi7tJO3",
    "outputId": "79805a58-6fc1-41c2-8060-c8abfebc827a"
   },
   "outputs": [],
   "source": [
    "# (b)\n",
    "D = np.diag(A @ np.ones(n))\n",
    "P = LA.inv(D) @ A\n",
    "print(P)"
   ]
  },
  {
   "cell_type": "code",
   "execution_count": null,
   "metadata": {
    "colab": {
     "base_uri": "https://localhost:8080/"
    },
    "id": "2_QGQmpCtJO4",
    "outputId": "bdf68d34-fd50-40cc-8b1c-8ffb59b81126"
   },
   "outputs": [],
   "source": [
    "# (c)\n",
    "nx.is_strongly_connected(G)"
   ]
  },
  {
   "cell_type": "code",
   "execution_count": null,
   "metadata": {
    "colab": {
     "base_uri": "https://localhost:8080/"
    },
    "id": "BOuCgNYstJO4",
    "outputId": "c1c31097-f362-41f0-dbf0-2268a6057765"
   },
   "outputs": [],
   "source": [
    "# (d)\n",
    "np.trace(A) == n"
   ]
  },
  {
   "cell_type": "markdown",
   "metadata": {
    "id": "Pk8URpJ6tJO4"
   },
   "source": [
    "$\\lhd$"
   ]
  }
 ],
 "metadata": {
  "celltoolbar": "Slideshow",
  "colab": {
   "provenance": []
  },
  "kernelspec": {
   "display_name": "Python 3 (ipykernel)",
   "language": "python",
   "name": "python3"
  },
  "language_info": {
   "codemirror_mode": {
    "name": "ipython",
    "version": 3
   },
   "file_extension": ".py",
   "mimetype": "text/x-python",
   "name": "python",
   "nbconvert_exporter": "python",
   "pygments_lexer": "ipython3",
   "version": "3.11.7"
  }
 },
 "nbformat": 4,
 "nbformat_minor": 1
}

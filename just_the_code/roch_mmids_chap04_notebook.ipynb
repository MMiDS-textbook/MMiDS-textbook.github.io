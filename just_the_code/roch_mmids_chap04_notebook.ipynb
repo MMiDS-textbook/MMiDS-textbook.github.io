{
 "cells": [
  {
   "cell_type": "markdown",
   "id": "b51b0d42",
   "metadata": {
    "slideshow": {
     "slide_type": "slide"
    },
    "tags": [
     "remove-cell",
     "colab-keep"
    ]
   },
   "source": [
    "***\n",
    "\n",
    "*Course:* [Math 535](https://people.math.wisc.edu/~roch/mmids/) - Mathematical Methods in Data Science (MMiDS)  \n",
    "*Chapter:* 4-Spectral graph theory   \n",
    "*Author:* [Sebastien Roch](https://people.math.wisc.edu/~roch/), Department of Mathematics, University of Wisconsin-Madison  \n",
    "*Updated:* Jan 6, 2024   \n",
    "*Copyright:* &copy; 2024 Sebastien Roch\n",
    "\n",
    "***"
   ]
  },
  {
   "cell_type": "code",
   "execution_count": null,
   "id": "56212c5c",
   "metadata": {
    "slideshow": {
     "slide_type": "skip"
    },
    "tags": [
     "remove-cell"
    ]
   },
   "outputs": [],
   "source": [
    "# IF RUNNING ON GOOGLE COLAB, UNCOMMENT THE FOLLOWING CODE CELL\n",
    "# When prompted, upload: \n",
    "#     * mmids.py\n",
    "# from your local file system\n",
    "# Files at: https://github.com/MMiDS-textbook/MMiDS-textbook.github.io/tree/main/utils\n",
    "# Alternative instructions: https://colab.research.google.com/notebooks/io.ipynb"
   ]
  },
  {
   "cell_type": "code",
   "execution_count": null,
   "id": "54d0a397",
   "metadata": {
    "slideshow": {
     "slide_type": "skip"
    },
    "tags": [
     "remove-cell",
     "colab-uncomment"
    ]
   },
   "outputs": [],
   "source": [
    "from google.colab import files\n",
    "\n",
    "uploaded = files.upload()\n",
    "\n",
    "for fn in uploaded.keys():\n",
    "    print('User uploaded file \"{name}\" with length {length} bytes'.format(\n",
    "      name=fn, length=len(uploaded[fn])))"
   ]
  },
  {
   "cell_type": "code",
   "execution_count": null,
   "id": "0df725cb",
   "metadata": {
    "slideshow": {
     "slide_type": "skip"
    },
    "tags": [
     "remove-cell"
    ]
   },
   "outputs": [],
   "source": [
    "# PYTHON 3\n",
    "import numpy as np\n",
    "from numpy import linalg as LA\n",
    "from numpy.random import default_rng\n",
    "rng = default_rng(535)\n",
    "import matplotlib.pyplot as plt\n",
    "import pandas as pd\n",
    "import networkx as nx\n",
    "import mmids"
   ]
  },
  {
   "cell_type": "markdown",
   "id": "8a8e0400",
   "metadata": {
    "slideshow": {
     "slide_type": "slide"
    },
    "tags": [
     "colab-keep"
    ]
   },
   "source": [
    "## Motivating example: finding communities"
   ]
  },
  {
   "cell_type": "markdown",
   "id": "b1428efd",
   "metadata": {
    "slideshow": {
     "slide_type": "slide"
    },
    "tags": [
     "colab-keep"
    ]
   },
   "source": [
    "In this chapter, we analyze datasets in the form of networks. As motivation, we first look at the [Karate Club dataset](https://en.wikipedia.org/wiki/Zachary%27s_karate_club). "
   ]
  },
  {
   "cell_type": "markdown",
   "id": "d62e3e68",
   "metadata": {
    "slideshow": {
     "slide_type": "fragment"
    },
    "tags": [
     "colab-keep"
    ]
   },
   "source": [
    "From [Wikipedia](https://en.wikipedia.org/wiki/Zachary%27s_karate_club):\n",
    "> A social network of a karate club was studied by Wayne W. Zachary for a period of three years from 1970 to 1972. The network captures 34 members of a karate club, documenting links between pairs of members who interacted outside the club. During the study a conflict arose between the administrator \"John A\" and instructor \"Mr. Hi\" (pseudonyms), which led to the split of the club into two. Half of the members formed a new club around Mr. Hi; members from the other part found a new instructor or gave up karate. Based on collected data Zachary correctly assigned all but one member of the club to the groups they actually joined after the split."
   ]
  },
  {
   "cell_type": "markdown",
   "id": "fde2760a",
   "metadata": {
    "slideshow": {
     "slide_type": "slide"
    },
    "tags": [
     "colab-keep"
    ]
   },
   "source": [
    "![Karate club network](https://upload.wikimedia.org/wikipedia/commons/thumb/0/0d/Social_Network_Model_of_Relationships_in_the_Karate_Club.png/480px-Social_Network_Model_of_Relationships_in_the_Karate_Club.png)\n",
    "\n",
    "**Figure:** Karate Club network ([Source](https://commons.wikimedia.org/wiki/File:Social_Network_Model_of_Relationships_in_the_Karate_Club.png))"
   ]
  },
  {
   "cell_type": "markdown",
   "id": "e6021cc7",
   "metadata": {
    "slideshow": {
     "slide_type": "slide"
    },
    "tags": [
     "colab-keep"
    ]
   },
   "source": [
    "We use the [`NetworkX`](https://networkx.org) package to load the data and vizualize it. We will say more about it later in this chapter. In the meantime, there is a good tutorial [here](https://networkx.org/documentation/stable/tutorial.html)."
   ]
  },
  {
   "cell_type": "code",
   "execution_count": null,
   "id": "c4fbf0a4",
   "metadata": {
    "slideshow": {
     "slide_type": "fragment"
    }
   },
   "outputs": [],
   "source": [
    "import networkx as nx"
   ]
  },
  {
   "cell_type": "code",
   "execution_count": null,
   "id": "680471ee",
   "metadata": {
    "slideshow": {
     "slide_type": "fragment"
    }
   },
   "outputs": [],
   "source": [
    "G = nx.karate_club_graph()\n",
    "nx.draw_networkx(G)"
   ]
  },
  {
   "cell_type": "markdown",
   "id": "c246bc79",
   "metadata": {
    "slideshow": {
     "slide_type": "slide"
    },
    "tags": [
     "colab-keep"
    ]
   },
   "source": [
    "Our goal: \n",
    "\n",
    "> identify natural sub-communities in the network \n",
    "\n",
    "That is, we want to find groups of nodes that have many links between them, but relatively few with the other nodes. \n",
    "\n",
    "It will turn out that the eigenvectors of the Laplacian matrix, a matrix naturally associated to the graph, contain useful information about such communities."
   ]
  },
  {
   "cell_type": "markdown",
   "id": "74dab8f4",
   "metadata": {
    "slideshow": {
     "slide_type": "slide"
    },
    "tags": [
     "colab-keep"
    ]
   },
   "source": [
    "## Background: review of graphs and associated matrices"
   ]
  },
  {
   "cell_type": "markdown",
   "id": "02cd6795",
   "metadata": {
    "slideshow": {
     "slide_type": "slide"
    },
    "tags": [
     "colab-keep"
    ]
   },
   "source": [
    "**NUMERICAL CORNER:** In Python, the [`NetworkX`](https://networkx.org) package provides many functionalities for defining, modifying and plotting graphs. For instance, many standard graphs can be defined conveniently. The [`petersen_graph()`](https://networkx.org/documentation/stable/reference/generated/networkx.generators.small.petersen_graph.html#networkx.generators.small.petersen_graph) function defines the Petersen graph."
   ]
  },
  {
   "cell_type": "code",
   "execution_count": null,
   "id": "3470d956",
   "metadata": {
    "slideshow": {
     "slide_type": "fragment"
    }
   },
   "outputs": [],
   "source": [
    "import networkx as nx"
   ]
  },
  {
   "cell_type": "code",
   "execution_count": null,
   "id": "9a755664",
   "metadata": {
    "slideshow": {
     "slide_type": "fragment"
    }
   },
   "outputs": [],
   "source": [
    "G = nx.petersen_graph()"
   ]
  },
  {
   "cell_type": "markdown",
   "id": "58cfad41",
   "metadata": {
    "slideshow": {
     "slide_type": "slide"
    },
    "tags": [
     "colab-keep"
    ]
   },
   "source": [
    "This graph can be plotted using the function [`draw_networkx()`](https://networkx.org/documentation/networkx-1.7/reference/generated/networkx.drawing.nx_pylab.draw_networkx.html)."
   ]
  },
  {
   "cell_type": "code",
   "execution_count": null,
   "id": "fedfbaa5",
   "metadata": {
    "slideshow": {
     "slide_type": "fragment"
    }
   },
   "outputs": [],
   "source": [
    "nx.draw_networkx(G, node_size=600, node_color='black', font_size=16, font_color='white')"
   ]
  },
  {
   "cell_type": "markdown",
   "id": "9437bf8e",
   "metadata": {
    "slideshow": {
     "slide_type": "slide"
    },
    "tags": [
     "colab-keep"
    ]
   },
   "source": [
    "Other standard graphs can be generated with special functions, e.g. complete graphs using [`complete_graph()`](https://networkx.org/documentation/stable/reference/generated/networkx.generators.classic.complete_graph.html#networkx.generators.classic.complete_graph). See [here](https://networkx.org/documentation/stable/reference/generators.html#module-networkx.generators.classic) for a complete list."
   ]
  },
  {
   "cell_type": "code",
   "execution_count": null,
   "id": "0e98d64f",
   "metadata": {
    "slideshow": {
     "slide_type": "fragment"
    }
   },
   "outputs": [],
   "source": [
    "G = nx.complete_graph(3)"
   ]
  },
  {
   "cell_type": "code",
   "execution_count": null,
   "id": "983f40e7",
   "metadata": {
    "slideshow": {
     "slide_type": "fragment"
    }
   },
   "outputs": [],
   "source": [
    "nx.draw_networkx(G, node_size=600, node_color='black', font_size=16, font_color='white')"
   ]
  },
  {
   "cell_type": "markdown",
   "id": "75366e20",
   "metadata": {
    "slideshow": {
     "slide_type": "slide"
    },
    "tags": [
     "colab-keep"
    ]
   },
   "source": [
    "See [here](https://networkx.org/documentation/stable/reference/functions.html) and [here](https://networkx.org/documentation/stable/reference/algorithms/index.html) for a list of functions to access various properties of a graph. Here are a few examples:"
   ]
  },
  {
   "cell_type": "code",
   "execution_count": null,
   "id": "44051894",
   "metadata": {
    "slideshow": {
     "slide_type": "fragment"
    }
   },
   "outputs": [],
   "source": [
    "G = nx.path_graph(10)"
   ]
  },
  {
   "cell_type": "code",
   "execution_count": null,
   "id": "555b5a30",
   "metadata": {
    "slideshow": {
     "slide_type": "fragment"
    }
   },
   "outputs": [],
   "source": [
    "nx.draw_networkx(G, node_size=600, node_color='black', font_size=16, font_color='white')"
   ]
  },
  {
   "cell_type": "code",
   "execution_count": null,
   "id": "d9b1048e",
   "metadata": {
    "slideshow": {
     "slide_type": "slide"
    }
   },
   "outputs": [],
   "source": [
    "G.number_of_nodes() # number of nodes"
   ]
  },
  {
   "cell_type": "code",
   "execution_count": null,
   "id": "5d6cb5f6",
   "metadata": {
    "slideshow": {
     "slide_type": "fragment"
    }
   },
   "outputs": [],
   "source": [
    "G.number_of_edges() # number of edges"
   ]
  },
  {
   "cell_type": "code",
   "execution_count": null,
   "id": "5b4afe25",
   "metadata": {
    "slideshow": {
     "slide_type": "skip"
    }
   },
   "outputs": [],
   "source": [
    "G.has_node(7) # checks whether the graph has a particular vertex"
   ]
  },
  {
   "cell_type": "code",
   "execution_count": null,
   "id": "3820ae36",
   "metadata": {
    "slideshow": {
     "slide_type": "skip"
    }
   },
   "outputs": [],
   "source": [
    "G.has_node(10)"
   ]
  },
  {
   "cell_type": "code",
   "execution_count": null,
   "id": "bba1f138",
   "metadata": {
    "slideshow": {
     "slide_type": "fragment"
    }
   },
   "outputs": [],
   "source": [
    "G.has_edge(0, 1) # checks whether the graph has a particular vertex"
   ]
  },
  {
   "cell_type": "code",
   "execution_count": null,
   "id": "3a0ecc1b",
   "metadata": {
    "slideshow": {
     "slide_type": "fragment"
    }
   },
   "outputs": [],
   "source": [
    "G.has_edge(0, 2)"
   ]
  },
  {
   "cell_type": "code",
   "execution_count": null,
   "id": "5c166eb7",
   "metadata": {
    "slideshow": {
     "slide_type": "slide"
    }
   },
   "outputs": [],
   "source": [
    "[n for n in G.neighbors(2)] # returns a list of neighbors of the specified vertex"
   ]
  },
  {
   "cell_type": "code",
   "execution_count": null,
   "id": "ea695622",
   "metadata": {
    "slideshow": {
     "slide_type": "fragment"
    }
   },
   "outputs": [],
   "source": [
    "nx.is_connected(G) # checks whether the graph is connected"
   ]
  },
  {
   "cell_type": "code",
   "execution_count": null,
   "id": "c437d489",
   "metadata": {
    "slideshow": {
     "slide_type": "fragment"
    }
   },
   "outputs": [],
   "source": [
    "[cc for cc in nx.connected_components(G)] # returns the connected components"
   ]
  },
  {
   "cell_type": "code",
   "execution_count": null,
   "id": "c7330daa",
   "metadata": {
    "slideshow": {
     "slide_type": "slide"
    }
   },
   "outputs": [],
   "source": [
    "for e in G.edges():\n",
    "    print(e)"
   ]
  },
  {
   "cell_type": "markdown",
   "id": "e055a029",
   "metadata": {
    "slideshow": {
     "slide_type": "slide"
    },
    "tags": [
     "colab-keep"
    ]
   },
   "source": [
    "Another way of specifying a graph is to start with an empty graph with a given number of vertices and then add edges one by one. The following command creates a graph with $4$ vertices and no edge (see [`empty_graph()`](https://networkx.org/documentation/stable/reference/generated/networkx.generators.classic.empty_graph.html#networkx.generators.classic.empty_graph))."
   ]
  },
  {
   "cell_type": "code",
   "execution_count": null,
   "id": "14d73446",
   "metadata": {
    "scrolled": true,
    "slideshow": {
     "slide_type": "fragment"
    }
   },
   "outputs": [],
   "source": [
    "G = nx.empty_graph(4)"
   ]
  },
  {
   "cell_type": "code",
   "execution_count": null,
   "id": "ea35d4f4",
   "metadata": {
    "slideshow": {
     "slide_type": "fragment"
    }
   },
   "outputs": [],
   "source": [
    "G.add_edge(0, 1)\n",
    "G.add_edge(2, 3)\n",
    "G.add_edge(0, 3)\n",
    "G.add_edge(3, 0)"
   ]
  },
  {
   "cell_type": "code",
   "execution_count": null,
   "id": "718b9ed1",
   "metadata": {
    "scrolled": true,
    "slideshow": {
     "slide_type": "fragment"
    }
   },
   "outputs": [],
   "source": [
    "nx.draw_networkx(G, node_size=600, node_color='black', font_size=16, font_color='white')"
   ]
  },
  {
   "cell_type": "markdown",
   "id": "1c62f90e",
   "metadata": {
    "slideshow": {
     "slide_type": "skip"
    },
    "tags": [
     "colab-keep"
    ]
   },
   "source": [
    "$\\unlhd$"
   ]
  },
  {
   "cell_type": "markdown",
   "id": "11189241",
   "metadata": {
    "slideshow": {
     "slide_type": "slide"
    },
    "tags": [
     "colab-keep"
    ]
   },
   "source": [
    "**NUMERICAL CORNER:** The package `NetworkX` also supports digraphs."
   ]
  },
  {
   "cell_type": "code",
   "execution_count": null,
   "id": "50dafdd3",
   "metadata": {
    "slideshow": {
     "slide_type": "fragment"
    }
   },
   "outputs": [],
   "source": [
    "G = nx.DiGraph()\n",
    "nx.add_star(G, [0, 1, 2, 3, 4])"
   ]
  },
  {
   "cell_type": "code",
   "execution_count": null,
   "id": "70263d2c",
   "metadata": {
    "slideshow": {
     "slide_type": "fragment"
    }
   },
   "outputs": [],
   "source": [
    "nx.draw_networkx(G, node_size=600, node_color='black', font_size=16, font_color='white')"
   ]
  },
  {
   "cell_type": "markdown",
   "id": "059603f8",
   "metadata": {
    "slideshow": {
     "slide_type": "slide"
    },
    "tags": [
     "colab-keep"
    ]
   },
   "source": [
    "Another way of specifying a digraph is to start with an empty graph with a given number of vertices and then add edges one by one (compare to the undirected case above). The following command creates a graph with no vertices."
   ]
  },
  {
   "cell_type": "code",
   "execution_count": null,
   "id": "b5cd4119",
   "metadata": {
    "slideshow": {
     "slide_type": "fragment"
    }
   },
   "outputs": [],
   "source": [
    "G = nx.DiGraph()"
   ]
  },
  {
   "cell_type": "code",
   "execution_count": null,
   "id": "11f45737",
   "metadata": {
    "slideshow": {
     "slide_type": "fragment"
    }
   },
   "outputs": [],
   "source": [
    "G.add_edge(0, 1)\n",
    "G.add_edge(2, 3)\n",
    "G.add_edge(0, 3)\n",
    "G.add_edge(3, 0)\n",
    "G.add_edge(1,1)"
   ]
  },
  {
   "cell_type": "code",
   "execution_count": null,
   "id": "7b47d5bd",
   "metadata": {
    "slideshow": {
     "slide_type": "slide"
    }
   },
   "outputs": [],
   "source": [
    "nx.draw_networkx(G, node_size=600, node_color='black', font_size=16, font_color='white')"
   ]
  },
  {
   "cell_type": "markdown",
   "id": "260dbce1",
   "metadata": {
    "tags": [
     "colab-keep"
    ]
   },
   "source": [
    "$\\unlhd$"
   ]
  },
  {
   "cell_type": "markdown",
   "id": "d4157daf",
   "metadata": {
    "slideshow": {
     "slide_type": "slide"
    },
    "tags": [
     "colab-keep"
    ]
   },
   "source": [
    "**NUMERICAL CORNER:** Using `NetworkX`, the adjacency matrix of a graph can be obtained with [`adjacency_matrix()`](https://networkx.org/documentation/stable/reference/generated/networkx.linalg.graphmatrix.adjacency_matrix.html). By default, it returns a `SciPy` sparse matrix. Alternatively, one can get a regular array with [`toarray()`](https://docs.scipy.org/doc/scipy/reference/generated/scipy.sparse.csr_matrix.toarray.html). Recall that in NumPy (and SciPy) array indices start at $0$. Consistently, NetworkX also names vertices starting at $0$. **Note, however, that this conflicts with our mathematical conventions.**"
   ]
  },
  {
   "cell_type": "code",
   "execution_count": null,
   "id": "8c2412e0",
   "metadata": {
    "slideshow": {
     "slide_type": "fragment"
    }
   },
   "outputs": [],
   "source": [
    "G = nx.complete_graph(3)"
   ]
  },
  {
   "cell_type": "code",
   "execution_count": null,
   "id": "19603d78",
   "metadata": {
    "slideshow": {
     "slide_type": "fragment"
    }
   },
   "outputs": [],
   "source": [
    "A = nx.adjacency_matrix(G)\n",
    "print(A)"
   ]
  },
  {
   "cell_type": "code",
   "execution_count": null,
   "id": "8ca27984",
   "metadata": {
    "slideshow": {
     "slide_type": "fragment"
    }
   },
   "outputs": [],
   "source": [
    "A = nx.adjacency_matrix(G).toarray()\n",
    "print(A)"
   ]
  },
  {
   "cell_type": "code",
   "execution_count": null,
   "id": "6e1685ee",
   "metadata": {
    "slideshow": {
     "slide_type": "slide"
    }
   },
   "outputs": [],
   "source": [
    "G = nx.petersen_graph()\n",
    "A = nx.adjacency_matrix(G)\n",
    "print(A)"
   ]
  },
  {
   "cell_type": "markdown",
   "id": "186a1270",
   "metadata": {
    "slideshow": {
     "slide_type": "slide"
    },
    "tags": [
     "colab-keep"
    ]
   },
   "source": [
    "The incidence matrix is obtained with [`incidence_matrix()`](https://networkx.org/documentation/stable/reference/generated/networkx.linalg.graphmatrix.incidence_matrix.html) -- again as a sparse array."
   ]
  },
  {
   "cell_type": "code",
   "execution_count": null,
   "id": "22e73f8a",
   "metadata": {
    "slideshow": {
     "slide_type": "fragment"
    }
   },
   "outputs": [],
   "source": [
    "B = nx.incidence_matrix(G)\n",
    "print(B)"
   ]
  },
  {
   "cell_type": "code",
   "execution_count": null,
   "id": "ed093d55",
   "metadata": {
    "slideshow": {
     "slide_type": "fragment"
    }
   },
   "outputs": [],
   "source": [
    "B = nx.incidence_matrix(G).toarray()\n",
    "print(B)"
   ]
  },
  {
   "cell_type": "markdown",
   "id": "b6f4be56",
   "metadata": {
    "slideshow": {
     "slide_type": "slide"
    },
    "tags": [
     "colab-keep"
    ]
   },
   "source": [
    "In the digraph case, the definitions are adapted as follows. The adjacency matrix $A$ of a digraph $G = (V, E)$ is the matrix\n",
    "defined as\n",
    "\n",
    "\\begin{align*}\n",
    "A_{xy} \n",
    "= \n",
    "\\begin{cases}\n",
    "1 & \\text{if $(x,y) \\in E$}\\\\ \n",
    "0 & \\text{o.w.}\n",
    "\\end{cases}\n",
    "\\end{align*}\n",
    "\n",
    "The incidence matrix of a digraph $G$ with vertices $1,\\ldots,n$ and edges $e_1, \\ldots, e_m$ is the matrix $B$ such that $B_{ij} = -1$ if egde $e_j$ leaves vertex $i$, $B_{ij} = 1$ if egde $e_j$ enters vertex $i$, and 0 otherwise. "
   ]
  },
  {
   "cell_type": "markdown",
   "id": "8fa4bedc",
   "metadata": {
    "slideshow": {
     "slide_type": "slide"
    },
    "tags": [
     "colab-keep"
    ]
   },
   "source": [
    "**NUMERICAL CORNER:** We revisit an earlier directed graph."
   ]
  },
  {
   "cell_type": "code",
   "execution_count": null,
   "id": "ce6590a6",
   "metadata": {
    "slideshow": {
     "slide_type": "fragment"
    }
   },
   "outputs": [],
   "source": [
    "G = nx.DiGraph()"
   ]
  },
  {
   "cell_type": "code",
   "execution_count": null,
   "id": "cfaaca21",
   "metadata": {
    "slideshow": {
     "slide_type": "fragment"
    }
   },
   "outputs": [],
   "source": [
    "G.add_edge(0, 1)\n",
    "G.add_edge(2, 3)\n",
    "G.add_edge(0, 3)\n",
    "G.add_edge(3, 0)\n",
    "G.add_edge(1,1)"
   ]
  },
  {
   "cell_type": "markdown",
   "id": "909133bc",
   "metadata": {
    "slideshow": {
     "slide_type": "slide"
    },
    "tags": [
     "colab-keep"
    ]
   },
   "source": [
    "We compute the adjacency and incidence matrices. For the incidence matrix, one must specify `oriented=True` for the oriented version."
   ]
  },
  {
   "cell_type": "code",
   "execution_count": null,
   "id": "a9540eda",
   "metadata": {
    "slideshow": {
     "slide_type": "fragment"
    }
   },
   "outputs": [],
   "source": [
    "A = nx.adjacency_matrix(G).toarray()\n",
    "print(A)"
   ]
  },
  {
   "cell_type": "code",
   "execution_count": null,
   "id": "d62b4a13",
   "metadata": {
    "slideshow": {
     "slide_type": "fragment"
    }
   },
   "outputs": [],
   "source": [
    "B = nx.incidence_matrix(G, oriented=True).toarray()\n",
    "print(B)"
   ]
  },
  {
   "cell_type": "markdown",
   "id": "3ad4a0ab",
   "metadata": {
    "slideshow": {
     "slide_type": "slide"
    },
    "tags": [
     "colab-keep"
    ]
   },
   "source": [
    "Revisiting an ealier undirected graph, we note that `incidence_matrix()` can also produce an arbitrary oriented incidence matrix by using the `oriented=True` option."
   ]
  },
  {
   "cell_type": "code",
   "execution_count": null,
   "id": "4c01ab60",
   "metadata": {
    "scrolled": true,
    "slideshow": {
     "slide_type": "fragment"
    }
   },
   "outputs": [],
   "source": [
    "G = nx.empty_graph(4)"
   ]
  },
  {
   "cell_type": "code",
   "execution_count": null,
   "id": "d5cd124b",
   "metadata": {
    "slideshow": {
     "slide_type": "fragment"
    }
   },
   "outputs": [],
   "source": [
    "G.add_edge(0, 1)\n",
    "G.add_edge(2, 3)\n",
    "G.add_edge(0, 3)\n",
    "G.add_edge(3, 0)"
   ]
  },
  {
   "cell_type": "code",
   "execution_count": null,
   "id": "a6d311c6",
   "metadata": {
    "slideshow": {
     "slide_type": "fragment"
    }
   },
   "outputs": [],
   "source": [
    "B = nx.incidence_matrix(G, oriented=True).toarray()\n",
    "print(B)"
   ]
  },
  {
   "cell_type": "markdown",
   "id": "fda1a1d3",
   "metadata": {
    "slideshow": {
     "slide_type": "skip"
    },
    "tags": [
     "colab-keep"
    ]
   },
   "source": [
    "$\\unlhd$"
   ]
  },
  {
   "cell_type": "markdown",
   "id": "40ebe1a7",
   "metadata": {
    "slideshow": {
     "slide_type": "slide"
    },
    "tags": [
     "colab-keep"
    ]
   },
   "source": [
    "**NUMERICAL CORNER:** One use of the spectral decomposition of the Laplacian matrix is in graph drawing. We illustrate this next. Given a graph $G = (V, E)$, it is not clear a priori how to draw it in the plane since the only information available are adjacencies of vertices. One approach is just to position the vertices at random. The function [`networkx.draw()`](https://networkx.org/documentation/stable/reference/generated/networkx.drawing.nx_pylab.draw.html) or [`networkx.draw_networkx()`](https://networkx.org/documentation/stable/reference/generated/networkx.drawing.nx_pylab.draw_networkx.html#networkx.drawing.nx_pylab.draw_networkx)can take as input different [graph layout](https://networkx.org/documentation/stable/reference/drawing.html#module-networkx.drawing.layout) functions that return an $x$ and $y$-coordinate for each vertex.\n",
    "\n",
    "We will test this on a grid graph. Sometimes a picture is worth a thousand words. This is an example of a $4 \\times 7$-grid graph."
   ]
  },
  {
   "cell_type": "markdown",
   "id": "c6102895",
   "metadata": {
    "slideshow": {
     "slide_type": "fragment"
    },
    "tags": [
     "colab-keep"
    ]
   },
   "source": [
    "![Grid graph](https://mathworld.wolfram.com/images/eps-gif/GridGraph_701.gif)\n",
    "\n",
    "**Figure:** Grid graph ([Source](https://mathworld.wolfram.com/GridGraph.html))"
   ]
  },
  {
   "cell_type": "markdown",
   "id": "cdefa200",
   "metadata": {
    "slideshow": {
     "slide_type": "slide"
    },
    "tags": [
     "colab-keep"
    ]
   },
   "source": [
    "We use [`grid_2d_graph()`](https://networkx.org/documentation/stable/reference/generated/networkx.generators.lattice.grid_2d_graph.html) to construct such a graph."
   ]
  },
  {
   "cell_type": "code",
   "execution_count": 2,
   "id": "24d9cc07",
   "metadata": {
    "scrolled": true,
    "slideshow": {
     "slide_type": "fragment"
    }
   },
   "outputs": [],
   "source": [
    "G = nx.grid_2d_graph(4,7)"
   ]
  },
  {
   "cell_type": "markdown",
   "id": "0e39320e",
   "metadata": {
    "slideshow": {
     "slide_type": "slide"
    },
    "tags": [
     "colab-keep"
    ]
   },
   "source": [
    "One layout approach is to choose random locations for the nodes. Specifically, for every node, a position is generated by choosing each coordinate uniformly at random on the interval $[0,1]$."
   ]
  },
  {
   "cell_type": "code",
   "execution_count": 3,
   "id": "d7d3d37e",
   "metadata": {
    "slideshow": {
     "slide_type": "fragment"
    }
   },
   "outputs": [
    {
     "data": {
      "image/png": "[encoded data removed]",
      "text/plain": [
       "<Figure size 432x288 with 1 Axes>"
      ]
     },
     "metadata": {},
     "output_type": "display_data"
    }
   ],
   "source": [
    "nx.draw(G, pos=nx.random_layout(G))"
   ]
  },
  {
   "cell_type": "markdown",
   "id": "e00a68d7",
   "metadata": {
    "slideshow": {
     "slide_type": "slide"
    },
    "tags": [
     "colab-keep"
    ]
   },
   "source": [
    "Clearly, this is a lot harder to read than the original graph above. \n",
    "\n",
    "Another approach is to map the vertices to two eigenvectors, similarly to what we did for dimensionality reduction. The eigenvector associated to $\\mu_1$ is constant and therefore not useful for drawing. We try the next two. We use the Laplacian matrix."
   ]
  },
  {
   "cell_type": "code",
   "execution_count": 4,
   "id": "03e52ec1",
   "metadata": {
    "slideshow": {
     "slide_type": "fragment"
    }
   },
   "outputs": [
    {
     "data": {
      "image/png": "[encoded data removed]",
      "text/plain": [
       "<Figure size 432x288 with 1 Axes>"
      ]
     },
     "metadata": {},
     "output_type": "display_data"
    }
   ],
   "source": [
    "nx.draw(G, pos=nx.spectral_layout(G))"
   ]
  },
  {
   "cell_type": "markdown",
   "id": "6c71d1d4",
   "metadata": {
    "slideshow": {
     "slide_type": "fragment"
    },
    "tags": [
     "colab-keep"
    ]
   },
   "source": [
    "Interestingly, the outcome is very similar to the original, more natural drawing. We will come back later to try to explain this, after we have developed further understanding of the spectral properties of the Laplacian matrix."
   ]
  },
  {
   "cell_type": "markdown",
   "id": "9dd74319",
   "metadata": {
    "slideshow": {
     "slide_type": "skip"
    },
    "tags": [
     "colab-keep"
    ]
   },
   "source": [
    "$\\unlhd$"
   ]
  },
  {
   "cell_type": "markdown",
   "id": "b0e4fa83",
   "metadata": {
    "slideshow": {
     "slide_type": "slide"
    },
    "tags": [
     "colab-keep"
    ]
   },
   "source": [
    "**NUMERICAL CORNER:** We construct a graph with two connected components and check the results above. We work directly with the adjacency matrix."
   ]
  },
  {
   "cell_type": "code",
   "execution_count": 6,
   "id": "11a15a4d",
   "metadata": {
    "slideshow": {
     "slide_type": "fragment"
    }
   },
   "outputs": [
    {
     "name": "stdout",
     "output_type": "stream",
     "text": [
      "[[0 1 1 0 0]\n",
      " [1 0 1 0 0]\n",
      " [1 1 0 0 0]\n",
      " [0 0 0 0 1]\n",
      " [0 0 0 1 0]]\n"
     ]
    }
   ],
   "source": [
    "A = np.array([[0, 1, 1, 0, 0], [1, 0, 1, 0, 0], [1, 1, 0, 0, 0], [0, 0, 0, 0, 1], [0, 0, 0, 1, 0]])\n",
    "print(A)"
   ]
  },
  {
   "cell_type": "markdown",
   "id": "a33dd64b",
   "metadata": {
    "slideshow": {
     "slide_type": "fragment"
    },
    "tags": [
     "colab-keep"
    ]
   },
   "source": [
    "Note the block structure."
   ]
  },
  {
   "cell_type": "markdown",
   "id": "dfc1ddd2",
   "metadata": {
    "slideshow": {
     "slide_type": "slide"
    },
    "tags": [
     "colab-keep"
    ]
   },
   "source": [
    "The degrees can be obtained by summing the rows of the adjacency matrix."
   ]
  },
  {
   "cell_type": "code",
   "execution_count": 7,
   "id": "1adaf7b9",
   "metadata": {
    "slideshow": {
     "slide_type": "fragment"
    }
   },
   "outputs": [
    {
     "name": "stdout",
     "output_type": "stream",
     "text": [
      "[2 2 2 1 1]\n"
     ]
    }
   ],
   "source": [
    "degrees = A.sum(axis=1)\n",
    "print(degrees)"
   ]
  },
  {
   "cell_type": "code",
   "execution_count": 8,
   "id": "4ea07c9c",
   "metadata": {
    "slideshow": {
     "slide_type": "fragment"
    }
   },
   "outputs": [
    {
     "name": "stdout",
     "output_type": "stream",
     "text": [
      "[[2 0 0 0 0]\n",
      " [0 2 0 0 0]\n",
      " [0 0 2 0 0]\n",
      " [0 0 0 1 0]\n",
      " [0 0 0 0 1]]\n"
     ]
    }
   ],
   "source": [
    "D = np.diag(degrees)\n",
    "print(D)"
   ]
  },
  {
   "cell_type": "code",
   "execution_count": 9,
   "id": "8f92afc9",
   "metadata": {
    "slideshow": {
     "slide_type": "slide"
    }
   },
   "outputs": [
    {
     "name": "stdout",
     "output_type": "stream",
     "text": [
      "[[ 2 -1 -1  0  0]\n",
      " [-1  2 -1  0  0]\n",
      " [-1 -1  2  0  0]\n",
      " [ 0  0  0  1 -1]\n",
      " [ 0  0  0 -1  1]]\n"
     ]
    }
   ],
   "source": [
    "L = D - A\n",
    "print(L)"
   ]
  },
  {
   "cell_type": "code",
   "execution_count": 10,
   "id": "5d003443",
   "metadata": {
    "slideshow": {
     "slide_type": "fragment"
    }
   },
   "outputs": [
    {
     "data": {
      "text/plain": [
       "array([ 3.00000000e+00, -4.23796137e-16,  3.00000000e+00,  2.00000000e+00,\n",
       "        0.00000000e+00])"
      ]
     },
     "execution_count": 10,
     "metadata": {},
     "output_type": "execute_result"
    }
   ],
   "source": [
    "LA.eigvals(L)"
   ]
  },
  {
   "cell_type": "markdown",
   "id": "406d4aa2",
   "metadata": {
    "slideshow": {
     "slide_type": "fragment"
    },
    "tags": [
     "colab-keep"
    ]
   },
   "source": [
    "Observe that (up to numerical error) there are two $0$ eigenvalues and that the largest eigenvalue is greater or equal than the maximum degree plus one."
   ]
  },
  {
   "cell_type": "markdown",
   "id": "1f0c4213",
   "metadata": {
    "slideshow": {
     "slide_type": "slide"
    },
    "tags": [
     "colab-keep"
    ]
   },
   "source": [
    "To compute the Laplacian matrix, one can also use the function `laplacian_matrix()`. For example, the Laplacian of the Petersen graph is the following:"
   ]
  },
  {
   "cell_type": "code",
   "execution_count": 11,
   "id": "3deaf4b0",
   "metadata": {
    "slideshow": {
     "slide_type": "fragment"
    }
   },
   "outputs": [
    {
     "name": "stdout",
     "output_type": "stream",
     "text": [
      "[[ 3 -1  0  0 -1 -1  0  0  0  0]\n",
      " [-1  3 -1  0  0  0 -1  0  0  0]\n",
      " [ 0 -1  3 -1  0  0  0 -1  0  0]\n",
      " [ 0  0 -1  3 -1  0  0  0 -1  0]\n",
      " [-1  0  0 -1  3  0  0  0  0 -1]\n",
      " [-1  0  0  0  0  3  0 -1 -1  0]\n",
      " [ 0 -1  0  0  0  0  3  0 -1 -1]\n",
      " [ 0  0 -1  0  0 -1  0  3  0 -1]\n",
      " [ 0  0  0 -1  0 -1 -1  0  3  0]\n",
      " [ 0  0  0  0 -1  0 -1 -1  0  3]]\n"
     ]
    }
   ],
   "source": [
    "G = nx.petersen_graph()\n",
    "L = nx.laplacian_matrix(G).toarray()\n",
    "print(L)"
   ]
  },
  {
   "cell_type": "code",
   "execution_count": 12,
   "id": "71763583",
   "metadata": {
    "slideshow": {
     "slide_type": "slide"
    }
   },
   "outputs": [
    {
     "data": {
      "text/plain": [
       "array([ 5.00000000e+00,  2.00000000e+00, -5.49437748e-17,  2.00000000e+00,\n",
       "        5.00000000e+00,  5.00000000e+00,  5.00000000e+00,  2.00000000e+00,\n",
       "        2.00000000e+00,  2.00000000e+00])"
      ]
     },
     "execution_count": 12,
     "metadata": {},
     "output_type": "execute_result"
    }
   ],
   "source": [
    "LA.eigvals(L)"
   ]
  },
  {
   "cell_type": "markdown",
   "id": "41c053d5",
   "metadata": {
    "slideshow": {
     "slide_type": "skip"
    },
    "tags": [
     "colab-keep"
    ]
   },
   "source": [
    "$\\unlhd$"
   ]
  },
  {
   "cell_type": "markdown",
   "id": "3dbfc2ef",
   "metadata": {
    "slideshow": {
     "slide_type": "slide"
    },
    "tags": [
     "colab-keep"
    ]
   },
   "source": [
    "**NUMERICAL CORNER:** This is perhaps easiest to see on a path graph. *Note:* `NetworkX` numbers vertices $0,\\ldots,n-1$. "
   ]
  },
  {
   "cell_type": "code",
   "execution_count": 13,
   "id": "6f9a20f1",
   "metadata": {
    "slideshow": {
     "slide_type": "fragment"
    }
   },
   "outputs": [],
   "source": [
    "G = nx.path_graph(10)"
   ]
  },
  {
   "cell_type": "code",
   "execution_count": 14,
   "id": "c4872906",
   "metadata": {
    "slideshow": {
     "slide_type": "fragment"
    },
    "tags": [
     "hide-input"
    ]
   },
   "outputs": [
    {
     "data": {
      "image/png": "[encoded data removed]",
      "text/plain": [
       "<Figure size 432x288 with 1 Axes>"
      ]
     },
     "metadata": {},
     "output_type": "display_data"
    }
   ],
   "source": [
    "nx.draw_networkx(G, \n",
    "                 node_size=600, node_color='black',\n",
    "                 font_size=16, font_color='white', \n",
    "                 pos=nx.random_layout(G, seed=535)\n",
    "                )"
   ]
  },
  {
   "cell_type": "markdown",
   "id": "98c24dbc",
   "metadata": {
    "slideshow": {
     "slide_type": "slide"
    },
    "tags": [
     "colab-keep"
    ]
   },
   "source": [
    "We plot the second Laplacian eigenvector (i.e., the eigenvector of the Laplacian matrix corresponding to the second smallest eigenvalue). We use [`numpy.argsort()`](https://numpy.org/doc/stable/reference/generated/numpy.argsort.html) to find the index of the second smallest eigenvalue. Because indices start at `0`, we want entry `1` of the output of `np.argsort()`."
   ]
  },
  {
   "cell_type": "code",
   "execution_count": 16,
   "id": "dfcf7fe1",
   "metadata": {
    "slideshow": {
     "slide_type": "fragment"
    }
   },
   "outputs": [],
   "source": [
    "L = nx.laplacian_matrix(G).toarray()\n",
    "w, v = LA.eigh(L)\n",
    "y2 = v[:,np.argsort(w)[1]]"
   ]
  },
  {
   "cell_type": "code",
   "execution_count": 17,
   "id": "a659b965",
   "metadata": {
    "scrolled": false,
    "slideshow": {
     "slide_type": "fragment"
    },
    "tags": [
     "hide-input"
    ]
   },
   "outputs": [
    {
     "data": {
      "image/png": "[encoded data removed]",
      "text/plain": [
       "<Figure size 432x288 with 1 Axes>"
      ]
     },
     "metadata": {
      "needs_background": "light"
     },
     "output_type": "display_data"
    }
   ],
   "source": [
    "plt.plot(y2)\n",
    "plt.show()"
   ]
  },
  {
   "cell_type": "markdown",
   "id": "ba303577",
   "metadata": {
    "slideshow": {
     "slide_type": "skip"
    },
    "tags": [
     "colab-keep"
    ]
   },
   "source": [
    "$\\unlhd$"
   ]
  }
 ],
 "metadata": {},
 "nbformat": 4,
 "nbformat_minor": 5
}

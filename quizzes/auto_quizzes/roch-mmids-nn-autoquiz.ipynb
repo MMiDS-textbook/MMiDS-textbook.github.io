{
 "cells": [
  {
   "cell_type": "markdown",
   "metadata": {
    "slideshow": {
     "slide_type": "slide"
    },
    "tags": [
     "remove-cell"
    ]
   },
   "source": [
    "***\n",
    "\n",
    "*Course:* [Math 535](https://people.math.wisc.edu/~roch/mmids/) - Mathematical Methods in Data Science (MMiDS)  \n",
    "*Chapter:* 8-DNN, AD, and SGD   \n",
    "*Author:* [Sebastien Roch](https://people.math.wisc.edu/~roch/), Department of Mathematics, University of Wisconsin-Madison  \n",
    "*Updated:* May 30, 2024   \n",
    "*Copyright:* &copy; 2024 Sebastien Roch\n",
    "\n",
    "***"
   ]
  },
  {
   "cell_type": "markdown",
   "metadata": {
    "id": "I2eusSsAuXkf"
   },
   "source": [
    "## Auto-quizzes"
   ]
  },
  {
   "cell_type": "markdown",
   "metadata": {
    "id": "9YIvbI9quXkh"
   },
   "source": [
    "This notebook generates automated quizzes as well as the answers. Set the `seed` to any integer to produce unique quizzes."
   ]
  },
  {
   "cell_type": "code",
   "execution_count": null,
   "metadata": {
    "id": "b09f4787"
   },
   "outputs": [],
   "source": [
    "# Python 3\n",
    "import numpy as np\n",
    "from numpy import linalg as LA\n",
    "from numpy.random import default_rng\n",
    "import torch"
   ]
  },
  {
   "cell_type": "code",
   "execution_count": null,
   "metadata": {
    "id": "V_QTYzETuXkk"
   },
   "outputs": [],
   "source": [
    "# Set the `seed` to any integer\n",
    "seed=535"
   ]
  },
  {
   "cell_type": "code",
   "execution_count": null,
   "metadata": {
    "id": "Fq7naFZYuXkk"
   },
   "outputs": [],
   "source": [
    "rng = default_rng(seed)"
   ]
  },
  {
   "cell_type": "markdown",
   "metadata": {
    "id": "Q7lDe1vDuXkw"
   },
   "source": [
    "**AQ8.1**  \n",
    "\n",
    "***\n",
    "\n",
    "*Use the following code to generate the quiz questions. You should be able to answer them by hand -- that is, without the help of numerical computation.*\n",
    "\n",
    "***"
   ]
  },
  {
   "cell_type": "markdown",
   "metadata": {
    "id": "3_l1xxGIuXkw"
   },
   "source": [
    "Consider the following matrix $A$:"
   ]
  },
  {
   "cell_type": "code",
   "execution_count": null,
   "metadata": {
    "id": "5AT4OopquXkw"
   },
   "outputs": [],
   "source": [
    "A = rng.integers(low=1,high=4,size=(2,4))\n",
    "S = np.sign(2 * rng.random(size=(2,4)) - 1)\n",
    "A = A * S\n",
    "print(A)"
   ]
  },
  {
   "cell_type": "markdown",
   "metadata": {
    "id": "qJubV_HnuXkw"
   },
   "source": [
    "and denote its columns by $\\mathbf{a}_1,\\ldots,\\mathbf{a}_4$. Define $B_1 = \\mathbf{a}_1 \\otimes \\mathbf{a}_2^T$ and $B_2= \\mathbf{a}_3 \\otimes \\mathbf{a}_4^T$."
   ]
  },
  {
   "cell_type": "markdown",
   "metadata": {
    "id": "lVomhaMzuXkw"
   },
   "source": [
    "(a) Compute $O = B_1 \\odot B_2$.\n",
    "\n",
    "(b) Compute $X = B_1 \\otimes B_2$.\n",
    "\n",
    "(c) Compute $\\mathrm{rk}(O)$.\n",
    "\n",
    "(d) Compute $\\mathrm{rk}(X)$."
   ]
  },
  {
   "cell_type": "markdown",
   "metadata": {
    "id": "-kL165lJuXkw"
   },
   "source": [
    "***\n",
    "\n",
    "*Use the following code to generate the answers.*\n",
    "\n",
    "***"
   ]
  },
  {
   "cell_type": "code",
   "execution_count": null,
   "metadata": {
    "id": "DTUicywtuXkx"
   },
   "outputs": [],
   "source": [
    "# (a)\n",
    "B1 = np.outer(A[:,0],A[:,1])\n",
    "B2 = np.outer(A[:,2],A[:,3])\n",
    "O = B1 * B2\n",
    "print(O)"
   ]
  },
  {
   "cell_type": "code",
   "execution_count": null,
   "metadata": {
    "id": "h8SlGC62uXkx"
   },
   "outputs": [],
   "source": [
    "# (b)\n",
    "X = np.kron(B1,B2)\n",
    "print(X)"
   ]
  },
  {
   "cell_type": "code",
   "execution_count": null,
   "metadata": {
    "id": "u5ah3VV-uXkx"
   },
   "outputs": [],
   "source": [
    "# (c)\n",
    "LA.matrix_rank(O)"
   ]
  },
  {
   "cell_type": "code",
   "execution_count": null,
   "metadata": {
    "id": "S7Wgu3oduXky"
   },
   "outputs": [],
   "source": [
    "# (d)\n",
    "LA.matrix_rank(X)"
   ]
  },
  {
   "cell_type": "markdown",
   "metadata": {
    "id": "8pjFrLP_uXky"
   },
   "source": [
    "$\\lhd$"
   ]
  }
 ],
 "metadata": {
  "celltoolbar": "Slideshow",
  "colab": {
   "provenance": []
  },
  "kernelspec": {
   "display_name": "Python 3 (ipykernel)",
   "language": "python",
   "name": "python3"
  },
  "language_info": {
   "codemirror_mode": {
    "name": "ipython",
    "version": 3
   },
   "file_extension": ".py",
   "mimetype": "text/x-python",
   "name": "python",
   "nbconvert_exporter": "python",
   "pygments_lexer": "ipython3",
   "version": "3.11.7"
  }
 },
 "nbformat": 4,
 "nbformat_minor": 1
}

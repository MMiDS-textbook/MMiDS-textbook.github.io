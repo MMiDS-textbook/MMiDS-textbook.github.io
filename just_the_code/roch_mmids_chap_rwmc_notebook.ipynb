{
 "cells": [
  {
   "cell_type": "markdown",
   "id": "d0afba50",
   "metadata": {
    "slideshow": {
     "slide_type": "slide"
    },
    "tags": [
     "remove-cell",
     "colab-keep"
    ]
   },
   "source": [
    "***\n",
    "\n",
    "*Course:* [Math 535](https://people.math.wisc.edu/~roch/mmids/) - Mathematical Methods in Data Science (MMiDS)  \n",
    "*Chapter:* 5-Random walks on graphs and Markov chains  \n",
    "*Author:* [Sebastien Roch](https://people.math.wisc.edu/~roch/), Department of Mathematics, University of Wisconsin-Madison  \n",
    "*Updated:* Jan 20, 2024   \n",
    "*Copyright:* &copy; 2024 Sebastien Roch\n",
    "\n",
    "***"
   ]
  },
  {
   "cell_type": "code",
   "execution_count": null,
   "id": "19ce972b",
   "metadata": {
    "slideshow": {
     "slide_type": "skip"
    },
    "tags": [
     "remove-cell"
    ]
   },
   "outputs": [],
   "source": [
    "# You will need the files:\n",
    "#     * mmids.py\n",
    "#     * mathworld-adjacency.csv\n",
    "#     * mathworld-titles.csv\n",
    "# from https://github.com/MMiDS-textbook/MMiDS-textbook.github.io/tree/main/utils\n",
    "#\n",
    "# IF RUNNING ON GOOGLE COLAB (RECOMMENDED):\n",
    "# \"Upload to session storage\" from the Files tab on the left\n",
    "# Alternative instructions: https://colab.research.google.com/notebooks/io.ipynb"
   ]
  },
  {
   "cell_type": "code",
   "execution_count": null,
   "id": "47087623",
   "metadata": {
    "slideshow": {
     "slide_type": "skip"
    },
    "tags": [
     "remove-cell"
    ]
   },
   "outputs": [],
   "source": [
    "# PYTHON 3\n",
    "import numpy as np\n",
    "from numpy import linalg as LA\n",
    "import matplotlib.pyplot as plt\n",
    "import pandas as pd\n",
    "import networkx as nx\n",
    "import tensorflow as tf\n",
    "from tensorflow import keras\n",
    "import mmids\n",
    "seed = 535\n",
    "rng = np.random.default_rng(seed)"
   ]
  },
  {
   "cell_type": "markdown",
   "id": "d1f065ca",
   "metadata": {
    "slideshow": {
     "slide_type": "slide"
    },
    "tags": [
     "colab-keep"
    ]
   },
   "source": [
    "## Motivating example: discovering relevant mathematical topics"
   ]
  },
  {
   "cell_type": "markdown",
   "id": "e4b58bd0",
   "metadata": {
    "slideshow": {
     "slide_type": "slide"
    },
    "tags": [
     "colab-keep"
    ]
   },
   "source": [
    "A common task in network analysis is to identify \"central\" vertices in a graph. Centrality is a vague concept. It can be defined in many different ways depending on the context and the type of network. Quoting from [Wikipedia](https://en.wikipedia.org/wiki/Centrality):\n",
    "\n",
    "> In graph theory and network analysis, indicators of centrality assign numbers or rankings to nodes within a graph corresponding to their network position. Applications include identifying the most influential person(s) in a social network, key infrastructure nodes in the Internet or urban networks, super-spreaders of disease, and brain networks. [...] Centrality indices are answers to the question \"What characterizes an important vertex?\" The answer is given in terms of a real-valued function on the vertices of a graph, where the values produced are expected to provide a ranking which identifies the most important nodes. The word \"importance\" has a wide number of meanings, leading to many different definitions of centrality. \n",
    "\n",
    "In an undirected graph, a natural approach is to look at the degree of a vertex as a measure of its importance (also referred to as degree centrality). But it is hardly the only one. One could for instance look at the average distance to all other nodes (its reciprocal is the [closeness centrality](https://en.wikipedia.org/wiki/Closeness_centrality)) or at the number of shortest paths between pairs of vertices going through the vertex (known as [betweenness centrality](https://en.wikipedia.org/wiki/Betweenness_centrality)). "
   ]
  },
  {
   "cell_type": "markdown",
   "id": "dc911b26",
   "metadata": {
    "slideshow": {
     "slide_type": "slide"
    },
    "tags": [
     "colab-keep"
    ]
   },
   "source": [
    "What if the graph is directed? Things are somewhat more complicated there. For instance, there is now the in-degree as well as the out-degree. \n",
    "\n",
    "Let us look at a particular example of practical importance, the World Wide Web (from now on, the Web). In this case, the vertices are webpages and a directed edge from $u$ to $v$ indicates a hyperlink from page $u$ to page $v$. The Web is much too large to analyze here. Instead, we will consider a tiny (but still interesting!) subset of it, the pages of [Wolfram's MathWorld](https://mathworld.wolfram.com), a wonderful mathematics resource. \n",
    "\n",
    "Each page of MathWorld concerns a particular mathematical concept, e.g., [scale-free network](https://mathworld.wolfram.com/Scale-FreeNetwork.html). A definition and notable properties are described. Importantly for us, in a section entitled \"SEE ALSO\", other related mathematical concepts are listed with a link to their MathWorld page. In the case of scale-free networks, the [small world network](https://mathworld.wolfram.com/SmallWorldNetwork.html) topic is referenced, among others."
   ]
  },
  {
   "cell_type": "markdown",
   "id": "517aa162",
   "metadata": {
    "slideshow": {
     "slide_type": "slide"
    },
    "tags": [
     "colab-keep"
    ]
   },
   "source": [
    "The resulting directed graph is available through the [NetSet](https://netset.telecom-paris.fr/index.html) datasets and can be downloaded [here](https://netset.telecom-paris.fr/pages/mathworld.html). We load it now. For convenience, we have reformatted it into the files `mathworld-adjacency.csv` and `mathworld-titles.csv`, which are available on the [GitHub of the book](https://github.com/MMiDS-textbook/MMiDS-textbook.github.io/tree/main/utils/datasets)."
   ]
  },
  {
   "cell_type": "code",
   "execution_count": null,
   "id": "ac15366b",
   "metadata": {
    "slideshow": {
     "slide_type": "fragment"
    }
   },
   "outputs": [],
   "source": [
    "df_edges = pd.read_csv('mathworld-adjacency.csv')\n",
    "df_edges.head()"
   ]
  },
  {
   "cell_type": "markdown",
   "id": "79e438e2",
   "metadata": {
    "slideshow": {
     "slide_type": "fragment"
    },
    "tags": [
     "colab-keep"
    ]
   },
   "source": [
    "It consists in a list of directed edges. For example, the first one is an edge from vertex `0` to vertex `2`. The second one is from `1` to `47` and so on. \n",
    "\n",
    "There is a total of $49069$ edges."
   ]
  },
  {
   "cell_type": "code",
   "execution_count": null,
   "id": "1f7c025c",
   "metadata": {
    "slideshow": {
     "slide_type": "fragment"
    }
   },
   "outputs": [],
   "source": [
    "df_edges.shape[0]"
   ]
  },
  {
   "cell_type": "markdown",
   "id": "64b85302",
   "metadata": {
    "slideshow": {
     "slide_type": "slide"
    },
    "tags": [
     "colab-keep"
    ]
   },
   "source": [
    "The second file contains the titles of the pages."
   ]
  },
  {
   "cell_type": "code",
   "execution_count": null,
   "id": "094c8bc0",
   "metadata": {
    "slideshow": {
     "slide_type": "fragment"
    }
   },
   "outputs": [],
   "source": [
    "df_titles = pd.read_csv('mathworld-titles.csv')\n",
    "df_titles.head()"
   ]
  },
  {
   "cell_type": "markdown",
   "id": "6ae0fda0",
   "metadata": {
    "slideshow": {
     "slide_type": "fragment"
    },
    "tags": [
     "colab-keep"
    ]
   },
   "source": [
    "So the first edge above is from `Alexander's Horned Sphere` to `Antoine's Horned Sphere`. That is, the [latter](https://mathworld.wolfram.com/AntoinesHornedSphere.html) is listed in the \"SEE ALSO\" section of the [former](https://mathworld.wolfram.com/AlexandersHornedSphere.html). \n",
    "\n",
    "There are $12362$ topics."
   ]
  },
  {
   "cell_type": "code",
   "execution_count": null,
   "id": "c9cd2f45",
   "metadata": {
    "slideshow": {
     "slide_type": "fragment"
    }
   },
   "outputs": [],
   "source": [
    "df_titles.shape[0]"
   ]
  },
  {
   "cell_type": "markdown",
   "id": "bb373ec6",
   "metadata": {
    "slideshow": {
     "slide_type": "slide"
    },
    "tags": [
     "colab-keep"
    ]
   },
   "source": [
    "We construct the graph by adding the edges one by one. We first convert `df_edges` into a Numpy array."
   ]
  },
  {
   "cell_type": "code",
   "execution_count": null,
   "id": "834729c0",
   "metadata": {
    "slideshow": {
     "slide_type": "fragment"
    }
   },
   "outputs": [],
   "source": [
    "edgelist = df_edges[['from','to']].to_numpy()\n",
    "print(edgelist)"
   ]
  },
  {
   "cell_type": "code",
   "execution_count": null,
   "id": "05140ddc",
   "metadata": {
    "slideshow": {
     "slide_type": "fragment"
    }
   },
   "outputs": [],
   "source": [
    "n = 12362\n",
    "G = nx.empty_graph(n, create_using=nx.DiGraph)\n",
    "for i in range(edgelist.shape[0]):\n",
    "    G.add_edge(edgelist[i,0], edgelist[i,1])"
   ]
  },
  {
   "cell_type": "code",
   "execution_count": null,
   "id": "9339c872",
   "metadata": {
    "slideshow": {
     "slide_type": "fragment"
    }
   },
   "outputs": [],
   "source": [
    "G.in_degree(0)"
   ]
  },
  {
   "cell_type": "markdown",
   "id": "0d375c2a",
   "metadata": {
    "slideshow": {
     "slide_type": "fragment"
    },
    "tags": [
     "colab-keep"
    ]
   },
   "source": [
    "while that of `Antoine's Horned Sphere` is:"
   ]
  },
  {
   "cell_type": "code",
   "execution_count": null,
   "id": "57ac8ec5",
   "metadata": {
    "slideshow": {
     "slide_type": "fragment"
    }
   },
   "outputs": [],
   "source": [
    "G.in_degree(2)"
   ]
  },
  {
   "cell_type": "markdown",
   "id": "9a18ba2f",
   "metadata": {
    "slideshow": {
     "slide_type": "fragment"
    },
    "tags": [
     "colab-keep"
    ]
   },
   "source": [
    "suggesting that the former is more central than the latter, at least in the sense that it is referenced more often.\n",
    "\n",
    "But is that the right measure? Consider the following: `Antoine's Horned Sphere` receives only one reference, but it is from a seemingly relatively important vertex, `Alexander's Horned Sphere`. How can one take this into account in quantifying its importance in the network?"
   ]
  },
  {
   "cell_type": "markdown",
   "id": "de51a51d",
   "metadata": {
    "slideshow": {
     "slide_type": "slide"
    },
    "tags": [
     "colab-keep"
    ]
   },
   "source": [
    "We will come back to this question later in this chapter. To hint at things to come, it will turn out that \"exploring the graph at random\" provides a powerful perspective on centrality.  "
   ]
  },
  {
   "cell_type": "markdown",
   "id": "5dc168af",
   "metadata": {
    "slideshow": {
     "slide_type": "fragment"
    },
    "tags": [
     "colab-keep"
    ]
   },
   "source": [
    "$\\newcommand{\\P}{\\mathbb{P}}$ $\\newcommand{\\E}{\\mathbb{E}}$ $\\newcommand{\\S}{\\mathcal{S}}$ $\\newcommand{\\indep}{\\perp\\!\\!\\!\\perp}$    $\\newcommand{\\bmu}{\\boldsymbol{\\mu}}$ $\\newcommand{\\bpi}{\\boldsymbol{\\pi}}$"
   ]
  },
  {
   "cell_type": "markdown",
   "id": "1f0452e3",
   "metadata": {
    "slideshow": {
     "slide_type": "slide"
    },
    "tags": [
     "colab-keep"
    ]
   },
   "source": [
    "## Elements of finite Markov chains"
   ]
  },
  {
   "cell_type": "markdown",
   "id": "5a4be8c0",
   "metadata": {
    "slideshow": {
     "slide_type": "slide"
    },
    "tags": [
     "colab-keep"
    ]
   },
   "source": [
    "**EXAMPLE:** **(Random Walk on the Petersen Graph)** Let $G = (V,E)$ be the Petersen graph."
   ]
  },
  {
   "cell_type": "code",
   "execution_count": null,
   "id": "b89261bf",
   "metadata": {
    "slideshow": {
     "slide_type": "fragment"
    }
   },
   "outputs": [],
   "source": [
    "G_petersen = nx.petersen_graph()"
   ]
  },
  {
   "cell_type": "code",
   "execution_count": null,
   "id": "82a54bd6",
   "metadata": {
    "slideshow": {
     "slide_type": "fragment"
    },
    "tags": [
     "hide-input"
    ]
   },
   "outputs": [],
   "source": [
    "nx.draw_networkx(G_petersen, pos=nx.circular_layout(G_petersen), labels={i: i+1 for i in range(10)}, \n",
    "                 node_size=600, node_color='black', font_size=16, font_color='white')"
   ]
  },
  {
   "cell_type": "markdown",
   "id": "636256f1",
   "metadata": {
    "slideshow": {
     "slide_type": "fragment"
    },
    "tags": [
     "colab-keep"
    ]
   },
   "source": [
    "Each vertex $i$ has degree $3$, that is, it has three neighbors which we denote $v_{i,1}, v_{i,2}, v_{i,3}$ in some arbitrary order. For instance, denoting the vertices by $1,\\ldots, 10$ as above, vertex $9$ has neighbors $v_{9,1} = 4, v_{9,2} = 6, v_{9,3} = 7$."
   ]
  },
  {
   "cell_type": "markdown",
   "id": "d85cadf7",
   "metadata": {
    "slideshow": {
     "slide_type": "slide"
    },
    "tags": [
     "colab-keep"
    ]
   },
   "source": [
    "We consider the following random walk on $G$. We start at $X_0 = 1$. Then, for each $t\\geq 0$, we let $X_{t+1}$ be a uniformly chosen neighbor of $X_t$, independently of the previous history. That is, we jump at random from neighbor to neighbor. Formally, fix $X_0 = 1$ and let $(Z_t)_{t \\geq 0}$ be an i.i.d. sequence of random variables taking values in $\\{1,2,3\\}$ satisfying\n",
    "\n",
    "$$\n",
    "\\mathbb{P}[Z_t = 1] = \\mathbb{P}[Z_t = 2] = \\mathbb{P}[Z_t = 3] = 1/3.\n",
    "$$\n",
    "\n",
    "Then define, for all $t \\geq 0$,\n",
    "$\n",
    "X_{t+1}\n",
    "= f(X_t, Z_t)\n",
    "= v_{i,Z_t}\n",
    "$\n",
    "if $X_t = v_i$.\n",
    "\n",
    "By an argument similar to the previous example, $(X_t)_{t \\geq 0}$ is a Markov chain.\n",
    "Also as in the previous example, one can pick $X_0$ according to an initial distribution, independently from the sequence $(Z_t)_{t \\geq 0}$."
   ]
  },
  {
   "cell_type": "markdown",
   "id": "ce0b48a9",
   "metadata": {
    "tags": [
     "colab-keep"
    ]
   },
   "source": [
    "$\\lhd$"
   ]
  },
  {
   "cell_type": "markdown",
   "id": "0107efb9",
   "metadata": {
    "slideshow": {
     "slide_type": "slide"
    },
    "tags": [
     "colab-keep"
    ]
   },
   "source": [
    "**EXAMPLE:** **(Random Walk on the Petersen Graph, continued)** Consider again the random walk on the Petersen graph $G = (V,E)$. We number the vertices $1, 2,\\ldots, 10$. To compute the transition matrix, we list for each vertex its neighbors and put the value $1/3$ in the corresponding columns. For instance, vertex $1$ has neighbors $2$, $5$ and $6$, so row $1$ has $1/3$ in columns $2$, $5$, and $6$. And so on."
   ]
  },
  {
   "cell_type": "code",
   "execution_count": null,
   "id": "527b56ab",
   "metadata": {
    "slideshow": {
     "slide_type": "fragment"
    },
    "tags": [
     "hide-input"
    ]
   },
   "outputs": [],
   "source": [
    "nx.draw_networkx(G_petersen, pos=nx.circular_layout(G_petersen), labels={i: i+1 for i in range(10)}, \n",
    "                 node_size=600, node_color='black', font_size=16, font_color='white')"
   ]
  },
  {
   "cell_type": "markdown",
   "id": "1b2919a2",
   "metadata": {
    "slideshow": {
     "slide_type": "slide"
    },
    "tags": [
     "colab-keep"
    ]
   },
   "source": [
    "We get:\n",
    "\n",
    "$$\n",
    "P = \\begin{pmatrix}\n",
    "0 & 1/3 & 0 & 0 & 1/3 & 1/3 & 0 & 0 & 0 & 0\\\\\n",
    "1/3 & 0 & 1/3 & 0 & 0 & 0 & 1/3 & 0 & 0 & 0\\\\\n",
    "0 & 1/3 & 0 & 1/3 & 0 & 0 & 0 & 1/3 & 0 & 0\\\\\n",
    "0 & 0 & 1/3 & 0 & 1/3 & 0 & 0 & 0 & 1/3 & 0\\\\\n",
    "1/3 & 0 & 0 & 1/3 & 0 & 0 & 0 & 0 & 0 & 1/3\\\\\n",
    "1/3 & 0 & 0 & 0 & 0 & 0 & 0 & 1/3 & 1/3 & 0\\\\\n",
    "0 & 1/3 & 0 & 0 & 0 & 0 & 0 & 0 & 1/3 & 1/3\\\\\n",
    "0 & 0 & 1/3 & 0 & 0 & 1/3 & 0 & 0 & 0 & 1/3\\\\\n",
    "0 & 0 & 0 & 1/3 & 0 & 1/3 & 1/3 & 0 & 0 & 0\\\\\n",
    "0 & 0 & 0 & 0 & 1/3 & 0 & 1/3 & 1/3 & 0 & 0\n",
    "\\end{pmatrix}\n",
    "$$"
   ]
  },
  {
   "cell_type": "markdown",
   "id": "08d2a807",
   "metadata": {
    "slideshow": {
     "slide_type": "slide"
    },
    "tags": [
     "colab-keep"
    ]
   },
   "source": [
    "We have already encountered a matrix that encodes the neighbors of each vertex, the adjacency matrix. Here we can recover the transition matrix by multiplying the adjacency matrix by $1/3$."
   ]
  },
  {
   "cell_type": "code",
   "execution_count": null,
   "id": "74396f76",
   "metadata": {
    "slideshow": {
     "slide_type": "fragment"
    }
   },
   "outputs": [],
   "source": [
    "A_petersen = nx.adjacency_matrix(G_petersen).toarray()\n",
    "P_petersen = (1/3) * A_petersen\n",
    "print(P_petersen)"
   ]
  },
  {
   "cell_type": "markdown",
   "id": "30cdcb58",
   "metadata": {
    "slideshow": {
     "slide_type": "skip"
    },
    "tags": [
     "colab-keep"
    ]
   },
   "source": [
    "$\\lhd$"
   ]
  },
  {
   "cell_type": "markdown",
   "id": "eb16b82e",
   "metadata": {
    "slideshow": {
     "slide_type": "slide"
    },
    "tags": [
     "colab-keep"
    ]
   },
   "source": [
    "**EXAMPLE:** **(Robot Vacuum, continued)** Returning to our *Robot Vacuum Example*, the transition graph of the chain can be obtained by thinking of $P$ as the weighted adjacency matrix of the transition graph. "
   ]
  },
  {
   "cell_type": "code",
   "execution_count": null,
   "id": "44572999",
   "metadata": {
    "slideshow": {
     "slide_type": "slide"
    }
   },
   "outputs": [],
   "source": [
    "P_robot = np.array([\n",
    "[0, 0.8, 0, 0.2, 0, 0, 0, 0, 0],\n",
    "[0.3, 0, 0.2, 0, 0, 0.5, 0, 0, 0],\n",
    "[0, 0.6, 0, 0, 0, 0.4, 0, 0, 0],\n",
    "[0.1, 0.1, 0, 0, 0.8, 0, 0, 0, 0],\n",
    "[0, 0, 0, 0.25, 0, 0, 0.75, 0, 0],\n",
    "[0, 0.15, 0.15, 0, 0, 0, 0, 0.35, 0.35],\n",
    "[0, 0, 0, 0, 0, 0, 0, 1, 0],\n",
    "[0, 0, 0, 0, 0.3, 0.4, 0.2, 0, 0.1],\n",
    "[0, 0, 0, 0, 0, 1, 0, 0, 0]\n",
    "]\n",
    ")\n",
    "print(P_robot)"
   ]
  },
  {
   "cell_type": "markdown",
   "id": "e5b9ac0b",
   "metadata": {
    "slideshow": {
     "slide_type": "slide"
    },
    "tags": [
     "colab-keep"
    ]
   },
   "source": [
    "We define a graph from its adjancency matrix. See [`networkx.from_numpy_array()`](https://networkx.org/documentation/stable/reference/generated/networkx.convert_matrix.from_numpy_array.html)."
   ]
  },
  {
   "cell_type": "code",
   "execution_count": null,
   "id": "280043f2",
   "metadata": {
    "slideshow": {
     "slide_type": "fragment"
    }
   },
   "outputs": [],
   "source": [
    "G_robot = nx.from_numpy_array(P_robot, create_using=nx.DiGraph)"
   ]
  },
  {
   "cell_type": "markdown",
   "id": "af295046",
   "metadata": {
    "slideshow": {
     "slide_type": "fragment"
    },
    "tags": [
     "colab-keep"
    ]
   },
   "source": [
    "Drawing edge weights on a directed graph in a readable fashion is not straighforward. We will not do this here. "
   ]
  },
  {
   "cell_type": "code",
   "execution_count": null,
   "id": "67ed5d5c",
   "metadata": {
    "slideshow": {
     "slide_type": "fragment"
    },
    "tags": [
     "hide-input"
    ]
   },
   "outputs": [],
   "source": [
    "n_robot = P_robot.shape[0]\n",
    "nx.draw_networkx(G_robot, pos=nx.circular_layout(G_robot), \n",
    "                 labels={i: i+1 for i in range(n_robot)}, \n",
    "                 node_size=600, node_color='black', font_size=16, font_color='white', \n",
    "                 connectionstyle='arc3, rad = 0.2')"
   ]
  },
  {
   "cell_type": "markdown",
   "id": "b05d7697",
   "metadata": {
    "slideshow": {
     "slide_type": "skip"
    },
    "tags": [
     "colab-keep"
    ]
   },
   "source": [
    "$\\lhd$"
   ]
  },
  {
   "cell_type": "markdown",
   "id": "2d9a4024",
   "metadata": {
    "slideshow": {
     "slide_type": "slide"
    },
    "tags": [
     "colab-keep"
    ]
   },
   "source": [
    "**NUMERICAL CORNER:** Once we have specified a transition matrix (and an initial distribution), we can simulate the corresponding Markov chain. This is useful to compute (approximately) probabilities of complex events through the law of large numbers. Here is some code to generate one sample path up to some given time $T$. We assume that the state space is $[n]$. We use [`rng.choice`](https://numpy.org/doc/stable/reference/random/generated/numpy.random.Generator.choice.html) to generate each transition."
   ]
  },
  {
   "cell_type": "code",
   "execution_count": null,
   "id": "7fbcb557",
   "metadata": {
    "slideshow": {
     "slide_type": "skip"
    }
   },
   "outputs": [],
   "source": [
    "from numpy.random import default_rng\n",
    "rng = default_rng(535)"
   ]
  },
  {
   "cell_type": "code",
   "execution_count": null,
   "id": "ce55f34f",
   "metadata": {
    "slideshow": {
     "slide_type": "fragment"
    }
   },
   "outputs": [],
   "source": [
    "def SamplePath(mu, P, T):\n",
    "    n = mu.shape[0] # size of state space\n",
    "    X = np.zeros(T+1) # initialization of sampe path\n",
    "    for i in range(T+1):\n",
    "        if i == 0: # initial distribution\n",
    "            X[i] = rng.choice(a=np.arange(start=1,stop=n+1),p=mu)\n",
    "        else: # next state is chosen from current state row\n",
    "            X[i] = rng.choice(a=np.arange(start=1,stop=n+1),p=P[int(X[i-1]-1),:])\n",
    "    return X"
   ]
  },
  {
   "cell_type": "markdown",
   "id": "0ad2d411",
   "metadata": {
    "slideshow": {
     "slide_type": "slide"
    },
    "tags": [
     "colab-keep"
    ]
   },
   "source": [
    "Let's try with our *Robot Vacuum*. We take the initial distribution to be the uniform distribution."
   ]
  },
  {
   "cell_type": "code",
   "execution_count": null,
   "id": "49e2dd65",
   "metadata": {
    "slideshow": {
     "slide_type": "fragment"
    }
   },
   "outputs": [],
   "source": [
    "mu = np.ones(n_robot) / n_robot\n",
    "SamplePath(mu, P_robot, 10)"
   ]
  },
  {
   "cell_type": "markdown",
   "id": "74658b7a",
   "metadata": {
    "slideshow": {
     "slide_type": "slide"
    },
    "tags": [
     "colab-keep"
    ]
   },
   "source": [
    "For example, we can use a simulation to approximate the expected number of times that room $9$ is visited up to time $10$. To do this, we run the simulation a large number of times (say $1000$) and count the average number of visits to $9$."
   ]
  },
  {
   "cell_type": "code",
   "execution_count": null,
   "id": "42b606e6",
   "metadata": {
    "slideshow": {
     "slide_type": "fragment"
    }
   },
   "outputs": [],
   "source": [
    "z = 9 # state of interest\n",
    "N_samples = 1000 # number of repetitions\n",
    "visits_to_z = np.zeros(N_samples) # initialization of number of visits\n",
    "\n",
    "for i in range(N_samples):\n",
    "    visits_to_z[i] = np.count_nonzero(SamplePath(mu, P_robot, 10) == z)\n",
    "\n",
    "print(np.mean(visits_to_z))"
   ]
  },
  {
   "cell_type": "markdown",
   "id": "81dda36e",
   "metadata": {
    "slideshow": {
     "slide_type": "skip"
    },
    "tags": [
     "colab-keep"
    ]
   },
   "source": [
    "$\\lhd$"
   ]
  },
  {
   "cell_type": "markdown",
   "id": "dc49d72f",
   "metadata": {
    "slideshow": {
     "slide_type": "fragment"
    },
    "tags": [
     "colab-keep"
    ]
   },
   "source": [
    "$\\newcommand{\\P}{\\mathbb{P}}$ $\\newcommand{\\E}{\\mathbb{E}}$ $\\newcommand{\\S}{\\mathcal{S}}$ $\\newcommand{\\indep}{\\perp\\!\\!\\!\\perp}$ $\\newcommand{\\bmu}{\\boldsymbol{\\mu}}$ $\\newcommand{\\bpi}{\\boldsymbol{\\pi}}$"
   ]
  },
  {
   "cell_type": "markdown",
   "id": "f3fc8c7c",
   "metadata": {
    "slideshow": {
     "slide_type": "slide"
    },
    "tags": [
     "colab-keep"
    ]
   },
   "source": [
    "## Limit behavior"
   ]
  },
  {
   "cell_type": "markdown",
   "id": "3ac4d276",
   "metadata": {
    "slideshow": {
     "slide_type": "slide"
    },
    "tags": [
     "colab-keep"
    ]
   },
   "source": [
    "**EXAMPLE:** **(Robot Vacuum, continued)** Going back to the *Robot Vacuum Example*, recall the transition graph above."
   ]
  },
  {
   "cell_type": "code",
   "execution_count": null,
   "id": "556a79a5",
   "metadata": {
    "slideshow": {
     "slide_type": "fragment"
    }
   },
   "outputs": [],
   "source": [
    "P_robot = np.array([\n",
    "[0, 0.8, 0, 0.2, 0, 0, 0, 0, 0],\n",
    "[0.3, 0, 0.2, 0, 0, 0.5, 0, 0, 0],\n",
    "[0, 0.6, 0, 0, 0, 0.4, 0, 0, 0],\n",
    "[0.1, 0.1, 0, 0, 0.8, 0, 0, 0, 0],\n",
    "[0, 0, 0, 0.25, 0, 0, 0.75, 0, 0],\n",
    "[0, 0.15, 0.15, 0, 0, 0, 0, 0.35, 0.35],\n",
    "[0, 0, 0, 0, 0, 0, 0, 1, 0],\n",
    "[0, 0, 0, 0, 0.3, 0.4, 0.2, 0, 0.1],\n",
    "[0, 0, 0, 0, 0, 1, 0, 0, 0]\n",
    "]\n",
    ")\n",
    "G_robot = nx.from_numpy_array(P_robot, create_using=nx.DiGraph)\n",
    "n_robot = P_robot.shape[0]"
   ]
  },
  {
   "cell_type": "code",
   "execution_count": null,
   "id": "720aeb46",
   "metadata": {
    "slideshow": {
     "slide_type": "slide"
    },
    "tags": [
     "hide-input"
    ]
   },
   "outputs": [],
   "source": [
    "nx.draw_networkx(G_robot, pos=nx.circular_layout(G_robot), \n",
    "                 labels={i: i+1 for i in range(n_robot)}, \n",
    "                 node_size=600, node_color='black', font_size=16, font_color='white', \n",
    "                 connectionstyle='arc3, rad = 0.2')"
   ]
  },
  {
   "cell_type": "markdown",
   "id": "860c083c",
   "metadata": {
    "slideshow": {
     "slide_type": "fragment"
    },
    "tags": [
     "colab-keep"
    ]
   },
   "source": [
    "While there is no direct edge from $4$ to $3$, we do have $4 \\to 3$ through the path $(4,2), (2,3)$. Do we have $3 \\to 4$?"
   ]
  },
  {
   "cell_type": "markdown",
   "id": "01623a2b",
   "metadata": {
    "slideshow": {
     "slide_type": "skip"
    },
    "tags": [
     "colab-keep"
    ]
   },
   "source": [
    "$\\lhd$"
   ]
  },
  {
   "cell_type": "markdown",
   "id": "800df70e",
   "metadata": {
    "slideshow": {
     "slide_type": "slide"
    },
    "tags": [
     "colab-keep"
    ]
   },
   "source": [
    "**EXAMPLE:** **(Two Sinks)** Consider the following random walk on a digraph."
   ]
  },
  {
   "cell_type": "code",
   "execution_count": null,
   "id": "2575c70a",
   "metadata": {
    "slideshow": {
     "slide_type": "skip"
    }
   },
   "outputs": [],
   "source": [
    "G_sinks = nx.DiGraph()\n",
    "\n",
    "for i in range(5):\n",
    "    G_sinks.add_node(i)\n",
    "\n",
    "G_sinks.add_edge(0, 0, weight=1/3)\n",
    "G_sinks.add_edge(0, 1, weight=1/3)\n",
    "G_sinks.add_edge(1, 1, weight=1/3)\n",
    "G_sinks.add_edge(1, 2, weight=1/3)\n",
    "G_sinks.add_edge(2, 2, weight=1)\n",
    "G_sinks.add_edge(3, 3, weight=1)\n",
    "G_sinks.add_edge(0, 4, weight=1/3)\n",
    "G_sinks.add_edge(1, 4, weight=1/3)\n",
    "G_sinks.add_edge(4, 3, weight=1)"
   ]
  },
  {
   "cell_type": "code",
   "execution_count": null,
   "id": "f0c07ef6",
   "metadata": {
    "slideshow": {
     "slide_type": "fragment"
    },
    "tags": [
     "hide-input"
    ]
   },
   "outputs": [],
   "source": [
    "nx.draw_networkx(G_sinks, pos=nx.circular_layout(G_sinks), \n",
    "                 labels={i: i+1 for i in range(5)}, \n",
    "                 node_size=600, node_color='black', font_size=16, font_color='white')"
   ]
  },
  {
   "cell_type": "markdown",
   "id": "402ae2a3",
   "metadata": {
    "slideshow": {
     "slide_type": "fragment"
    },
    "tags": [
     "colab-keep"
    ]
   },
   "source": [
    "Here we have $1 \\to 4$ (Why?). The *Communication Lemma* implies that, when started at $1$, $(X_t)_{t \\geq 0}$ visits $4$ with positive probability. But that probability is not one. Indeed we also have $1 \\to 3$ (Why?), so there is a positive probability of visiting $3$ as well. But if we do so before visiting $4$, we stay at $3$ forever hence cannot subsequently reach $4$."
   ]
  },
  {
   "cell_type": "markdown",
   "id": "c3b85f17",
   "metadata": {
    "slideshow": {
     "slide_type": "slide"
    },
    "tags": [
     "colab-keep"
    ]
   },
   "source": [
    "In fact, intuitively, if we run this chain long enough we will either get stuck at $3$ or get stuck at $4$. These give rise to different stationary distributions. The transition probability is the following."
   ]
  },
  {
   "cell_type": "code",
   "execution_count": null,
   "id": "0db2444b",
   "metadata": {
    "slideshow": {
     "slide_type": "fragment"
    }
   },
   "outputs": [],
   "source": [
    "P_sinks = nx.adjacency_matrix(G_sinks).toarray()\n",
    "print(P_sinks)"
   ]
  },
  {
   "cell_type": "markdown",
   "id": "ae6038a8",
   "metadata": {
    "slideshow": {
     "slide_type": "slide"
    },
    "tags": [
     "colab-keep"
    ]
   },
   "source": [
    "It is easy to check that $\\bpi = (0,0,1,0,0)$ and $\\bpi' = (0,0,0,1,0)$ are both stationary distributions."
   ]
  },
  {
   "cell_type": "code",
   "execution_count": null,
   "id": "ac2f13dd",
   "metadata": {
    "slideshow": {
     "slide_type": "fragment"
    }
   },
   "outputs": [],
   "source": [
    "pi = np.array([0.,0.,1.,0.,0.])\n",
    "pi_prime = np.array([0.,0.,0.,1.,0.])"
   ]
  },
  {
   "cell_type": "code",
   "execution_count": null,
   "id": "a5b07c15",
   "metadata": {
    "slideshow": {
     "slide_type": "fragment"
    }
   },
   "outputs": [],
   "source": [
    "P_sinks.T @ pi.T"
   ]
  },
  {
   "cell_type": "code",
   "execution_count": null,
   "id": "f87648c7",
   "metadata": {
    "slideshow": {
     "slide_type": "fragment"
    }
   },
   "outputs": [],
   "source": [
    "P_sinks.T @ pi_prime.T"
   ]
  },
  {
   "cell_type": "markdown",
   "id": "218b0e23",
   "metadata": {
    "slideshow": {
     "slide_type": "slide"
    },
    "tags": [
     "colab-keep"
    ]
   },
   "source": [
    "In fact, there are infinitely many stationary distributions in this case."
   ]
  },
  {
   "cell_type": "markdown",
   "id": "29351f48",
   "metadata": {
    "slideshow": {
     "slide_type": "skip"
    },
    "tags": [
     "colab-keep"
    ]
   },
   "source": [
    "$\\lhd$"
   ]
  },
  {
   "cell_type": "markdown",
   "id": "40eff5ef",
   "metadata": {
    "slideshow": {
     "slide_type": "slide"
    },
    "tags": [
     "colab-keep"
    ]
   },
   "source": [
    "**EXAMPLE:** **(Robot Vacuum and Two Sinks, continued)** Because irreducibility is ultimately a graph-theoretic property, it is easy to check using `NetworkX`. For this, we use the function [`is_strongly_connected()`](https://networkx.org/documentation/stable/reference/algorithms/generated/networkx.algorithms.components.is_strongly_connected.html). Consider again the *Robot Vacuum Example*. This one turns out to be irreducible:"
   ]
  },
  {
   "cell_type": "code",
   "execution_count": null,
   "id": "b7053905",
   "metadata": {
    "slideshow": {
     "slide_type": "fragment"
    }
   },
   "outputs": [],
   "source": [
    "print(nx.is_strongly_connected(G_robot))"
   ]
  },
  {
   "cell_type": "markdown",
   "id": "0c072133",
   "metadata": {
    "slideshow": {
     "slide_type": "fragment"
    },
    "tags": [
     "colab-keep"
    ]
   },
   "source": [
    "The *Two Sinks Example*, on the other hand, is not:"
   ]
  },
  {
   "cell_type": "code",
   "execution_count": null,
   "id": "92a53996",
   "metadata": {
    "slideshow": {
     "slide_type": "fragment"
    }
   },
   "outputs": [],
   "source": [
    "print(nx.is_strongly_connected(G_sinks))"
   ]
  },
  {
   "cell_type": "markdown",
   "id": "2037fc6a",
   "metadata": {
    "slideshow": {
     "slide_type": "skip"
    },
    "tags": [
     "colab-keep"
    ]
   },
   "source": [
    "$\\lhd$"
   ]
  },
  {
   "cell_type": "markdown",
   "id": "366fac1c",
   "metadata": {
    "slideshow": {
     "slide_type": "slide"
    },
    "tags": [
     "colab-keep"
    ]
   },
   "source": [
    "**NUMERICAL CORNER:** In general, computing stationary distributions is not as straigthforward as in the simple example we considered above. We conclude this section with some numerical recipes."
   ]
  },
  {
   "cell_type": "markdown",
   "id": "c26f6a73",
   "metadata": {
    "slideshow": {
     "slide_type": "fragment"
    },
    "tags": [
     "colab-keep"
    ]
   },
   "source": [
    "Going back to the *Robot Vacuum*, finding a solution to $\\bpi P =\\bpi$ in this case is not obvious. One way to do this is to note that, taking transposes, this condition is equivalent to $P^T \\bpi^T = \\bpi^T$. That is, $\\bpi^T$ is an eigenvector of $P^T$ with eigenvalue $1$. (Or, as we noted previously, the row vector $\\bpi$ is a left eigenvector of $P$ with eigenvalue $1$.) It must also satisfy $\\bpi \\geq 0$ with at least one entry non-zero. Here, we use NumPy."
   ]
  },
  {
   "cell_type": "code",
   "execution_count": null,
   "id": "c0a3a0f9",
   "metadata": {
    "slideshow": {
     "slide_type": "slide"
    }
   },
   "outputs": [],
   "source": [
    "w, v = LA.eig(P_robot.T)"
   ]
  },
  {
   "cell_type": "markdown",
   "id": "e37bbeed",
   "metadata": {
    "slideshow": {
     "slide_type": "fragment"
    },
    "tags": [
     "colab-keep"
    ]
   },
   "source": [
    "The first eigenvalue is approximately $1$, as seen below."
   ]
  },
  {
   "cell_type": "code",
   "execution_count": null,
   "id": "4ada18a8",
   "metadata": {
    "slideshow": {
     "slide_type": "fragment"
    }
   },
   "outputs": [],
   "source": [
    "print(w)"
   ]
  },
  {
   "cell_type": "markdown",
   "id": "0ebfed03",
   "metadata": {
    "slideshow": {
     "slide_type": "slide"
    },
    "tags": [
     "colab-keep"
    ]
   },
   "source": [
    "The corresponding eigenvector is approximately non-negative."
   ]
  },
  {
   "cell_type": "code",
   "execution_count": null,
   "id": "a9e1f7aa",
   "metadata": {
    "slideshow": {
     "slide_type": "fragment"
    }
   },
   "outputs": [],
   "source": [
    "print(v[:,0])"
   ]
  },
  {
   "cell_type": "markdown",
   "id": "4cd14ab3",
   "metadata": {
    "slideshow": {
     "slide_type": "fragment"
    },
    "tags": [
     "colab-keep"
    ]
   },
   "source": [
    "To obtain a stationary distribution, we remove the imaginary part and normalize it to sum to $1$."
   ]
  },
  {
   "cell_type": "code",
   "execution_count": null,
   "id": "74119657",
   "metadata": {
    "slideshow": {
     "slide_type": "fragment"
    }
   },
   "outputs": [],
   "source": [
    "pi_robot = np.real(v[:,0]) / np.sum(np.real(v[:,0]))\n",
    "print(pi_robot)"
   ]
  },
  {
   "cell_type": "markdown",
   "id": "0997e835",
   "metadata": {
    "slideshow": {
     "slide_type": "slide"
    },
    "tags": [
     "colab-keep"
    ]
   },
   "source": [
    "Alternatively, we can solve the linear system\n",
    "\n",
    "$$\n",
    "\\sum_{i=1}^n \\pi_i p_{i,j} = \\pi_j, \\qquad \\forall j \\in [n].\n",
    "$$\n",
    "\n",
    "It turns out that the last equation is a linear combination over the other equations (see *Exercise 3.48*), so we remove it and replace it instead with the condition $\\sum_{i=1}^n \\pi_i = 1$. "
   ]
  },
  {
   "cell_type": "markdown",
   "id": "8270507e",
   "metadata": {
    "slideshow": {
     "slide_type": "slide"
    },
    "tags": [
     "colab-keep"
    ]
   },
   "source": [
    "The left-hand side of the resulting linear system is (after taking the transpose to work with column vectors):"
   ]
  },
  {
   "cell_type": "code",
   "execution_count": null,
   "id": "6d814472",
   "metadata": {
    "slideshow": {
     "slide_type": "fragment"
    }
   },
   "outputs": [],
   "source": [
    "A = np.copy(P_robot.T) - np.diag(np.ones(n_robot))\n",
    "A[n_robot-1,:] = np.ones(n_robot)\n",
    "print(A)"
   ]
  },
  {
   "cell_type": "markdown",
   "id": "360f90ed",
   "metadata": {
    "slideshow": {
     "slide_type": "slide"
    },
    "tags": [
     "colab-keep"
    ]
   },
   "source": [
    "The right-hand side of the resulting linear system is:"
   ]
  },
  {
   "cell_type": "code",
   "execution_count": null,
   "id": "67d9c728",
   "metadata": {
    "slideshow": {
     "slide_type": "fragment"
    }
   },
   "outputs": [],
   "source": [
    "b = np.concatenate((np.zeros(n_robot-1),[1.]))\n",
    "print(b)"
   ]
  },
  {
   "cell_type": "markdown",
   "id": "205ead67",
   "metadata": {
    "slideshow": {
     "slide_type": "slide"
    },
    "tags": [
     "colab-keep"
    ]
   },
   "source": [
    "We solve the linear system using [`numpy.linalg.solve()`](https://numpy.org/doc/stable/reference/generated/numpy.linalg.solve.html)."
   ]
  },
  {
   "cell_type": "code",
   "execution_count": null,
   "id": "f58fa790",
   "metadata": {
    "slideshow": {
     "slide_type": "fragment"
    }
   },
   "outputs": [],
   "source": [
    "pi_robot_solve = LA.solve(A,b)\n",
    "print(pi_robot_solve)"
   ]
  },
  {
   "cell_type": "markdown",
   "id": "e3ab7599",
   "metadata": {
    "slideshow": {
     "slide_type": "skip"
    },
    "tags": [
     "colab-keep"
    ]
   },
   "source": [
    "This last approach is known as \"Replace an Equation\"."
   ]
  },
  {
   "cell_type": "markdown",
   "id": "b2bd4fc4",
   "metadata": {
    "slideshow": {
     "slide_type": "skip"
    },
    "tags": [
     "colab-keep"
    ]
   },
   "source": [
    "$\\lhd$"
   ]
  },
  {
   "cell_type": "markdown",
   "id": "3af4705c",
   "metadata": {
    "slideshow": {
     "slide_type": "slide"
    },
    "tags": [
     "colab-keep"
    ]
   },
   "source": [
    "**NUMERICAL CORNER:** The *Convergence to Equilibrium Theorem* implies that we can use power iteration to compute the unique stationary diistribution in the irreducible case. We revisit the *Robot Vaccum Example*. We initialize with the uniform distribution, then repeatedly multiply by $P$."
   ]
  },
  {
   "cell_type": "code",
   "execution_count": null,
   "id": "488ba8d4",
   "metadata": {
    "slideshow": {
     "slide_type": "fragment"
    }
   },
   "outputs": [],
   "source": [
    "mu = np.ones(n_robot)/n_robot\n",
    "print(mu)"
   ]
  },
  {
   "cell_type": "code",
   "execution_count": null,
   "id": "48bdfbde",
   "metadata": {
    "slideshow": {
     "slide_type": "fragment"
    }
   },
   "outputs": [],
   "source": [
    "mu = mu @ P_robot\n",
    "print(mu)"
   ]
  },
  {
   "cell_type": "code",
   "execution_count": null,
   "id": "deba0140",
   "metadata": {
    "slideshow": {
     "slide_type": "fragment"
    }
   },
   "outputs": [],
   "source": [
    "mu = mu @ P_robot\n",
    "print(mu)"
   ]
  },
  {
   "cell_type": "markdown",
   "id": "0bd16e65",
   "metadata": {
    "slideshow": {
     "slide_type": "slide"
    },
    "tags": [
     "colab-keep"
    ]
   },
   "source": [
    "We repeat, say, $10$ more times and compare to the truth `pi_robot`."
   ]
  },
  {
   "cell_type": "code",
   "execution_count": null,
   "id": "64a651b5",
   "metadata": {
    "slideshow": {
     "slide_type": "fragment"
    }
   },
   "outputs": [],
   "source": [
    "for _ in range(10):\n",
    "    mu = mu @ P_robot\n",
    "print(mu)"
   ]
  },
  {
   "cell_type": "code",
   "execution_count": null,
   "id": "c20d3bf9",
   "metadata": {
    "slideshow": {
     "slide_type": "fragment"
    }
   },
   "outputs": [],
   "source": [
    "print(pi_robot)"
   ]
  },
  {
   "cell_type": "markdown",
   "id": "5d9a7629",
   "metadata": {
    "slideshow": {
     "slide_type": "fragment"
    },
    "tags": [
     "colab-keep"
    ]
   },
   "source": [
    "We see that a small number of iterations sufficed to get an accurate answer. In general, the speed of convergence depends on the eigenvalues of $P$ that are strictly smaller than $1$ in absolute value. We will derive this type of result in a special case in the next section."
   ]
  },
  {
   "cell_type": "markdown",
   "id": "b4cd8702",
   "metadata": {
    "slideshow": {
     "slide_type": "slide"
    },
    "tags": [
     "colab-keep"
    ]
   },
   "source": [
    "We can also check the *Ergodic Theorem* through simulation. We generate a long sample path and compare the state visit frequencies to `pi_robot`."
   ]
  },
  {
   "cell_type": "code",
   "execution_count": null,
   "id": "77c7a611",
   "metadata": {
    "slideshow": {
     "slide_type": "fragment"
    }
   },
   "outputs": [],
   "source": [
    "mu = np.ones(n_robot) / n_robot\n",
    "path_length = 10000\n",
    "visit_freq = np.zeros(n_robot) # initialization of number of visits\n",
    "\n",
    "path = mmids.SamplePath(mu, P_robot, path_length)\n",
    "for i in range(n_robot):\n",
    "    visit_freq[i] = np.count_nonzero(path == i+1)/(path_length+1)\n",
    "\n",
    "print(visit_freq)"
   ]
  },
  {
   "cell_type": "code",
   "execution_count": null,
   "id": "ca8546db",
   "metadata": {
    "slideshow": {
     "slide_type": "fragment"
    }
   },
   "outputs": [],
   "source": [
    "print(pi_robot)"
   ]
  },
  {
   "cell_type": "markdown",
   "id": "10560a4c",
   "metadata": {
    "slideshow": {
     "slide_type": "skip"
    },
    "tags": [
     "colab-keep"
    ]
   },
   "source": [
    "$\\lhd$"
   ]
  },
  {
   "cell_type": "markdown",
   "id": "f4428bd0",
   "metadata": {
    "slideshow": {
     "slide_type": "fragment"
    },
    "tags": [
     "colab-keep",
     "hide-cell"
    ]
   },
   "source": [
    "$\\newcommand{\\P}{\\mathbb{P}}$ $\\newcommand{\\E}{\\mathbb{E}}$ $\\newcommand{\\S}{\\mathcal{S}}$ $\\newcommand{\\indep}{\\perp\\!\\!\\!\\perp}$ $\\newcommand{\\bmu}{\\boldsymbol{\\mu}}$ $\\newcommand{\\bpi}{\\boldsymbol{\\pi}}$ "
   ]
  },
  {
   "cell_type": "markdown",
   "id": "ede98ccf",
   "metadata": {
    "slideshow": {
     "slide_type": "slide"
    },
    "tags": [
     "colab-keep"
    ]
   },
   "source": [
    "## Random walks on graphs and application to PageRank"
   ]
  },
  {
   "cell_type": "markdown",
   "id": "e2e60287",
   "metadata": {
    "slideshow": {
     "slide_type": "slide"
    },
    "tags": [
     "colab-keep"
    ]
   },
   "source": [
    "**EXAMPLE:** **(Random Walk on the Petersen Graph, continued)** Let $G = (V,E)$ be the Petersen graph."
   ]
  },
  {
   "cell_type": "code",
   "execution_count": 4,
   "id": "d88cf3bd",
   "metadata": {
    "slideshow": {
     "slide_type": "fragment"
    }
   },
   "outputs": [],
   "source": [
    "G_petersen = nx.petersen_graph()"
   ]
  },
  {
   "cell_type": "code",
   "execution_count": 5,
   "id": "885be498",
   "metadata": {
    "slideshow": {
     "slide_type": "fragment"
    },
    "tags": [
     "hide-input"
    ]
   },
   "outputs": [
    {
     "data": {
      "image/png": "[encoded data removed]",
      "text/plain": [
       "<Figure size 432x288 with 1 Axes>"
      ]
     },
     "metadata": {},
     "output_type": "display_data"
    }
   ],
   "source": [
    "nx.draw_networkx(G_petersen, pos=nx.circular_layout(G_petersen), labels={i: i+1 for i in range(10)}, \n",
    "                 node_size=600, node_color='black', font_size=16, font_color='white')"
   ]
  },
  {
   "cell_type": "markdown",
   "id": "7b54de77",
   "metadata": {
    "slideshow": {
     "slide_type": "slide"
    },
    "tags": [
     "colab-keep"
    ]
   },
   "source": [
    "We have shown previously that the transition matrix is\n",
    "\n",
    "$$\n",
    "P = \\begin{pmatrix}\n",
    "0 & 1/3 & 0 & 0 & 1/3 & 1/3 & 0 & 0 & 0 & 0\\\\\n",
    "1/3 & 0 & 1/3 & 0 & 0 & 0 & 1/3 & 0 & 0 & 0\\\\\n",
    "0 & 1/3 & 0 & 1/3 & 0 & 0 & 0 & 1/3 & 0 & 0\\\\\n",
    "0 & 0 & 1/3 & 0 & 1/3 & 0 & 0 & 0 & 1/3 & 0\\\\\n",
    "1/3 & 0 & 0 & 1/3 & 0 & 0 & 0 & 0 & 0 & 1/3\\\\\n",
    "1/3 & 0 & 0 & 0 & 0 & 0 & 0 & 1/3 & 1/3 & 0\\\\\n",
    "0 & 1/3 & 0 & 0 & 0 & 0 & 0 & 0 & 1/3 & 1/3\\\\\n",
    "0 & 0 & 1/3 & 0 & 0 & 1/3 & 0 & 0 & 0 & 1/3\\\\\n",
    "0 & 0 & 0 & 1/3 & 0 & 1/3 & 1/3 & 0 & 0 & 0\\\\\n",
    "0 & 0 & 0 & 0 & 1/3 & 0 & 1/3 & 1/3 & 0 & 0\n",
    "\\end{pmatrix}\n",
    "$$"
   ]
  },
  {
   "cell_type": "markdown",
   "id": "b16a244a",
   "metadata": {
    "slideshow": {
     "slide_type": "skip"
    },
    "tags": [
     "colab-keep"
    ]
   },
   "source": [
    "$\\lhd$"
   ]
  },
  {
   "cell_type": "markdown",
   "id": "ea4d9b40",
   "metadata": {
    "slideshow": {
     "slide_type": "slide"
    },
    "tags": [
     "colab-keep"
    ]
   },
   "source": [
    "**EXAMPLE:** **(A Weighted Graph)** Here is another example. Consider the following adjacency matrix on $5$ vertices."
   ]
  },
  {
   "cell_type": "code",
   "execution_count": 6,
   "id": "21c43650",
   "metadata": {
    "slideshow": {
     "slide_type": "fragment"
    }
   },
   "outputs": [
    {
     "name": "stdout",
     "output_type": "stream",
     "text": [
      "[[ 0  8  0  1  0]\n",
      " [ 8  0  6  1  0]\n",
      " [ 0  6  0  0  7]\n",
      " [ 1  1  0  0 10]\n",
      " [ 0  0  7 10  0]]\n"
     ]
    }
   ],
   "source": [
    "A_ex = np.array([\n",
    "[0, 8, 0, 1, 0],\n",
    "[8, 0, 6, 1, 0],\n",
    "[0, 6, 0, 0, 7],\n",
    "[1, 1, 0, 0, 10],\n",
    "[0, 0, 7, 10, 0]\n",
    "]\n",
    ")\n",
    "print(A_ex)"
   ]
  },
  {
   "cell_type": "markdown",
   "id": "205303ea",
   "metadata": {
    "slideshow": {
     "slide_type": "fragment"
    },
    "tags": [
     "colab-keep"
    ]
   },
   "source": [
    "It is indeed a symmetric matrix."
   ]
  },
  {
   "cell_type": "code",
   "execution_count": 7,
   "id": "3f5fd392",
   "metadata": {
    "slideshow": {
     "slide_type": "fragment"
    }
   },
   "outputs": [
    {
     "name": "stdout",
     "output_type": "stream",
     "text": [
      "0.0\n"
     ]
    }
   ],
   "source": [
    "print(LA.norm(A_ex.T - A_ex))"
   ]
  },
  {
   "cell_type": "markdown",
   "id": "d5aa5ff4",
   "metadata": {
    "slideshow": {
     "slide_type": "slide"
    },
    "tags": [
     "colab-keep"
    ]
   },
   "source": [
    "We define a graph from its adjacency matrix."
   ]
  },
  {
   "cell_type": "code",
   "execution_count": 8,
   "id": "7b9cc95d",
   "metadata": {
    "slideshow": {
     "slide_type": "fragment"
    }
   },
   "outputs": [],
   "source": [
    "n_ex = A_ex.shape[0] # number of vertices\n",
    "G_ex = nx.from_numpy_array(A_ex) # graph"
   ]
  },
  {
   "cell_type": "markdown",
   "id": "d1a3f954",
   "metadata": {
    "slideshow": {
     "slide_type": "slide"
    },
    "tags": [
     "colab-keep"
    ]
   },
   "source": [
    "To draw it, we first define edge labels by creating a dictionary that assigns to each edge (as a tuple) its weight. Here `G.edges.data('weight')` (see [`G.edges`](https://networkx.org/documentation/stable/reference/classes/generated/networkx.Graph.edges.html)) iterates through the edges `(u,v)` and includes their weight as the third entry of the tuple `(u,v,w)`. Then we use the function [`networkx.draw_networkx_edge_labels()`](https://networkx.org/documentation/stable/reference/generated/networkx.drawing.nx_pylab.draw_networkx_edge_labels.html#networkx.drawing.nx_pylab.draw_networkx_edge_labels) to add the weights as edge labels."
   ]
  },
  {
   "cell_type": "code",
   "execution_count": 9,
   "id": "d287800d",
   "metadata": {
    "slideshow": {
     "slide_type": "fragment"
    }
   },
   "outputs": [],
   "source": [
    "edge_labels = {}\n",
    "for (u,v,w) in G_ex.edges.data('weight'):\n",
    "    edge_labels[(u,v)] = w"
   ]
  },
  {
   "cell_type": "code",
   "execution_count": 10,
   "id": "0221df4b",
   "metadata": {
    "slideshow": {
     "slide_type": "fragment"
    }
   },
   "outputs": [
    {
     "data": {
      "image/png": "[encoded data removed]",
      "text/plain": [
       "<Figure size 432x288 with 1 Axes>"
      ]
     },
     "metadata": {},
     "output_type": "display_data"
    }
   ],
   "source": [
    "pos=nx.circular_layout(G_ex)\n",
    "nx.draw_networkx(G_ex, pos, labels={i: i+1 for i in range(n_ex)}, node_size=600, \n",
    "                 node_color='black', font_size=16, font_color='white')\n",
    "edge_labels = nx.draw_networkx_edge_labels(G_ex, pos, edge_labels=edge_labels)"
   ]
  },
  {
   "cell_type": "markdown",
   "id": "156aeeb9",
   "metadata": {
    "slideshow": {
     "slide_type": "slide"
    },
    "tags": [
     "colab-keep"
    ]
   },
   "source": [
    "The transition matrix of the random walk on this graph can be computed using the lemma above. We first compute the degree matrix, then apply the formula."
   ]
  },
  {
   "cell_type": "code",
   "execution_count": 11,
   "id": "cb9d2aa0",
   "metadata": {
    "slideshow": {
     "slide_type": "fragment"
    }
   },
   "outputs": [
    {
     "name": "stdout",
     "output_type": "stream",
     "text": [
      "[[0.         0.88888889 0.         0.11111111 0.        ]\n",
      " [0.53333333 0.         0.4        0.06666667 0.        ]\n",
      " [0.         0.46153846 0.         0.         0.53846154]\n",
      " [0.08333333 0.08333333 0.         0.         0.83333333]\n",
      " [0.         0.         0.41176471 0.58823529 0.        ]]\n"
     ]
    }
   ],
   "source": [
    "degrees_ex = A_ex @ np.ones(n_ex)\n",
    "inv_degrees_ex = 1/ degrees_ex\n",
    "Dinv_ex = np.diag(inv_degrees_ex)\n",
    "P_ex = Dinv_ex @ A_ex\n",
    "print(P_ex)"
   ]
  },
  {
   "cell_type": "markdown",
   "id": "e994f3bc",
   "metadata": {
    "slideshow": {
     "slide_type": "fragment"
    },
    "tags": [
     "colab-keep"
    ]
   },
   "source": [
    "This is indeed a stochastic matrix."
   ]
  },
  {
   "cell_type": "code",
   "execution_count": 12,
   "id": "f4928f7b",
   "metadata": {
    "slideshow": {
     "slide_type": "fragment"
    }
   },
   "outputs": [
    {
     "name": "stdout",
     "output_type": "stream",
     "text": [
      "[1. 1. 1. 1. 1.]\n"
     ]
    }
   ],
   "source": [
    "print(P_ex @ np.ones(n_ex))"
   ]
  },
  {
   "cell_type": "markdown",
   "id": "844ced5c",
   "metadata": {
    "slideshow": {
     "slide_type": "skip"
    },
    "tags": [
     "colab-keep"
    ]
   },
   "source": [
    "$\\lhd$"
   ]
  },
  {
   "cell_type": "markdown",
   "id": "bced633e",
   "metadata": {
    "slideshow": {
     "slide_type": "slide"
    },
    "tags": [
     "colab-keep"
    ]
   },
   "source": [
    "**EXAMPLE:** **(A Weighted Graph, continued)** Going back to our weighted graph example, we use the previous theorem to compute the stationary distribution. Note that the graph is indeed connected so the stationary distribution is unique. We have already computed the degrees."
   ]
  },
  {
   "cell_type": "code",
   "execution_count": 13,
   "id": "9855419d",
   "metadata": {
    "slideshow": {
     "slide_type": "fragment"
    }
   },
   "outputs": [
    {
     "name": "stdout",
     "output_type": "stream",
     "text": [
      "[ 9. 15. 13. 12. 17.]\n"
     ]
    }
   ],
   "source": [
    "print(degrees_ex)"
   ]
  },
  {
   "cell_type": "markdown",
   "id": "38273868",
   "metadata": {
    "slideshow": {
     "slide_type": "fragment"
    },
    "tags": [
     "colab-keep"
    ]
   },
   "source": [
    "We compute $\\sum_{i \\in V} \\delta(i)$ next."
   ]
  },
  {
   "cell_type": "code",
   "execution_count": 14,
   "id": "7cfa061d",
   "metadata": {
    "slideshow": {
     "slide_type": "fragment"
    }
   },
   "outputs": [
    {
     "name": "stdout",
     "output_type": "stream",
     "text": [
      "66.0\n"
     ]
    }
   ],
   "source": [
    "total_degrees_ex = degrees_ex @ np.ones(n_ex)\n",
    "print(total_degrees_ex)"
   ]
  },
  {
   "cell_type": "markdown",
   "id": "0e66e31f",
   "metadata": {
    "slideshow": {
     "slide_type": "slide"
    },
    "tags": [
     "colab-keep"
    ]
   },
   "source": [
    "Finally, the stationary distribution is:"
   ]
  },
  {
   "cell_type": "code",
   "execution_count": 15,
   "id": "4e177274",
   "metadata": {
    "slideshow": {
     "slide_type": "fragment"
    }
   },
   "outputs": [
    {
     "name": "stdout",
     "output_type": "stream",
     "text": [
      "[0.13636364 0.22727273 0.1969697  0.18181818 0.25757576]\n"
     ]
    }
   ],
   "source": [
    "pi_ex = degrees_ex / total_degrees_ex\n",
    "print(pi_ex)"
   ]
  },
  {
   "cell_type": "markdown",
   "id": "be6abba5",
   "metadata": {
    "slideshow": {
     "slide_type": "fragment"
    },
    "tags": [
     "colab-keep"
    ]
   },
   "source": [
    "We check stationarity."
   ]
  },
  {
   "cell_type": "code",
   "execution_count": 16,
   "id": "ea946762",
   "metadata": {
    "slideshow": {
     "slide_type": "fragment"
    }
   },
   "outputs": [
    {
     "name": "stdout",
     "output_type": "stream",
     "text": [
      "2.7755575615628914e-17\n"
     ]
    }
   ],
   "source": [
    "print(LA.norm(P_ex.T @ pi_ex - pi_ex))"
   ]
  },
  {
   "cell_type": "markdown",
   "id": "2eaac9e3",
   "metadata": {
    "slideshow": {
     "slide_type": "skip"
    },
    "tags": [
     "colab-keep"
    ]
   },
   "source": [
    "$\\lhd$"
   ]
  },
  {
   "cell_type": "markdown",
   "id": "e327be55",
   "metadata": {
    "slideshow": {
     "slide_type": "slide"
    },
    "tags": [
     "colab-keep"
    ]
   },
   "source": [
    "**NUMERICAL CORNER:** Here is an implementation of the PageRank algorithm. We will need a function that takes as input an adjacency matrix $A$ and returns the corresponding transition matrix $P$. Some vertices have no outgoing links. To avoid dividing by $0$, we add a self-loop to *all vertices with out-degree $0$*. We [`numpy.fill_diagonal`](https://numpy.org/doc/stable/reference/generated/numpy.fill_diagonal.html) for this purpose.\n",
    "\n",
    "Also, because the adjacency matrix and the vector of out-degrees have different shapes, we turn `out_deg` into a column vector using [`numpy.newaxis`](https://numpy.org/doc/stable/reference/constants.html#numpy.newaxis) to ensure that the division is [done one column at a time](https://numpy.org/doc/stable/user/basics.broadcasting.html#broadcastable-arrays). (There are many ways of doing this, [but some are slower than others](https://stackoverflow.com/questions/18522216/multiplying-across-in-a-numpy-array).)"
   ]
  },
  {
   "cell_type": "code",
   "execution_count": 17,
   "id": "fd961975",
   "metadata": {
    "slideshow": {
     "slide_type": "fragment"
    }
   },
   "outputs": [],
   "source": [
    "def transition_from_adjacency(A):\n",
    "    n = A.shape[0]\n",
    "    sinks = (A @ np.ones(n)) == 0.\n",
    "    P = A.copy()\n",
    "    np.fill_diagonal(P, sinks)\n",
    "    out_deg = P @ np.ones(n)\n",
    "    P = P / out_deg[:, np.newaxis]\n",
    "    return P"
   ]
  },
  {
   "cell_type": "markdown",
   "id": "8d789c6b",
   "metadata": {
    "slideshow": {
     "slide_type": "slide"
    },
    "tags": [
     "colab-keep"
    ]
   },
   "source": [
    "The following function adds the damping factor. Here `mu` will be the uniform distribution. It gets added (after scaling by `1-alpha`) one row at a time to `P` (again after scaling by `alpha`). This time we do not need to reshape `mu`."
   ]
  },
  {
   "cell_type": "code",
   "execution_count": 18,
   "id": "29f49c83",
   "metadata": {
    "slideshow": {
     "slide_type": "fragment"
    }
   },
   "outputs": [],
   "source": [
    "def add_damping(P, alpha, mu):\n",
    "    Q = alpha * P + (1-alpha) * mu\n",
    "    return Q"
   ]
  },
  {
   "cell_type": "markdown",
   "id": "50302186",
   "metadata": {
    "slideshow": {
     "slide_type": "slide"
    },
    "tags": [
     "colab-keep"
    ]
   },
   "source": [
    "When computing PageRank, we take the transpose of $Q$ to turn multiplication from the left into multiplication from the right."
   ]
  },
  {
   "cell_type": "code",
   "execution_count": 19,
   "id": "a07195ed",
   "metadata": {
    "slideshow": {
     "slide_type": "fragment"
    }
   },
   "outputs": [],
   "source": [
    "def pagerank(A, alpha=0.85, max_iter=100):\n",
    "    n = A.shape[0]\n",
    "    mu = np.ones(n)/n\n",
    "    P = transition_from_adjacency(A)\n",
    "    Q = add_damping(P, alpha, mu)\n",
    "    v = mu\n",
    "    for _ in range(max_iter):\n",
    "        v = Q.T @ v\n",
    "    return v"
   ]
  },
  {
   "cell_type": "markdown",
   "id": "b40602c8",
   "metadata": {
    "slideshow": {
     "slide_type": "slide"
    },
    "tags": [
     "colab-keep"
    ]
   },
   "source": [
    "Let's try a star with edges pointing out. Along the way, we check that our functions work how we expect them to."
   ]
  },
  {
   "cell_type": "code",
   "execution_count": 20,
   "id": "f0d4c791",
   "metadata": {
    "slideshow": {
     "slide_type": "fragment"
    }
   },
   "outputs": [],
   "source": [
    "n = 8\n",
    "G_outstar = nx.DiGraph()\n",
    "for i in range(1,n):\n",
    "    G_outstar.add_edge(0,i)"
   ]
  },
  {
   "cell_type": "code",
   "execution_count": 21,
   "id": "4a7888e4",
   "metadata": {
    "slideshow": {
     "slide_type": "fragment"
    },
    "tags": [
     "hide-input"
    ]
   },
   "outputs": [
    {
     "data": {
      "image/png": "[encoded data removed]",
      "text/plain": [
       "<Figure size 432x288 with 1 Axes>"
      ]
     },
     "metadata": {},
     "output_type": "display_data"
    }
   ],
   "source": [
    "nx.draw_networkx(G_outstar, \n",
    "                 labels={i: i+1 for i in range(n)}, \n",
    "                 node_size=600, node_color='black', font_size=16, font_color='white')"
   ]
  },
  {
   "cell_type": "code",
   "execution_count": 22,
   "id": "d66a0029",
   "metadata": {
    "slideshow": {
     "slide_type": "slide"
    }
   },
   "outputs": [
    {
     "name": "stdout",
     "output_type": "stream",
     "text": [
      "[[0 1 1 1 1 1 1 1]\n",
      " [0 0 0 0 0 0 0 0]\n",
      " [0 0 0 0 0 0 0 0]\n",
      " [0 0 0 0 0 0 0 0]\n",
      " [0 0 0 0 0 0 0 0]\n",
      " [0 0 0 0 0 0 0 0]\n",
      " [0 0 0 0 0 0 0 0]\n",
      " [0 0 0 0 0 0 0 0]]\n"
     ]
    }
   ],
   "source": [
    "A_outstar = nx.adjacency_matrix(G_outstar).toarray()\n",
    "print(A_outstar)"
   ]
  },
  {
   "cell_type": "code",
   "execution_count": 23,
   "id": "bad58716",
   "metadata": {
    "slideshow": {
     "slide_type": "slide"
    }
   },
   "outputs": [
    {
     "name": "stdout",
     "output_type": "stream",
     "text": [
      "[[0.         0.14285714 0.14285714 0.14285714 0.14285714 0.14285714\n",
      "  0.14285714 0.14285714]\n",
      " [0.         1.         0.         0.         0.         0.\n",
      "  0.         0.        ]\n",
      " [0.         0.         1.         0.         0.         0.\n",
      "  0.         0.        ]\n",
      " [0.         0.         0.         1.         0.         0.\n",
      "  0.         0.        ]\n",
      " [0.         0.         0.         0.         1.         0.\n",
      "  0.         0.        ]\n",
      " [0.         0.         0.         0.         0.         1.\n",
      "  0.         0.        ]\n",
      " [0.         0.         0.         0.         0.         0.\n",
      "  1.         0.        ]\n",
      " [0.         0.         0.         0.         0.         0.\n",
      "  0.         1.        ]]\n"
     ]
    }
   ],
   "source": [
    "P_outstar = transition_from_adjacency(A_outstar)\n",
    "print(P_outstar)"
   ]
  },
  {
   "cell_type": "code",
   "execution_count": 24,
   "id": "5f1069a9",
   "metadata": {
    "slideshow": {
     "slide_type": "slide"
    }
   },
   "outputs": [
    {
     "name": "stdout",
     "output_type": "stream",
     "text": [
      "[[0.01875    0.14017857 0.14017857 0.14017857 0.14017857 0.14017857\n",
      "  0.14017857 0.14017857]\n",
      " [0.01875    0.86875    0.01875    0.01875    0.01875    0.01875\n",
      "  0.01875    0.01875   ]\n",
      " [0.01875    0.01875    0.86875    0.01875    0.01875    0.01875\n",
      "  0.01875    0.01875   ]\n",
      " [0.01875    0.01875    0.01875    0.86875    0.01875    0.01875\n",
      "  0.01875    0.01875   ]\n",
      " [0.01875    0.01875    0.01875    0.01875    0.86875    0.01875\n",
      "  0.01875    0.01875   ]\n",
      " [0.01875    0.01875    0.01875    0.01875    0.01875    0.86875\n",
      "  0.01875    0.01875   ]\n",
      " [0.01875    0.01875    0.01875    0.01875    0.01875    0.01875\n",
      "  0.86875    0.01875   ]\n",
      " [0.01875    0.01875    0.01875    0.01875    0.01875    0.01875\n",
      "  0.01875    0.86875   ]]\n"
     ]
    }
   ],
   "source": [
    "alpha = 0.85\n",
    "mu = np.ones(n)/n\n",
    "Q_outstar = add_damping(P_outstar, alpha, mu)\n",
    "print(Q_outstar)"
   ]
  },
  {
   "cell_type": "markdown",
   "id": "34ae8081",
   "metadata": {
    "slideshow": {
     "slide_type": "slide"
    },
    "tags": [
     "colab-keep"
    ]
   },
   "source": [
    "While it is tempting to guess that $1$ is the most central node of the network, no edge actually points to it. In this case, the center of the star has a low PageRank value. "
   ]
  },
  {
   "cell_type": "code",
   "execution_count": 25,
   "id": "3aa19278",
   "metadata": {
    "slideshow": {
     "slide_type": "fragment"
    }
   },
   "outputs": [
    {
     "data": {
      "text/plain": [
       "array([0.01875   , 0.14017857, 0.14017857, 0.14017857, 0.14017857,\n",
       "       0.14017857, 0.14017857, 0.14017857])"
      ]
     },
     "execution_count": 25,
     "metadata": {},
     "output_type": "execute_result"
    }
   ],
   "source": [
    "pagerank(A_outstar)"
   ]
  },
  {
   "cell_type": "markdown",
   "id": "e2911833",
   "metadata": {
    "slideshow": {
     "slide_type": "slide"
    },
    "tags": [
     "colab-keep"
    ]
   },
   "source": [
    "We then try a star with edges pointing in."
   ]
  },
  {
   "cell_type": "code",
   "execution_count": 26,
   "id": "ac767a46",
   "metadata": {
    "slideshow": {
     "slide_type": "fragment"
    }
   },
   "outputs": [],
   "source": [
    "n = 8\n",
    "G_instar = nx.DiGraph()\n",
    "G_instar.add_node(0)\n",
    "for i in range(1,n):\n",
    "    G_instar.add_edge(i,0)"
   ]
  },
  {
   "cell_type": "code",
   "execution_count": 27,
   "id": "8ca4da0e",
   "metadata": {
    "slideshow": {
     "slide_type": "fragment"
    },
    "tags": [
     "hide-input"
    ]
   },
   "outputs": [
    {
     "data": {
      "image/png": "[encoded data removed]",
      "text/plain": [
       "<Figure size 432x288 with 1 Axes>"
      ]
     },
     "metadata": {},
     "output_type": "display_data"
    }
   ],
   "source": [
    "nx.draw_networkx(G_instar,  \n",
    "                 labels={i: i+1 for i in range(n)}, \n",
    "                 node_size=600, node_color='black', font_size=16, font_color='white')"
   ]
  },
  {
   "cell_type": "code",
   "execution_count": 28,
   "id": "a3a3b31e",
   "metadata": {
    "slideshow": {
     "slide_type": "slide"
    }
   },
   "outputs": [
    {
     "name": "stdout",
     "output_type": "stream",
     "text": [
      "[[0 0 0 0 0 0 0 0]\n",
      " [1 0 0 0 0 0 0 0]\n",
      " [1 0 0 0 0 0 0 0]\n",
      " [1 0 0 0 0 0 0 0]\n",
      " [1 0 0 0 0 0 0 0]\n",
      " [1 0 0 0 0 0 0 0]\n",
      " [1 0 0 0 0 0 0 0]\n",
      " [1 0 0 0 0 0 0 0]]\n"
     ]
    }
   ],
   "source": [
    "A_instar = nx.adjacency_matrix(G_instar).toarray()\n",
    "print(A_instar)"
   ]
  },
  {
   "cell_type": "code",
   "execution_count": 29,
   "id": "db9a1dfd",
   "metadata": {
    "slideshow": {
     "slide_type": "slide"
    }
   },
   "outputs": [
    {
     "name": "stdout",
     "output_type": "stream",
     "text": [
      "[[1. 0. 0. 0. 0. 0. 0. 0.]\n",
      " [1. 0. 0. 0. 0. 0. 0. 0.]\n",
      " [1. 0. 0. 0. 0. 0. 0. 0.]\n",
      " [1. 0. 0. 0. 0. 0. 0. 0.]\n",
      " [1. 0. 0. 0. 0. 0. 0. 0.]\n",
      " [1. 0. 0. 0. 0. 0. 0. 0.]\n",
      " [1. 0. 0. 0. 0. 0. 0. 0.]\n",
      " [1. 0. 0. 0. 0. 0. 0. 0.]]\n"
     ]
    }
   ],
   "source": [
    "P_instar = transition_from_adjacency(A_instar)\n",
    "print(P_instar)"
   ]
  },
  {
   "cell_type": "code",
   "execution_count": 30,
   "id": "56aa6a1b",
   "metadata": {
    "slideshow": {
     "slide_type": "slide"
    }
   },
   "outputs": [
    {
     "name": "stdout",
     "output_type": "stream",
     "text": [
      "[[0.86875 0.01875 0.01875 0.01875 0.01875 0.01875 0.01875 0.01875]\n",
      " [0.86875 0.01875 0.01875 0.01875 0.01875 0.01875 0.01875 0.01875]\n",
      " [0.86875 0.01875 0.01875 0.01875 0.01875 0.01875 0.01875 0.01875]\n",
      " [0.86875 0.01875 0.01875 0.01875 0.01875 0.01875 0.01875 0.01875]\n",
      " [0.86875 0.01875 0.01875 0.01875 0.01875 0.01875 0.01875 0.01875]\n",
      " [0.86875 0.01875 0.01875 0.01875 0.01875 0.01875 0.01875 0.01875]\n",
      " [0.86875 0.01875 0.01875 0.01875 0.01875 0.01875 0.01875 0.01875]\n",
      " [0.86875 0.01875 0.01875 0.01875 0.01875 0.01875 0.01875 0.01875]]\n"
     ]
    }
   ],
   "source": [
    "Q_instar = add_damping(P_instar, alpha, mu)\n",
    "print(Q_instar)"
   ]
  },
  {
   "cell_type": "markdown",
   "id": "2aae5446",
   "metadata": {
    "slideshow": {
     "slide_type": "slide"
    },
    "tags": [
     "colab-keep"
    ]
   },
   "source": [
    "In this case, the center of the star does indeed have a high PageRank value."
   ]
  },
  {
   "cell_type": "code",
   "execution_count": 31,
   "id": "455707cc",
   "metadata": {
    "slideshow": {
     "slide_type": "fragment"
    }
   },
   "outputs": [
    {
     "data": {
      "text/plain": [
       "array([0.86875, 0.01875, 0.01875, 0.01875, 0.01875, 0.01875, 0.01875,\n",
       "       0.01875])"
      ]
     },
     "execution_count": 31,
     "metadata": {},
     "output_type": "execute_result"
    }
   ],
   "source": [
    "pagerank(A_instar)"
   ]
  },
  {
   "cell_type": "markdown",
   "id": "c859f281",
   "metadata": {
    "slideshow": {
     "slide_type": "skip"
    },
    "tags": [
     "colab-keep"
    ]
   },
   "source": [
    "$\\unlhd$"
   ]
  },
  {
   "cell_type": "markdown",
   "id": "1d22bc95",
   "metadata": {
    "slideshow": {
     "slide_type": "skip"
    },
    "tags": [
     "colab-keep"
    ]
   },
   "source": [
    "**NUMERICAL CORNER:** We revisit the star example in the undirected case. "
   ]
  },
  {
   "cell_type": "code",
   "execution_count": 32,
   "id": "44701871",
   "metadata": {
    "slideshow": {
     "slide_type": "skip"
    }
   },
   "outputs": [],
   "source": [
    "n = 8\n",
    "G_star = nx.Graph()\n",
    "for i in range(1,n):\n",
    "    G_star.add_edge(0,i)"
   ]
  },
  {
   "cell_type": "code",
   "execution_count": 33,
   "id": "bcbf9be8",
   "metadata": {
    "slideshow": {
     "slide_type": "skip"
    }
   },
   "outputs": [
    {
     "data": {
      "image/png": "[encoded data removed]",
      "text/plain": [
       "<Figure size 432x288 with 1 Axes>"
      ]
     },
     "metadata": {},
     "output_type": "display_data"
    }
   ],
   "source": [
    "nx.draw_networkx(G_star, \n",
    "                 labels={i: i+1 for i in range(n)}, \n",
    "                 node_size=600, node_color='black', font_size=16, font_color='white')"
   ]
  },
  {
   "cell_type": "markdown",
   "id": "051ebe06",
   "metadata": {
    "slideshow": {
     "slide_type": "skip"
    },
    "tags": [
     "colab-keep"
    ]
   },
   "source": [
    "We first compute the PageRank vector without damping. Here the random walk is periodic (Why?) so power iteration may fail (Try it!). Instead, we use a small amount of damping and increase the number of iterations."
   ]
  },
  {
   "cell_type": "code",
   "execution_count": 34,
   "id": "75604893",
   "metadata": {
    "slideshow": {
     "slide_type": "skip"
    }
   },
   "outputs": [
    {
     "name": "stdout",
     "output_type": "stream",
     "text": [
      "[[0 1 1 1 1 1 1 1]\n",
      " [1 0 0 0 0 0 0 0]\n",
      " [1 0 0 0 0 0 0 0]\n",
      " [1 0 0 0 0 0 0 0]\n",
      " [1 0 0 0 0 0 0 0]\n",
      " [1 0 0 0 0 0 0 0]\n",
      " [1 0 0 0 0 0 0 0]\n",
      " [1 0 0 0 0 0 0 0]]\n"
     ]
    }
   ],
   "source": [
    "A_star = nx.adjacency_matrix(G_star).toarray()\n",
    "print(A_star)"
   ]
  },
  {
   "cell_type": "code",
   "execution_count": 35,
   "id": "f715d712",
   "metadata": {
    "slideshow": {
     "slide_type": "skip"
    }
   },
   "outputs": [
    {
     "data": {
      "text/plain": [
       "array([0.49979547, 0.07145779, 0.07145779, 0.07145779, 0.07145779,\n",
       "       0.07145779, 0.07145779, 0.07145779])"
      ]
     },
     "execution_count": 35,
     "metadata": {},
     "output_type": "execute_result"
    }
   ],
   "source": [
    "pagerank(A_star, max_iter=10000, alpha=0.999)"
   ]
  },
  {
   "cell_type": "markdown",
   "id": "827b9f18",
   "metadata": {
    "slideshow": {
     "slide_type": "skip"
    },
    "tags": [
     "colab-keep"
    ]
   },
   "source": [
    "The PageRank value for the center node is indeed roughly $7$ times larger than the other ones, as can be expected from the ratio of their degrees. "
   ]
  },
  {
   "cell_type": "markdown",
   "id": "87a64ab9",
   "metadata": {
    "slideshow": {
     "slide_type": "skip"
    },
    "tags": [
     "colab-keep"
    ]
   },
   "source": [
    "We try again with more damping. This time the ratio of PageRank values is not quite the same as the ratio of degrees, but the center node continues to have a higher value than the other nodes. "
   ]
  },
  {
   "cell_type": "code",
   "execution_count": 36,
   "id": "a472e882",
   "metadata": {
    "slideshow": {
     "slide_type": "skip"
    }
   },
   "outputs": [
    {
     "data": {
      "text/plain": [
       "array([0.46959456, 0.07577221, 0.07577221, 0.07577221, 0.07577221,\n",
       "       0.07577221, 0.07577221, 0.07577221])"
      ]
     },
     "execution_count": 36,
     "metadata": {},
     "output_type": "execute_result"
    }
   ],
   "source": [
    "pagerank(A_star)"
   ]
  },
  {
   "cell_type": "markdown",
   "id": "3297bf14",
   "metadata": {
    "slideshow": {
     "slide_type": "skip"
    },
    "tags": [
     "colab-keep"
    ]
   },
   "source": [
    "$\\unlhd$"
   ]
  },
  {
   "cell_type": "markdown",
   "id": "f73ab179",
   "metadata": {
    "slideshow": {
     "slide_type": "slide"
    },
    "tags": [
     "colab-keep"
    ]
   },
   "source": [
    "**Applying PageRank to MathWorld** We load the dataset again."
   ]
  },
  {
   "cell_type": "code",
   "execution_count": 37,
   "id": "763d691f",
   "metadata": {
    "slideshow": {
     "slide_type": "fragment"
    }
   },
   "outputs": [
    {
     "data": {
      "text/html": [
       "<div>\n",
       "<style scoped>\n",
       "    .dataframe tbody tr th:only-of-type {\n",
       "        vertical-align: middle;\n",
       "    }\n",
       "\n",
       "    .dataframe tbody tr th {\n",
       "        vertical-align: top;\n",
       "    }\n",
       "\n",
       "    .dataframe thead th {\n",
       "        text-align: right;\n",
       "    }\n",
       "</style>\n",
       "<table border=\"1\" class=\"dataframe\">\n",
       "  <thead>\n",
       "    <tr style=\"text-align: right;\">\n",
       "      <th></th>\n",
       "      <th>from</th>\n",
       "      <th>to</th>\n",
       "    </tr>\n",
       "  </thead>\n",
       "  <tbody>\n",
       "    <tr>\n",
       "      <th>0</th>\n",
       "      <td>0</td>\n",
       "      <td>2</td>\n",
       "    </tr>\n",
       "    <tr>\n",
       "      <th>1</th>\n",
       "      <td>1</td>\n",
       "      <td>47</td>\n",
       "    </tr>\n",
       "    <tr>\n",
       "      <th>2</th>\n",
       "      <td>1</td>\n",
       "      <td>404</td>\n",
       "    </tr>\n",
       "    <tr>\n",
       "      <th>3</th>\n",
       "      <td>1</td>\n",
       "      <td>2721</td>\n",
       "    </tr>\n",
       "    <tr>\n",
       "      <th>4</th>\n",
       "      <td>2</td>\n",
       "      <td>0</td>\n",
       "    </tr>\n",
       "  </tbody>\n",
       "</table>\n",
       "</div>"
      ],
      "text/plain": [
       "   from    to\n",
       "0     0     2\n",
       "1     1    47\n",
       "2     1   404\n",
       "3     1  2721\n",
       "4     2     0"
      ]
     },
     "execution_count": 37,
     "metadata": {},
     "output_type": "execute_result"
    }
   ],
   "source": [
    "df_edges = pd.read_csv('mathworld-adjacency.csv')\n",
    "df_edges.head()"
   ]
  },
  {
   "cell_type": "markdown",
   "id": "fc448ba2",
   "metadata": {
    "slideshow": {
     "slide_type": "slide"
    },
    "tags": [
     "colab-keep"
    ]
   },
   "source": [
    "The second file contains the titles of the pages."
   ]
  },
  {
   "cell_type": "code",
   "execution_count": 38,
   "id": "42d5db2f",
   "metadata": {
    "slideshow": {
     "slide_type": "fragment"
    }
   },
   "outputs": [
    {
     "data": {
      "text/html": [
       "<div>\n",
       "<style scoped>\n",
       "    .dataframe tbody tr th:only-of-type {\n",
       "        vertical-align: middle;\n",
       "    }\n",
       "\n",
       "    .dataframe tbody tr th {\n",
       "        vertical-align: top;\n",
       "    }\n",
       "\n",
       "    .dataframe thead th {\n",
       "        text-align: right;\n",
       "    }\n",
       "</style>\n",
       "<table border=\"1\" class=\"dataframe\">\n",
       "  <thead>\n",
       "    <tr style=\"text-align: right;\">\n",
       "      <th></th>\n",
       "      <th>title</th>\n",
       "    </tr>\n",
       "  </thead>\n",
       "  <tbody>\n",
       "    <tr>\n",
       "      <th>0</th>\n",
       "      <td>Alexander's Horned Sphere</td>\n",
       "    </tr>\n",
       "    <tr>\n",
       "      <th>1</th>\n",
       "      <td>Exotic Sphere</td>\n",
       "    </tr>\n",
       "    <tr>\n",
       "      <th>2</th>\n",
       "      <td>Antoine's Horned Sphere</td>\n",
       "    </tr>\n",
       "    <tr>\n",
       "      <th>3</th>\n",
       "      <td>Flat</td>\n",
       "    </tr>\n",
       "    <tr>\n",
       "      <th>4</th>\n",
       "      <td>Poincaré Manifold</td>\n",
       "    </tr>\n",
       "  </tbody>\n",
       "</table>\n",
       "</div>"
      ],
      "text/plain": [
       "                       title\n",
       "0  Alexander's Horned Sphere\n",
       "1              Exotic Sphere\n",
       "2    Antoine's Horned Sphere\n",
       "3                       Flat\n",
       "4          Poincaré Manifold"
      ]
     },
     "execution_count": 38,
     "metadata": {},
     "output_type": "execute_result"
    }
   ],
   "source": [
    "df_titles = pd.read_csv('mathworld-titles.csv')\n",
    "df_titles.head()"
   ]
  },
  {
   "cell_type": "markdown",
   "id": "ad07ead6",
   "metadata": {
    "slideshow": {
     "slide_type": "slide"
    },
    "tags": [
     "colab-keep"
    ]
   },
   "source": [
    "We construct the graph by adding the edges one by one. We first convert `df_edges` into a Numpy array."
   ]
  },
  {
   "cell_type": "code",
   "execution_count": 39,
   "id": "aae4c1e6",
   "metadata": {
    "slideshow": {
     "slide_type": "fragment"
    }
   },
   "outputs": [
    {
     "name": "stdout",
     "output_type": "stream",
     "text": [
      "[[    0     2]\n",
      " [    1    47]\n",
      " [    1   404]\n",
      " ...\n",
      " [12361 12306]\n",
      " [12361 12310]\n",
      " [12361 12360]]\n"
     ]
    }
   ],
   "source": [
    "edgelist = df_edges[['from','to']].to_numpy()\n",
    "print(edgelist)"
   ]
  },
  {
   "cell_type": "code",
   "execution_count": 40,
   "id": "851243eb",
   "metadata": {
    "slideshow": {
     "slide_type": "fragment"
    }
   },
   "outputs": [],
   "source": [
    "n = 12362\n",
    "G_mw = nx.empty_graph(n, create_using=nx.DiGraph)\n",
    "for i in range(edgelist.shape[0]):\n",
    "    G_mw.add_edge(edgelist[i,0], edgelist[i,1])"
   ]
  },
  {
   "cell_type": "markdown",
   "id": "0711440c",
   "metadata": {
    "slideshow": {
     "slide_type": "slide"
    },
    "tags": [
     "colab-keep"
    ]
   },
   "source": [
    "To apply PageRank, we construct the adjacency matric of the graph. We also define a vector of title pages."
   ]
  },
  {
   "cell_type": "code",
   "execution_count": 41,
   "id": "9dc7e1a0",
   "metadata": {
    "slideshow": {
     "slide_type": "fragment"
    }
   },
   "outputs": [],
   "source": [
    "A_mw = nx.adjacency_matrix(G_mw).toarray()\n",
    "titles_mw = df_titles['title'].to_numpy()"
   ]
  },
  {
   "cell_type": "code",
   "execution_count": 42,
   "id": "8673f97c",
   "metadata": {
    "slideshow": {
     "slide_type": "fragment"
    }
   },
   "outputs": [],
   "source": [
    "pr_mw = pagerank(A_mw)"
   ]
  },
  {
   "cell_type": "markdown",
   "id": "8e5be552",
   "metadata": {
    "slideshow": {
     "slide_type": "slide"
    },
    "tags": [
     "colab-keep"
    ]
   },
   "source": [
    "We use [`numpy.argsort`](https://numpy.org/doc/stable/reference/generated/numpy.argsort.html) to identify the pages with highest scores. We apply it to `-pr_mw` to sort from the highest to lowest value."
   ]
  },
  {
   "cell_type": "code",
   "execution_count": 43,
   "id": "4a3aeeef",
   "metadata": {
    "slideshow": {
     "slide_type": "fragment"
    }
   },
   "outputs": [],
   "source": [
    "top_pages = np.argsort(-pr_mw)"
   ]
  },
  {
   "cell_type": "markdown",
   "id": "c5bdd699",
   "metadata": {
    "slideshow": {
     "slide_type": "slide"
    },
    "tags": [
     "colab-keep"
    ]
   },
   "source": [
    "The top 25 topics are:"
   ]
  },
  {
   "cell_type": "code",
   "execution_count": 44,
   "id": "d49b6b65",
   "metadata": {
    "slideshow": {
     "slide_type": "fragment"
    }
   },
   "outputs": [
    {
     "data": {
      "text/plain": [
       "array(['Sphere', 'Circle', 'Prime Number', 'Aleksandrov-Čech Cohomology',\n",
       "       'Centroid Hexagon', 'Group', 'Fourier Transform', 'Tree',\n",
       "       'Splitting Field', 'Archimedean Solid', 'Normal Distribution',\n",
       "       'Integer Sequence Primes', 'Perimeter Polynomial', 'Polygon',\n",
       "       'Finite Group', 'Large Number', 'Riemann Zeta Function',\n",
       "       'Chebyshev Approximation Formula', 'Vector', 'Ring',\n",
       "       'Fibonacci Number', 'Conic Section', 'Fourier Series',\n",
       "       'Derivative', 'Gamma Function'], dtype=object)"
      ]
     },
     "execution_count": 44,
     "metadata": {},
     "output_type": "execute_result"
    }
   ],
   "source": [
    "titles_mw[top_pages[:25]]"
   ]
  },
  {
   "cell_type": "markdown",
   "id": "7c2ce1c0",
   "metadata": {
    "slideshow": {
     "slide_type": "fragment"
    },
    "tags": [
     "colab-keep"
    ]
   },
   "source": [
    "We indeed get a list of central concepts in mathematics -- including several we have encountered previously such as `Normal Distribution`, `Tree`, `Vector` or `Derivative`."
   ]
  },
  {
   "cell_type": "markdown",
   "id": "7bfce8d6",
   "metadata": {
    "slideshow": {
     "slide_type": "slide"
    },
    "tags": [
     "colab-keep"
    ]
   },
   "source": [
    "**Personalized PageRank** There is a variant of PageRank, referred to as Personalized PageRank (PPR), which aims to tailor the outcome to specific interests. This is accomplished from a simple change to the algorithm. When teleporting, rather than jumping to a uniformly random page, we instead jump to an arbitrary distribution which is meant to capture some specific interests. In the context of the web for instance, this distribution might be uniform over someone's bookmarks. "
   ]
  },
  {
   "cell_type": "markdown",
   "id": "d93e4dcf",
   "metadata": {
    "slideshow": {
     "slide_type": "fragment"
    },
    "tags": [
     "colab-keep"
    ]
   },
   "source": [
    "We adapt `pagerank` as follows:"
   ]
  },
  {
   "cell_type": "code",
   "execution_count": 45,
   "id": "cd105397",
   "metadata": {
    "slideshow": {
     "slide_type": "fragment"
    }
   },
   "outputs": [],
   "source": [
    "def ppr(A, mu, alpha=0.85, max_iter=100):\n",
    "    n = A.shape[0]\n",
    "    P = transition_from_adjacency(A)\n",
    "    Q = add_damping(P, alpha, mu)\n",
    "    v = mu\n",
    "    for _ in range(max_iter):\n",
    "        v = Q.T @ v\n",
    "    return v"
   ]
  },
  {
   "cell_type": "markdown",
   "id": "81233267",
   "metadata": {
    "slideshow": {
     "slide_type": "slide"
    },
    "tags": [
     "colab-keep"
    ]
   },
   "source": [
    "To test PPR, consider the distribution concentrated on a single topic `Normal Distribution`. This is topic number `1270`."
   ]
  },
  {
   "cell_type": "code",
   "execution_count": 46,
   "id": "e86124d9",
   "metadata": {
    "slideshow": {
     "slide_type": "fragment"
    }
   },
   "outputs": [
    {
     "data": {
      "text/plain": [
       "array([[1270]])"
      ]
     },
     "execution_count": 46,
     "metadata": {},
     "output_type": "execute_result"
    }
   ],
   "source": [
    "np.argwhere(titles_mw == 'Normal Distribution')"
   ]
  },
  {
   "cell_type": "code",
   "execution_count": 47,
   "id": "c5ad9452",
   "metadata": {
    "slideshow": {
     "slide_type": "fragment"
    }
   },
   "outputs": [],
   "source": [
    "mu = np.zeros(n)\n",
    "mu[1270] = 1"
   ]
  },
  {
   "cell_type": "markdown",
   "id": "6e366522",
   "metadata": {
    "slideshow": {
     "slide_type": "slide"
    },
    "tags": [
     "colab-keep"
    ]
   },
   "source": [
    "We now run PPR and list the top 25 pages."
   ]
  },
  {
   "cell_type": "code",
   "execution_count": 48,
   "id": "62233691",
   "metadata": {
    "slideshow": {
     "slide_type": "fragment"
    }
   },
   "outputs": [],
   "source": [
    "ppr_mw = ppr(A_mw, mu)"
   ]
  },
  {
   "cell_type": "code",
   "execution_count": 49,
   "id": "35935740",
   "metadata": {
    "slideshow": {
     "slide_type": "fragment"
    }
   },
   "outputs": [],
   "source": [
    "top_pers_pages = np.argsort(-ppr_mw)"
   ]
  },
  {
   "cell_type": "markdown",
   "id": "0358cd9f",
   "metadata": {
    "slideshow": {
     "slide_type": "slide"
    },
    "tags": [
     "colab-keep"
    ]
   },
   "source": [
    "The top 25 topics are:"
   ]
  },
  {
   "cell_type": "code",
   "execution_count": 50,
   "id": "3f896751",
   "metadata": {
    "slideshow": {
     "slide_type": "fragment"
    }
   },
   "outputs": [
    {
     "data": {
      "text/plain": [
       "array(['Normal Distribution', 'Pearson System', 'Logit Transformation',\n",
       "       'z-Score', 'Erf', 'Central Limit Theorem',\n",
       "       'Bivariate Normal Distribution', 'Normal Ratio Distribution',\n",
       "       'Normal Sum Distribution', 'Normal Distribution Function',\n",
       "       'Gaussian Function', 'Standard Normal Distribution',\n",
       "       'Normal Product Distribution', 'Binomial Distribution',\n",
       "       'Tetrachoric Function', 'Ratio Distribution',\n",
       "       'Kolmogorov-Smirnov Test', 'Box-Muller Transformation',\n",
       "       'Galton Board', 'Fisher-Behrens Problem', 'Erfc',\n",
       "       'Normal Difference Distribution', 'Half-Normal Distribution',\n",
       "       'Inverse Gaussian Distribution', 'Error Function Distribution'],\n",
       "      dtype=object)"
      ]
     },
     "execution_count": 50,
     "metadata": {},
     "output_type": "execute_result"
    }
   ],
   "source": [
    "titles_mw[top_pers_pages[:25]]"
   ]
  },
  {
   "cell_type": "markdown",
   "id": "c083bae3",
   "metadata": {
    "slideshow": {
     "slide_type": "fragment"
    },
    "tags": [
     "colab-keep"
    ]
   },
   "source": [
    "This indeed returns various statistical concepts, particularly related to the normal dsitribution. "
   ]
  }
 ],
 "metadata": {},
 "nbformat": 4,
 "nbformat_minor": 5
}

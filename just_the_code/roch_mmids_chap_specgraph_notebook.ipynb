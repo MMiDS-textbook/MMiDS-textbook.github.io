{
 "cells": [
  {
   "cell_type": "markdown",
   "id": "0c90d240",
   "metadata": {
    "slideshow": {
     "slide_type": "slide"
    },
    "tags": [
     "remove-cell",
     "colab-keep"
    ]
   },
   "source": [
    "***\n",
    "\n",
    "*Course:* [Math 535](https://people.math.wisc.edu/~roch/mmids/) - Mathematical Methods in Data Science (MMiDS)  \n",
    "*Chapter:* 5-Spectral graph theory   \n",
    "*Author:* [Sebastien Roch](https://people.math.wisc.edu/~roch/), Department of Mathematics, University of Wisconsin-Madison  \n",
    "*Updated:* July 15, 2024   \n",
    "*Copyright:* &copy; 2024 Sebastien Roch\n",
    "\n",
    "***"
   ]
  },
  {
   "cell_type": "code",
   "execution_count": null,
   "id": "0e60dec8",
   "metadata": {
    "slideshow": {
     "slide_type": "skip"
    },
    "tags": [
     "remove-cell"
    ]
   },
   "outputs": [],
   "source": [
    "# You will need the files:\n",
    "#     * mmids.py\n",
    "# from https://github.com/MMiDS-textbook/MMiDS-textbook.github.io/tree/main/utils\n",
    "#\n",
    "# IF RUNNING ON GOOGLE COLAB (RECOMMENDED):\n",
    "# \"Upload to session storage\" from the Files tab on the left\n",
    "# Alternative instructions: https://colab.research.google.com/notebooks/io.ipynb"
   ]
  },
  {
   "cell_type": "code",
   "execution_count": null,
   "id": "986defe9",
   "metadata": {
    "slideshow": {
     "slide_type": "skip"
    },
    "tags": [
     "remove-cell"
    ]
   },
   "outputs": [],
   "source": [
    "import numpy as np\n",
    "from numpy import linalg as LA\n",
    "import matplotlib.pyplot as plt\n",
    "import pandas as pd\n",
    "import networkx as nx\n",
    "import torch\n",
    "import mmids"
   ]
  },
  {
   "cell_type": "markdown",
   "id": "e730f45e",
   "metadata": {
    "slideshow": {
     "slide_type": "fragment"
    },
    "tags": [
     "colab-keep"
    ]
   },
   "source": [
    "$\\newcommand{\\bmu}{\\boldsymbol{\\mu}}$ \n",
    "$\\newcommand{\\bSigma}{\\boldsymbol{\\Sigma}}$\n",
    "$\\newcommand{\\bfbeta}{\\boldsymbol{\\beta}}$ \n",
    "$\\newcommand{\\bflambda}{\\boldsymbol{\\lambda}}$\n",
    "$\\newcommand{\\bgamma}{\\boldsymbol{\\gamma}}$ \n",
    "$\\newcommand{\\bsigma}{{\\boldsymbol{\\sigma}}}$\n",
    "$\\newcommand{\\bpi}{\\boldsymbol{\\pi}}$\n",
    "$\\newcommand{\\btheta}{{\\boldsymbol{\\theta}}}$ \n",
    "$\\newcommand{\\bphi}{\\boldsymbol{\\phi}}$ \n",
    "$\\newcommand{\\balpha}{\\boldsymbol{\\alpha}}$\n",
    "$\\newcommand{\\blambda}{\\boldsymbol{\\lambda}}$\n",
    "$\\renewcommand{\\P}{\\mathbb{P}}$\n",
    "$\\newcommand{\\E}{\\mathbb{E}}$\n",
    "$\\newcommand{\\indep}{\\perp\\!\\!\\!\\perp} \\newcommand{\\bx}{\\mathbf{x}}$ \n",
    "$\\newcommand{\\bp}{\\mathbf{p}}$\n",
    "$\\renewcommand{\\bx}{\\mathbf{x}}$\n",
    "$\\newcommand{\\bX}{\\mathbf{X}}$ \n",
    "$\\newcommand{\\by}{\\mathbf{y}}$ \n",
    "$\\newcommand{\\bY}{\\mathbf{Y}}$ \n",
    "$\\newcommand{\\bz}{\\mathbf{z}}$\n",
    "$\\newcommand{\\bZ}{\\mathbf{Z}}$ \n",
    "$\\newcommand{\\bw}{\\mathbf{w}}$ \n",
    "$\\newcommand{\\bW}{\\mathbf{W}}$\n",
    "$\\newcommand{\\bv}{\\mathbf{v}}$ \n",
    "$\\newcommand{\\bV}{\\mathbf{V}}$\n",
    "$\\newcommand{\\bfg}{\\mathbf{g}}$ \n",
    "$\\newcommand{\\bfh}{\\mathbf{h}}$ \n",
    "$\\newcommand{\\horz}{\\rule[.5ex]{2.5ex}{0.5pt}}$\n",
    "$\\renewcommand{\\S}{\\mathcal{S}}$ \n",
    "$\\newcommand{\\X}{\\mathcal{X}}$ \n",
    "$\\newcommand{\\var}{\\mathrm{Var}}$ \n",
    "$\\newcommand{\\pa}{\\mathrm{pa}}$\n",
    "$\\newcommand{\\Z}{\\mathcal{Z}}$ \n",
    "$\\newcommand{\\bh}{\\mathbf{h}}$ \n",
    "$\\newcommand{\\bb}{\\mathbf{b}}$ \n",
    "$\\newcommand{\\bc}{\\mathbf{c}}$ \n",
    "$\\newcommand{\\cE}{\\mathcal{E}}$ \n",
    "$\\newcommand{\\cP}{\\mathcal{P}}$\n",
    "$\\newcommand{\\bbeta}{\\boldsymbol{\\beta}}$\n",
    "$\\newcommand{\\bLambda}{\\boldsymbol{\\Lambda}}$\n",
    "$\\newcommand{\\cov}{\\mathrm{Cov}}$\n",
    "$\\newcommand{\\bfk}{\\mathbf{k}}$\n",
    "$\\newcommand{\\idx}[1]{}$\n",
    "$\\newcommand{\\xdi}{}$"
   ]
  },
  {
   "cell_type": "markdown",
   "id": "1fa5dd42",
   "metadata": {
    "slideshow": {
     "slide_type": "slide"
    },
    "tags": [
     "colab-keep"
    ]
   },
   "source": [
    "## Motivating example: uncovering social groups"
   ]
  },
  {
   "cell_type": "markdown",
   "id": "3e78ba8f",
   "metadata": {
    "slideshow": {
     "slide_type": "slide"
    },
    "tags": [
     "colab-keep"
    ]
   },
   "source": [
    "In this chapter, we analyze datasets in the form of networks. As motivation, we first look at the [Karate Club dataset](https://en.wikipedia.org/wiki/Zachary%27s_karate_club). "
   ]
  },
  {
   "cell_type": "markdown",
   "id": "b40c5383",
   "metadata": {
    "slideshow": {
     "slide_type": "fragment"
    },
    "tags": [
     "colab-keep"
    ]
   },
   "source": [
    "From [Wikipedia](https://en.wikipedia.org/wiki/Zachary%27s_karate_club):\n",
    "\n",
    "> A social network of a karate club was studied by Wayne W. Zachary for a period of three years from 1970 to 1972. The network captures 34 members of a karate club, documenting links between pairs of members who interacted outside the club. During the study a conflict arose between the administrator \"John A\" and instructor \"Mr. Hi\" (pseudonyms), which led to the split of the club into two. Half of the members formed a new club around Mr. Hi; members from the other part found a new instructor or gave up karate. Based on collected data Zachary correctly assigned all but one member of the club to the groups they actually joined after the split.\n"
   ]
  },
  {
   "cell_type": "markdown",
   "id": "0947342c",
   "metadata": {
    "slideshow": {
     "slide_type": "fragment"
    },
    "tags": [
     "colab-keep"
    ]
   },
   "source": [
    "We use the [`NetworkX`](https://networkx.org) package to load the data and visualize it (with help from Claude, who really likes the number `42`.). We will say more about it later in this chapter. In the meantime, there is a good tutorial [here](https://networkx.org/documentation/stable/tutorial.html)."
   ]
  },
  {
   "cell_type": "code",
   "execution_count": null,
   "id": "63ece2bb",
   "metadata": {
    "slideshow": {
     "slide_type": "slide"
    }
   },
   "outputs": [],
   "source": [
    "import networkx as nx\n",
    "G = nx.karate_club_graph()\n",
    "\n",
    "plt.figure(figsize=(6,6))\n",
    "pos = nx.spring_layout(G, k=0.7, iterations=50, seed=42)\n",
    "nx.draw_networkx(G, pos=pos, node_size=300, node_color='black', font_color='white')\n",
    "plt.axis('off')\n",
    "plt.show()"
   ]
  },
  {
   "cell_type": "markdown",
   "id": "212a2bc8",
   "metadata": {
    "slideshow": {
     "slide_type": "slide"
    },
    "tags": [
     "colab-keep"
    ]
   },
   "source": [
    "Our goal: \n",
    "\n",
    "> identify natural sub-groups in the network \n",
    "\n",
    "That is, we want to find groups of nodes that have many links between them, but relatively few with the other nodes. \n",
    "\n",
    "It will turn out that the eigenvectors of the Laplacian matrix, a matrix naturally associated to the graph, contain useful information about such communities."
   ]
  },
  {
   "cell_type": "markdown",
   "id": "765e1ebc",
   "metadata": {
    "slideshow": {
     "slide_type": "skip"
    },
    "tags": [
     "colab-keep"
    ]
   },
   "source": [
    "**CHAT & LEARN** Ask your favority AI chatbot why it likes the number 42 so much. $\\ddagger$"
   ]
  },
  {
   "cell_type": "markdown",
   "id": "412b90bf",
   "metadata": {
    "slideshow": {
     "slide_type": "slide"
    },
    "tags": [
     "colab-keep"
    ]
   },
   "source": [
    "## Background: basic concepts in graph theory"
   ]
  },
  {
   "cell_type": "markdown",
   "id": "0d143070",
   "metadata": {
    "slideshow": {
     "slide_type": "slide"
    },
    "tags": [
     "colab-keep"
    ]
   },
   "source": [
    "**NUMERICAL CORNER:** In Python, the [`NetworkX`](https://networkx.org) package provides many functionalities for defining, modifying and plotting graphs. For instance, many standard graphs can be defined conveniently. The [`petersen_graph()`](https://networkx.org/documentation/stable/reference/generated/networkx.generators.small.petersen_graph.html) function defines the Petersen graph."
   ]
  },
  {
   "cell_type": "code",
   "execution_count": null,
   "id": "8a3f24db",
   "metadata": {
    "slideshow": {
     "slide_type": "fragment"
    }
   },
   "outputs": [],
   "source": [
    "G = nx.petersen_graph()"
   ]
  },
  {
   "cell_type": "markdown",
   "id": "03f2d3c3",
   "metadata": {
    "slideshow": {
     "slide_type": "fragment"
    },
    "tags": [
     "colab-keep"
    ]
   },
   "source": [
    "The graph can be plotted using the function [`networkx.draw_networkx()`](https://networkx.org/documentation/stable/reference/generated/networkx.drawing.nx_pylab.draw_networkx.html). Recall that in NumPy array indices start at $0$. Consistently, NetworkX also names vertices starting at $0$. Note, however, that this conflicts with our mathematical conventions."
   ]
  },
  {
   "cell_type": "code",
   "execution_count": null,
   "id": "4d4023e7",
   "metadata": {
    "slideshow": {
     "slide_type": "slide"
    }
   },
   "outputs": [],
   "source": [
    "nx.draw_networkx(G, node_color='black', font_color='white', node_size=200)\n",
    "plt.axis('off')\n",
    "plt.show()"
   ]
  },
  {
   "cell_type": "markdown",
   "id": "e77e1584",
   "metadata": {
    "slideshow": {
     "slide_type": "slide"
    },
    "tags": [
     "colab-keep"
    ]
   },
   "source": [
    "Other standard graphs can be generated with special functions, e.g. complete graphs using [`complete_graph()`](https://networkx.org/documentation/stable/reference/generated/networkx.generators.classic.complete_graph.html#networkx.generators.classic.complete_graph). See [here](https://networkx.org/documentation/stable/reference/generators.html#module-networkx.generators.classic) for a complete list."
   ]
  },
  {
   "cell_type": "code",
   "execution_count": null,
   "id": "fa3a5653",
   "metadata": {
    "slideshow": {
     "slide_type": "slide"
    }
   },
   "outputs": [],
   "source": [
    "G = nx.complete_graph(3)\n",
    "\n",
    "nx.draw_networkx(G, node_color='black', font_color='white')\n",
    "plt.axis('off')\n",
    "plt.show()"
   ]
  },
  {
   "cell_type": "markdown",
   "id": "289a5667",
   "metadata": {
    "slideshow": {
     "slide_type": "slide"
    },
    "tags": [
     "colab-keep"
    ]
   },
   "source": [
    "See [here](https://networkx.org/documentation/stable/reference/functions.html) and [here](https://networkx.org/documentation/stable/reference/algorithms/index.html) for a list of functions to access various properties of a graph. Here are a few examples:"
   ]
  },
  {
   "cell_type": "code",
   "execution_count": null,
   "id": "f48446b4",
   "metadata": {
    "slideshow": {
     "slide_type": "slide"
    }
   },
   "outputs": [],
   "source": [
    "G = nx.path_graph(10)\n",
    "\n",
    "nx.draw_networkx(G, node_color='black', font_color='white')\n",
    "plt.axis('off')\n",
    "plt.show()"
   ]
  },
  {
   "cell_type": "code",
   "execution_count": null,
   "id": "41437e1d",
   "metadata": {
    "slideshow": {
     "slide_type": "slide"
    }
   },
   "outputs": [],
   "source": [
    "G.number_of_nodes() # number of nodes"
   ]
  },
  {
   "cell_type": "code",
   "execution_count": null,
   "id": "62ab3dbd",
   "metadata": {
    "slideshow": {
     "slide_type": "fragment"
    }
   },
   "outputs": [],
   "source": [
    "G.number_of_edges() # number of edges"
   ]
  },
  {
   "cell_type": "code",
   "execution_count": null,
   "id": "6d9eaa0b",
   "metadata": {
    "slideshow": {
     "slide_type": "fragment"
    }
   },
   "outputs": [],
   "source": [
    "G.has_node(7) # checks whether the graph has a particular vertex"
   ]
  },
  {
   "cell_type": "code",
   "execution_count": null,
   "id": "b588a1af",
   "metadata": {
    "slideshow": {
     "slide_type": "slide"
    }
   },
   "outputs": [],
   "source": [
    "G.has_node(10)"
   ]
  },
  {
   "cell_type": "code",
   "execution_count": null,
   "id": "75edaa3d",
   "metadata": {
    "slideshow": {
     "slide_type": "fragment"
    }
   },
   "outputs": [],
   "source": [
    "G.has_edge(0, 1) # checks whether the graph has a particular edge"
   ]
  },
  {
   "cell_type": "code",
   "execution_count": null,
   "id": "b2e75c64",
   "metadata": {
    "slideshow": {
     "slide_type": "fragment"
    }
   },
   "outputs": [],
   "source": [
    "G.has_edge(0, 2)"
   ]
  },
  {
   "cell_type": "code",
   "execution_count": null,
   "id": "a64654dc",
   "metadata": {
    "slideshow": {
     "slide_type": "slide"
    }
   },
   "outputs": [],
   "source": [
    "[n for n in G.neighbors(2)] # returns a list of neighbors of the specified vertex"
   ]
  },
  {
   "cell_type": "code",
   "execution_count": null,
   "id": "34cd346c",
   "metadata": {
    "slideshow": {
     "slide_type": "fragment"
    }
   },
   "outputs": [],
   "source": [
    "nx.is_connected(G) # checks whether the graph is connected"
   ]
  },
  {
   "cell_type": "code",
   "execution_count": null,
   "id": "2867c7ac",
   "metadata": {
    "slideshow": {
     "slide_type": "fragment"
    }
   },
   "outputs": [],
   "source": [
    "[cc for cc in nx.connected_components(G)] # returns the connected components"
   ]
  },
  {
   "cell_type": "code",
   "execution_count": null,
   "id": "6bf7f9ed",
   "metadata": {
    "slideshow": {
     "slide_type": "slide"
    }
   },
   "outputs": [],
   "source": [
    "for e in G.edges():\n",
    "    print(e)"
   ]
  },
  {
   "cell_type": "markdown",
   "id": "d74ce3bd",
   "metadata": {
    "slideshow": {
     "slide_type": "slide"
    },
    "tags": [
     "colab-keep"
    ]
   },
   "source": [
    "Another way of specifying a graph is to start with an empty graph with a given number of vertices and then add edges one by one. The following command creates a graph with $4$ vertices and no edge (see [`empty_graph()`](https://networkx.org/documentation/stable/reference/generated/networkx.generators.classic.empty_graph.html#networkx.generators.classic.empty_graph))."
   ]
  },
  {
   "cell_type": "code",
   "execution_count": null,
   "id": "1daeb6ad",
   "metadata": {
    "scrolled": false,
    "slideshow": {
     "slide_type": "slide"
    }
   },
   "outputs": [],
   "source": [
    "G = nx.empty_graph(4)\n",
    "G.add_edge(0, 1)\n",
    "G.add_edge(2, 3)\n",
    "G.add_edge(0, 3)\n",
    "G.add_edge(3, 0)\n",
    "\n",
    "nx.draw_networkx(G, node_color='black', font_color='white')\n",
    "plt.axis('off')\n",
    "plt.show()"
   ]
  },
  {
   "cell_type": "markdown",
   "id": "ca678bb5",
   "metadata": {
    "slideshow": {
     "slide_type": "skip"
    },
    "tags": [
     "colab-keep"
    ]
   },
   "source": [
    "$\\unlhd$"
   ]
  },
  {
   "cell_type": "markdown",
   "id": "da7136e8",
   "metadata": {
    "slideshow": {
     "slide_type": "slide"
    },
    "tags": [
     "colab-keep"
    ]
   },
   "source": [
    "**NUMERICAL CORNER:** The package `NetworkX` also supports digraphs."
   ]
  },
  {
   "cell_type": "code",
   "execution_count": null,
   "id": "86f16a22",
   "metadata": {
    "slideshow": {
     "slide_type": "slide"
    }
   },
   "outputs": [],
   "source": [
    "G = nx.DiGraph()\n",
    "nx.add_star(G, [0, 1, 2, 3, 4])\n",
    "\n",
    "nx.draw_networkx(G, node_color='black', font_color='white')\n",
    "plt.axis('off')\n",
    "plt.show()"
   ]
  },
  {
   "cell_type": "markdown",
   "id": "5cb1d564",
   "metadata": {
    "slideshow": {
     "slide_type": "slide"
    },
    "tags": [
     "colab-keep"
    ]
   },
   "source": [
    "Another way of specifying a digraph is to start with an empty graph with a given number of vertices and then add edges one by one (compare to the undirected case above)."
   ]
  },
  {
   "cell_type": "code",
   "execution_count": null,
   "id": "1def6981",
   "metadata": {
    "slideshow": {
     "slide_type": "slide"
    }
   },
   "outputs": [],
   "source": [
    "G = nx.DiGraph()\n",
    "G.add_edge(0, 1)\n",
    "G.add_edge(2, 3)\n",
    "G.add_edge(0, 3)\n",
    "G.add_edge(3, 0)\n",
    "G.add_edge(1, 1)\n",
    "\n",
    "nx.draw_networkx(G, node_color='black', font_color='white')\n",
    "plt.axis('off')\n",
    "plt.show()"
   ]
  },
  {
   "cell_type": "markdown",
   "id": "361d3ad0",
   "metadata": {
    "slideshow": {
     "slide_type": "slide"
    },
    "tags": [
     "colab-keep"
    ]
   },
   "source": [
    "Note that edges in both directions are depicted here with a double-arrow. Also the self-loop is hard to see. We can use \n",
    "[`networkx.draw_networkx_edges()`](https://networkx.org/documentation/stable/reference/generated/networkx.drawing.nx_pylab.draw_networkx_edges.html#networkx.drawing.nx_pylab.draw_networkx_edges) (together with\n",
    "[`networkx.draw_networkx_nodes()`](https://networkx.org/documentation/stable/reference/generated/networkx.drawing.nx_pylab.draw_networkx_nodes.html#networkx.drawing.nx_pylab.draw_networkx_nodes) and\n",
    "[`networkx.draw_networkx_labels()`](https://networkx.org/documentation/stable/reference/generated/networkx.drawing.nx_pylab.draw_networkx_labels.html#networkx.drawing.nx_pylab.draw_networkx_labels))\n",
    "to have more control over the drawing of the edges. "
   ]
  },
  {
   "cell_type": "code",
   "execution_count": null,
   "id": "80aaa42c",
   "metadata": {
    "slideshow": {
     "slide_type": "slide"
    }
   },
   "outputs": [],
   "source": [
    "pos = nx.spring_layout(G, seed=42)\n",
    "nx.draw_networkx_nodes(G, pos, node_color='black')\n",
    "nx.draw_networkx_labels(G, pos, font_color='white')\n",
    "nx.draw_networkx_edges(G, pos, connectionstyle=\"arc3,rad=0.3\")\n",
    "plt.axis('off')\n",
    "plt.show()"
   ]
  },
  {
   "cell_type": "markdown",
   "id": "b10c9211",
   "metadata": {
    "slideshow": {
     "slide_type": "skip"
    },
    "tags": [
     "colab-keep"
    ]
   },
   "source": [
    "$\\unlhd$"
   ]
  },
  {
   "cell_type": "markdown",
   "id": "ae587c96",
   "metadata": {
    "slideshow": {
     "slide_type": "slide"
    },
    "tags": [
     "colab-keep"
    ]
   },
   "source": [
    "**NUMERICAL CORNER:** Using `NetworkX`, the adjacency matrix of a graph can be obtained with [`adjacency_matrix()`](https://networkx.org/documentation/stable/reference/generated/networkx.linalg.graphmatrix.adjacency_matrix.html). By default, it returns a `SciPy` sparse matrix. Alternatively, one can get a regular array with [`toarray()`](https://docs.scipy.org/doc/scipy/reference/generated/scipy.sparse.csr_matrix.toarray.html). "
   ]
  },
  {
   "cell_type": "code",
   "execution_count": null,
   "id": "66ea427f",
   "metadata": {
    "slideshow": {
     "slide_type": "slide"
    }
   },
   "outputs": [],
   "source": [
    "G = nx.complete_graph(4)\n",
    "A = nx.adjacency_matrix(G)\n",
    "print(A)"
   ]
  },
  {
   "cell_type": "code",
   "execution_count": null,
   "id": "685072f1",
   "metadata": {
    "slideshow": {
     "slide_type": "slide"
    }
   },
   "outputs": [],
   "source": [
    "A = nx.adjacency_matrix(G).toarray()\n",
    "print(A)"
   ]
  },
  {
   "cell_type": "markdown",
   "id": "9162f95d",
   "metadata": {
    "slideshow": {
     "slide_type": "slide"
    },
    "tags": [
     "colab-keep"
    ]
   },
   "source": [
    "The incidence matrix is obtained with [`incidence_matrix()`](https://networkx.org/documentation/stable/reference/generated/networkx.linalg.graphmatrix.incidence_matrix.html) -- again as a sparse array."
   ]
  },
  {
   "cell_type": "code",
   "execution_count": null,
   "id": "c789fb59",
   "metadata": {
    "slideshow": {
     "slide_type": "slide"
    }
   },
   "outputs": [],
   "source": [
    "B = nx.incidence_matrix(G)\n",
    "print(B)"
   ]
  },
  {
   "cell_type": "code",
   "execution_count": null,
   "id": "797cf9df",
   "metadata": {
    "slideshow": {
     "slide_type": "slide"
    }
   },
   "outputs": [],
   "source": [
    "B = nx.incidence_matrix(G).toarray()\n",
    "print(B)"
   ]
  },
  {
   "cell_type": "markdown",
   "id": "eb9ac884",
   "metadata": {
    "slideshow": {
     "slide_type": "skip"
    },
    "tags": [
     "colab-keep"
    ]
   },
   "source": [
    "$\\unlhd$"
   ]
  },
  {
   "cell_type": "markdown",
   "id": "6ea5cbd3",
   "metadata": {
    "slideshow": {
     "slide_type": "slide"
    },
    "tags": [
     "colab-keep"
    ]
   },
   "source": [
    "**NUMERICAL CORNER:** We revisit an earlier directed graph."
   ]
  },
  {
   "cell_type": "code",
   "execution_count": null,
   "id": "c1cf8f18",
   "metadata": {
    "slideshow": {
     "slide_type": "fragment"
    }
   },
   "outputs": [],
   "source": [
    "G = nx.DiGraph()\n",
    "G.add_edge(0, 1)\n",
    "G.add_edge(2, 3)\n",
    "G.add_edge(0, 3)\n",
    "G.add_edge(3, 0)\n",
    "G.add_edge(1,1)"
   ]
  },
  {
   "cell_type": "markdown",
   "id": "ad160653",
   "metadata": {
    "slideshow": {
     "slide_type": "slide"
    },
    "tags": [
     "colab-keep"
    ]
   },
   "source": [
    "We compute the adjacency and incidence matrices. For the incidence matrix, one must specify `oriented=True` for the oriented version."
   ]
  },
  {
   "cell_type": "code",
   "execution_count": null,
   "id": "c475ce64",
   "metadata": {
    "slideshow": {
     "slide_type": "fragment"
    }
   },
   "outputs": [],
   "source": [
    "A = nx.adjacency_matrix(G).toarray()\n",
    "print(A)"
   ]
  },
  {
   "cell_type": "code",
   "execution_count": null,
   "id": "bd09af17",
   "metadata": {
    "slideshow": {
     "slide_type": "slide"
    }
   },
   "outputs": [],
   "source": [
    "B = nx.incidence_matrix(G, oriented=True).toarray()\n",
    "print(B)"
   ]
  },
  {
   "cell_type": "markdown",
   "id": "760f2160",
   "metadata": {
    "slideshow": {
     "slide_type": "slide"
    },
    "tags": [
     "colab-keep"
    ]
   },
   "source": [
    "Revisiting an ealier undirected graph, we note that `incidence_matrix()` can also produce an arbitrary oriented incidence matrix by using the `oriented=True` option."
   ]
  },
  {
   "cell_type": "code",
   "execution_count": null,
   "id": "c02abd06",
   "metadata": {
    "scrolled": true,
    "slideshow": {
     "slide_type": "fragment"
    }
   },
   "outputs": [],
   "source": [
    "G = nx.empty_graph(4)\n",
    "G.add_edge(0, 1)\n",
    "G.add_edge(2, 3)\n",
    "G.add_edge(0, 3)\n",
    "G.add_edge(3, 0)\n",
    "\n",
    "B = nx.incidence_matrix(G, oriented=True).toarray()\n",
    "print(B)"
   ]
  },
  {
   "cell_type": "markdown",
   "id": "244af96d",
   "metadata": {
    "slideshow": {
     "slide_type": "skip"
    },
    "tags": [
     "colab-keep"
    ]
   },
   "source": [
    "$\\unlhd$"
   ]
  },
  {
   "cell_type": "markdown",
   "id": "5b13fd80",
   "metadata": {
    "slideshow": {
     "slide_type": "slide"
    },
    "tags": [
     "colab-keep"
    ]
   },
   "source": [
    "## Spectral properties of the Laplacian matrix"
   ]
  },
  {
   "cell_type": "markdown",
   "id": "8202fd5a",
   "metadata": {
    "slideshow": {
     "slide_type": "slide"
    },
    "tags": [
     "colab-keep"
    ]
   },
   "source": [
    "**NUMERICAL CORNER:** One use of the spectral decomposition of the Laplacian matrix is in graph drawing$\\idx{graph drawing}\\xdi$. We illustrate this next. Given a graph $G = (V, E)$, it is not clear a priori how to draw it in the plane since the only information available are adjacencies of vertices. One approach is just to position the vertices at random. The function [`networkx.draw()`](https://networkx.org/documentation/stable/reference/generated/networkx.drawing.nx_pylab.draw.html) or [`networkx.draw_networkx()`](https://networkx.org/documentation/stable/reference/generated/networkx.drawing.nx_pylab.draw_networkx.html#networkx.drawing.nx_pylab.draw_networkx)can take as input different [graph layout](https://networkx.org/documentation/stable/reference/drawing.html#module-networkx.drawing.layout) functions that return an $x$ and $y$-coordinate for each vertex."
   ]
  },
  {
   "cell_type": "markdown",
   "id": "a4454871",
   "metadata": {
    "slideshow": {
     "slide_type": "fragment"
    },
    "tags": [
     "colab-keep"
    ]
   },
   "source": [
    "We will test this on a grid graph. We use [`grid_2d_graph()`](https://networkx.org/documentation/stable/reference/generated/networkx.generators.lattice.grid_2d_graph.html) to construct such a graph."
   ]
  },
  {
   "cell_type": "code",
   "execution_count": null,
   "id": "66572f2e",
   "metadata": {
    "scrolled": true,
    "slideshow": {
     "slide_type": "fragment"
    }
   },
   "outputs": [],
   "source": [
    "G = nx.grid_2d_graph(4,7)"
   ]
  },
  {
   "cell_type": "markdown",
   "id": "a0bf9b79",
   "metadata": {
    "slideshow": {
     "slide_type": "fragment"
    },
    "tags": [
     "colab-keep"
    ]
   },
   "source": [
    "One layout approach is to choose random locations for the nodes. Specifically, for every node, a position is generated by choosing each coordinate uniformly at random on the interval $[0,1]$."
   ]
  },
  {
   "cell_type": "code",
   "execution_count": null,
   "id": "56dfd18f",
   "metadata": {
    "slideshow": {
     "slide_type": "slide"
    }
   },
   "outputs": [],
   "source": [
    "nx.draw_networkx(G, pos=nx.random_layout(G, seed=535), with_labels=False, \n",
    "                 node_size=50, node_color='black', width=0.5)\n",
    "plt.axis('off')\n",
    "plt.show()"
   ]
  },
  {
   "cell_type": "markdown",
   "id": "913c6c3d",
   "metadata": {
    "slideshow": {
     "slide_type": "slide"
    },
    "tags": [
     "colab-keep"
    ]
   },
   "source": [
    "Clearly, this is hard to read. \n",
    "\n",
    "Another approach is to map the vertices to two eigenvectors, similarly to what we did for dimensionality reduction. The eigenvector associated to $\\mu_1$ is constant and therefore not useful for drawing. We try the next two. We use the Laplacian matrix. This is done using [`spectral_layout()`](https://networkx.org/documentation/stable/reference/generated/networkx.drawing.layout.spectral_layout.html#networkx.drawing.layout.spectral_layout)."
   ]
  },
  {
   "cell_type": "code",
   "execution_count": null,
   "id": "1d91e5c2",
   "metadata": {
    "slideshow": {
     "slide_type": "slide"
    }
   },
   "outputs": [],
   "source": [
    "nx.draw_networkx(G, pos=nx.spectral_layout(G), with_labels=False, \n",
    "                 node_size=50, node_color='black', width=0.5)\n",
    "plt.axis('off')\n",
    "plt.show()"
   ]
  },
  {
   "cell_type": "markdown",
   "id": "616f8568",
   "metadata": {
    "slideshow": {
     "slide_type": "slide"
    },
    "tags": [
     "colab-keep"
    ]
   },
   "source": [
    "Interestingly, the outcome is provides a much more natural drawing of the graph, revealing its underlying structure as a grid. We will come back later to try to explain this, after we have developed further understanding of the spectral properties of the Laplacian matrix."
   ]
  },
  {
   "cell_type": "markdown",
   "id": "993378d4",
   "metadata": {
    "slideshow": {
     "slide_type": "skip"
    },
    "tags": [
     "colab-keep"
    ]
   },
   "source": [
    "$\\unlhd$"
   ]
  },
  {
   "cell_type": "markdown",
   "id": "68238057",
   "metadata": {
    "slideshow": {
     "slide_type": "slide"
    },
    "tags": [
     "colab-keep"
    ]
   },
   "source": [
    "**NUMERICAL CORNER:** We construct a graph with two connected components and check the results above. We work directly with the adjacency matrix."
   ]
  },
  {
   "cell_type": "code",
   "execution_count": null,
   "id": "804cd827",
   "metadata": {
    "slideshow": {
     "slide_type": "fragment"
    }
   },
   "outputs": [],
   "source": [
    "A = np.array([[0, 1, 1, 0, 0], \n",
    "              [1, 0, 1, 0, 0], \n",
    "              [1, 1, 0, 0, 0], \n",
    "              [0, 0, 0, 0, 1], \n",
    "              [0, 0, 0, 1, 0]])\n",
    "print(A)"
   ]
  },
  {
   "cell_type": "markdown",
   "id": "cf9e3388",
   "metadata": {
    "slideshow": {
     "slide_type": "fragment"
    },
    "tags": [
     "colab-keep"
    ]
   },
   "source": [
    "Note the block structure."
   ]
  },
  {
   "cell_type": "markdown",
   "id": "729d87ed",
   "metadata": {
    "slideshow": {
     "slide_type": "slide"
    },
    "tags": [
     "colab-keep"
    ]
   },
   "source": [
    "The degrees can be obtained by summing the rows of the adjacency matrix."
   ]
  },
  {
   "cell_type": "code",
   "execution_count": null,
   "id": "615f99f9",
   "metadata": {
    "slideshow": {
     "slide_type": "fragment"
    }
   },
   "outputs": [],
   "source": [
    "degrees = A.sum(axis=1)\n",
    "print(degrees)"
   ]
  },
  {
   "cell_type": "code",
   "execution_count": null,
   "id": "467cdd78",
   "metadata": {
    "slideshow": {
     "slide_type": "fragment"
    }
   },
   "outputs": [],
   "source": [
    "D = np.diag(degrees)\n",
    "print(D)"
   ]
  },
  {
   "cell_type": "code",
   "execution_count": null,
   "id": "0f1220ad",
   "metadata": {
    "slideshow": {
     "slide_type": "slide"
    }
   },
   "outputs": [],
   "source": [
    "L = D - A\n",
    "print(L)"
   ]
  },
  {
   "cell_type": "code",
   "execution_count": null,
   "id": "3aab8200",
   "metadata": {
    "slideshow": {
     "slide_type": "fragment"
    }
   },
   "outputs": [],
   "source": [
    "print(LA.eigvals(L))"
   ]
  },
  {
   "cell_type": "markdown",
   "id": "84c76e0c",
   "metadata": {
    "slideshow": {
     "slide_type": "fragment"
    },
    "tags": [
     "colab-keep"
    ]
   },
   "source": [
    "Observe that (up to numerical error) there are two $0$ eigenvalues and that the largest eigenvalue is greater or equal than the maximum degree plus one."
   ]
  },
  {
   "cell_type": "markdown",
   "id": "16bc8304",
   "metadata": {
    "slideshow": {
     "slide_type": "slide"
    },
    "tags": [
     "colab-keep"
    ]
   },
   "source": [
    "To compute the Laplacian matrix, one can also use the function `laplacian_matrix()`. For example, the Laplacian of the Petersen graph is the following:"
   ]
  },
  {
   "cell_type": "code",
   "execution_count": null,
   "id": "3efa3a84",
   "metadata": {
    "slideshow": {
     "slide_type": "fragment"
    }
   },
   "outputs": [],
   "source": [
    "G = nx.petersen_graph()\n",
    "L = nx.laplacian_matrix(G).toarray()\n",
    "print(L)"
   ]
  },
  {
   "cell_type": "code",
   "execution_count": null,
   "id": "b71093a9",
   "metadata": {
    "slideshow": {
     "slide_type": "slide"
    }
   },
   "outputs": [],
   "source": [
    "print(LA.eigvals(L))"
   ]
  },
  {
   "cell_type": "markdown",
   "id": "e0eeb13b",
   "metadata": {
    "slideshow": {
     "slide_type": "skip"
    },
    "tags": [
     "colab-keep"
    ]
   },
   "source": [
    "$\\unlhd$"
   ]
  },
  {
   "cell_type": "markdown",
   "id": "dc5fa65b",
   "metadata": {
    "slideshow": {
     "slide_type": "slide"
    },
    "tags": [
     "colab-keep"
    ]
   },
   "source": [
    "**NUMERICAL CORNER:** This is perhaps easiest to see on a path graph. Recall that `NetworkX` numbers vertices $0,\\ldots,n-1$. "
   ]
  },
  {
   "cell_type": "code",
   "execution_count": null,
   "id": "6aae4dcf",
   "metadata": {
    "slideshow": {
     "slide_type": "fragment"
    }
   },
   "outputs": [],
   "source": [
    "G = nx.path_graph(10)"
   ]
  },
  {
   "cell_type": "markdown",
   "id": "65003b3f",
   "metadata": {
    "slideshow": {
     "slide_type": "fragment"
    },
    "tags": [
     "colab-keep"
    ]
   },
   "source": [
    "We plot the second Laplacian eigenvector (i.e., the eigenvector of the Laplacian matrix corresponding to the second smallest eigenvalue). We use [`numpy.argsort()`](https://numpy.org/doc/stable/reference/generated/numpy.argsort.html) to find the index of the second smallest eigenvalue. Because indices start at `0`, we want entry `1` of the output of `np.argsort()`."
   ]
  },
  {
   "cell_type": "code",
   "execution_count": null,
   "id": "2ac98da6",
   "metadata": {
    "slideshow": {
     "slide_type": "slide"
    }
   },
   "outputs": [],
   "source": [
    "L = nx.laplacian_matrix(G).toarray()\n",
    "w, v = LA.eigh(L)\n",
    "y2 = v[:,np.argsort(w)[1]]\n",
    "\n",
    "plt.plot(y2, c='k')\n",
    "plt.show()"
   ]
  },
  {
   "cell_type": "markdown",
   "id": "590ac68e",
   "metadata": {
    "slideshow": {
     "slide_type": "skip"
    },
    "tags": [
     "colab-keep"
    ]
   },
   "source": [
    "$\\unlhd$"
   ]
  },
  {
   "cell_type": "markdown",
   "id": "0a6e60fb",
   "metadata": {
    "slideshow": {
     "slide_type": "slide"
    },
    "tags": [
     "colab-keep"
    ]
   },
   "source": [
    "## Application: graph partitioning via spectral clustering"
   ]
  },
  {
   "cell_type": "markdown",
   "id": "c3b12d5f",
   "metadata": {
    "slideshow": {
     "slide_type": "slide"
    },
    "tags": [
     "colab-keep"
    ]
   },
   "source": [
    "**NUMERICAL CORNER:** **(A Random Tree)** We illustrate the definitions above on a tree, that is, a connected graph with no cycle. The function [`networkx.random_tree()`](https://networkx.org/documentation/stable/reference/generated/networkx.generators.trees.random_tree.html) can produce a random one. As before we use a `seed` for reproducibility. Again, we use $0,\\ldots,n-1$ for the vertex set."
   ]
  },
  {
   "cell_type": "code",
   "execution_count": null,
   "id": "8c40042f",
   "metadata": {
    "slideshow": {
     "slide_type": "slide"
    }
   },
   "outputs": [],
   "source": [
    "G_tree = nx.random_tree(n=6, seed=111)\n",
    "\n",
    "nx.draw_networkx(G_tree, pos=nx.circular_layout(G_tree), \n",
    "                 node_color='black', font_color='white')\n",
    "plt.axis('off')\n",
    "plt.show()"
   ]
  },
  {
   "cell_type": "markdown",
   "id": "995cddff",
   "metadata": {
    "slideshow": {
     "slide_type": "slide"
    },
    "tags": [
     "colab-keep"
    ]
   },
   "source": [
    "Suppose we take $S = \\{0,1,2,3\\}$. Then $S^c = \\{4,5\\}$ and \n",
    "\n",
    "$$\n",
    "E(S,S^c)\n",
    "= \\{\\{1,5\\}, \\{2,4\\}\\}.\n",
    "$$\n",
    "\n",
    "The cut ratio is then\n",
    "\n",
    "$$\n",
    "\\phi(S)\n",
    "= \\frac{|E(S,S^c)|}{\\min\\{|S|,|S^c|\\}}\n",
    "= \\frac{2}{2}\n",
    "= 1.\n",
    "$$"
   ]
  },
  {
   "cell_type": "markdown",
   "id": "8dfb44c0",
   "metadata": {
    "slideshow": {
     "slide_type": "slide"
    },
    "tags": [
     "colab-keep"
    ]
   },
   "source": [
    "A better cut is given by $S = \\{0,1,5\\}$. In that case $S^c = \\{2,3,4\\}$, \n",
    "\n",
    "$$\n",
    "E(S,S^c)= \\{\\{1,3\\}\\},\n",
    "$$\n",
    "\n",
    "and\n",
    "\n",
    "$$\n",
    "\\phi(S)\n",
    "= \\frac{|E(S,S^c)|}{\\min\\{|S|,|S^c|\\}}\n",
    "= \\frac{1}{3}.\n",
    "$$\n",
    "\n",
    "This is also equal to $\\phi_G$. Indeed, in a connected graph with $n$ vertices, the numerator is at least $1$ and the denominator is at most $n/2$, which is achieved here."
   ]
  },
  {
   "cell_type": "markdown",
   "id": "1c243a88",
   "metadata": {
    "slideshow": {
     "slide_type": "skip"
    },
    "tags": [
     "colab-keep"
    ]
   },
   "source": [
    "$\\unlhd$"
   ]
  },
  {
   "cell_type": "markdown",
   "id": "988f5771",
   "metadata": {
    "slideshow": {
     "slide_type": "slide"
    },
    "tags": [
     "colab-keep"
    ]
   },
   "source": [
    "**NUMERICAL CORNER:** We return to the random tree example above. We claimed that $\\phi_G = 1/3$. The maximum degree is $\\bar{\\delta} = 3$. We now compute $\\mu_2$. We first compute the Laplacian matrix."
   ]
  },
  {
   "cell_type": "code",
   "execution_count": null,
   "id": "846ce883",
   "metadata": {
    "slideshow": {
     "slide_type": "fragment"
    }
   },
   "outputs": [],
   "source": [
    "phi_G = 1/3\n",
    "max_deg = 3"
   ]
  },
  {
   "cell_type": "markdown",
   "id": "6b50b44f",
   "metadata": {
    "slideshow": {
     "slide_type": "fragment"
    },
    "tags": [
     "colab-keep"
    ]
   },
   "source": [
    "We now compute $\\mu_2$. We first compute the Laplacian matrix."
   ]
  },
  {
   "cell_type": "code",
   "execution_count": null,
   "id": "a7a17ceb",
   "metadata": {
    "slideshow": {
     "slide_type": "slide"
    }
   },
   "outputs": [],
   "source": [
    "L_tree = nx.laplacian_matrix(G_tree).toarray()\n",
    "print(L_tree)"
   ]
  },
  {
   "cell_type": "code",
   "execution_count": null,
   "id": "98bbee49",
   "metadata": {
    "slideshow": {
     "slide_type": "fragment"
    }
   },
   "outputs": [],
   "source": [
    "w, v = LA.eigh(L_tree) \n",
    "mu_2 = np.sort(w)[1]\n",
    "print(mu_2)"
   ]
  },
  {
   "cell_type": "markdown",
   "id": "139d5e62",
   "metadata": {
    "slideshow": {
     "slide_type": "slide"
    },
    "tags": [
     "colab-keep"
    ]
   },
   "source": [
    "We check *Cheeger's inequalities*. The left-hand side is:"
   ]
  },
  {
   "cell_type": "code",
   "execution_count": null,
   "id": "816fc1c8",
   "metadata": {
    "slideshow": {
     "slide_type": "fragment"
    }
   },
   "outputs": [],
   "source": [
    "(phi_G ** 2) / (2 * max_deg)"
   ]
  },
  {
   "cell_type": "markdown",
   "id": "23d1f608",
   "metadata": {
    "slideshow": {
     "slide_type": "fragment"
    },
    "tags": [
     "colab-keep"
    ]
   },
   "source": [
    "The right-hand side is:"
   ]
  },
  {
   "cell_type": "code",
   "execution_count": null,
   "id": "cfbe6925",
   "metadata": {
    "slideshow": {
     "slide_type": "fragment"
    }
   },
   "outputs": [],
   "source": [
    "2 * phi_G"
   ]
  },
  {
   "cell_type": "markdown",
   "id": "44c2aff7",
   "metadata": {
    "slideshow": {
     "slide_type": "skip"
    },
    "tags": [
     "colab-keep"
    ]
   },
   "source": [
    "$\\unlhd$"
   ]
  },
  {
   "cell_type": "markdown",
   "id": "248c4fde",
   "metadata": {
    "slideshow": {
     "slide_type": "slide"
    },
    "tags": [
     "colab-keep"
    ]
   },
   "source": [
    "We implement the graph cutting algorithm above."
   ]
  },
  {
   "cell_type": "markdown",
   "id": "99f9a3c7",
   "metadata": {
    "slideshow": {
     "slide_type": "fragment"
    },
    "tags": [
     "colab-keep"
    ]
   },
   "source": [
    "We now implement this heuristic in Python. We first write an auxiliary function that takes as input an adjacency matrix, an ordering of the vertices and a value $k$. It returns the cut ratio for the first $k$ vertices in the order."
   ]
  },
  {
   "cell_type": "code",
   "execution_count": null,
   "id": "73649335",
   "metadata": {
    "slideshow": {
     "slide_type": "fragment"
    }
   },
   "outputs": [],
   "source": [
    "def cut_ratio(A, order, k):\n",
    "    \n",
    "    n = A.shape[0]\n",
    "    edge_boundary = 0\n",
    "    for i in range(k+1):\n",
    "        for j in range(k+1,n):\n",
    "            edge_boundary += A[order[i],order[j]]\n",
    "            \n",
    "    denominator = np.minimum(k+1, n-k-1)\n",
    "    \n",
    "    return edge_boundary/denominator"
   ]
  },
  {
   "cell_type": "markdown",
   "id": "bd3e08de",
   "metadata": {
    "slideshow": {
     "slide_type": "slide"
    },
    "tags": [
     "colab-keep"
    ]
   },
   "source": [
    "Using the `cut_ratio` function, we first compute the Laplacian, find the second eigenvector and corresponding order of vertices. Then we compute the cut ratio for every $k$. Finally we output the cut (both $S_k$ and $S_k^c$) corresponding to the minimum, as a tuple of arrays."
   ]
  },
  {
   "cell_type": "code",
   "execution_count": null,
   "id": "ebfecb1e",
   "metadata": {
    "slideshow": {
     "slide_type": "fragment"
    }
   },
   "outputs": [],
   "source": [
    "def spectral_cut2(A):\n",
    "    n = A.shape[0]\n",
    "    \n",
    "    degrees = A.sum(axis=1)\n",
    "    D = np.diag(degrees)\n",
    "    L = D - A\n",
    "    w, v = LA.eigh(L) \n",
    "    order = np.argsort(v[:,np.argsort(w)[1]])\n",
    "    \n",
    "    phi = np.zeros(n-1)\n",
    "    for k in range(n-1):\n",
    "        phi[k] = cut_ratio(A, order, k)\n",
    "    imin = np.argmin(phi)\n",
    "    \n",
    "    return order[0:imin+1], order[imin+1:n]"
   ]
  },
  {
   "cell_type": "markdown",
   "id": "f3ce4328",
   "metadata": {
    "slideshow": {
     "slide_type": "slide"
    },
    "tags": [
     "colab-keep"
    ]
   },
   "source": [
    "Finally, to help visualize the output, we write a function coloring the vertices according to which side of the cut they are on."
   ]
  },
  {
   "cell_type": "code",
   "execution_count": null,
   "id": "6591ab3d",
   "metadata": {
    "slideshow": {
     "slide_type": "fragment"
    }
   },
   "outputs": [],
   "source": [
    "def viz_cut(G, s, pos, node_size=100, with_labels=False):\n",
    "    n = G.number_of_nodes()\n",
    "    assign = np.zeros(n)\n",
    "    assign[s] = 1\n",
    "    nx.draw(G, node_color=assign, pos=pos, with_labels=with_labels, \n",
    "            cmap='spring', node_size=node_size, font_color='k')\n",
    "    plt.show()"
   ]
  },
  {
   "cell_type": "markdown",
   "id": "4e0969dc",
   "metadata": {
    "slideshow": {
     "slide_type": "slide"
    },
    "tags": [
     "colab-keep"
    ]
   },
   "source": [
    "**NUMERICAL CORNER:** We will illustrate this on the path graph."
   ]
  },
  {
   "cell_type": "code",
   "execution_count": null,
   "id": "217cb57a",
   "metadata": {
    "slideshow": {
     "slide_type": "slide"
    }
   },
   "outputs": [],
   "source": [
    "n = 10\n",
    "G = nx.path_graph(n)\n",
    "\n",
    "nx.draw_networkx(G, pos=nx.spectral_layout(G), \n",
    "                 node_color='black', font_color='white')\n",
    "plt.axis('off')\n",
    "plt.show()"
   ]
  },
  {
   "cell_type": "markdown",
   "id": "1fba58a4",
   "metadata": {
    "slideshow": {
     "slide_type": "slide"
    },
    "tags": [
     "colab-keep"
    ]
   },
   "source": [
    "We apply our spectral-based cutting algorihtm."
   ]
  },
  {
   "cell_type": "code",
   "execution_count": null,
   "id": "012801e8",
   "metadata": {
    "slideshow": {
     "slide_type": "fragment"
    }
   },
   "outputs": [],
   "source": [
    "A = nx.adjacency_matrix(G).toarray()\n",
    "s, sc = spectral_cut2(A)\n",
    "print(s)\n",
    "print(sc)"
   ]
  },
  {
   "cell_type": "code",
   "execution_count": null,
   "id": "eeabdda0",
   "metadata": {
    "scrolled": false,
    "slideshow": {
     "slide_type": "slide"
    }
   },
   "outputs": [],
   "source": [
    "pos = nx.spectral_layout(G)\n",
    "viz_cut(G, s, pos)"
   ]
  },
  {
   "cell_type": "markdown",
   "id": "415315ef",
   "metadata": {
    "slideshow": {
     "slide_type": "slide"
    },
    "tags": [
     "colab-keep"
    ]
   },
   "source": [
    "Let's try it on the grid graph. Can you guess what the cut will be?"
   ]
  },
  {
   "cell_type": "code",
   "execution_count": null,
   "id": "ce5dbf92",
   "metadata": {
    "slideshow": {
     "slide_type": "slide"
    }
   },
   "outputs": [],
   "source": [
    "G = nx.grid_2d_graph(4,7)\n",
    "A = nx.adjacency_matrix(G).toarray()\n",
    "s, sc = spectral_cut2(A)\n",
    "pos = nx.spectral_layout(G)\n",
    "viz_cut(G, s, pos)"
   ]
  },
  {
   "cell_type": "markdown",
   "id": "94364b1d",
   "metadata": {
    "slideshow": {
     "slide_type": "skip"
    },
    "tags": [
     "colab-keep"
    ]
   },
   "source": [
    "$\\unlhd$"
   ]
  },
  {
   "cell_type": "markdown",
   "id": "abe2379c",
   "metadata": {
    "slideshow": {
     "slide_type": "slide"
    },
    "tags": [
     "colab-keep"
    ]
   },
   "source": [
    "**NUMERICAL CORNER:** We return to the [Karate Club dataset](https://en.wikipedia.org/wiki/Zachary%27s_karate_club)."
   ]
  },
  {
   "cell_type": "code",
   "execution_count": null,
   "id": "97bf0272",
   "metadata": {
    "slideshow": {
     "slide_type": "fragment"
    }
   },
   "outputs": [],
   "source": [
    "G = nx.karate_club_graph()\n",
    "n = G.number_of_nodes()\n",
    "A = nx.adjacency_matrix(G).toarray()"
   ]
  },
  {
   "cell_type": "markdown",
   "id": "66f689d7",
   "metadata": {
    "slideshow": {
     "slide_type": "slide"
    },
    "tags": [
     "colab-keep"
    ]
   },
   "source": [
    "We seek to find natural sub-communities. We use the spectral properties of the Laplacian. Specifically, we use our `spectral_cut2` and `viz_cut` functions to compute a good cut and vizualize it."
   ]
  },
  {
   "cell_type": "code",
   "execution_count": null,
   "id": "71733405",
   "metadata": {
    "slideshow": {
     "slide_type": "fragment"
    }
   },
   "outputs": [],
   "source": [
    "s, sc = spectral_cut2(A)\n",
    "print(s)\n",
    "print(sc)"
   ]
  },
  {
   "cell_type": "code",
   "execution_count": null,
   "id": "d9476a17",
   "metadata": {
    "slideshow": {
     "slide_type": "slide"
    }
   },
   "outputs": [],
   "source": [
    "plt.figure(figsize=(6,6))\n",
    "pos = nx.spring_layout(G, k=0.7, iterations=50, seed=42)\n",
    "viz_cut(G, s, pos, node_size=300, with_labels=True)"
   ]
  },
  {
   "cell_type": "markdown",
   "id": "e58bf8be",
   "metadata": {
    "slideshow": {
     "slide_type": "slide"
    },
    "tags": [
     "colab-keep"
    ]
   },
   "source": [
    "It is not trivial to assess the quality of the resulting cut. But this particular example has a known ground-truth community structure (which partly explains its widespread use). Quoting from [Wikipedia](https://en.wikipedia.org/wiki/Zachary%27s_karate_club):\n",
    "> A social network of a karate club was studied by Wayne W. Zachary for a period of three years from 1970 to 1972. The network captures 34 members of a karate club, documenting links between pairs of members who interacted outside the club. During the study a conflict arose between the administrator \"John A\" and instructor \"Mr. Hi\" (pseudonyms), which led to the split of the club into two. Half of the members formed a new club around Mr. Hi; members from the other part found a new instructor or gave up karate. Based on collected data Zachary correctly assigned all but one member of the club to the groups they actually joined after the split.\n",
    "\n",
    "This ground truth is the following. We use [`numpy.nonzero`](https://numpy.org/doc/stable/reference/generated/numpy.nonzero.html#numpy.nonzero) to convert it into a cut."
   ]
  },
  {
   "cell_type": "code",
   "execution_count": null,
   "id": "3eee6639",
   "metadata": {
    "slideshow": {
     "slide_type": "slide"
    }
   },
   "outputs": [],
   "source": [
    "truth = np.array([0, 0, 0, 0, 0, 0, 0, 0, 1, 1, 0, 0, 0, 0, 1, 1, 0, \n",
    "                  0, 1, 0, 1, 0, 1, 1, 1, 1, 1, 1, 1, 1, 1, 1, 1, 1])\n",
    "s_truth = np.nonzero(truth)\n",
    "plt.figure(figsize=(6,6))\n",
    "viz_cut(G, s_truth, pos, node_size=300, with_labels=True)"
   ]
  },
  {
   "cell_type": "markdown",
   "id": "d922c607",
   "metadata": {
    "slideshow": {
     "slide_type": "fragment"
    },
    "tags": [
     "colab-keep"
    ]
   },
   "source": [
    "You can check that our cut perfectly matches the ground truth."
   ]
  },
  {
   "cell_type": "markdown",
   "id": "5c39d7f1",
   "metadata": {
    "slideshow": {
     "slide_type": "skip"
    },
    "tags": [
     "colab-keep"
    ]
   },
   "source": [
    "**CHAT & LEARN** Investigate alternative graph partitioning algorithms, such as the Kernighan-Lin algorithm. Ask your favorite AI chatbot to explain how it works and compare its performance to spectral clustering on this dataset. ([Open In Colab](https://colab.research.google.com/github/MMiDS-textbook/MMiDS-textbook.github.io/blob/main/just_the_code/roch_mmids_chap_specgraph_notebook.ipynb)) $\\ddagger$"
   ]
  },
  {
   "cell_type": "markdown",
   "id": "54e8a41b",
   "metadata": {
    "slideshow": {
     "slide_type": "skip"
    },
    "tags": [
     "colab-keep"
    ]
   },
   "source": [
    "$\\unlhd$"
   ]
  },
  {
   "cell_type": "markdown",
   "id": "cd75afdc",
   "metadata": {
    "slideshow": {
     "slide_type": "slide"
    },
    "tags": [
     "colab-keep"
    ]
   },
   "source": [
    "## Erdős-Rényi random graph and stochastic blockmodel"
   ]
  },
  {
   "cell_type": "markdown",
   "id": "3dec3501",
   "metadata": {
    "slideshow": {
     "slide_type": "slide"
    },
    "tags": [
     "colab-keep"
    ]
   },
   "source": [
    "We implement the generation of an inhomogeneous ER graph using NetworkX. We first initialize a pseudorandom number generator `rng`. To determine whether an edge is present between `i` and `j`, we generate a uniform random variable `rng.random()` (see [`numpy.random.Generator.random`](https://numpy.org/doc/stable/reference/random/generated/numpy.random.Generator.random.html)) and add the edge with `G.add_edge(i, j)` if the random variable is `< M[i, j]` -- an event which indeed occurs with the desired probability (check it!). "
   ]
  },
  {
   "cell_type": "code",
   "execution_count": null,
   "id": "f21a6b35",
   "metadata": {
    "slideshow": {
     "slide_type": "fragment"
    }
   },
   "outputs": [],
   "source": [
    "def inhomogeneous_er_random_graph(rng, n, M):\n",
    "\n",
    "    G = nx.Graph()\n",
    "    G.add_nodes_from(range(n))\n",
    "    for i in range(n):\n",
    "        for j in range(i + 1, n):\n",
    "            if rng.random() < M[i, j]:\n",
    "                G.add_edge(i, j)\n",
    "\n",
    "    return G"
   ]
  },
  {
   "cell_type": "markdown",
   "id": "7ea87519",
   "metadata": {
    "slideshow": {
     "slide_type": "slide"
    },
    "tags": [
     "colab-keep"
    ]
   },
   "source": [
    "**NUMERICAL CORNER:** Here is an example usage. We generate probabilities $m_{i,j}$ uniformly at random between $0$ and $1$."
   ]
  },
  {
   "cell_type": "code",
   "execution_count": null,
   "id": "6315930e",
   "metadata": {
    "slideshow": {
     "slide_type": "fragment"
    }
   },
   "outputs": [],
   "source": [
    "seed = 535\n",
    "rng = np.random.default_rng(seed)\n",
    "\n",
    "n = 20\n",
    "M = rng.random([n, n])\n",
    "M = (M + M.T) / 2 # ensures symmetry of M (why?)\n",
    "\n",
    "G = inhomogeneous_er_random_graph(rng, n, M)"
   ]
  },
  {
   "cell_type": "markdown",
   "id": "f9783832",
   "metadata": {
    "slideshow": {
     "slide_type": "fragment"
    },
    "tags": [
     "colab-keep"
    ]
   },
   "source": [
    "We draw the resulting graph."
   ]
  },
  {
   "cell_type": "code",
   "execution_count": null,
   "id": "9076f111",
   "metadata": {
    "slideshow": {
     "slide_type": "slide"
    }
   },
   "outputs": [],
   "source": [
    "nx.draw_networkx(G, node_color='black', font_color='white')\n",
    "plt.axis('off')\n",
    "plt.show()"
   ]
  },
  {
   "cell_type": "markdown",
   "id": "c8baccc0",
   "metadata": {
    "slideshow": {
     "slide_type": "slide"
    },
    "tags": [
     "colab-keep"
    ]
   },
   "source": [
    "The following subroutine generates an ER graph. "
   ]
  },
  {
   "cell_type": "code",
   "execution_count": null,
   "id": "351593e2",
   "metadata": {
    "slideshow": {
     "slide_type": "fragment"
    }
   },
   "outputs": [],
   "source": [
    "def er_random_graph(rng, n, p):\n",
    "    M = p * (np.ones((n, n)) - np.eye(n))\n",
    "    return inhomogeneous_er_random_graph(rng, n, M)"
   ]
  },
  {
   "cell_type": "markdown",
   "id": "9a5d6a07",
   "metadata": {
    "slideshow": {
     "slide_type": "slide"
    },
    "tags": [
     "colab-keep"
    ]
   },
   "source": [
    "To confirm our previous calculations, below is the implementation of a routine to estimate the edge density for an ER graph with a fixed parameter $p$. Recall that the edge density is defined as the number of edges present divided by the number of possible edges (i.e., the number of pairs of distinct vertices). The routine takes advantage of the *Law of Large Numbers* by generating a large number of sample graphs, computing their edge density, and then taking the mean. "
   ]
  },
  {
   "cell_type": "code",
   "execution_count": null,
   "id": "18f02737",
   "metadata": {
    "slideshow": {
     "slide_type": "fragment"
    }
   },
   "outputs": [],
   "source": [
    "def estimate_edge_density(rng, n, p, num_samples=100):\n",
    "\n",
    "    total_edges = 0\n",
    "    total_possible_edges = n * (n - 1) / 2\n",
    "    \n",
    "    for _ in range(num_samples):\n",
    "        G = er_random_graph(rng, n, p)\n",
    "        total_edges += G.number_of_edges()\n",
    "    \n",
    "    average_edges = total_edges / num_samples\n",
    "    edge_density = average_edges / total_possible_edges\n",
    "    return edge_density"
   ]
  },
  {
   "cell_type": "markdown",
   "id": "4db26b4f",
   "metadata": {
    "slideshow": {
     "slide_type": "slide"
    },
    "tags": [
     "colab-keep"
    ]
   },
   "source": [
    "**NUMERICAL CORNER:** On a small example, we indeed get that the edge density is roughly $p$."
   ]
  },
  {
   "cell_type": "code",
   "execution_count": null,
   "id": "3985429d",
   "metadata": {
    "slideshow": {
     "slide_type": "fragment"
    }
   },
   "outputs": [],
   "source": [
    "n = 10\n",
    "p = 0.3\n",
    "num_samples = 1000\n",
    "\n",
    "estimated_density = estimate_edge_density(rng, n, p, num_samples)\n",
    "print(f\"Estimated edge density for an ER graph with n={n} and p={p}: {estimated_density}\")"
   ]
  },
  {
   "cell_type": "markdown",
   "id": "8ab6538f",
   "metadata": {
    "slideshow": {
     "slide_type": "skip"
    },
    "tags": [
     "colab-keep"
    ]
   },
   "source": [
    "**TRY IT!** Modify the code above to estimate the density of triangles. ([Open In Colab](https://colab.research.google.com/github/MMiDS-textbook/MMiDS-textbook.github.io/blob/main/just_the_code/roch_mmids_chap_specgraph_notebook.ipynb)) $\\ddagger$"
   ]
  },
  {
   "cell_type": "markdown",
   "id": "28b1a632",
   "metadata": {
    "slideshow": {
     "slide_type": "skip"
    },
    "tags": [
     "colab-keep"
    ]
   },
   "source": [
    "$\\unlhd$"
   ]
  },
  {
   "cell_type": "markdown",
   "id": "a9b764f5",
   "metadata": {
    "slideshow": {
     "slide_type": "slide"
    },
    "tags": [
     "colab-keep"
    ]
   },
   "source": [
    "When $n$, the number of vertices, is large, random graphs tend to exhibit large-scale emergent behavior. One classical example involves the probability of being connected in an ER graph. To illustrate, below is code to estimate that probability over a range of edge densities $p$ (with help from Claude and ChatGPT)."
   ]
  },
  {
   "cell_type": "code",
   "execution_count": null,
   "id": "5d46ed20",
   "metadata": {
    "slideshow": {
     "slide_type": "slide"
    }
   },
   "outputs": [],
   "source": [
    "def estimate_connected_probability(rng, n, p, num_samples=100):\n",
    "\n",
    "    connected_count = 0\n",
    "    \n",
    "    for _ in range(num_samples):\n",
    "        G = er_random_graph(rng, n, p)\n",
    "        if nx.is_connected(G):\n",
    "            connected_count += 1\n",
    "    \n",
    "    connected_probability = connected_count / num_samples\n",
    "    return connected_probability\n",
    "\n",
    "def plot_connected_probability(rng, n, p_values, num_samples=100):\n",
    "\n",
    "    probabilities = []\n",
    "    for p in p_values:\n",
    "        prob = estimate_connected_probability(rng, n, p, num_samples)\n",
    "        probabilities.append(prob)\n",
    "    \n",
    "    plt.figure(figsize=(6, 4))\n",
    "    plt.plot(p_values, probabilities, marker='o', color='black')\n",
    "    plt.xlabel('$p$'), plt.ylabel('Estimated probability of being connected')\n",
    "    plt.show()"
   ]
  },
  {
   "cell_type": "markdown",
   "id": "37c975d7",
   "metadata": {
    "slideshow": {
     "slide_type": "slide"
    },
    "tags": [
     "colab-keep"
    ]
   },
   "source": [
    "**NUMERICAL CORNER:** We run the code for `n` equal to `100`. What do you observe? "
   ]
  },
  {
   "cell_type": "code",
   "execution_count": null,
   "id": "a834f63f",
   "metadata": {
    "slideshow": {
     "slide_type": "slide"
    }
   },
   "outputs": [],
   "source": [
    "n = 100\n",
    "p_values = np.linspace(0, 0.1, 50)\n",
    "num_samples = 250\n",
    "plot_connected_probability(rng, n, p_values, num_samples)"
   ]
  },
  {
   "cell_type": "markdown",
   "id": "741ca28c",
   "metadata": {
    "slideshow": {
     "slide_type": "slide"
    },
    "tags": [
     "colab-keep"
    ]
   },
   "source": [
    "The probability of being connected starts out at $0$ when $p$ is small, which is not surprising since it implies that the graph has a relatively small number of edges. But then that probability increases -- rapidly -- to $1$ as $p$ crosses a threshold. This is referred to as the phase transition of the ER graph.\n",
    "\n",
    "It can be shown rigorously that the transition occurs at roughly $p = \\log n/n$. That is:"
   ]
  },
  {
   "cell_type": "code",
   "execution_count": null,
   "id": "128fe38b",
   "metadata": {
    "slideshow": {
     "slide_type": "fragment"
    }
   },
   "outputs": [],
   "source": [
    "np.log(n)/n"
   ]
  },
  {
   "cell_type": "markdown",
   "id": "86170e0d",
   "metadata": {
    "slideshow": {
     "slide_type": "fragment"
    },
    "tags": [
     "colab-keep"
    ]
   },
   "source": [
    "which is consistent with the plot."
   ]
  },
  {
   "cell_type": "markdown",
   "id": "ee4a0c96",
   "metadata": {
    "slideshow": {
     "slide_type": "skip"
    },
    "tags": [
     "colab-keep"
    ]
   },
   "source": [
    "**TRY IT!** Taking a larger `n` would produce a sharper transition. Try it for yourself. Also try drawing one random sample for increasing values of $p$ around the threshold. What do you observe? ([Open In Colab](https://colab.research.google.com/github/MMiDS-textbook/MMiDS-textbook.github.io/blob/main/just_the_code/roch_mmids_chap_specgraph_notebook.ipynb)) $\\ddagger$"
   ]
  },
  {
   "cell_type": "markdown",
   "id": "c041362d",
   "metadata": {
    "slideshow": {
     "slide_type": "skip"
    },
    "tags": [
     "colab-keep"
    ]
   },
   "source": [
    "**TRY IT!** Many other properties exhibit such sharp threshold behavior. Modify the code to to estimate the probability that a clique of size 4 exists in the graph. ([Open In Colab](https://colab.research.google.com/github/MMiDS-textbook/MMiDS-textbook.github.io/blob/main/just_the_code/roch_mmids_chap_specgraph_notebook.ipynb)) $\\ddagger$ "
   ]
  },
  {
   "cell_type": "markdown",
   "id": "3be67d84",
   "metadata": {
    "slideshow": {
     "slide_type": "skip"
    },
    "tags": [
     "colab-keep"
    ]
   },
   "source": [
    "$\\unlhd$"
   ]
  },
  {
   "cell_type": "markdown",
   "id": "7925e521",
   "metadata": {
    "slideshow": {
     "slide_type": "slide"
    },
    "tags": [
     "colab-keep"
    ]
   },
   "source": [
    "We implement the SBM model. We use blocks numbered $0$ and $1$."
   ]
  },
  {
   "cell_type": "code",
   "execution_count": null,
   "id": "91b92ebb",
   "metadata": {
    "slideshow": {
     "slide_type": "fragment"
    }
   },
   "outputs": [],
   "source": [
    "def sbm_random_graph(rng, n, block_assignments, B):\n",
    "\n",
    "    num_blocks = B.shape[0]\n",
    "    Z = np.zeros((n, num_blocks))\n",
    "    for i in range(n):\n",
    "        Z[i, block_assignments[i]] = 1\n",
    "    M = Z @ B @ Z.T\n",
    "    \n",
    "    return inhomogeneous_er_random_graph(rng, n, M)"
   ]
  },
  {
   "cell_type": "markdown",
   "id": "06f04eee",
   "metadata": {
    "slideshow": {
     "slide_type": "slide"
    },
    "tags": [
     "colab-keep"
    ]
   },
   "source": [
    "**NUMERICAL CORNER:** Here is an example usage. We first pick a block assignment at random. Specifically, blocks are assigned randomly with [`numpy.random.Generator.choice`](https://numpy.org/doc/stable/reference/random/generated/numpy.random.Generator.choice.html#numpy.random.Generator.choice). It produces two blocks by assigning each vertex with equal probability to either block, independently of all other choices."
   ]
  },
  {
   "cell_type": "code",
   "execution_count": null,
   "id": "c7111715",
   "metadata": {
    "slideshow": {
     "slide_type": "fragment"
    }
   },
   "outputs": [],
   "source": [
    "n = 50\n",
    "block_assignments = rng.choice(2, n)  # randomly assign vertices to two blocks\n",
    "B = np.array([[0.8, 0.1], [0.1, 0.8]])\n",
    "\n",
    "G = sbm_random_graph(rng, n, block_assignments, B)"
   ]
  },
  {
   "cell_type": "markdown",
   "id": "ccfb6593",
   "metadata": {
    "slideshow": {
     "slide_type": "fragment"
    },
    "tags": [
     "colab-keep"
    ]
   },
   "source": [
    "We draw the graph with colored nodes based on block assignments. The \"good\" cut is clearly visible in this layout."
   ]
  },
  {
   "cell_type": "code",
   "execution_count": null,
   "id": "fa200956",
   "metadata": {
    "slideshow": {
     "slide_type": "slide"
    }
   },
   "outputs": [],
   "source": [
    "plt.figure(figsize=(6,6))\n",
    "pos = nx.spring_layout(G)\n",
    "nx.draw(G, pos, with_labels=True, node_color=block_assignments, cmap='rainbow',\n",
    "        node_size=200, font_size=10, font_color='white')\n",
    "plt.show()"
   ]
  },
  {
   "cell_type": "markdown",
   "id": "19b3a32d",
   "metadata": {
    "slideshow": {
     "slide_type": "skip"
    },
    "tags": [
     "colab-keep"
    ]
   },
   "source": [
    "$\\unlhd$"
   ]
  },
  {
   "cell_type": "markdown",
   "id": "822a1039",
   "metadata": {
    "slideshow": {
     "slide_type": "slide"
    },
    "tags": [
     "colab-keep"
    ]
   },
   "source": [
    "We introduce a subroutine which assigns blocks at random as follows. Let $\\beta_1, \\beta_2 \\in [0,1]$ with $\\beta_1 + \\beta_2 = 1$ be the probability that a vertex belongs respectively to block $1$ and $2$. We collect these probabilities in the following vector\n",
    "\n",
    "$$\n",
    "\\bbeta = (\\beta_1, \\beta_2).\n",
    "$$\n",
    "\n",
    "We pick block $z(i) \\in \\{1,2\\}$ for each vertex $1 \\leq i \\leq n$ according to the distribution $\\bbeta$, independently of all other vertices $\\neq i$."
   ]
  },
  {
   "cell_type": "code",
   "execution_count": null,
   "id": "9a285b1e",
   "metadata": {
    "slideshow": {
     "slide_type": "fragment"
    }
   },
   "outputs": [],
   "source": [
    "def generate_block_assignments(rng, n, beta):\n",
    "    return rng.choice(len(beta), size=n, p=beta)"
   ]
  },
  {
   "cell_type": "markdown",
   "id": "63b0b2ab",
   "metadata": {
    "slideshow": {
     "slide_type": "slide"
    },
    "tags": [
     "colab-keep"
    ]
   },
   "source": [
    "**NUMERICAL CORNER:** Here is an example usage."
   ]
  },
  {
   "cell_type": "code",
   "execution_count": null,
   "id": "e86f8c3d",
   "metadata": {
    "slideshow": {
     "slide_type": "fragment"
    }
   },
   "outputs": [],
   "source": [
    "n = 50\n",
    "beta = [0.33, 0.67]\n",
    "B = np.array([[0.5, 0.03], [0.03, 0.4]])\n",
    "\n",
    "block_assignments = generate_block_assignments(rng, n, beta)\n",
    "G = sbm_random_graph(rng, n, block_assignments, B)"
   ]
  },
  {
   "cell_type": "markdown",
   "id": "e1e39576",
   "metadata": {
    "slideshow": {
     "slide_type": "fragment"
    },
    "tags": [
     "colab-keep"
    ]
   },
   "source": [
    "Observe that the blocks are more unbalanced this time."
   ]
  },
  {
   "cell_type": "code",
   "execution_count": null,
   "id": "65e1c54e",
   "metadata": {
    "slideshow": {
     "slide_type": "slide"
    }
   },
   "outputs": [],
   "source": [
    "plt.figure(figsize=(6,6))\n",
    "pos = nx.spring_layout(G)\n",
    "nx.draw(G, pos, with_labels=True, node_color=block_assignments, cmap=plt.cm.rainbow,\n",
    "        node_size=200, font_size=10, font_color='white')\n",
    "plt.show()"
   ]
  },
  {
   "cell_type": "markdown",
   "id": "e4e46bd3",
   "metadata": {
    "slideshow": {
     "slide_type": "slide"
    },
    "tags": [
     "colab-keep"
    ]
   },
   "source": [
    "To test our spectral partitioning algorithm, we run `spectral_cut2`, which indeed recovers the ground truth."
   ]
  },
  {
   "cell_type": "code",
   "execution_count": null,
   "id": "8efa1938",
   "metadata": {
    "slideshow": {
     "slide_type": "slide"
    }
   },
   "outputs": [],
   "source": [
    "A = nx.adjacency_matrix(G).toarray()\n",
    "s, sc = mmids.spectral_cut2(A)\n",
    "\n",
    "plt.figure(figsize=(6,6))\n",
    "mmids.viz_cut(G, s, pos, node_size=200, with_labels=True)"
   ]
  },
  {
   "cell_type": "markdown",
   "id": "3b4ca60f",
   "metadata": {
    "slideshow": {
     "slide_type": "skip"
    },
    "tags": [
     "colab-keep"
    ]
   },
   "source": [
    "$\\unlhd$"
   ]
  },
  {
   "cell_type": "markdown",
   "id": "50d7c142",
   "metadata": {
    "slideshow": {
     "slide_type": "slide"
    },
    "tags": [
     "colab-keep"
    ]
   },
   "source": [
    "The following code computes the fraction of incorrectly assigned vertices. Note that it considers *two* assignments corresponding to swapping the labels `0` and `1` which cannot be inferred. "
   ]
  },
  {
   "cell_type": "code",
   "execution_count": null,
   "id": "58d5c3e7",
   "metadata": {
    "slideshow": {
     "slide_type": "fragment"
    }
   },
   "outputs": [],
   "source": [
    "def calculate_incorrect_fraction(block_assignments, inferred_s, inferred_sc):\n",
    "    \n",
    "    n = len(block_assignments)\n",
    "    \n",
    "    inferred_assignments = np.zeros(n)\n",
    "    for i in inferred_s:\n",
    "        inferred_assignments[i] = 0\n",
    "    for i in inferred_sc:\n",
    "        inferred_assignments[i] = 1\n",
    "    \n",
    "    incorrect_assignments_1 = np.sum(block_assignments != inferred_assignments)/n\n",
    "    incorrect_assignments_2 = np.sum(block_assignments == inferred_assignments)/n\n",
    "\n",
    "    return np.minimum(incorrect_assignments_1, incorrect_assignments_2)"
   ]
  },
  {
   "cell_type": "markdown",
   "id": "3806c087",
   "metadata": {
    "slideshow": {
     "slide_type": "slide"
    },
    "tags": [
     "colab-keep"
    ]
   },
   "source": [
    "**NUMERICAL CORNER:** We confirm on our previous example that the ground truth was perfectly recovered."
   ]
  },
  {
   "cell_type": "code",
   "execution_count": null,
   "id": "6c3ff273",
   "metadata": {
    "slideshow": {
     "slide_type": "fragment"
    }
   },
   "outputs": [],
   "source": [
    "fraction_incorrect = calculate_incorrect_fraction(block_assignments, s, sc)\n",
    "print(f\"Fraction of incorrectly assigned vertices: {fraction_incorrect}\")"
   ]
  },
  {
   "cell_type": "markdown",
   "id": "96dd6494",
   "metadata": {
    "slideshow": {
     "slide_type": "slide"
    },
    "tags": [
     "colab-keep"
    ]
   },
   "source": [
    "One expects that the ground truth is harder to recover if the probability of an edge between blocks is close to that within blocks, which makes the community structure more murky. To test this hypothesis, we modify our previous example by significantly increasing the inter-block probability."
   ]
  },
  {
   "cell_type": "code",
   "execution_count": null,
   "id": "dfb35964",
   "metadata": {
    "slideshow": {
     "slide_type": "fragment"
    }
   },
   "outputs": [],
   "source": [
    "n = 100\n",
    "beta = [0.55, 0.45]\n",
    "B = np.array([[0.55, 0.25], [0.25, 0.45]])\n",
    "\n",
    "block_assignments = generate_block_assignments(rng, n, beta)\n",
    "G = sbm_random_graph(rng, n, block_assignments, B)"
   ]
  },
  {
   "cell_type": "markdown",
   "id": "26350949",
   "metadata": {
    "slideshow": {
     "slide_type": "slide"
    },
    "tags": [
     "colab-keep"
    ]
   },
   "source": [
    "We run `spectral_cut2`. It recovers the ground truth only partially this time."
   ]
  },
  {
   "cell_type": "code",
   "execution_count": null,
   "id": "195dc1e4",
   "metadata": {
    "slideshow": {
     "slide_type": "fragment"
    },
    "tags": [
     "colab-keep"
    ]
   },
   "outputs": [],
   "source": [
    "A = nx.adjacency_matrix(G).toarray()\n",
    "s, sc = mmids.spectral_cut2(A)\n",
    "fraction_incorrect = calculate_incorrect_fraction(block_assignments, s, sc)\n",
    "print(f\"Fraction of incorrectly assigned vertices: {fraction_incorrect}\")"
   ]
  },
  {
   "cell_type": "markdown",
   "id": "1b21e218",
   "metadata": {
    "slideshow": {
     "slide_type": "skip"
    },
    "tags": [
     "colab-keep"
    ]
   },
   "source": [
    "$\\unlhd$"
   ]
  }
 ],
 "metadata": {},
 "nbformat": 4,
 "nbformat_minor": 5
}

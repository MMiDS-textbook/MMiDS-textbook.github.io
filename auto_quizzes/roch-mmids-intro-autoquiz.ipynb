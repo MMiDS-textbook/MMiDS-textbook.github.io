{
 "cells": [
  {
   "cell_type": "markdown",
   "metadata": {
    "slideshow": {
     "slide_type": "slide"
    },
    "tags": [
     "remove-cell"
    ]
   },
   "source": [
    "***\n",
    "\n",
    "*Course:* [Math 535](https://people.math.wisc.edu/~roch/mmids/) - Mathematical Methods in Data Science (MMiDS)  \n",
    "*Chapter:* 1-Introduction   \n",
    "*Author:* [Sebastien Roch](https://people.math.wisc.edu/~roch/), Department of Mathematics, University of Wisconsin-Madison (with the help of ChatGPT 4)\n",
    "*Updated:* Jan 27, 2024   \n",
    "*Copyright:* &copy; 2024 Sebastien Roch\n",
    "\n",
    "***"
   ]
  },
  {
   "cell_type": "markdown",
   "metadata": {
    "id": "2DrwoxNutJOq"
   },
   "source": [
    "## Auto-quizzes"
   ]
  },
  {
   "cell_type": "markdown",
   "metadata": {
    "id": "W5LM12jotJOs"
   },
   "source": [
    "This notebook generates automated quizzes as well as the answers. Set the `seed` to any integer to produce unique quizzes."
   ]
  },
  {
   "cell_type": "code",
   "execution_count": 1,
   "metadata": {
    "id": "b09f4787"
   },
   "outputs": [],
   "source": [
    "# Python 3\n",
    "import numpy as np\n",
    "from numpy import linalg as LA\n",
    "from numpy.random import default_rng"
   ]
  },
  {
   "cell_type": "code",
   "execution_count": 2,
   "metadata": {
    "id": "72bazlfytJOu"
   },
   "outputs": [],
   "source": [
    "# Set the `seed` to any integer\n",
    "seed=535"
   ]
  },
  {
   "cell_type": "code",
   "execution_count": 3,
   "metadata": {
    "id": "6HtWasWntJOu"
   },
   "outputs": [],
   "source": [
    "rng = default_rng(seed)"
   ]
  },
  {
   "cell_type": "markdown",
   "metadata": {
    "id": "nk-y3K34tJO2"
   },
   "source": [
    "**AQ1.1**  \n",
    "\n",
    "***\n",
    "\n",
    "*Use the following code to generate the quiz questions. You should be able to answer them by hand -- that is, without the help of numerical computation.*\n",
    "\n",
    "***"
   ]
  },
  {
   "cell_type": "markdown",
   "metadata": {
    "id": "w5qxheCRtJO2"
   },
   "source": [
    "This exercise concerns $k$-means clustering with $k = 2$ clusters. To be consistent with Python indexing, we will index the clusters and vectors starting at 0. Consider the following input vectors:"
   ]
  },
  {
   "cell_type": "code",
   "execution_count": 4,
   "metadata": {
    "colab": {
     "base_uri": "https://localhost:8080/",
     "height": 248
    },
    "id": "ctRjQ--RtJO2",
    "outputId": "6f2ecca9-5287-4306-df85-b4bf2b124b84"
   },
   "outputs": [
    {
     "name": "stdout",
     "output_type": "stream",
     "text": [
      "x0 = [0. 0. 0.]\n",
      "x1 = [0. 1. 0.]\n",
      "x2 = [0. 0. 1.]\n",
      "x3 = [1. 1. 0.]\n",
      "x4 = [1. 0. 1.]\n",
      "x5 = [1. 1. 1.]\n"
     ]
    }
   ],
   "source": [
    "x0 = np.array([0., 0., 0.])\n",
    "x1 = np.array([0., 1., 0.])\n",
    "x2 = np.array([0., 0., 1.])\n",
    "x3 = np.array([1., 1., 0.])\n",
    "x4 = np.array([1., 0., 1.])\n",
    "x5 = np.array([1., 1., 1.])\n",
    "print(f'x0 =',x0)\n",
    "print(f'x1 =',x1)\n",
    "print(f'x2 =',x2)\n",
    "print(f'x3 =',x3)\n",
    "print(f'x4 =',x4)\n",
    "print(f'x5 =',x5)"
   ]
  },
  {
   "cell_type": "markdown",
   "metadata": {
    "id": "w5qxheCRtJO2"
   },
   "source": [
    "Consider the following representative vectors:"
   ]
  },
  {
   "cell_type": "code",
   "execution_count": 5,
   "metadata": {
    "colab": {
     "base_uri": "https://localhost:8080/",
     "height": 248
    },
    "id": "ctRjQ--RtJO2",
    "outputId": "6f2ecca9-5287-4306-df85-b4bf2b124b84"
   },
   "outputs": [
    {
     "name": "stdout",
     "output_type": "stream",
     "text": [
      "mu0 = [-1.  0.  0.]\n",
      "mu1 = [2. 0. 1.]\n"
     ]
    }
   ],
   "source": [
    "mu0 = np.array([-1.])\n",
    "random_part0 = np.random.choice([0, 1], 2)\n",
    "mu0 = np.concatenate([mu0, random_part0])\n",
    "mu1 = np.array([2.])\n",
    "random_part1 = np.random.choice([0, 1], 2)\n",
    "mu1 = np.concatenate([mu1, random_part1])\n",
    "permuted_indices = np.random.permutation(len(mu0))\n",
    "mu0 = mu0[permuted_indices]\n",
    "mu1 = mu1[permuted_indices]\n",
    "print('mu0 =',mu0)\n",
    "print('mu1 =',mu1)"
   ]
  },
  {
   "cell_type": "markdown",
   "metadata": {},
   "source": [
    "and the following clusters:"
   ]
  },
  {
   "cell_type": "code",
   "execution_count": 6,
   "metadata": {},
   "outputs": [
    {
     "name": "stdout",
     "output_type": "stream",
     "text": [
      "C0 = [1]\n",
      "C1 = [3 0 4 5 2]\n"
     ]
    }
   ],
   "source": [
    "original_set = np.array([0, 1, 2, 3, 4, 5])\n",
    "np.random.shuffle(original_set)\n",
    "split_point = np.random.randint(1, len(original_set))\n",
    "C0 = original_set[:split_point]\n",
    "C1 = original_set[split_point:]\n",
    "print('C0 =', C0)\n",
    "print('C1 =', C1)"
   ]
  },
  {
   "cell_type": "markdown",
   "metadata": {
    "id": "ftHmQf7GtJO3"
   },
   "source": [
    "a) For the fixed clusters `C0` and `C1`, compute the optimal representatives `mu0_new` and `mu1_new`.\n",
    "\n",
    "b) For the fixed representatives `mu0` and `mu1`, compute the optimal clustering `C0_new` and `C1_new`.\n",
    "\n",
    "c) For the solution in b), compute the $k$-means objective function.\n",
    "\n",
    "d) For the solution in b), write down the matrix form of the input and of the solution, that is, the matrices `X`, `Z`, `U` in the notes."
   ]
  },
  {
   "cell_type": "markdown",
   "metadata": {
    "id": "FflVzvU8tJO3"
   },
   "source": [
    "***\n",
    "\n",
    "*Use the following code to generate the answers.*\n",
    "\n",
    "***"
   ]
  },
  {
   "cell_type": "code",
   "execution_count": 7,
   "metadata": {
    "colab": {
     "base_uri": "https://localhost:8080/"
    },
    "id": "g9v3JONftJO3",
    "outputId": "4bd6328e-7c48-4599-9af4-5263a8a9a60c"
   },
   "outputs": [
    {
     "name": "stdout",
     "output_type": "stream",
     "text": [
      "mu0_new = [0. 1. 0.]\n",
      "mu1_new = [0.6 0.4 0.6]\n"
     ]
    }
   ],
   "source": [
    "# a)\n",
    "\n",
    "k = 2\n",
    "X = np.stack((x0,x1,x2,x3,x4,x5))\n",
    "\n",
    "mu0_new = np.sum(X[C0,:],axis=0) / len(C0)\n",
    "mu1_new = np.sum(X[C1,:],axis=0) / len(C1)\n",
    "\n",
    "print('mu0_new =', mu0_new)\n",
    "print('mu1_new =', mu1_new)"
   ]
  },
  {
   "cell_type": "code",
   "execution_count": 8,
   "metadata": {
    "colab": {
     "base_uri": "https://localhost:8080/"
    },
    "id": "1i1Zdoi7tJO3",
    "outputId": "79805a58-6fc1-41c2-8060-c8abfebc827a"
   },
   "outputs": [
    {
     "name": "stdout",
     "output_type": "stream",
     "text": [
      "C0_new = [0, 1, 2]\n",
      "C1_new = [3, 4, 5]\n"
     ]
    }
   ],
   "source": [
    "# b)\n",
    "\n",
    "(n,d) = X.shape\n",
    "U = np.stack((mu0,mu1))\n",
    "dist = np.zeros(n)\n",
    "C0_new = []\n",
    "C1_new = []\n",
    "for j in range(n):\n",
    "    dist_to_i = np.array([LA.norm(X[j,:] - U[i,:]) for i in range(k)])\n",
    "    if np.argmin(dist_to_i) == 0:\n",
    "        C0_new.append(j)\n",
    "        dist[j] = dist_to_i[0]\n",
    "    else:\n",
    "        C1_new.append(j)\n",
    "        dist[j] = dist_to_i[1]    \n",
    "\n",
    "print('C0_new =', C0_new)\n",
    "print('C1_new =', C1_new)"
   ]
  },
  {
   "cell_type": "code",
   "execution_count": 9,
   "metadata": {
    "colab": {
     "base_uri": "https://localhost:8080/"
    },
    "id": "2_QGQmpCtJO4",
    "outputId": "bdf68d34-fd50-40cc-8b1c-8ffb59b81126"
   },
   "outputs": [
    {
     "name": "stdout",
     "output_type": "stream",
     "text": [
      "G = 11.0\n"
     ]
    }
   ],
   "source": [
    "# c)\n",
    "\n",
    "G = np.sum(dist ** 2)\n",
    "\n",
    "print('G =', G)"
   ]
  },
  {
   "cell_type": "code",
   "execution_count": 10,
   "metadata": {
    "colab": {
     "base_uri": "https://localhost:8080/"
    },
    "id": "BOuCgNYstJO4",
    "outputId": "c1c31097-f362-41f0-dbf0-2268a6057765"
   },
   "outputs": [
    {
     "name": "stdout",
     "output_type": "stream",
     "text": [
      "X = [[0. 0. 0.]\n",
      " [0. 1. 0.]\n",
      " [0. 0. 1.]\n",
      " [1. 1. 0.]\n",
      " [1. 0. 1.]\n",
      " [1. 1. 1.]]\n",
      "Z = [[1 0]\n",
      " [1 0]\n",
      " [1 0]\n",
      " [0 1]\n",
      " [0 1]\n",
      " [0 1]]\n",
      "U = [[-1.  0.  0.]\n",
      " [ 2.  0.  1.]]\n"
     ]
    }
   ],
   "source": [
    "# d)\n",
    "\n",
    "Z= np.zeros((len(original_set), 2), dtype=int)\n",
    "\n",
    "for i in C0_new:\n",
    "    Z[i, 0] = 1\n",
    "for i in C1_new:\n",
    "    Z[i, 1] = 1\n",
    "\n",
    "print('X =', X)\n",
    "print('Z =', Z)\n",
    "print('U =', U)"
   ]
  },
  {
   "cell_type": "markdown",
   "metadata": {
    "id": "Pk8URpJ6tJO4"
   },
   "source": [
    "$\\lhd$"
   ]
  }
 ],
 "metadata": {
  "celltoolbar": "Slideshow",
  "colab": {
   "provenance": []
  },
  "kernelspec": {
   "display_name": "Python 3",
   "language": "python",
   "name": "python3"
  },
  "language_info": {
   "codemirror_mode": {
    "name": "ipython",
    "version": 3
   },
   "file_extension": ".py",
   "mimetype": "text/x-python",
   "name": "python",
   "nbconvert_exporter": "python",
   "pygments_lexer": "ipython3",
   "version": "3.8.8"
  }
 },
 "nbformat": 4,
 "nbformat_minor": 1
}

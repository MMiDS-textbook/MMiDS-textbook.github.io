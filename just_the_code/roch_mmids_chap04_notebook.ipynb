{
 "cells": [
  {
   "cell_type": "markdown",
   "id": "a060fcec",
   "metadata": {
    "slideshow": {
     "slide_type": "slide"
    },
    "tags": [
     "remove-cell",
     "colab-keep"
    ]
   },
   "source": [
    "***\n",
    "\n",
    "*Course:* [Math 535](https://people.math.wisc.edu/~roch/mmids/) - Mathematical Methods in Data Science (MMiDS)  \n",
    "*Chapter:* 4-Spectral graph theory   \n",
    "*Author:* [Sebastien Roch](https://people.math.wisc.edu/~roch/), Department of Mathematics, University of Wisconsin-Madison  \n",
    "*Updated:* Jan 6, 2024   \n",
    "*Copyright:* &copy; 2024 Sebastien Roch\n",
    "\n",
    "***"
   ]
  },
  {
   "cell_type": "code",
   "execution_count": null,
   "id": "001e9951",
   "metadata": {
    "slideshow": {
     "slide_type": "skip"
    },
    "tags": [
     "remove-cell"
    ]
   },
   "outputs": [],
   "source": [
    "# IF RUNNING ON GOOGLE COLAB, UNCOMMENT THE FOLLOWING CODE CELL\n",
    "# When prompted, upload: \n",
    "#     * mmids.py\n",
    "# from your local file system\n",
    "# Files at: https://github.com/MMiDS-textbook/MMiDS-textbook.github.io/tree/main/utils\n",
    "# Alternative instructions: https://colab.research.google.com/notebooks/io.ipynb"
   ]
  },
  {
   "cell_type": "code",
   "execution_count": null,
   "id": "69ae669a",
   "metadata": {
    "slideshow": {
     "slide_type": "skip"
    },
    "tags": [
     "remove-cell",
     "colab-uncomment"
    ]
   },
   "outputs": [],
   "source": [
    "from google.colab import files\n",
    "\n",
    "uploaded = files.upload()\n",
    "\n",
    "for fn in uploaded.keys():\n",
    "    print('User uploaded file \"{name}\" with length {length} bytes'.format(\n",
    "      name=fn, length=len(uploaded[fn])))"
   ]
  },
  {
   "cell_type": "code",
   "execution_count": null,
   "id": "b775b33f",
   "metadata": {
    "slideshow": {
     "slide_type": "skip"
    },
    "tags": [
     "remove-cell"
    ]
   },
   "outputs": [],
   "source": [
    "# PYTHON 3\n",
    "import numpy as np\n",
    "from numpy import linalg as LA\n",
    "from numpy.random import default_rng\n",
    "rng = default_rng(535)\n",
    "import matplotlib.pyplot as plt\n",
    "import pandas as pd\n",
    "import networkx as nx\n",
    "import mmids"
   ]
  },
  {
   "cell_type": "markdown",
   "id": "c357751c",
   "metadata": {
    "slideshow": {
     "slide_type": "slide"
    },
    "tags": [
     "colab-keep"
    ]
   },
   "source": [
    "## Motivating example: finding communities"
   ]
  },
  {
   "cell_type": "markdown",
   "id": "b235e92f",
   "metadata": {
    "slideshow": {
     "slide_type": "slide"
    },
    "tags": [
     "colab-keep"
    ]
   },
   "source": [
    "In this chapter, we analyze datasets in the form of networks. As motivation, we first look at the [Karate Club dataset](https://en.wikipedia.org/wiki/Zachary%27s_karate_club). "
   ]
  },
  {
   "cell_type": "markdown",
   "id": "e4387e8a",
   "metadata": {
    "slideshow": {
     "slide_type": "fragment"
    },
    "tags": [
     "colab-keep"
    ]
   },
   "source": [
    "From [Wikipedia](https://en.wikipedia.org/wiki/Zachary%27s_karate_club):\n",
    "> A social network of a karate club was studied by Wayne W. Zachary for a period of three years from 1970 to 1972. The network captures 34 members of a karate club, documenting links between pairs of members who interacted outside the club. During the study a conflict arose between the administrator \"John A\" and instructor \"Mr. Hi\" (pseudonyms), which led to the split of the club into two. Half of the members formed a new club around Mr. Hi; members from the other part found a new instructor or gave up karate. Based on collected data Zachary correctly assigned all but one member of the club to the groups they actually joined after the split."
   ]
  },
  {
   "cell_type": "markdown",
   "id": "43b4c132",
   "metadata": {
    "slideshow": {
     "slide_type": "slide"
    },
    "tags": [
     "colab-keep"
    ]
   },
   "source": [
    "![Karate club network](https://upload.wikimedia.org/wikipedia/commons/thumb/0/0d/Social_Network_Model_of_Relationships_in_the_Karate_Club.png/480px-Social_Network_Model_of_Relationships_in_the_Karate_Club.png)\n",
    "\n",
    "**Figure:** Karate Club network ([Source](https://commons.wikimedia.org/wiki/File:Social_Network_Model_of_Relationships_in_the_Karate_Club.png))"
   ]
  },
  {
   "cell_type": "markdown",
   "id": "fa545bab",
   "metadata": {
    "slideshow": {
     "slide_type": "slide"
    },
    "tags": [
     "colab-keep"
    ]
   },
   "source": [
    "We use the [`NetworkX`](https://networkx.org) package to load the data and vizualize it. We will say more about it later in this chapter. In the meantime, there is a good tutorial [here](https://networkx.org/documentation/stable/tutorial.html)."
   ]
  },
  {
   "cell_type": "code",
   "execution_count": null,
   "id": "0e3b41d8",
   "metadata": {
    "slideshow": {
     "slide_type": "fragment"
    }
   },
   "outputs": [],
   "source": [
    "import networkx as nx"
   ]
  },
  {
   "cell_type": "code",
   "execution_count": null,
   "id": "45f83e8f",
   "metadata": {
    "slideshow": {
     "slide_type": "fragment"
    }
   },
   "outputs": [],
   "source": [
    "G = nx.karate_club_graph()\n",
    "nx.draw_networkx(G)"
   ]
  },
  {
   "cell_type": "markdown",
   "id": "3a431849",
   "metadata": {
    "slideshow": {
     "slide_type": "slide"
    },
    "tags": [
     "colab-keep"
    ]
   },
   "source": [
    "Our goal: \n",
    "\n",
    "> identify natural sub-communities in the network \n",
    "\n",
    "That is, we want to find groups of nodes that have many links between them, but relatively few with the other nodes. \n",
    "\n",
    "It will turn out that the eigenvectors of the Laplacian matrix, a matrix naturally associated to the graph, contain useful information about such communities."
   ]
  },
  {
   "cell_type": "markdown",
   "id": "83361a01",
   "metadata": {
    "slideshow": {
     "slide_type": "slide"
    },
    "tags": [
     "colab-keep"
    ]
   },
   "source": [
    "## Background: review of graphs and associated matrices"
   ]
  },
  {
   "cell_type": "markdown",
   "id": "aca1a046",
   "metadata": {
    "slideshow": {
     "slide_type": "slide"
    },
    "tags": [
     "colab-keep"
    ]
   },
   "source": [
    "**NUMERICAL CORNER:** In Python, the [`NetworkX`](https://networkx.org) package provides many functionalities for defining, modifying and plotting graphs. For instance, many standard graphs can be defined conveniently. The [`petersen_graph()`](https://networkx.org/documentation/stable/reference/generated/networkx.generators.small.petersen_graph.html#networkx.generators.small.petersen_graph) function defines the Petersen graph."
   ]
  },
  {
   "cell_type": "code",
   "execution_count": null,
   "id": "05de7ba4",
   "metadata": {
    "slideshow": {
     "slide_type": "fragment"
    }
   },
   "outputs": [],
   "source": [
    "import networkx as nx"
   ]
  },
  {
   "cell_type": "code",
   "execution_count": null,
   "id": "4aec29c6",
   "metadata": {
    "slideshow": {
     "slide_type": "fragment"
    }
   },
   "outputs": [],
   "source": [
    "G = nx.petersen_graph()"
   ]
  },
  {
   "cell_type": "markdown",
   "id": "d2ff2384",
   "metadata": {
    "slideshow": {
     "slide_type": "slide"
    },
    "tags": [
     "colab-keep"
    ]
   },
   "source": [
    "This graph can be plotted using the function [`draw_networkx()`](https://networkx.org/documentation/networkx-1.7/reference/generated/networkx.drawing.nx_pylab.draw_networkx.html)."
   ]
  },
  {
   "cell_type": "code",
   "execution_count": null,
   "id": "1ca79ab6",
   "metadata": {
    "slideshow": {
     "slide_type": "fragment"
    }
   },
   "outputs": [],
   "source": [
    "nx.draw_networkx(G, node_size=600, node_color='black', font_size=16, font_color='white')"
   ]
  },
  {
   "cell_type": "markdown",
   "id": "cb147bd1",
   "metadata": {
    "slideshow": {
     "slide_type": "slide"
    },
    "tags": [
     "colab-keep"
    ]
   },
   "source": [
    "Other standard graphs can be generated with special functions, e.g. complete graphs using [`complete_graph()`](https://networkx.org/documentation/stable/reference/generated/networkx.generators.classic.complete_graph.html#networkx.generators.classic.complete_graph). See [here](https://networkx.org/documentation/stable/reference/generators.html#module-networkx.generators.classic) for a complete list."
   ]
  },
  {
   "cell_type": "code",
   "execution_count": null,
   "id": "faec00fb",
   "metadata": {
    "slideshow": {
     "slide_type": "fragment"
    }
   },
   "outputs": [],
   "source": [
    "G = nx.complete_graph(3)"
   ]
  },
  {
   "cell_type": "code",
   "execution_count": null,
   "id": "6888b49f",
   "metadata": {
    "slideshow": {
     "slide_type": "fragment"
    }
   },
   "outputs": [],
   "source": [
    "nx.draw_networkx(G, node_size=600, node_color='black', font_size=16, font_color='white')"
   ]
  },
  {
   "cell_type": "markdown",
   "id": "968d0b0d",
   "metadata": {
    "slideshow": {
     "slide_type": "slide"
    },
    "tags": [
     "colab-keep"
    ]
   },
   "source": [
    "See [here](https://networkx.org/documentation/stable/reference/functions.html) and [here](https://networkx.org/documentation/stable/reference/algorithms/index.html) for a list of functions to access various properties of a graph. Here are a few examples:"
   ]
  },
  {
   "cell_type": "code",
   "execution_count": null,
   "id": "58d2d6df",
   "metadata": {
    "slideshow": {
     "slide_type": "fragment"
    }
   },
   "outputs": [],
   "source": [
    "G = nx.path_graph(10)"
   ]
  },
  {
   "cell_type": "code",
   "execution_count": null,
   "id": "e5f3cd5f",
   "metadata": {
    "slideshow": {
     "slide_type": "fragment"
    }
   },
   "outputs": [],
   "source": [
    "nx.draw_networkx(G, node_size=600, node_color='black', font_size=16, font_color='white')"
   ]
  },
  {
   "cell_type": "code",
   "execution_count": null,
   "id": "288cdb80",
   "metadata": {
    "slideshow": {
     "slide_type": "slide"
    }
   },
   "outputs": [],
   "source": [
    "G.number_of_nodes() # number of nodes"
   ]
  },
  {
   "cell_type": "code",
   "execution_count": null,
   "id": "e5011b45",
   "metadata": {
    "slideshow": {
     "slide_type": "fragment"
    }
   },
   "outputs": [],
   "source": [
    "G.number_of_edges() # number of edges"
   ]
  },
  {
   "cell_type": "code",
   "execution_count": null,
   "id": "5715ba77",
   "metadata": {
    "slideshow": {
     "slide_type": "skip"
    }
   },
   "outputs": [],
   "source": [
    "G.has_node(7) # checks whether the graph has a particular vertex"
   ]
  },
  {
   "cell_type": "code",
   "execution_count": null,
   "id": "9e10cbb4",
   "metadata": {
    "slideshow": {
     "slide_type": "skip"
    }
   },
   "outputs": [],
   "source": [
    "G.has_node(10)"
   ]
  },
  {
   "cell_type": "code",
   "execution_count": null,
   "id": "af95475d",
   "metadata": {
    "slideshow": {
     "slide_type": "fragment"
    }
   },
   "outputs": [],
   "source": [
    "G.has_edge(0, 1) # checks whether the graph has a particular vertex"
   ]
  },
  {
   "cell_type": "code",
   "execution_count": null,
   "id": "2d3dbdd5",
   "metadata": {
    "slideshow": {
     "slide_type": "fragment"
    }
   },
   "outputs": [],
   "source": [
    "G.has_edge(0, 2)"
   ]
  },
  {
   "cell_type": "code",
   "execution_count": null,
   "id": "b2667688",
   "metadata": {
    "slideshow": {
     "slide_type": "slide"
    }
   },
   "outputs": [],
   "source": [
    "[n for n in G.neighbors(2)] # returns a list of neighbors of the specified vertex"
   ]
  },
  {
   "cell_type": "code",
   "execution_count": null,
   "id": "0b41fe37",
   "metadata": {
    "slideshow": {
     "slide_type": "fragment"
    }
   },
   "outputs": [],
   "source": [
    "nx.is_connected(G) # checks whether the graph is connected"
   ]
  },
  {
   "cell_type": "code",
   "execution_count": null,
   "id": "a37ae8ad",
   "metadata": {
    "slideshow": {
     "slide_type": "fragment"
    }
   },
   "outputs": [],
   "source": [
    "[cc for cc in nx.connected_components(G)] # returns the connected components"
   ]
  },
  {
   "cell_type": "code",
   "execution_count": null,
   "id": "a131182c",
   "metadata": {
    "slideshow": {
     "slide_type": "slide"
    }
   },
   "outputs": [],
   "source": [
    "for e in G.edges():\n",
    "    print(e)"
   ]
  },
  {
   "cell_type": "markdown",
   "id": "3438d2fb",
   "metadata": {
    "slideshow": {
     "slide_type": "slide"
    },
    "tags": [
     "colab-keep"
    ]
   },
   "source": [
    "Another way of specifying a graph is to start with an empty graph with a given number of vertices and then add edges one by one. The following command creates a graph with $4$ vertices and no edge (see [`empty_graph()`](https://networkx.org/documentation/stable/reference/generated/networkx.generators.classic.empty_graph.html#networkx.generators.classic.empty_graph))."
   ]
  },
  {
   "cell_type": "code",
   "execution_count": null,
   "id": "d1418dd0",
   "metadata": {
    "scrolled": true,
    "slideshow": {
     "slide_type": "fragment"
    }
   },
   "outputs": [],
   "source": [
    "G = nx.empty_graph(4)"
   ]
  },
  {
   "cell_type": "code",
   "execution_count": null,
   "id": "e9cf5451",
   "metadata": {
    "slideshow": {
     "slide_type": "fragment"
    }
   },
   "outputs": [],
   "source": [
    "G.add_edge(0, 1)\n",
    "G.add_edge(2, 3)\n",
    "G.add_edge(0, 3)\n",
    "G.add_edge(3, 0)"
   ]
  },
  {
   "cell_type": "code",
   "execution_count": null,
   "id": "69f3a33a",
   "metadata": {
    "scrolled": true,
    "slideshow": {
     "slide_type": "fragment"
    }
   },
   "outputs": [],
   "source": [
    "nx.draw_networkx(G, node_size=600, node_color='black', font_size=16, font_color='white')"
   ]
  },
  {
   "cell_type": "markdown",
   "id": "93c9f60c",
   "metadata": {
    "slideshow": {
     "slide_type": "skip"
    },
    "tags": [
     "colab-keep"
    ]
   },
   "source": [
    "$\\unlhd$"
   ]
  },
  {
   "cell_type": "markdown",
   "id": "349925f5",
   "metadata": {
    "slideshow": {
     "slide_type": "slide"
    },
    "tags": [
     "colab-keep"
    ]
   },
   "source": [
    "**NUMERICAL CORNER:** The package `NetworkX` also supports digraphs."
   ]
  },
  {
   "cell_type": "code",
   "execution_count": null,
   "id": "6f8e9acb",
   "metadata": {
    "slideshow": {
     "slide_type": "fragment"
    }
   },
   "outputs": [],
   "source": [
    "G = nx.DiGraph()\n",
    "nx.add_star(G, [0, 1, 2, 3, 4])"
   ]
  },
  {
   "cell_type": "code",
   "execution_count": null,
   "id": "be3995cb",
   "metadata": {
    "slideshow": {
     "slide_type": "fragment"
    }
   },
   "outputs": [],
   "source": [
    "nx.draw_networkx(G, node_size=600, node_color='black', font_size=16, font_color='white')"
   ]
  },
  {
   "cell_type": "markdown",
   "id": "ec858b7f",
   "metadata": {
    "slideshow": {
     "slide_type": "slide"
    },
    "tags": [
     "colab-keep"
    ]
   },
   "source": [
    "Another way of specifying a digraph is to start with an empty graph with a given number of vertices and then add edges one by one (compare to the undirected case above). The following command creates a graph with no vertices."
   ]
  },
  {
   "cell_type": "code",
   "execution_count": null,
   "id": "e2322fab",
   "metadata": {
    "slideshow": {
     "slide_type": "fragment"
    }
   },
   "outputs": [],
   "source": [
    "G = nx.DiGraph()"
   ]
  },
  {
   "cell_type": "code",
   "execution_count": null,
   "id": "40bda969",
   "metadata": {
    "slideshow": {
     "slide_type": "fragment"
    }
   },
   "outputs": [],
   "source": [
    "G.add_edge(0, 1)\n",
    "G.add_edge(2, 3)\n",
    "G.add_edge(0, 3)\n",
    "G.add_edge(3, 0)\n",
    "G.add_edge(1,1)"
   ]
  },
  {
   "cell_type": "code",
   "execution_count": null,
   "id": "afec8ee6",
   "metadata": {
    "slideshow": {
     "slide_type": "slide"
    }
   },
   "outputs": [],
   "source": [
    "nx.draw_networkx(G, node_size=600, node_color='black', font_size=16, font_color='white')"
   ]
  },
  {
   "cell_type": "markdown",
   "id": "1616ce26",
   "metadata": {
    "tags": [
     "colab-keep"
    ]
   },
   "source": [
    "$\\unlhd$"
   ]
  },
  {
   "cell_type": "markdown",
   "id": "ef55c970",
   "metadata": {
    "slideshow": {
     "slide_type": "slide"
    },
    "tags": [
     "colab-keep"
    ]
   },
   "source": [
    "**NUMERICAL CORNER:** Using `NetworkX`, the adjacency matrix of a graph can be obtained with [`adjacency_matrix()`](https://networkx.org/documentation/stable/reference/generated/networkx.linalg.graphmatrix.adjacency_matrix.html). By default, it returns a `SciPy` sparse matrix. Alternatively, one can get a regular array with [`toarray()`](https://docs.scipy.org/doc/scipy/reference/generated/scipy.sparse.csr_matrix.toarray.html). Recall that in NumPy (and SciPy) array indices start at $0$. Consistently, NetworkX also names vertices starting at $0$. **Note, however, that this conflicts with our mathematical conventions.**"
   ]
  },
  {
   "cell_type": "code",
   "execution_count": null,
   "id": "20df78cd",
   "metadata": {
    "slideshow": {
     "slide_type": "fragment"
    }
   },
   "outputs": [],
   "source": [
    "G = nx.complete_graph(3)"
   ]
  },
  {
   "cell_type": "code",
   "execution_count": null,
   "id": "31481f40",
   "metadata": {
    "slideshow": {
     "slide_type": "fragment"
    }
   },
   "outputs": [],
   "source": [
    "A = nx.adjacency_matrix(G)\n",
    "print(A)"
   ]
  },
  {
   "cell_type": "code",
   "execution_count": null,
   "id": "5bcc447f",
   "metadata": {
    "slideshow": {
     "slide_type": "fragment"
    }
   },
   "outputs": [],
   "source": [
    "A = nx.adjacency_matrix(G).toarray()\n",
    "print(A)"
   ]
  },
  {
   "cell_type": "code",
   "execution_count": null,
   "id": "6774ce54",
   "metadata": {
    "slideshow": {
     "slide_type": "slide"
    }
   },
   "outputs": [],
   "source": [
    "G = nx.petersen_graph()\n",
    "A = nx.adjacency_matrix(G)\n",
    "print(A)"
   ]
  },
  {
   "cell_type": "markdown",
   "id": "5f00a254",
   "metadata": {
    "slideshow": {
     "slide_type": "slide"
    },
    "tags": [
     "colab-keep"
    ]
   },
   "source": [
    "The incidence matrix is obtained with [`incidence_matrix()`](https://networkx.org/documentation/stable/reference/generated/networkx.linalg.graphmatrix.incidence_matrix.html) -- again as a sparse array."
   ]
  },
  {
   "cell_type": "code",
   "execution_count": null,
   "id": "48f20522",
   "metadata": {
    "slideshow": {
     "slide_type": "fragment"
    }
   },
   "outputs": [],
   "source": [
    "B = nx.incidence_matrix(G)\n",
    "print(B)"
   ]
  },
  {
   "cell_type": "code",
   "execution_count": null,
   "id": "34f5f4be",
   "metadata": {
    "slideshow": {
     "slide_type": "fragment"
    }
   },
   "outputs": [],
   "source": [
    "B = nx.incidence_matrix(G).toarray()\n",
    "print(B)"
   ]
  },
  {
   "cell_type": "markdown",
   "id": "ee859ad6",
   "metadata": {
    "slideshow": {
     "slide_type": "slide"
    },
    "tags": [
     "colab-keep"
    ]
   },
   "source": [
    "In the digraph case, the definitions are adapted as follows. The adjacency matrix $A$ of a digraph $G = (V, E)$ is the matrix\n",
    "defined as\n",
    "\n",
    "\\begin{align*}\n",
    "A_{xy} \n",
    "= \n",
    "\\begin{cases}\n",
    "1 & \\text{if $(x,y) \\in E$}\\\\ \n",
    "0 & \\text{o.w.}\n",
    "\\end{cases}\n",
    "\\end{align*}\n",
    "\n",
    "The incidence matrix of a digraph $G$ with vertices $1,\\ldots,n$ and edges $e_1, \\ldots, e_m$ is the matrix $B$ such that $B_{ij} = -1$ if egde $e_j$ leaves vertex $i$, $B_{ij} = 1$ if egde $e_j$ enters vertex $i$, and 0 otherwise. "
   ]
  },
  {
   "cell_type": "markdown",
   "id": "a116ed6c",
   "metadata": {
    "slideshow": {
     "slide_type": "slide"
    },
    "tags": [
     "colab-keep"
    ]
   },
   "source": [
    "**NUMERICAL CORNER:** We revisit an earlier directed graph."
   ]
  },
  {
   "cell_type": "code",
   "execution_count": null,
   "id": "35e99436",
   "metadata": {
    "slideshow": {
     "slide_type": "fragment"
    }
   },
   "outputs": [],
   "source": [
    "G = nx.DiGraph()"
   ]
  },
  {
   "cell_type": "code",
   "execution_count": null,
   "id": "1d0b5b69",
   "metadata": {
    "slideshow": {
     "slide_type": "fragment"
    }
   },
   "outputs": [],
   "source": [
    "G.add_edge(0, 1)\n",
    "G.add_edge(2, 3)\n",
    "G.add_edge(0, 3)\n",
    "G.add_edge(3, 0)\n",
    "G.add_edge(1,1)"
   ]
  },
  {
   "cell_type": "markdown",
   "id": "ba65c274",
   "metadata": {
    "slideshow": {
     "slide_type": "slide"
    },
    "tags": [
     "colab-keep"
    ]
   },
   "source": [
    "We compute the adjacency and incidence matrices. For the incidence matrix, one must specify `oriented=True` for the oriented version."
   ]
  },
  {
   "cell_type": "code",
   "execution_count": null,
   "id": "0c6b9963",
   "metadata": {
    "slideshow": {
     "slide_type": "fragment"
    }
   },
   "outputs": [],
   "source": [
    "A = nx.adjacency_matrix(G).toarray()\n",
    "print(A)"
   ]
  },
  {
   "cell_type": "code",
   "execution_count": null,
   "id": "9ebbac53",
   "metadata": {
    "slideshow": {
     "slide_type": "fragment"
    }
   },
   "outputs": [],
   "source": [
    "B = nx.incidence_matrix(G, oriented=True).toarray()\n",
    "print(B)"
   ]
  },
  {
   "cell_type": "markdown",
   "id": "1b9db454",
   "metadata": {
    "slideshow": {
     "slide_type": "slide"
    },
    "tags": [
     "colab-keep"
    ]
   },
   "source": [
    "Revisiting an ealier undirected graph, we note that `incidence_matrix()` can also produce an arbitrary oriented incidence matrix by using the `oriented=True` option."
   ]
  },
  {
   "cell_type": "code",
   "execution_count": null,
   "id": "213789ee",
   "metadata": {
    "scrolled": true,
    "slideshow": {
     "slide_type": "fragment"
    }
   },
   "outputs": [],
   "source": [
    "G = nx.empty_graph(4)"
   ]
  },
  {
   "cell_type": "code",
   "execution_count": null,
   "id": "d436f6b6",
   "metadata": {
    "slideshow": {
     "slide_type": "fragment"
    }
   },
   "outputs": [],
   "source": [
    "G.add_edge(0, 1)\n",
    "G.add_edge(2, 3)\n",
    "G.add_edge(0, 3)\n",
    "G.add_edge(3, 0)"
   ]
  },
  {
   "cell_type": "code",
   "execution_count": null,
   "id": "4877d711",
   "metadata": {
    "slideshow": {
     "slide_type": "fragment"
    }
   },
   "outputs": [],
   "source": [
    "B = nx.incidence_matrix(G, oriented=True).toarray()\n",
    "print(B)"
   ]
  },
  {
   "cell_type": "markdown",
   "id": "dec04f36",
   "metadata": {
    "slideshow": {
     "slide_type": "skip"
    },
    "tags": [
     "colab-keep"
    ]
   },
   "source": [
    "$\\unlhd$"
   ]
  },
  {
   "cell_type": "markdown",
   "id": "9a2db7b3",
   "metadata": {
    "slideshow": {
     "slide_type": "slide"
    },
    "tags": [
     "colab-keep"
    ]
   },
   "source": [
    "## Spectral properties of the Laplacian matrix"
   ]
  },
  {
   "cell_type": "markdown",
   "id": "98e2fb66",
   "metadata": {
    "slideshow": {
     "slide_type": "slide"
    },
    "tags": [
     "colab-keep"
    ]
   },
   "source": [
    "**NUMERICAL CORNER:** One use of the spectral decomposition of the Laplacian matrix is in graph drawing. We illustrate this next. Given a graph $G = (V, E)$, it is not clear a priori how to draw it in the plane since the only information available are adjacencies of vertices. One approach is just to position the vertices at random. The function [`networkx.draw()`](https://networkx.org/documentation/stable/reference/generated/networkx.drawing.nx_pylab.draw.html) or [`networkx.draw_networkx()`](https://networkx.org/documentation/stable/reference/generated/networkx.drawing.nx_pylab.draw_networkx.html#networkx.drawing.nx_pylab.draw_networkx)can take as input different [graph layout](https://networkx.org/documentation/stable/reference/drawing.html#module-networkx.drawing.layout) functions that return an $x$ and $y$-coordinate for each vertex.\n",
    "\n",
    "We will test this on a grid graph. Sometimes a picture is worth a thousand words. This is an example of a $4 \\times 7$-grid graph."
   ]
  },
  {
   "cell_type": "markdown",
   "id": "b739cdcb",
   "metadata": {
    "slideshow": {
     "slide_type": "fragment"
    },
    "tags": [
     "colab-keep"
    ]
   },
   "source": [
    "![Grid graph](https://mathworld.wolfram.com/images/eps-gif/GridGraph_701.gif)\n",
    "\n",
    "**Figure:** Grid graph ([Source](https://mathworld.wolfram.com/GridGraph.html))"
   ]
  },
  {
   "cell_type": "markdown",
   "id": "c119e98b",
   "metadata": {
    "slideshow": {
     "slide_type": "slide"
    },
    "tags": [
     "colab-keep"
    ]
   },
   "source": [
    "We use [`grid_2d_graph()`](https://networkx.org/documentation/stable/reference/generated/networkx.generators.lattice.grid_2d_graph.html) to construct such a graph."
   ]
  },
  {
   "cell_type": "code",
   "execution_count": null,
   "id": "1b6cd252",
   "metadata": {
    "scrolled": true,
    "slideshow": {
     "slide_type": "fragment"
    }
   },
   "outputs": [],
   "source": [
    "G = nx.grid_2d_graph(4,7)"
   ]
  },
  {
   "cell_type": "markdown",
   "id": "b091ff8d",
   "metadata": {
    "slideshow": {
     "slide_type": "slide"
    },
    "tags": [
     "colab-keep"
    ]
   },
   "source": [
    "One layout approach is to choose random locations for the nodes. Specifically, for every node, a position is generated by choosing each coordinate uniformly at random on the interval $[0,1]$."
   ]
  },
  {
   "cell_type": "code",
   "execution_count": null,
   "id": "a35e171b",
   "metadata": {
    "slideshow": {
     "slide_type": "fragment"
    }
   },
   "outputs": [],
   "source": [
    "nx.draw(G, pos=nx.random_layout(G))"
   ]
  },
  {
   "cell_type": "markdown",
   "id": "978f8431",
   "metadata": {
    "slideshow": {
     "slide_type": "slide"
    },
    "tags": [
     "colab-keep"
    ]
   },
   "source": [
    "Clearly, this is a lot harder to read than the original graph above. \n",
    "\n",
    "Another approach is to map the vertices to two eigenvectors, similarly to what we did for dimensionality reduction. The eigenvector associated to $\\mu_1$ is constant and therefore not useful for drawing. We try the next two. We use the Laplacian matrix."
   ]
  },
  {
   "cell_type": "code",
   "execution_count": null,
   "id": "52810145",
   "metadata": {
    "slideshow": {
     "slide_type": "fragment"
    }
   },
   "outputs": [],
   "source": [
    "nx.draw(G, pos=nx.spectral_layout(G))"
   ]
  },
  {
   "cell_type": "markdown",
   "id": "7b224e6f",
   "metadata": {
    "slideshow": {
     "slide_type": "fragment"
    },
    "tags": [
     "colab-keep"
    ]
   },
   "source": [
    "Interestingly, the outcome is very similar to the original, more natural drawing. We will come back later to try to explain this, after we have developed further understanding of the spectral properties of the Laplacian matrix."
   ]
  },
  {
   "cell_type": "markdown",
   "id": "0613a103",
   "metadata": {
    "slideshow": {
     "slide_type": "skip"
    },
    "tags": [
     "colab-keep"
    ]
   },
   "source": [
    "$\\unlhd$"
   ]
  },
  {
   "cell_type": "markdown",
   "id": "c0369191",
   "metadata": {
    "slideshow": {
     "slide_type": "slide"
    },
    "tags": [
     "colab-keep"
    ]
   },
   "source": [
    "**NUMERICAL CORNER:** We construct a graph with two connected components and check the results above. We work directly with the adjacency matrix."
   ]
  },
  {
   "cell_type": "code",
   "execution_count": null,
   "id": "8c05ab3d",
   "metadata": {
    "slideshow": {
     "slide_type": "fragment"
    }
   },
   "outputs": [],
   "source": [
    "A = np.array([[0, 1, 1, 0, 0], [1, 0, 1, 0, 0], [1, 1, 0, 0, 0], [0, 0, 0, 0, 1], [0, 0, 0, 1, 0]])\n",
    "print(A)"
   ]
  },
  {
   "cell_type": "markdown",
   "id": "4778fd68",
   "metadata": {
    "slideshow": {
     "slide_type": "fragment"
    },
    "tags": [
     "colab-keep"
    ]
   },
   "source": [
    "Note the block structure."
   ]
  },
  {
   "cell_type": "markdown",
   "id": "b8f13a67",
   "metadata": {
    "slideshow": {
     "slide_type": "slide"
    },
    "tags": [
     "colab-keep"
    ]
   },
   "source": [
    "The degrees can be obtained by summing the rows of the adjacency matrix."
   ]
  },
  {
   "cell_type": "code",
   "execution_count": null,
   "id": "76e2bf81",
   "metadata": {
    "slideshow": {
     "slide_type": "fragment"
    }
   },
   "outputs": [],
   "source": [
    "degrees = A.sum(axis=1)\n",
    "print(degrees)"
   ]
  },
  {
   "cell_type": "code",
   "execution_count": null,
   "id": "63c9c74f",
   "metadata": {
    "slideshow": {
     "slide_type": "fragment"
    }
   },
   "outputs": [],
   "source": [
    "D = np.diag(degrees)\n",
    "print(D)"
   ]
  },
  {
   "cell_type": "code",
   "execution_count": null,
   "id": "1b40dd7a",
   "metadata": {
    "slideshow": {
     "slide_type": "slide"
    }
   },
   "outputs": [],
   "source": [
    "L = D - A\n",
    "print(L)"
   ]
  },
  {
   "cell_type": "code",
   "execution_count": null,
   "id": "9fcef753",
   "metadata": {
    "slideshow": {
     "slide_type": "fragment"
    }
   },
   "outputs": [],
   "source": [
    "LA.eigvals(L)"
   ]
  },
  {
   "cell_type": "markdown",
   "id": "3cbe2507",
   "metadata": {
    "slideshow": {
     "slide_type": "fragment"
    },
    "tags": [
     "colab-keep"
    ]
   },
   "source": [
    "Observe that (up to numerical error) there are two $0$ eigenvalues and that the largest eigenvalue is greater or equal than the maximum degree plus one."
   ]
  },
  {
   "cell_type": "markdown",
   "id": "70f95c14",
   "metadata": {
    "slideshow": {
     "slide_type": "slide"
    },
    "tags": [
     "colab-keep"
    ]
   },
   "source": [
    "To compute the Laplacian matrix, one can also use the function `laplacian_matrix()`. For example, the Laplacian of the Petersen graph is the following:"
   ]
  },
  {
   "cell_type": "code",
   "execution_count": null,
   "id": "9d0530d1",
   "metadata": {
    "slideshow": {
     "slide_type": "fragment"
    }
   },
   "outputs": [],
   "source": [
    "G = nx.petersen_graph()\n",
    "L = nx.laplacian_matrix(G).toarray()\n",
    "print(L)"
   ]
  },
  {
   "cell_type": "code",
   "execution_count": null,
   "id": "8fd47bea",
   "metadata": {
    "slideshow": {
     "slide_type": "slide"
    }
   },
   "outputs": [],
   "source": [
    "LA.eigvals(L)"
   ]
  },
  {
   "cell_type": "markdown",
   "id": "b382b247",
   "metadata": {
    "slideshow": {
     "slide_type": "skip"
    },
    "tags": [
     "colab-keep"
    ]
   },
   "source": [
    "$\\unlhd$"
   ]
  },
  {
   "cell_type": "markdown",
   "id": "fd223677",
   "metadata": {
    "slideshow": {
     "slide_type": "slide"
    },
    "tags": [
     "colab-keep"
    ]
   },
   "source": [
    "**NUMERICAL CORNER:** This is perhaps easiest to see on a path graph. *Note:* `NetworkX` numbers vertices $0,\\ldots,n-1$. "
   ]
  },
  {
   "cell_type": "code",
   "execution_count": null,
   "id": "585c77bc",
   "metadata": {
    "slideshow": {
     "slide_type": "fragment"
    }
   },
   "outputs": [],
   "source": [
    "G = nx.path_graph(10)"
   ]
  },
  {
   "cell_type": "code",
   "execution_count": null,
   "id": "06433ecd",
   "metadata": {
    "slideshow": {
     "slide_type": "fragment"
    },
    "tags": [
     "hide-input"
    ]
   },
   "outputs": [],
   "source": [
    "nx.draw_networkx(G, \n",
    "                 node_size=600, node_color='black',\n",
    "                 font_size=16, font_color='white', \n",
    "                 pos=nx.random_layout(G, seed=535)\n",
    "                )"
   ]
  },
  {
   "cell_type": "markdown",
   "id": "9aa68058",
   "metadata": {
    "slideshow": {
     "slide_type": "slide"
    },
    "tags": [
     "colab-keep"
    ]
   },
   "source": [
    "We plot the second Laplacian eigenvector (i.e., the eigenvector of the Laplacian matrix corresponding to the second smallest eigenvalue). We use [`numpy.argsort()`](https://numpy.org/doc/stable/reference/generated/numpy.argsort.html) to find the index of the second smallest eigenvalue. Because indices start at `0`, we want entry `1` of the output of `np.argsort()`."
   ]
  },
  {
   "cell_type": "code",
   "execution_count": null,
   "id": "cf4b028a",
   "metadata": {
    "slideshow": {
     "slide_type": "fragment"
    }
   },
   "outputs": [],
   "source": [
    "L = nx.laplacian_matrix(G).toarray()\n",
    "w, v = LA.eigh(L)\n",
    "y2 = v[:,np.argsort(w)[1]]"
   ]
  },
  {
   "cell_type": "code",
   "execution_count": null,
   "id": "302ced54",
   "metadata": {
    "scrolled": false,
    "slideshow": {
     "slide_type": "fragment"
    },
    "tags": [
     "hide-input"
    ]
   },
   "outputs": [],
   "source": [
    "plt.plot(y2)\n",
    "plt.show()"
   ]
  },
  {
   "cell_type": "markdown",
   "id": "b8a7ea7d",
   "metadata": {
    "slideshow": {
     "slide_type": "skip"
    },
    "tags": [
     "colab-keep"
    ]
   },
   "source": [
    "$\\unlhd$"
   ]
  },
  {
   "cell_type": "markdown",
   "id": "7f47a783",
   "metadata": {
    "slideshow": {
     "slide_type": "slide"
    },
    "tags": [
     "colab-keep"
    ]
   },
   "source": [
    "## Appplication to graph partitioning"
   ]
  },
  {
   "cell_type": "code",
   "execution_count": null,
   "id": "4737b5ea",
   "metadata": {
    "slideshow": {
     "slide_type": "fragment"
    }
   },
   "outputs": [],
   "source": [
    "G_tree = nx.random_tree(n=6, seed=111)"
   ]
  },
  {
   "cell_type": "code",
   "execution_count": null,
   "id": "f066580f",
   "metadata": {
    "slideshow": {
     "slide_type": "fragment"
    },
    "tags": [
     "hide-input"
    ]
   },
   "outputs": [],
   "source": [
    "nx.draw_networkx(G_tree, pos=nx.circular_layout(G_tree),\n",
    "                 node_size=600, node_color=\"black\", \n",
    "                 font_size=16, font_color=\"white\")"
   ]
  },
  {
   "cell_type": "markdown",
   "id": "69495ddd",
   "metadata": {
    "slideshow": {
     "slide_type": "slide"
    },
    "tags": [
     "colab-keep"
    ]
   },
   "source": [
    "**NUMERICAL CORNER:** **(A random tree)** We return to the random tree example above. We claimed that $\\phi_G = 1/3$. The maximum degree is $\\bar{\\delta} = 3$. We now compute $\\mu_2$. We first compute the Laplacian matrix."
   ]
  },
  {
   "cell_type": "code",
   "execution_count": null,
   "id": "2cfd5927",
   "metadata": {
    "slideshow": {
     "slide_type": "fragment"
    }
   },
   "outputs": [],
   "source": [
    "phi_G = 1/3\n",
    "max_deg = 3"
   ]
  },
  {
   "cell_type": "markdown",
   "id": "9f0aa703",
   "metadata": {
    "slideshow": {
     "slide_type": "slide"
    },
    "tags": [
     "colab-keep"
    ]
   },
   "source": [
    "We now compute $\\mu_2$. We first compute the Laplacian matrix."
   ]
  },
  {
   "cell_type": "code",
   "execution_count": null,
   "id": "0edc9c15",
   "metadata": {
    "slideshow": {
     "slide_type": "fragment"
    }
   },
   "outputs": [],
   "source": [
    "L_tree = nx.laplacian_matrix(G_tree).toarray()\n",
    "print(L_tree)"
   ]
  },
  {
   "cell_type": "code",
   "execution_count": null,
   "id": "83fa4ce6",
   "metadata": {
    "slideshow": {
     "slide_type": "fragment"
    }
   },
   "outputs": [],
   "source": [
    "w, v = LA.eigh(L_tree) \n",
    "mu_2 = np.sort(w)[1]\n",
    "print(mu_2)"
   ]
  },
  {
   "cell_type": "markdown",
   "id": "ea419217",
   "metadata": {
    "slideshow": {
     "slide_type": "slide"
    },
    "tags": [
     "colab-keep"
    ]
   },
   "source": [
    "We check Cheeger's inequality. The left-hand side is:"
   ]
  },
  {
   "cell_type": "code",
   "execution_count": null,
   "id": "1e0e52c4",
   "metadata": {
    "slideshow": {
     "slide_type": "fragment"
    }
   },
   "outputs": [],
   "source": [
    "(phi_G ** 2) / (2 * max_deg)"
   ]
  },
  {
   "cell_type": "markdown",
   "id": "55cbdf08",
   "metadata": {
    "slideshow": {
     "slide_type": "slide"
    },
    "tags": [
     "colab-keep"
    ]
   },
   "source": [
    "The right-hand side is:"
   ]
  },
  {
   "cell_type": "code",
   "execution_count": null,
   "id": "bbeaf3c7",
   "metadata": {
    "slideshow": {
     "slide_type": "fragment"
    }
   },
   "outputs": [],
   "source": [
    "2 * phi_G"
   ]
  },
  {
   "cell_type": "markdown",
   "id": "1045d121",
   "metadata": {
    "slideshow": {
     "slide_type": "skip"
    },
    "tags": [
     "colab-keep"
    ]
   },
   "source": [
    "$\\unlhd$"
   ]
  },
  {
   "cell_type": "markdown",
   "id": "cc74ee4d",
   "metadata": {
    "slideshow": {
     "slide_type": "slide"
    },
    "tags": [
     "colab-keep"
    ]
   },
   "source": [
    "**NUMERICAL CORNER:** We implement the graph cutting algorithm above."
   ]
  },
  {
   "cell_type": "markdown",
   "id": "f4553829",
   "metadata": {
    "slideshow": {
     "slide_type": "fragment"
    },
    "tags": [
     "colab-keep"
    ]
   },
   "source": [
    "We now implement our heuristic in Python. We first write an auxiliary function that takes as input an adjacency matrix, an ordering of the vertices and a value $k$. It returns the cut ratio for the first $k$ vertices in the order."
   ]
  },
  {
   "cell_type": "code",
   "execution_count": null,
   "id": "fabc7b9d",
   "metadata": {
    "slideshow": {
     "slide_type": "fragment"
    }
   },
   "outputs": [],
   "source": [
    "def cut_ratio(A, order, k):\n",
    "    n = A.shape[0] # number of vertices\n",
    "    edge_boundary = 0 # initialize size of edge boundary \n",
    "    for i in range(k+1): # for all vertices before cut\n",
    "        for j in range(k+1,n): # for all vertices after cut\n",
    "            edge_boundary += A[order[i],order[j]] # add one if {i,j} in E\n",
    "    denominator = np.minimum(k+1, n-k-1)\n",
    "    return edge_boundary/denominator"
   ]
  },
  {
   "cell_type": "markdown",
   "id": "2aaa8196",
   "metadata": {
    "slideshow": {
     "slide_type": "slide"
    },
    "tags": [
     "colab-keep"
    ]
   },
   "source": [
    "Using the `cut_ratio` function, we first compute the Laplacian, find the second eigenvector and corresponding order of vertices. Then we compute the cut ratio for every $k$. Finally we output the cut (both $S_k$ and $S_k^c$) corresponding to the minimum, as a tuple of arrays."
   ]
  },
  {
   "cell_type": "code",
   "execution_count": null,
   "id": "ed16492d",
   "metadata": {
    "slideshow": {
     "slide_type": "fragment"
    }
   },
   "outputs": [],
   "source": [
    "def spectral_cut2(A):\n",
    "    n = A.shape[0] # number of vertices\n",
    "    \n",
    "    # laplacian\n",
    "    degrees = A.sum(axis=1)\n",
    "    D = np.diag(degrees)\n",
    "    L = D - A\n",
    "\n",
    "    # spectral decomposition\n",
    "    w, v = LA.eigh(L) \n",
    "    order = np.argsort(v[:,np.argsort(w)[1]]) # index of entries in increasing order\n",
    "    \n",
    "    # cut ratios\n",
    "    phi = np.zeros(n-1) # initialize cut ratios\n",
    "    for k in range(n-1):\n",
    "        phi[k] = cut_ratio(A, order, k)\n",
    "    imin = np.argmin(phi) # find best cut ratio\n",
    "    return order[0:imin+1], order[imin+1:n]"
   ]
  },
  {
   "cell_type": "markdown",
   "id": "7d8a34ca",
   "metadata": {
    "slideshow": {
     "slide_type": "slide"
    },
    "tags": [
     "colab-keep"
    ]
   },
   "source": [
    "We will illustrate this on the path graph."
   ]
  },
  {
   "cell_type": "code",
   "execution_count": null,
   "id": "1a3b310b",
   "metadata": {
    "slideshow": {
     "slide_type": "fragment"
    }
   },
   "outputs": [],
   "source": [
    "n = 10\n",
    "G = nx.path_graph(n)"
   ]
  },
  {
   "cell_type": "code",
   "execution_count": null,
   "id": "a1f6063d",
   "metadata": {
    "slideshow": {
     "slide_type": "fragment"
    },
    "tags": [
     "hide-input"
    ]
   },
   "outputs": [],
   "source": [
    "nx.draw_networkx(G, \n",
    "                 node_size=600, node_color='black',\n",
    "                 font_size=16, font_color='white',\n",
    "                 pos=nx.spectral_layout(G)\n",
    "                )"
   ]
  },
  {
   "cell_type": "markdown",
   "id": "9b87545a",
   "metadata": {
    "slideshow": {
     "slide_type": "slide"
    },
    "tags": [
     "colab-keep"
    ]
   },
   "source": [
    "We apply our spectral-based cutting algorihtm."
   ]
  },
  {
   "cell_type": "code",
   "execution_count": null,
   "id": "2a1c0e92",
   "metadata": {
    "slideshow": {
     "slide_type": "fragment"
    }
   },
   "outputs": [],
   "source": [
    "A = nx.adjacency_matrix(G).toarray()\n",
    "s, sc = spectral_cut2(A)\n",
    "print(s)\n",
    "print(sc)"
   ]
  },
  {
   "cell_type": "markdown",
   "id": "1e1dacfe",
   "metadata": {
    "slideshow": {
     "slide_type": "slide"
    },
    "tags": [
     "colab-keep"
    ]
   },
   "source": [
    "To help with vizualizing the output, we write a function coloring the vertices according to which side of the cut they are on."
   ]
  },
  {
   "cell_type": "code",
   "execution_count": null,
   "id": "2fe35cfe",
   "metadata": {
    "slideshow": {
     "slide_type": "fragment"
    }
   },
   "outputs": [],
   "source": [
    "def viz_cut(G, s, layout):\n",
    "    n = G.number_of_nodes()\n",
    "    assign = np.ones(n)\n",
    "    assign[s] = 2\n",
    "    nx.draw_networkx(G, node_color=assign, pos=layout(G), with_labels=False)"
   ]
  },
  {
   "cell_type": "code",
   "execution_count": null,
   "id": "f52c4c8c",
   "metadata": {
    "scrolled": false,
    "slideshow": {
     "slide_type": "slide"
    }
   },
   "outputs": [],
   "source": [
    "viz_cut(G, s, nx.spectral_layout)"
   ]
  },
  {
   "cell_type": "markdown",
   "id": "7cfab433",
   "metadata": {
    "slideshow": {
     "slide_type": "slide"
    },
    "tags": [
     "colab-keep"
    ]
   },
   "source": [
    "Let's try it on the grid graph. Can you guess what the cut will be?"
   ]
  },
  {
   "cell_type": "code",
   "execution_count": null,
   "id": "e194278c",
   "metadata": {
    "slideshow": {
     "slide_type": "fragment"
    }
   },
   "outputs": [],
   "source": [
    "G = nx.grid_2d_graph(4,7)\n",
    "A = nx.adjacency_matrix(G).toarray()\n",
    "s, sc = spectral_cut2(A)\n",
    "viz_cut(G, s, nx.spectral_layout)"
   ]
  },
  {
   "cell_type": "markdown",
   "id": "8f929f71",
   "metadata": {
    "slideshow": {
     "slide_type": "skip"
    },
    "tags": [
     "colab-keep"
    ]
   },
   "source": [
    "$\\unlhd$"
   ]
  },
  {
   "cell_type": "markdown",
   "id": "5d2d99a9",
   "metadata": {
    "slideshow": {
     "slide_type": "slide"
    },
    "tags": [
     "colab-keep"
    ]
   },
   "source": [
    "**Back to community detection** We return to the [Karate Club dataset](https://en.wikipedia.org/wiki/Zachary%27s_karate_club) from the lecture."
   ]
  },
  {
   "cell_type": "code",
   "execution_count": null,
   "id": "56116903",
   "metadata": {
    "slideshow": {
     "slide_type": "fragment"
    }
   },
   "outputs": [],
   "source": [
    "G = nx.karate_club_graph()\n",
    "n = G.number_of_nodes()\n",
    "A = nx.adjacency_matrix(G).toarray()"
   ]
  },
  {
   "cell_type": "code",
   "execution_count": null,
   "id": "059d87ae",
   "metadata": {
    "slideshow": {
     "slide_type": "fragment"
    },
    "tags": [
     "hide-input"
    ]
   },
   "outputs": [],
   "source": [
    "nx.draw_networkx(G)"
   ]
  },
  {
   "cell_type": "markdown",
   "id": "3b3fab52",
   "metadata": {
    "slideshow": {
     "slide_type": "slide"
    },
    "tags": [
     "colab-keep"
    ]
   },
   "source": [
    "We seek to find natural sub-communities. We use the spectral properties of the Laplacian as described in the lectures."
   ]
  },
  {
   "cell_type": "markdown",
   "id": "6f5b5aaa",
   "metadata": {
    "slideshow": {
     "slide_type": "slide"
    },
    "tags": [
     "colab-keep"
    ]
   },
   "source": [
    "We use our `spectral_cut2` and `viz_cut` functions to compute a good cut and vizualize it."
   ]
  },
  {
   "cell_type": "code",
   "execution_count": null,
   "id": "42fd3325",
   "metadata": {
    "slideshow": {
     "slide_type": "fragment"
    }
   },
   "outputs": [],
   "source": [
    "s, sc = spectral_cut2(A)\n",
    "print(s)\n",
    "print(sc)"
   ]
  },
  {
   "cell_type": "code",
   "execution_count": null,
   "id": "cfacd3ca",
   "metadata": {
    "slideshow": {
     "slide_type": "fragment"
    }
   },
   "outputs": [],
   "source": [
    "viz_cut(G, s, nx.spring_layout)"
   ]
  },
  {
   "cell_type": "markdown",
   "id": "0e445ba0",
   "metadata": {
    "slideshow": {
     "slide_type": "slide"
    },
    "tags": [
     "colab-keep"
    ]
   },
   "source": [
    "It is not trivial to assess the quality of the resulting cut. But this particular example has a known ground-truth community structure (which partly explains its widespread use). Quoting from [Wikipedia](https://en.wikipedia.org/wiki/Zachary%27s_karate_club):\n",
    "> A social network of a karate club was studied by Wayne W. Zachary for a period of three years from 1970 to 1972. The network captures 34 members of a karate club, documenting links between pairs of members who interacted outside the club. During the study a conflict arose between the administrator \"John A\" and instructor \"Mr. Hi\" (pseudonyms), which led to the split of the club into two. Half of the members formed a new club around Mr. Hi; members from the other part found a new instructor or gave up karate. Based on collected data Zachary correctly assigned all but one member of the club to the groups they actually joined after the split.\n",
    "\n",
    "This ground truth is the following."
   ]
  },
  {
   "cell_type": "code",
   "execution_count": null,
   "id": "eed61592",
   "metadata": {
    "slideshow": {
     "slide_type": "slide"
    }
   },
   "outputs": [],
   "source": [
    "truth = np.array([2, 2, 2, 2, 2, 2, 2, 2, 1, 1, 2, 2, 2, 2, 1, \n",
    "    1, 2, 2, 1, 2, 1, 2, 1, 1, 1, 1, 1, 1, 1, 1, 1, 1, 1, 1])\n",
    "nx.draw_networkx(G, node_color=truth, pos=nx.spring_layout(G))"
   ]
  },
  {
   "cell_type": "markdown",
   "id": "49111c6a",
   "metadata": {
    "slideshow": {
     "slide_type": "fragment"
    },
    "tags": [
     "colab-keep"
    ]
   },
   "source": [
    "You can check that our cut perfectly matches the ground truth."
   ]
  }
 ],
 "metadata": {},
 "nbformat": 4,
 "nbformat_minor": 5
}

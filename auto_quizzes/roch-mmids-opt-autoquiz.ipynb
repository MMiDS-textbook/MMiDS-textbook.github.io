{
 "cells": [
  {
   "cell_type": "markdown",
   "metadata": {
    "slideshow": {
     "slide_type": "slide"
    },
    "tags": [
     "remove-cell"
    ]
   },
   "source": [
    "***\n",
    "\n",
    "*Course:* [Math 535](https://people.math.wisc.edu/~roch/mmids/) - Mathematical Methods in Data Science (MMiDS)  \n",
    "*Chapter:* 3-Optimization theory and algorithms   \n",
    "*Author:* [Sebastien Roch](https://people.math.wisc.edu/~roch/), Department of Mathematics, University of Wisconsin-Madison  \n",
    "*Updated:* May 30, 2024   \n",
    "*Copyright:* &copy; 2024 Sebastien Roch\n",
    "\n",
    "***"
   ]
  },
  {
   "cell_type": "markdown",
   "metadata": {
    "id": "I2eusSsAuXkf"
   },
   "source": [
    "## Auto-quizzes"
   ]
  },
  {
   "cell_type": "markdown",
   "metadata": {
    "id": "9YIvbI9quXkh"
   },
   "source": [
    "This notebook generates automated quizzes as well as the answers. Set the `seed` to any integer to produce unique quizzes."
   ]
  },
  {
   "cell_type": "code",
   "execution_count": null,
   "metadata": {
    "id": "b09f4787"
   },
   "outputs": [],
   "source": [
    "# Python 3\n",
    "import numpy as np\n",
    "from numpy import linalg as LA\n",
    "from numpy.random import default_rng\n",
    "import torch"
   ]
  },
  {
   "cell_type": "code",
   "execution_count": null,
   "metadata": {
    "id": "V_QTYzETuXkk"
   },
   "outputs": [],
   "source": [
    "# Set the `seed` to any integer\n",
    "seed=535"
   ]
  },
  {
   "cell_type": "code",
   "execution_count": null,
   "metadata": {
    "id": "Fq7naFZYuXkk"
   },
   "outputs": [],
   "source": [
    "rng = default_rng(seed)"
   ]
  },
  {
   "cell_type": "markdown",
   "metadata": {
    "id": "J7B1uK2JuXkk"
   },
   "source": [
    "**AQ3.1**  \n",
    "\n",
    "***\n",
    "\n",
    "*Use the following code to generate the quiz questions. You should be able to answer them by hand -- that is, without the help of numerical computation.*\n",
    "\n",
    "***"
   ]
  },
  {
   "cell_type": "markdown",
   "metadata": {
    "id": "cEmnH9YyuXkl"
   },
   "source": [
    "Consider the least-squares objective function\n",
    "\n",
    "$$\n",
    "f(\\mathbf{x}) = \\|A \\mathbf{x} - \\mathbf{b}\\|_2^2,\n",
    "$$\n",
    "\n",
    "with the following matrix $A$:"
   ]
  },
  {
   "cell_type": "code",
   "execution_count": null,
   "metadata": {
    "id": "_R-cXx-WuXkl"
   },
   "outputs": [],
   "source": [
    "A = np.sign(2 * rng.random(size=(3,2)) - 1)\n",
    "i = rng.integers(low=1,high=3,size=1)\n",
    "A[i,0] = 0\n",
    "print(A)"
   ]
  },
  {
   "cell_type": "markdown",
   "metadata": {
    "id": "60wH6GAquXkm"
   },
   "source": [
    "and the following column vector $\\mathbf{b}$:"
   ]
  },
  {
   "cell_type": "code",
   "execution_count": null,
   "metadata": {
    "id": "RBWGECWDuXkn"
   },
   "outputs": [],
   "source": [
    "b = np.zeros(3)\n",
    "b[0] = -2\n",
    "print(b)"
   ]
  },
  {
   "cell_type": "markdown",
   "metadata": {
    "id": "3WqT_Rq1uXkn"
   },
   "source": [
    "(a) What is the rank of $A$?\n",
    "\n",
    "(b) Compute the gradient and Hessian of $f$ at $\\mathbf{x}^0 = \\mathbf{0}$.\n",
    "\n",
    "(c) Perform one step of gradient descent from $\\mathbf{x}^0 = \\mathbf{0}$ with stepsize $1/2$.\n",
    "\n",
    "(d) Compute the stationary points of $f$."
   ]
  },
  {
   "cell_type": "markdown",
   "metadata": {
    "id": "prkdcY0uuXko"
   },
   "source": [
    "***\n",
    "\n",
    "*Use the following code to generate the answers.*\n",
    "\n",
    "***"
   ]
  },
  {
   "cell_type": "code",
   "execution_count": null,
   "metadata": {
    "id": "wTAybYu5uXko"
   },
   "outputs": [],
   "source": [
    "# (a)\n",
    "LA.matrix_rank(A)"
   ]
  },
  {
   "cell_type": "code",
   "execution_count": null,
   "metadata": {
    "id": "BqfiAoUUuXkp"
   },
   "outputs": [],
   "source": [
    "# (b) \n",
    "P = 2 * A.T @ A\n",
    "q = - 2 * A.T @ b\n",
    "r = LA.norm(b) ** 2\n",
    "x0 = np.zeros(2)\n",
    "gradient = P @ x0 + q\n",
    "print(gradient)"
   ]
  },
  {
   "cell_type": "code",
   "execution_count": null,
   "metadata": {
    "id": "rF1n_nYouXkp"
   },
   "outputs": [],
   "source": [
    "hessian = P\n",
    "print(hessian)"
   ]
  },
  {
   "cell_type": "code",
   "execution_count": null,
   "metadata": {
    "id": "PpHzl-qYuXkq"
   },
   "outputs": [],
   "source": [
    "# (c)\n",
    "stepsize = 1/2\n",
    "x1 = x0 - stepsize * gradient\n",
    "print(x1)"
   ]
  },
  {
   "cell_type": "code",
   "execution_count": null,
   "metadata": {
    "id": "T93yatBmuXkq"
   },
   "outputs": [],
   "source": [
    "# (d) \n",
    "xstar = LA.solve(P, -q)\n",
    "print(xstar)"
   ]
  },
  {
   "cell_type": "markdown",
   "metadata": {
    "id": "vO9UibfZuXkr"
   },
   "source": [
    "$\\lhd$"
   ]
  },
  {
   "cell_type": "markdown",
   "metadata": {
    "id": "Dj1-OUANuXkr"
   },
   "source": [
    "**AQ3.2**  \n",
    "\n",
    "***\n",
    "\n",
    "*Use the following code to generate the quiz questions. You should be able to answer them by hand -- that is, without the help of numerical computation.*\n",
    "\n",
    "***"
   ]
  },
  {
   "cell_type": "markdown",
   "metadata": {
    "id": "qUn_as5FuXkr"
   },
   "source": [
    "Consider the following function:\n",
    "\n",
    "$$\n",
    "f(\\mathbf{x}) = x_1^{a_1} x_2^{a_2} x_3^{a_3} + x_4^{a_4} x_5^{a_5} x_6^{a_6},\n",
    "$$\n",
    "\n",
    "where $\\mathbf{x} = (x_1,\\ldots,x_6)$ and $\\mathbf{a} = (a_1,\\ldots,a_6)$ are column vectors. Note that $\\mathbf{x}$ is the variable in $f$ while $\\mathbf{a}$ is a fixed parameter vector defined by:"
   ]
  },
  {
   "cell_type": "code",
   "execution_count": null,
   "metadata": {
    "id": "Omya-KeZuXks"
   },
   "outputs": [],
   "source": [
    "a_np = np.ones(6)\n",
    "i = rng.integers(low=0,high=3,size=1)\n",
    "j = rng.integers(low=3,high=6,size=1)\n",
    "a_np[i] = 2 * rng.integers(low=1,high=4,size=1)\n",
    "a_np[j] = 2 * rng.integers(low=1,high=4,size=1)\n",
    "print(a_np)"
   ]
  },
  {
   "cell_type": "markdown",
   "metadata": {
    "id": "HJiCuV6LuXks"
   },
   "source": [
    "Consider also the following column vector $\\mathbf{p}$:"
   ]
  },
  {
   "cell_type": "code",
   "execution_count": null,
   "metadata": {
    "id": "fF7mYsxSuXkt"
   },
   "outputs": [],
   "source": [
    "p = (-1) * np.ones(6)\n",
    "print(p)"
   ]
  },
  {
   "cell_type": "markdown",
   "metadata": {
    "id": "gxyAcJsQuXkt"
   },
   "source": [
    "(a) Compute the gradient of $f$ at $\\mathbf{x} = \\mathbf{p}$.\n",
    "\n",
    "(b) Compute the Hessian of $f$ at $\\mathbf{x} = \\mathbf{p}$.\n",
    "\n",
    "(c) Perform one step of gradient descent from $\\mathbf{x}^0 = \\mathbf{p}$ with stepsize $1/2$.\n",
    "\n",
    "(d) Let $h(z) = -\\log z$ for $z \\in \\mathbb{R}$. Use the *Chain rule* to compute the gradient of $h(f(\\mathbf{x}))$ at $\\mathbf{x} = \\mathbf{p}$."
   ]
  },
  {
   "cell_type": "markdown",
   "metadata": {
    "id": "rdL2D_tNuXku"
   },
   "source": [
    "***\n",
    "\n",
    "*Use the following code to generate the answers.*\n",
    "\n",
    "***"
   ]
  },
  {
   "cell_type": "code",
   "execution_count": null,
   "metadata": {},
   "outputs": [],
   "source": [
    "# Code by ChatGPT\n",
    "\n",
    "# Convert Numpy array to PyTorch tensor\n",
    "a = torch.tensor(a_np, dtype=torch.float, requires_grad=False)\n",
    "\n",
    "# Define variables\n",
    "x = torch.tensor([-1.0, -1.0, -1.0, -1.0, -1.0, -1.0], \n",
    "                 requires_grad=True)\n",
    "\n",
    "# Define the function\n",
    "f = x[0]**a[0] * x[1]**a[1] * x[2]**a[2] + x[3]**a[3] * x[4]**a[4] * x[5]**a[5]\n",
    "\n",
    "# Compute the gradient\n",
    "gradient = torch.autograd.grad(f, x, create_graph=True)[0]\n",
    "\n",
    "# Prepare the Hessian matrix\n",
    "hessian = torch.zeros((6, 6), dtype=torch.float)\n",
    "\n",
    "# Compute the Hessian\n",
    "for i in range(6):\n",
    "    for j in range(6):\n",
    "        # Compute the second derivative with respect to x[i] and x[j]\n",
    "        if gradient[i].requires_grad:\n",
    "            grad2_ij = torch.autograd.grad(gradient[i], x, \n",
    "                                           retain_graph=True)[0][j]\n",
    "        else:\n",
    "            # If the gradient doesn't require gradient (constant), the second derivative is zero\n",
    "            grad2_ij = torch.tensor(0., dtype=torch.float)\n",
    "        hessian[i, j] = grad2_ij\n",
    "\n",
    "# Convert the gradient and Hessian from PyTorch tensors to Numpy arrays\n",
    "gradient_np = gradient.detach().numpy()\n",
    "hessian_np = hessian.detach().numpy()"
   ]
  },
  {
   "cell_type": "code",
   "execution_count": null,
   "metadata": {
    "id": "P9KUPs0HuXku"
   },
   "outputs": [],
   "source": [
    "# (a)\n",
    "print(gradient_np)"
   ]
  },
  {
   "cell_type": "code",
   "execution_count": null,
   "metadata": {
    "id": "Bq7rvIhFuXku"
   },
   "outputs": [],
   "source": [
    "# (b) \n",
    "print(hessian_np)"
   ]
  },
  {
   "cell_type": "code",
   "execution_count": null,
   "metadata": {
    "id": "jGXpbBHkuXkv"
   },
   "outputs": [],
   "source": [
    "# (c)\n",
    "x0 = p\n",
    "stepsize = 1/2\n",
    "x1 = x0 - stepsize * gradient_np\n",
    "print(x1)"
   ]
  },
  {
   "cell_type": "code",
   "execution_count": null,
   "metadata": {
    "id": "9M596Dj8uXkv"
   },
   "outputs": [],
   "source": [
    "# (d) \n",
    "f = (-1) ** a_np[i] + (-1) ** a_np[j]\n",
    "gradient_comp = - (1/f) * gradient_np\n",
    "print(gradient_comp)"
   ]
  },
  {
   "cell_type": "markdown",
   "metadata": {
    "id": "ea2uqS9CuXkv"
   },
   "source": [
    "$\\lhd$"
   ]
  }
 ],
 "metadata": {
  "celltoolbar": "Slideshow",
  "colab": {
   "provenance": []
  },
  "kernelspec": {
   "display_name": "Python 3 (ipykernel)",
   "language": "python",
   "name": "python3"
  },
  "language_info": {
   "codemirror_mode": {
    "name": "ipython",
    "version": 3
   },
   "file_extension": ".py",
   "mimetype": "text/x-python",
   "name": "python",
   "nbconvert_exporter": "python",
   "pygments_lexer": "ipython3",
   "version": "3.11.7"
  }
 },
 "nbformat": 4,
 "nbformat_minor": 1
}

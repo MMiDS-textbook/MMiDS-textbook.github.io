{
 "cells": [
  {
   "cell_type": "markdown",
   "id": "1d0f2720",
   "metadata": {
    "slideshow": {
     "slide_type": "slide"
    },
    "tags": [
     "remove-cell",
     "colab-keep"
    ]
   },
   "source": [
    "***\n",
    "\n",
    "*Course:* [Math 535](https://people.math.wisc.edu/~roch/mmids/) - Mathematical Methods in Data Science (MMiDS)  \n",
    "*Chapter:* 4-Spectral graph theory   \n",
    "*Author:* [Sebastien Roch](https://people.math.wisc.edu/~roch/), Department of Mathematics, University of Wisconsin-Madison  \n",
    "*Updated:* Feb 11, 2024   \n",
    "*Copyright:* &copy; 2024 Sebastien Roch\n",
    "\n",
    "***"
   ]
  },
  {
   "cell_type": "code",
   "execution_count": null,
   "id": "a5b81b52",
   "metadata": {
    "slideshow": {
     "slide_type": "skip"
    },
    "tags": [
     "remove-cell"
    ]
   },
   "outputs": [],
   "source": [
    "# You will need the files:\n",
    "#     * mmids.py\n",
    "# from https://github.com/MMiDS-textbook/MMiDS-textbook.github.io/tree/main/utils\n",
    "#\n",
    "# IF RUNNING ON GOOGLE COLAB (RECOMMENDED):\n",
    "# \"Upload to session storage\" from the Files tab on the left\n",
    "# Alternative instructions: https://colab.research.google.com/notebooks/io.ipynb"
   ]
  },
  {
   "cell_type": "code",
   "execution_count": null,
   "id": "9794e41a",
   "metadata": {
    "slideshow": {
     "slide_type": "skip"
    },
    "tags": [
     "remove-cell"
    ]
   },
   "outputs": [],
   "source": [
    "# PYTHON 3\n",
    "import numpy as np\n",
    "from numpy import linalg as LA\n",
    "import matplotlib.pyplot as plt\n",
    "import pandas as pd\n",
    "import networkx as nx\n",
    "import mmids\n",
    "seed = 535\n",
    "rng = np.random.default_rng(seed)\n",
    "import warnings\n",
    "warnings.filterwarnings('ignore')"
   ]
  },
  {
   "cell_type": "markdown",
   "id": "6b5de2c2",
   "metadata": {
    "slideshow": {
     "slide_type": "slide"
    },
    "tags": [
     "colab-keep"
    ]
   },
   "source": [
    "## Motivating example: uncovering social groups"
   ]
  },
  {
   "cell_type": "markdown",
   "id": "00652de8",
   "metadata": {
    "slideshow": {
     "slide_type": "slide"
    },
    "tags": [
     "colab-keep"
    ]
   },
   "source": [
    "In this chapter, we analyze datasets in the form of networks. As motivation, we first look at the [Karate Club dataset](https://en.wikipedia.org/wiki/Zachary%27s_karate_club). "
   ]
  },
  {
   "cell_type": "markdown",
   "id": "5a05ae18",
   "metadata": {
    "slideshow": {
     "slide_type": "fragment"
    },
    "tags": [
     "colab-keep"
    ]
   },
   "source": [
    "From [Wikipedia](https://en.wikipedia.org/wiki/Zachary%27s_karate_club):\n",
    "\n",
    "> A social network of a karate club was studied by Wayne W. Zachary for a period of three years from 1970 to 1972. The network captures 34 members of a karate club, documenting links between pairs of members who interacted outside the club. During the study a conflict arose between the administrator \"John A\" and instructor \"Mr. Hi\" (pseudonyms), which led to the split of the club into two. Half of the members formed a new club around Mr. Hi; members from the other part found a new instructor or gave up karate. Based on collected data Zachary correctly assigned all but one member of the club to the groups they actually joined after the split.\n"
   ]
  },
  {
   "cell_type": "markdown",
   "id": "83a2ade9",
   "metadata": {
    "slideshow": {
     "slide_type": "slide"
    },
    "tags": [
     "colab-keep"
    ]
   },
   "source": [
    "**Figure:** Karate Club network ([Source](https://commons.wikimedia.org/wiki/File:Social_Network_Model_of_Relationships_in_the_Karate_Club.png))\n",
    "\n",
    "![Karate club network](https://upload.wikimedia.org/wikipedia/commons/thumb/0/0d/Social_Network_Model_of_Relationships_in_the_Karate_Club.png/480px-Social_Network_Model_of_Relationships_in_the_Karate_Club.png)\n",
    "\n",
    "$\\bowtie$"
   ]
  },
  {
   "cell_type": "markdown",
   "id": "7c77c1ff",
   "metadata": {
    "slideshow": {
     "slide_type": "slide"
    },
    "tags": [
     "colab-keep"
    ]
   },
   "source": [
    "We use the [`NetworkX`](https://networkx.org) package to load the data and vizualize it. We will say more about it later in this chapter. In the meantime, there is a good tutorial [here](https://networkx.org/documentation/stable/tutorial.html)."
   ]
  },
  {
   "cell_type": "code",
   "execution_count": null,
   "id": "62d2a9da",
   "metadata": {
    "slideshow": {
     "slide_type": "fragment"
    }
   },
   "outputs": [],
   "source": [
    "import networkx as nx"
   ]
  },
  {
   "cell_type": "code",
   "execution_count": null,
   "id": "52d665b3",
   "metadata": {
    "slideshow": {
     "slide_type": "fragment"
    }
   },
   "outputs": [],
   "source": [
    "G = nx.karate_club_graph()\n",
    "nx.draw_networkx(G)"
   ]
  },
  {
   "cell_type": "markdown",
   "id": "9f5a7ac7",
   "metadata": {
    "slideshow": {
     "slide_type": "slide"
    },
    "tags": [
     "colab-keep"
    ]
   },
   "source": [
    "Our goal: \n",
    "\n",
    "> identify natural sub-groups in the network \n",
    "\n",
    "That is, we want to find groups of nodes that have many links between them, but relatively few with the other nodes. \n",
    "\n",
    "It will turn out that the eigenvectors of the Laplacian matrix, a matrix naturally associated to the graph, contain useful information about such communities."
   ]
  },
  {
   "cell_type": "markdown",
   "id": "6622adfe",
   "metadata": {
    "slideshow": {
     "slide_type": "slide"
    },
    "tags": [
     "colab-keep"
    ]
   },
   "source": [
    "## Background: basic concepts in graph theory"
   ]
  },
  {
   "cell_type": "markdown",
   "id": "f8409691",
   "metadata": {
    "slideshow": {
     "slide_type": "slide"
    },
    "tags": [
     "colab-keep"
    ]
   },
   "source": [
    "**NUMERICAL CORNER:** In Python, the [`NetworkX`](https://networkx.org) package provides many functionalities for defining, modifying and plotting graphs. For instance, many standard graphs can be defined conveniently. The [`petersen_graph()`](https://networkx.org/documentation/stable/reference/generated/networkx.generators.small.petersen_graph.html#networkx.generators.small.petersen_graph) function defines the Petersen graph."
   ]
  },
  {
   "cell_type": "code",
   "execution_count": null,
   "id": "a5be4754",
   "metadata": {
    "slideshow": {
     "slide_type": "fragment"
    }
   },
   "outputs": [],
   "source": [
    "import networkx as nx"
   ]
  },
  {
   "cell_type": "code",
   "execution_count": null,
   "id": "5ffa44e7",
   "metadata": {
    "slideshow": {
     "slide_type": "fragment"
    }
   },
   "outputs": [],
   "source": [
    "G = nx.petersen_graph()"
   ]
  },
  {
   "cell_type": "markdown",
   "id": "652f8733",
   "metadata": {
    "slideshow": {
     "slide_type": "slide"
    },
    "tags": [
     "colab-keep"
    ]
   },
   "source": [
    "This graph can be plotted using the function [`draw_networkx()`](https://networkx.org/documentation/networkx-1.7/reference/generated/networkx.drawing.nx_pylab.draw_networkx.html)."
   ]
  },
  {
   "cell_type": "code",
   "execution_count": null,
   "id": "0b19e9d8",
   "metadata": {
    "slideshow": {
     "slide_type": "fragment"
    }
   },
   "outputs": [],
   "source": [
    "nx.draw_networkx(G, node_size=600, node_color='black', font_size=16, font_color='white')"
   ]
  },
  {
   "cell_type": "markdown",
   "id": "c8c8f5ef",
   "metadata": {
    "slideshow": {
     "slide_type": "slide"
    },
    "tags": [
     "colab-keep"
    ]
   },
   "source": [
    "Other standard graphs can be generated with special functions, e.g. complete graphs using [`complete_graph()`](https://networkx.org/documentation/stable/reference/generated/networkx.generators.classic.complete_graph.html#networkx.generators.classic.complete_graph). See [here](https://networkx.org/documentation/stable/reference/generators.html#module-networkx.generators.classic) for a complete list."
   ]
  },
  {
   "cell_type": "code",
   "execution_count": null,
   "id": "dfb3f267",
   "metadata": {
    "slideshow": {
     "slide_type": "fragment"
    }
   },
   "outputs": [],
   "source": [
    "G = nx.complete_graph(3)"
   ]
  },
  {
   "cell_type": "code",
   "execution_count": null,
   "id": "3907a17d",
   "metadata": {
    "slideshow": {
     "slide_type": "fragment"
    }
   },
   "outputs": [],
   "source": [
    "nx.draw_networkx(G, node_size=600, node_color='black', font_size=16, font_color='white')"
   ]
  },
  {
   "cell_type": "markdown",
   "id": "cef834ed",
   "metadata": {
    "slideshow": {
     "slide_type": "slide"
    },
    "tags": [
     "colab-keep"
    ]
   },
   "source": [
    "See [here](https://networkx.org/documentation/stable/reference/functions.html) and [here](https://networkx.org/documentation/stable/reference/algorithms/index.html) for a list of functions to access various properties of a graph. Here are a few examples:"
   ]
  },
  {
   "cell_type": "code",
   "execution_count": null,
   "id": "71b73eb4",
   "metadata": {
    "slideshow": {
     "slide_type": "fragment"
    }
   },
   "outputs": [],
   "source": [
    "G = nx.path_graph(10)"
   ]
  },
  {
   "cell_type": "code",
   "execution_count": null,
   "id": "fb87f1eb",
   "metadata": {
    "slideshow": {
     "slide_type": "fragment"
    }
   },
   "outputs": [],
   "source": [
    "nx.draw_networkx(G, node_size=600, node_color='black', font_size=16, font_color='white')"
   ]
  },
  {
   "cell_type": "code",
   "execution_count": null,
   "id": "bc0e4546",
   "metadata": {
    "slideshow": {
     "slide_type": "slide"
    }
   },
   "outputs": [],
   "source": [
    "G.number_of_nodes() # number of nodes"
   ]
  },
  {
   "cell_type": "code",
   "execution_count": null,
   "id": "dfe1f7e3",
   "metadata": {
    "slideshow": {
     "slide_type": "fragment"
    }
   },
   "outputs": [],
   "source": [
    "G.number_of_edges() # number of edges"
   ]
  },
  {
   "cell_type": "code",
   "execution_count": null,
   "id": "2fa2ec3e",
   "metadata": {
    "slideshow": {
     "slide_type": "skip"
    }
   },
   "outputs": [],
   "source": [
    "G.has_node(7) # checks whether the graph has a particular vertex"
   ]
  },
  {
   "cell_type": "code",
   "execution_count": null,
   "id": "985c40bf",
   "metadata": {
    "slideshow": {
     "slide_type": "skip"
    }
   },
   "outputs": [],
   "source": [
    "G.has_node(10)"
   ]
  },
  {
   "cell_type": "code",
   "execution_count": null,
   "id": "88097be9",
   "metadata": {
    "slideshow": {
     "slide_type": "fragment"
    }
   },
   "outputs": [],
   "source": [
    "G.has_edge(0, 1) # checks whether the graph has a particular vertex"
   ]
  },
  {
   "cell_type": "code",
   "execution_count": null,
   "id": "0ca8cfce",
   "metadata": {
    "slideshow": {
     "slide_type": "fragment"
    }
   },
   "outputs": [],
   "source": [
    "G.has_edge(0, 2)"
   ]
  },
  {
   "cell_type": "code",
   "execution_count": null,
   "id": "afac421d",
   "metadata": {
    "slideshow": {
     "slide_type": "slide"
    }
   },
   "outputs": [],
   "source": [
    "[n for n in G.neighbors(2)] # returns a list of neighbors of the specified vertex"
   ]
  },
  {
   "cell_type": "code",
   "execution_count": null,
   "id": "859f2225",
   "metadata": {
    "slideshow": {
     "slide_type": "fragment"
    }
   },
   "outputs": [],
   "source": [
    "nx.is_connected(G) # checks whether the graph is connected"
   ]
  },
  {
   "cell_type": "code",
   "execution_count": null,
   "id": "ab4ceafd",
   "metadata": {
    "slideshow": {
     "slide_type": "fragment"
    }
   },
   "outputs": [],
   "source": [
    "[cc for cc in nx.connected_components(G)] # returns the connected components"
   ]
  },
  {
   "cell_type": "code",
   "execution_count": null,
   "id": "81711086",
   "metadata": {
    "slideshow": {
     "slide_type": "slide"
    }
   },
   "outputs": [],
   "source": [
    "for e in G.edges():\n",
    "    print(e)"
   ]
  },
  {
   "cell_type": "markdown",
   "id": "7ce708bc",
   "metadata": {
    "slideshow": {
     "slide_type": "slide"
    },
    "tags": [
     "colab-keep"
    ]
   },
   "source": [
    "Another way of specifying a graph is to start with an empty graph with a given number of vertices and then add edges one by one. The following command creates a graph with $4$ vertices and no edge (see [`empty_graph()`](https://networkx.org/documentation/stable/reference/generated/networkx.generators.classic.empty_graph.html#networkx.generators.classic.empty_graph))."
   ]
  },
  {
   "cell_type": "code",
   "execution_count": null,
   "id": "1371f824",
   "metadata": {
    "scrolled": true,
    "slideshow": {
     "slide_type": "fragment"
    }
   },
   "outputs": [],
   "source": [
    "G = nx.empty_graph(4)"
   ]
  },
  {
   "cell_type": "code",
   "execution_count": null,
   "id": "ff3f8c34",
   "metadata": {
    "slideshow": {
     "slide_type": "fragment"
    }
   },
   "outputs": [],
   "source": [
    "G.add_edge(0, 1)\n",
    "G.add_edge(2, 3)\n",
    "G.add_edge(0, 3)\n",
    "G.add_edge(3, 0)"
   ]
  },
  {
   "cell_type": "code",
   "execution_count": null,
   "id": "7ff069de",
   "metadata": {
    "scrolled": true,
    "slideshow": {
     "slide_type": "fragment"
    }
   },
   "outputs": [],
   "source": [
    "nx.draw_networkx(G, node_size=600, node_color='black', font_size=16, font_color='white')"
   ]
  },
  {
   "cell_type": "markdown",
   "id": "2e32abf8",
   "metadata": {
    "slideshow": {
     "slide_type": "skip"
    },
    "tags": [
     "colab-keep"
    ]
   },
   "source": [
    "$\\unlhd$"
   ]
  },
  {
   "cell_type": "markdown",
   "id": "e9478f37",
   "metadata": {
    "slideshow": {
     "slide_type": "slide"
    },
    "tags": [
     "colab-keep"
    ]
   },
   "source": [
    "**NUMERICAL CORNER:** The package `NetworkX` also supports digraphs."
   ]
  },
  {
   "cell_type": "code",
   "execution_count": null,
   "id": "6ae36f8b",
   "metadata": {
    "slideshow": {
     "slide_type": "fragment"
    }
   },
   "outputs": [],
   "source": [
    "G = nx.DiGraph()\n",
    "nx.add_star(G, [0, 1, 2, 3, 4])"
   ]
  },
  {
   "cell_type": "code",
   "execution_count": null,
   "id": "c7436d01",
   "metadata": {
    "slideshow": {
     "slide_type": "fragment"
    }
   },
   "outputs": [],
   "source": [
    "nx.draw_networkx(G, node_size=600, node_color='black', font_size=16, font_color='white')"
   ]
  },
  {
   "cell_type": "markdown",
   "id": "18741de8",
   "metadata": {
    "slideshow": {
     "slide_type": "slide"
    },
    "tags": [
     "colab-keep"
    ]
   },
   "source": [
    "Another way of specifying a digraph is to start with an empty graph with a given number of vertices and then add edges one by one (compare to the undirected case above). The following command creates a graph with no vertices."
   ]
  },
  {
   "cell_type": "code",
   "execution_count": null,
   "id": "f6a6fe93",
   "metadata": {
    "slideshow": {
     "slide_type": "fragment"
    }
   },
   "outputs": [],
   "source": [
    "G = nx.DiGraph()"
   ]
  },
  {
   "cell_type": "code",
   "execution_count": null,
   "id": "40dd4c62",
   "metadata": {
    "slideshow": {
     "slide_type": "fragment"
    }
   },
   "outputs": [],
   "source": [
    "G.add_edge(0, 1)\n",
    "G.add_edge(2, 3)\n",
    "G.add_edge(0, 3)\n",
    "G.add_edge(3, 0)\n",
    "G.add_edge(1,1)"
   ]
  },
  {
   "cell_type": "code",
   "execution_count": null,
   "id": "ed72c7e2",
   "metadata": {
    "slideshow": {
     "slide_type": "slide"
    }
   },
   "outputs": [],
   "source": [
    "nx.draw_networkx(G, node_size=600, node_color='black', font_size=16, font_color='white')"
   ]
  },
  {
   "cell_type": "markdown",
   "id": "a6d695ef",
   "metadata": {
    "tags": [
     "colab-keep"
    ]
   },
   "source": [
    "$\\unlhd$"
   ]
  },
  {
   "cell_type": "markdown",
   "id": "48667123",
   "metadata": {
    "slideshow": {
     "slide_type": "slide"
    },
    "tags": [
     "colab-keep"
    ]
   },
   "source": [
    "**NUMERICAL CORNER:** Using `NetworkX`, the adjacency matrix of a graph can be obtained with [`adjacency_matrix()`](https://networkx.org/documentation/stable/reference/generated/networkx.linalg.graphmatrix.adjacency_matrix.html). By default, it returns a `SciPy` sparse matrix. Alternatively, one can get a regular array with [`toarray()`](https://docs.scipy.org/doc/scipy/reference/generated/scipy.sparse.csr_matrix.toarray.html). Recall that in NumPy (and SciPy) array indices start at $0$. Consistently, NetworkX also names vertices starting at $0$. **Note, however, that this conflicts with our mathematical conventions.**"
   ]
  },
  {
   "cell_type": "code",
   "execution_count": null,
   "id": "200c3fbb",
   "metadata": {
    "slideshow": {
     "slide_type": "fragment"
    }
   },
   "outputs": [],
   "source": [
    "G = nx.complete_graph(3)"
   ]
  },
  {
   "cell_type": "code",
   "execution_count": null,
   "id": "598bb0b7",
   "metadata": {
    "slideshow": {
     "slide_type": "fragment"
    }
   },
   "outputs": [],
   "source": [
    "A = nx.adjacency_matrix(G)\n",
    "print(A)"
   ]
  },
  {
   "cell_type": "code",
   "execution_count": null,
   "id": "9aae9ea8",
   "metadata": {
    "slideshow": {
     "slide_type": "fragment"
    }
   },
   "outputs": [],
   "source": [
    "A = nx.adjacency_matrix(G).toarray()\n",
    "print(A)"
   ]
  },
  {
   "cell_type": "code",
   "execution_count": null,
   "id": "1e8623e1",
   "metadata": {
    "slideshow": {
     "slide_type": "slide"
    }
   },
   "outputs": [],
   "source": [
    "G = nx.petersen_graph()\n",
    "A = nx.adjacency_matrix(G)\n",
    "print(A)"
   ]
  },
  {
   "cell_type": "markdown",
   "id": "3f4c291c",
   "metadata": {
    "slideshow": {
     "slide_type": "slide"
    },
    "tags": [
     "colab-keep"
    ]
   },
   "source": [
    "The incidence matrix is obtained with [`incidence_matrix()`](https://networkx.org/documentation/stable/reference/generated/networkx.linalg.graphmatrix.incidence_matrix.html) -- again as a sparse array."
   ]
  },
  {
   "cell_type": "code",
   "execution_count": null,
   "id": "d26cf218",
   "metadata": {
    "slideshow": {
     "slide_type": "fragment"
    }
   },
   "outputs": [],
   "source": [
    "B = nx.incidence_matrix(G)\n",
    "print(B)"
   ]
  },
  {
   "cell_type": "code",
   "execution_count": null,
   "id": "de432216",
   "metadata": {
    "slideshow": {
     "slide_type": "fragment"
    }
   },
   "outputs": [],
   "source": [
    "B = nx.incidence_matrix(G).toarray()\n",
    "print(B)"
   ]
  },
  {
   "cell_type": "markdown",
   "id": "f4339aea",
   "metadata": {
    "slideshow": {
     "slide_type": "slide"
    },
    "tags": [
     "colab-keep"
    ]
   },
   "source": [
    "In the digraph case, the definitions are adapted as follows. The adjacency matrix $A$ of a digraph $G = (V, E)$ is the matrix\n",
    "defined as\n",
    "\n",
    "\\begin{align*}\n",
    "A_{xy} \n",
    "= \n",
    "\\begin{cases}\n",
    "1 & \\text{if $(x,y) \\in E$}\\\\ \n",
    "0 & \\text{o.w.}\n",
    "\\end{cases}\n",
    "\\end{align*}\n",
    "\n",
    "The incidence matrix of a digraph $G$ with vertices $1,\\ldots,n$ and edges $e_1, \\ldots, e_m$ is the matrix $B$ such that $B_{ij} = -1$ if egde $e_j$ leaves vertex $i$, $B_{ij} = 1$ if egde $e_j$ enters vertex $i$, and 0 otherwise. "
   ]
  },
  {
   "cell_type": "markdown",
   "id": "548e74b7",
   "metadata": {
    "slideshow": {
     "slide_type": "slide"
    },
    "tags": [
     "colab-keep"
    ]
   },
   "source": [
    "**NUMERICAL CORNER:** We revisit an earlier directed graph."
   ]
  },
  {
   "cell_type": "code",
   "execution_count": null,
   "id": "2640a919",
   "metadata": {
    "slideshow": {
     "slide_type": "fragment"
    }
   },
   "outputs": [],
   "source": [
    "G = nx.DiGraph()"
   ]
  },
  {
   "cell_type": "code",
   "execution_count": null,
   "id": "7c9bc7c8",
   "metadata": {
    "slideshow": {
     "slide_type": "fragment"
    }
   },
   "outputs": [],
   "source": [
    "G.add_edge(0, 1)\n",
    "G.add_edge(2, 3)\n",
    "G.add_edge(0, 3)\n",
    "G.add_edge(3, 0)\n",
    "G.add_edge(1,1)"
   ]
  },
  {
   "cell_type": "markdown",
   "id": "a1e1a3a8",
   "metadata": {
    "slideshow": {
     "slide_type": "slide"
    },
    "tags": [
     "colab-keep"
    ]
   },
   "source": [
    "We compute the adjacency and incidence matrices. For the incidence matrix, one must specify `oriented=True` for the oriented version."
   ]
  },
  {
   "cell_type": "code",
   "execution_count": null,
   "id": "c7b781ae",
   "metadata": {
    "slideshow": {
     "slide_type": "fragment"
    }
   },
   "outputs": [],
   "source": [
    "A = nx.adjacency_matrix(G).toarray()\n",
    "print(A)"
   ]
  },
  {
   "cell_type": "code",
   "execution_count": null,
   "id": "430953c4",
   "metadata": {
    "slideshow": {
     "slide_type": "fragment"
    }
   },
   "outputs": [],
   "source": [
    "B = nx.incidence_matrix(G, oriented=True).toarray()\n",
    "print(B)"
   ]
  },
  {
   "cell_type": "markdown",
   "id": "80039817",
   "metadata": {
    "slideshow": {
     "slide_type": "slide"
    },
    "tags": [
     "colab-keep"
    ]
   },
   "source": [
    "Revisiting an ealier undirected graph, we note that `incidence_matrix()` can also produce an arbitrary oriented incidence matrix by using the `oriented=True` option."
   ]
  },
  {
   "cell_type": "code",
   "execution_count": null,
   "id": "6c72454d",
   "metadata": {
    "scrolled": true,
    "slideshow": {
     "slide_type": "fragment"
    }
   },
   "outputs": [],
   "source": [
    "G = nx.empty_graph(4)"
   ]
  },
  {
   "cell_type": "code",
   "execution_count": null,
   "id": "76cec930",
   "metadata": {
    "slideshow": {
     "slide_type": "fragment"
    }
   },
   "outputs": [],
   "source": [
    "G.add_edge(0, 1)\n",
    "G.add_edge(2, 3)\n",
    "G.add_edge(0, 3)\n",
    "G.add_edge(3, 0)"
   ]
  },
  {
   "cell_type": "code",
   "execution_count": null,
   "id": "22cfcdd1",
   "metadata": {
    "slideshow": {
     "slide_type": "fragment"
    }
   },
   "outputs": [],
   "source": [
    "B = nx.incidence_matrix(G, oriented=True).toarray()\n",
    "print(B)"
   ]
  },
  {
   "cell_type": "markdown",
   "id": "014f68c7",
   "metadata": {
    "slideshow": {
     "slide_type": "skip"
    },
    "tags": [
     "colab-keep"
    ]
   },
   "source": [
    "$\\unlhd$"
   ]
  },
  {
   "cell_type": "markdown",
   "id": "d4daae16",
   "metadata": {
    "slideshow": {
     "slide_type": "slide"
    },
    "tags": [
     "colab-keep"
    ]
   },
   "source": [
    "## Spectral properties of the Laplacian matrix"
   ]
  },
  {
   "cell_type": "markdown",
   "id": "2c4c20f4",
   "metadata": {
    "slideshow": {
     "slide_type": "slide"
    },
    "tags": [
     "colab-keep"
    ]
   },
   "source": [
    "**NUMERICAL CORNER:** One use of the spectral decomposition of the Laplacian matrix is in graph drawing. We illustrate this next. Given a graph $G = (V, E)$, it is not clear a priori how to draw it in the plane since the only information available are adjacencies of vertices. One approach is just to position the vertices at random. The function [`networkx.draw()`](https://networkx.org/documentation/stable/reference/generated/networkx.drawing.nx_pylab.draw.html) or [`networkx.draw_networkx()`](https://networkx.org/documentation/stable/reference/generated/networkx.drawing.nx_pylab.draw_networkx.html#networkx.drawing.nx_pylab.draw_networkx)can take as input different [graph layout](https://networkx.org/documentation/stable/reference/drawing.html#module-networkx.drawing.layout) functions that return an $x$ and $y$-coordinate for each vertex.\n",
    "\n",
    "We will test this on a grid graph. Sometimes a picture is worth a thousand words. This is an example of a $4 \\times 7$-grid graph."
   ]
  },
  {
   "cell_type": "markdown",
   "id": "21a9de02",
   "metadata": {
    "slideshow": {
     "slide_type": "fragment"
    },
    "tags": [
     "colab-keep"
    ]
   },
   "source": [
    "**Figure:** Grid graph ([Source](https://mathworld.wolfram.com/GridGraph.html))\n",
    "\n",
    "![Grid graph](https://mathworld.wolfram.com/images/eps-gif/GridGraph_701.gif)\n",
    "\n",
    "$\\bowtie$"
   ]
  },
  {
   "cell_type": "markdown",
   "id": "28b74844",
   "metadata": {
    "slideshow": {
     "slide_type": "slide"
    },
    "tags": [
     "colab-keep"
    ]
   },
   "source": [
    "We use [`grid_2d_graph()`](https://networkx.org/documentation/stable/reference/generated/networkx.generators.lattice.grid_2d_graph.html) to construct such a graph."
   ]
  },
  {
   "cell_type": "code",
   "execution_count": null,
   "id": "b2d98243",
   "metadata": {
    "scrolled": true,
    "slideshow": {
     "slide_type": "fragment"
    }
   },
   "outputs": [],
   "source": [
    "G = nx.grid_2d_graph(4,7)"
   ]
  },
  {
   "cell_type": "markdown",
   "id": "13b6985f",
   "metadata": {
    "slideshow": {
     "slide_type": "slide"
    },
    "tags": [
     "colab-keep"
    ]
   },
   "source": [
    "One layout approach is to choose random locations for the nodes. Specifically, for every node, a position is generated by choosing each coordinate uniformly at random on the interval $[0,1]$."
   ]
  },
  {
   "cell_type": "code",
   "execution_count": null,
   "id": "ebacbf39",
   "metadata": {
    "slideshow": {
     "slide_type": "fragment"
    }
   },
   "outputs": [],
   "source": [
    "nx.draw(G, pos=nx.random_layout(G))"
   ]
  },
  {
   "cell_type": "markdown",
   "id": "8bb4b9e2",
   "metadata": {
    "slideshow": {
     "slide_type": "slide"
    },
    "tags": [
     "colab-keep"
    ]
   },
   "source": [
    "Clearly, this is a lot harder to read than the original graph above. \n",
    "\n",
    "Another approach is to map the vertices to two eigenvectors, similarly to what we did for dimensionality reduction. The eigenvector associated to $\\mu_1$ is constant and therefore not useful for drawing. We try the next two. We use the Laplacian matrix."
   ]
  },
  {
   "cell_type": "code",
   "execution_count": null,
   "id": "ddeaac9e",
   "metadata": {
    "slideshow": {
     "slide_type": "fragment"
    }
   },
   "outputs": [],
   "source": [
    "nx.draw(G, pos=nx.spectral_layout(G))"
   ]
  },
  {
   "cell_type": "markdown",
   "id": "4047e4a1",
   "metadata": {
    "slideshow": {
     "slide_type": "fragment"
    },
    "tags": [
     "colab-keep"
    ]
   },
   "source": [
    "Interestingly, the outcome is very similar to the original, more natural drawing. We will come back later to try to explain this, after we have developed further understanding of the spectral properties of the Laplacian matrix."
   ]
  },
  {
   "cell_type": "markdown",
   "id": "00d2b1e0",
   "metadata": {
    "slideshow": {
     "slide_type": "skip"
    },
    "tags": [
     "colab-keep"
    ]
   },
   "source": [
    "$\\unlhd$"
   ]
  },
  {
   "cell_type": "markdown",
   "id": "8df2c7f1",
   "metadata": {
    "slideshow": {
     "slide_type": "slide"
    },
    "tags": [
     "colab-keep"
    ]
   },
   "source": [
    "**NUMERICAL CORNER:** We construct a graph with two connected components and check the results above. We work directly with the adjacency matrix."
   ]
  },
  {
   "cell_type": "code",
   "execution_count": null,
   "id": "ed1b71b0",
   "metadata": {
    "slideshow": {
     "slide_type": "fragment"
    }
   },
   "outputs": [],
   "source": [
    "A = np.array([[0, 1, 1, 0, 0], \n",
    "              [1, 0, 1, 0, 0], \n",
    "              [1, 1, 0, 0, 0], \n",
    "              [0, 0, 0, 0, 1], \n",
    "              [0, 0, 0, 1, 0]])\n",
    "print(A)"
   ]
  },
  {
   "cell_type": "markdown",
   "id": "8b23133a",
   "metadata": {
    "slideshow": {
     "slide_type": "fragment"
    },
    "tags": [
     "colab-keep"
    ]
   },
   "source": [
    "Note the block structure."
   ]
  },
  {
   "cell_type": "markdown",
   "id": "73ab2a4d",
   "metadata": {
    "slideshow": {
     "slide_type": "slide"
    },
    "tags": [
     "colab-keep"
    ]
   },
   "source": [
    "The degrees can be obtained by summing the rows of the adjacency matrix."
   ]
  },
  {
   "cell_type": "code",
   "execution_count": null,
   "id": "00976161",
   "metadata": {
    "slideshow": {
     "slide_type": "fragment"
    }
   },
   "outputs": [],
   "source": [
    "degrees = A.sum(axis=1)\n",
    "print(degrees)"
   ]
  },
  {
   "cell_type": "code",
   "execution_count": null,
   "id": "39f38cdb",
   "metadata": {
    "slideshow": {
     "slide_type": "fragment"
    }
   },
   "outputs": [],
   "source": [
    "D = np.diag(degrees)\n",
    "print(D)"
   ]
  },
  {
   "cell_type": "code",
   "execution_count": null,
   "id": "95a29282",
   "metadata": {
    "slideshow": {
     "slide_type": "slide"
    }
   },
   "outputs": [],
   "source": [
    "L = D - A\n",
    "print(L)"
   ]
  },
  {
   "cell_type": "code",
   "execution_count": null,
   "id": "70b538e9",
   "metadata": {
    "slideshow": {
     "slide_type": "fragment"
    }
   },
   "outputs": [],
   "source": [
    "LA.eigvals(L)"
   ]
  },
  {
   "cell_type": "markdown",
   "id": "92ce4d9c",
   "metadata": {
    "slideshow": {
     "slide_type": "fragment"
    },
    "tags": [
     "colab-keep"
    ]
   },
   "source": [
    "Observe that (up to numerical error) there are two $0$ eigenvalues and that the largest eigenvalue is greater or equal than the maximum degree plus one."
   ]
  },
  {
   "cell_type": "markdown",
   "id": "0c378941",
   "metadata": {
    "slideshow": {
     "slide_type": "slide"
    },
    "tags": [
     "colab-keep"
    ]
   },
   "source": [
    "To compute the Laplacian matrix, one can also use the function `laplacian_matrix()`. For example, the Laplacian of the Petersen graph is the following:"
   ]
  },
  {
   "cell_type": "code",
   "execution_count": null,
   "id": "47bfad3d",
   "metadata": {
    "slideshow": {
     "slide_type": "fragment"
    }
   },
   "outputs": [],
   "source": [
    "G = nx.petersen_graph()\n",
    "L = nx.laplacian_matrix(G).toarray()\n",
    "print(L)"
   ]
  },
  {
   "cell_type": "code",
   "execution_count": null,
   "id": "2823ec64",
   "metadata": {
    "slideshow": {
     "slide_type": "slide"
    }
   },
   "outputs": [],
   "source": [
    "LA.eigvals(L)"
   ]
  },
  {
   "cell_type": "markdown",
   "id": "7baf9941",
   "metadata": {
    "slideshow": {
     "slide_type": "skip"
    },
    "tags": [
     "colab-keep"
    ]
   },
   "source": [
    "$\\unlhd$"
   ]
  },
  {
   "cell_type": "markdown",
   "id": "c5710285",
   "metadata": {
    "slideshow": {
     "slide_type": "slide"
    },
    "tags": [
     "colab-keep"
    ]
   },
   "source": [
    "**NUMERICAL CORNER:** This is perhaps easiest to see on a path graph. *Note:* `NetworkX` numbers vertices $0,\\ldots,n-1$. "
   ]
  },
  {
   "cell_type": "code",
   "execution_count": null,
   "id": "3433625e",
   "metadata": {
    "slideshow": {
     "slide_type": "fragment"
    }
   },
   "outputs": [],
   "source": [
    "G = nx.path_graph(10)"
   ]
  },
  {
   "cell_type": "code",
   "execution_count": null,
   "id": "7060c054",
   "metadata": {
    "slideshow": {
     "slide_type": "fragment"
    },
    "tags": [
     "hide-input"
    ]
   },
   "outputs": [],
   "source": [
    "nx.draw_networkx(G, \n",
    "                 node_size=600, node_color='black',\n",
    "                 font_size=16, font_color='white', \n",
    "                 pos=nx.random_layout(G, seed=535)\n",
    "                )"
   ]
  },
  {
   "cell_type": "markdown",
   "id": "096a2fbc",
   "metadata": {
    "slideshow": {
     "slide_type": "slide"
    },
    "tags": [
     "colab-keep"
    ]
   },
   "source": [
    "We plot the second Laplacian eigenvector (i.e., the eigenvector of the Laplacian matrix corresponding to the second smallest eigenvalue). We use [`numpy.argsort()`](https://numpy.org/doc/stable/reference/generated/numpy.argsort.html) to find the index of the second smallest eigenvalue. Because indices start at `0`, we want entry `1` of the output of `np.argsort()`."
   ]
  },
  {
   "cell_type": "code",
   "execution_count": null,
   "id": "42a38584",
   "metadata": {
    "slideshow": {
     "slide_type": "fragment"
    }
   },
   "outputs": [],
   "source": [
    "L = nx.laplacian_matrix(G).toarray()\n",
    "w, v = LA.eigh(L)\n",
    "y2 = v[:,np.argsort(w)[1]]"
   ]
  },
  {
   "cell_type": "code",
   "execution_count": null,
   "id": "a4b2c9de",
   "metadata": {
    "scrolled": false,
    "slideshow": {
     "slide_type": "fragment"
    },
    "tags": [
     "hide-input"
    ]
   },
   "outputs": [],
   "source": [
    "plt.plot(y2)\n",
    "plt.show()"
   ]
  },
  {
   "cell_type": "markdown",
   "id": "0d16bddc",
   "metadata": {
    "slideshow": {
     "slide_type": "skip"
    },
    "tags": [
     "colab-keep"
    ]
   },
   "source": [
    "$\\unlhd$"
   ]
  },
  {
   "cell_type": "markdown",
   "id": "84d39ac1",
   "metadata": {
    "slideshow": {
     "slide_type": "slide"
    },
    "tags": [
     "colab-keep"
    ]
   },
   "source": [
    "## Application to graph partitioning via spectral clustering"
   ]
  },
  {
   "cell_type": "code",
   "execution_count": null,
   "id": "709d977c",
   "metadata": {
    "slideshow": {
     "slide_type": "fragment"
    }
   },
   "outputs": [],
   "source": [
    "G_tree = nx.random_tree(n=6, seed=111)"
   ]
  },
  {
   "cell_type": "code",
   "execution_count": null,
   "id": "0768d754",
   "metadata": {
    "slideshow": {
     "slide_type": "fragment"
    },
    "tags": [
     "hide-input"
    ]
   },
   "outputs": [],
   "source": [
    "nx.draw_networkx(G_tree, pos=nx.circular_layout(G_tree),\n",
    "                 node_size=600, node_color=\"black\", \n",
    "                 font_size=16, font_color=\"white\")"
   ]
  },
  {
   "cell_type": "markdown",
   "id": "246f48fd",
   "metadata": {
    "slideshow": {
     "slide_type": "slide"
    },
    "tags": [
     "colab-keep"
    ]
   },
   "source": [
    "**NUMERICAL CORNER:** **(A random tree)** We return to the random tree example above. We claimed that $\\phi_G = 1/3$. The maximum degree is $\\bar{\\delta} = 3$. We now compute $\\mu_2$. We first compute the Laplacian matrix."
   ]
  },
  {
   "cell_type": "code",
   "execution_count": null,
   "id": "8d44441a",
   "metadata": {
    "slideshow": {
     "slide_type": "fragment"
    }
   },
   "outputs": [],
   "source": [
    "phi_G = 1/3\n",
    "max_deg = 3"
   ]
  },
  {
   "cell_type": "markdown",
   "id": "97f9fed7",
   "metadata": {
    "slideshow": {
     "slide_type": "slide"
    },
    "tags": [
     "colab-keep"
    ]
   },
   "source": [
    "We now compute $\\mu_2$. We first compute the Laplacian matrix."
   ]
  },
  {
   "cell_type": "code",
   "execution_count": null,
   "id": "7803cf95",
   "metadata": {
    "slideshow": {
     "slide_type": "fragment"
    }
   },
   "outputs": [],
   "source": [
    "L_tree = nx.laplacian_matrix(G_tree).toarray()\n",
    "print(L_tree)"
   ]
  },
  {
   "cell_type": "code",
   "execution_count": null,
   "id": "613793c0",
   "metadata": {
    "slideshow": {
     "slide_type": "fragment"
    }
   },
   "outputs": [],
   "source": [
    "w, v = LA.eigh(L_tree) \n",
    "mu_2 = np.sort(w)[1]\n",
    "print(mu_2)"
   ]
  },
  {
   "cell_type": "markdown",
   "id": "d7efa34b",
   "metadata": {
    "slideshow": {
     "slide_type": "slide"
    },
    "tags": [
     "colab-keep"
    ]
   },
   "source": [
    "We check Cheeger's inequality. The left-hand side is:"
   ]
  },
  {
   "cell_type": "code",
   "execution_count": null,
   "id": "83f9665d",
   "metadata": {
    "slideshow": {
     "slide_type": "fragment"
    }
   },
   "outputs": [],
   "source": [
    "(phi_G ** 2) / (2 * max_deg)"
   ]
  },
  {
   "cell_type": "markdown",
   "id": "e61c4ca0",
   "metadata": {
    "slideshow": {
     "slide_type": "slide"
    },
    "tags": [
     "colab-keep"
    ]
   },
   "source": [
    "The right-hand side is:"
   ]
  },
  {
   "cell_type": "code",
   "execution_count": null,
   "id": "89b2b9b8",
   "metadata": {
    "slideshow": {
     "slide_type": "fragment"
    }
   },
   "outputs": [],
   "source": [
    "2 * phi_G"
   ]
  },
  {
   "cell_type": "markdown",
   "id": "1f6f54ac",
   "metadata": {
    "slideshow": {
     "slide_type": "skip"
    },
    "tags": [
     "colab-keep"
    ]
   },
   "source": [
    "$\\unlhd$"
   ]
  },
  {
   "cell_type": "markdown",
   "id": "70dfafac",
   "metadata": {
    "slideshow": {
     "slide_type": "slide"
    },
    "tags": [
     "colab-keep"
    ]
   },
   "source": [
    "**NUMERICAL CORNER:** We implement the graph cutting algorithm above."
   ]
  },
  {
   "cell_type": "markdown",
   "id": "77d398dc",
   "metadata": {
    "slideshow": {
     "slide_type": "fragment"
    },
    "tags": [
     "colab-keep"
    ]
   },
   "source": [
    "We now implement our heuristic in Python. We first write an auxiliary function that takes as input an adjacency matrix, an ordering of the vertices and a value $k$. It returns the cut ratio for the first $k$ vertices in the order."
   ]
  },
  {
   "cell_type": "code",
   "execution_count": null,
   "id": "2aa31e5e",
   "metadata": {
    "slideshow": {
     "slide_type": "fragment"
    }
   },
   "outputs": [],
   "source": [
    "def cut_ratio(A, order, k):\n",
    "    n = A.shape[0] # number of vertices\n",
    "    edge_boundary = 0 # initialize size of edge boundary \n",
    "    for i in range(k+1): # for all vertices before cut\n",
    "        for j in range(k+1,n): # for all vertices after cut\n",
    "            edge_boundary += A[order[i],order[j]] # add one if {i,j} in E\n",
    "    denominator = np.minimum(k+1, n-k-1)\n",
    "    return edge_boundary/denominator"
   ]
  },
  {
   "cell_type": "markdown",
   "id": "a8f898ff",
   "metadata": {
    "slideshow": {
     "slide_type": "slide"
    },
    "tags": [
     "colab-keep"
    ]
   },
   "source": [
    "Using the `cut_ratio` function, we first compute the Laplacian, find the second eigenvector and corresponding order of vertices. Then we compute the cut ratio for every $k$. Finally we output the cut (both $S_k$ and $S_k^c$) corresponding to the minimum, as a tuple of arrays."
   ]
  },
  {
   "cell_type": "code",
   "execution_count": null,
   "id": "0ab4a61a",
   "metadata": {
    "slideshow": {
     "slide_type": "fragment"
    }
   },
   "outputs": [],
   "source": [
    "def spectral_cut2(A):\n",
    "    n = A.shape[0] # number of vertices\n",
    "    \n",
    "    # laplacian\n",
    "    degrees = A.sum(axis=1)\n",
    "    D = np.diag(degrees)\n",
    "    L = D - A\n",
    "\n",
    "    # spectral decomposition\n",
    "    w, v = LA.eigh(L) \n",
    "    order = np.argsort(v[:,np.argsort(w)[1]]) # index of entries in increasing order\n",
    "    \n",
    "    # cut ratios\n",
    "    phi = np.zeros(n-1) # initialize cut ratios\n",
    "    for k in range(n-1):\n",
    "        phi[k] = cut_ratio(A, order, k)\n",
    "    imin = np.argmin(phi) # find best cut ratio\n",
    "    return order[0:imin+1], order[imin+1:n]"
   ]
  },
  {
   "cell_type": "markdown",
   "id": "73a3b037",
   "metadata": {
    "slideshow": {
     "slide_type": "slide"
    },
    "tags": [
     "colab-keep"
    ]
   },
   "source": [
    "We will illustrate this on the path graph."
   ]
  },
  {
   "cell_type": "code",
   "execution_count": null,
   "id": "e6a2b241",
   "metadata": {
    "slideshow": {
     "slide_type": "fragment"
    }
   },
   "outputs": [],
   "source": [
    "n = 10\n",
    "G = nx.path_graph(n)"
   ]
  },
  {
   "cell_type": "code",
   "execution_count": null,
   "id": "6955449c",
   "metadata": {
    "slideshow": {
     "slide_type": "fragment"
    },
    "tags": [
     "hide-input"
    ]
   },
   "outputs": [],
   "source": [
    "nx.draw_networkx(G, \n",
    "                 node_size=600, node_color='black',\n",
    "                 font_size=16, font_color='white',\n",
    "                 pos=nx.spectral_layout(G)\n",
    "                )"
   ]
  },
  {
   "cell_type": "markdown",
   "id": "5596d32d",
   "metadata": {
    "slideshow": {
     "slide_type": "slide"
    },
    "tags": [
     "colab-keep"
    ]
   },
   "source": [
    "We apply our spectral-based cutting algorihtm."
   ]
  },
  {
   "cell_type": "code",
   "execution_count": null,
   "id": "ad6a3a24",
   "metadata": {
    "slideshow": {
     "slide_type": "fragment"
    }
   },
   "outputs": [],
   "source": [
    "A = nx.adjacency_matrix(G).toarray()\n",
    "s, sc = spectral_cut2(A)\n",
    "print(s)\n",
    "print(sc)"
   ]
  },
  {
   "cell_type": "markdown",
   "id": "7eb8ad18",
   "metadata": {
    "slideshow": {
     "slide_type": "slide"
    },
    "tags": [
     "colab-keep"
    ]
   },
   "source": [
    "To help with vizualizing the output, we write a function coloring the vertices according to which side of the cut they are on."
   ]
  },
  {
   "cell_type": "code",
   "execution_count": null,
   "id": "1e57daec",
   "metadata": {
    "slideshow": {
     "slide_type": "fragment"
    }
   },
   "outputs": [],
   "source": [
    "def viz_cut(G, s, layout):\n",
    "    n = G.number_of_nodes()\n",
    "    assign = np.ones(n)\n",
    "    assign[s] = 2\n",
    "    nx.draw_networkx(G, node_color=assign, pos=layout(G), with_labels=False)"
   ]
  },
  {
   "cell_type": "code",
   "execution_count": null,
   "id": "02588cb4",
   "metadata": {
    "scrolled": false,
    "slideshow": {
     "slide_type": "slide"
    }
   },
   "outputs": [],
   "source": [
    "viz_cut(G, s, nx.spectral_layout)"
   ]
  },
  {
   "cell_type": "markdown",
   "id": "4b0ca059",
   "metadata": {
    "slideshow": {
     "slide_type": "slide"
    },
    "tags": [
     "colab-keep"
    ]
   },
   "source": [
    "Let's try it on the grid graph. Can you guess what the cut will be?"
   ]
  },
  {
   "cell_type": "code",
   "execution_count": null,
   "id": "e091e262",
   "metadata": {
    "slideshow": {
     "slide_type": "fragment"
    }
   },
   "outputs": [],
   "source": [
    "G = nx.grid_2d_graph(4,7)\n",
    "A = nx.adjacency_matrix(G).toarray()\n",
    "s, sc = spectral_cut2(A)\n",
    "viz_cut(G, s, nx.spectral_layout)"
   ]
  },
  {
   "cell_type": "markdown",
   "id": "b29d0c00",
   "metadata": {
    "slideshow": {
     "slide_type": "skip"
    },
    "tags": [
     "colab-keep"
    ]
   },
   "source": [
    "$\\unlhd$"
   ]
  },
  {
   "cell_type": "markdown",
   "id": "cfab55cd",
   "metadata": {
    "slideshow": {
     "slide_type": "slide"
    },
    "tags": [
     "colab-keep"
    ]
   },
   "source": [
    "**Back to community detection** We return to the [Karate Club dataset](https://en.wikipedia.org/wiki/Zachary%27s_karate_club)."
   ]
  },
  {
   "cell_type": "code",
   "execution_count": null,
   "id": "68e2528e",
   "metadata": {
    "slideshow": {
     "slide_type": "slide"
    }
   },
   "outputs": [],
   "source": [
    "G = nx.karate_club_graph()\n",
    "n = G.number_of_nodes()\n",
    "A = nx.adjacency_matrix(G).toarray()"
   ]
  },
  {
   "cell_type": "code",
   "execution_count": null,
   "id": "4de23524",
   "metadata": {
    "slideshow": {
     "slide_type": "fragment"
    },
    "tags": [
     "hide-input"
    ]
   },
   "outputs": [],
   "source": [
    "nx.draw_networkx(G)"
   ]
  },
  {
   "cell_type": "markdown",
   "id": "9ec0a542",
   "metadata": {
    "slideshow": {
     "slide_type": "slide"
    },
    "tags": [
     "colab-keep"
    ]
   },
   "source": [
    "We seek to find natural sub-communities. We use the spectral properties of the Laplacian as described in the lectures."
   ]
  },
  {
   "cell_type": "markdown",
   "id": "bca4a5f7",
   "metadata": {
    "slideshow": {
     "slide_type": "slide"
    },
    "tags": [
     "colab-keep"
    ]
   },
   "source": [
    "We use our `spectral_cut2` and `viz_cut` functions to compute a good cut and vizualize it."
   ]
  },
  {
   "cell_type": "code",
   "execution_count": null,
   "id": "2052ea28",
   "metadata": {
    "slideshow": {
     "slide_type": "fragment"
    }
   },
   "outputs": [],
   "source": [
    "s, sc = spectral_cut2(A)\n",
    "print(s)\n",
    "print(sc)"
   ]
  },
  {
   "cell_type": "code",
   "execution_count": null,
   "id": "bdec8b48",
   "metadata": {
    "slideshow": {
     "slide_type": "fragment"
    }
   },
   "outputs": [],
   "source": [
    "viz_cut(G, s, nx.spring_layout)"
   ]
  },
  {
   "cell_type": "markdown",
   "id": "f5825774",
   "metadata": {
    "slideshow": {
     "slide_type": "slide"
    },
    "tags": [
     "colab-keep"
    ]
   },
   "source": [
    "It is not trivial to assess the quality of the resulting cut. But this particular example has a known ground-truth community structure (which partly explains its widespread use). Quoting from [Wikipedia](https://en.wikipedia.org/wiki/Zachary%27s_karate_club):\n",
    "> A social network of a karate club was studied by Wayne W. Zachary for a period of three years from 1970 to 1972. The network captures 34 members of a karate club, documenting links between pairs of members who interacted outside the club. During the study a conflict arose between the administrator \"John A\" and instructor \"Mr. Hi\" (pseudonyms), which led to the split of the club into two. Half of the members formed a new club around Mr. Hi; members from the other part found a new instructor or gave up karate. Based on collected data Zachary correctly assigned all but one member of the club to the groups they actually joined after the split.\n",
    "\n",
    "This ground truth is the following."
   ]
  },
  {
   "cell_type": "code",
   "execution_count": null,
   "id": "b529ce60",
   "metadata": {
    "slideshow": {
     "slide_type": "slide"
    }
   },
   "outputs": [],
   "source": [
    "truth = np.array([2, 2, 2, 2, 2, 2, 2, 2, 1, 1, 2, 2, 2, 2, 1, \n",
    "    1, 2, 2, 1, 2, 1, 2, 1, 1, 1, 1, 1, 1, 1, 1, 1, 1, 1, 1])\n",
    "nx.draw_networkx(G, node_color=truth, pos=nx.spring_layout(G))"
   ]
  },
  {
   "cell_type": "markdown",
   "id": "4a5a10d6",
   "metadata": {
    "slideshow": {
     "slide_type": "fragment"
    },
    "tags": [
     "colab-keep"
    ]
   },
   "source": [
    "You can check that our cut perfectly matches the ground truth."
   ]
  },
  {
   "cell_type": "markdown",
   "id": "ade20997",
   "metadata": {
    "slideshow": {
     "slide_type": "fragment"
    },
    "tags": [
     "colab-keep"
    ]
   },
   "source": [
    "$\\newcommand{\\bSigma}{\\boldsymbol{\\Sigma}}$ $\\newcommand{\\bmu}{\\boldsymbol{\\mu}}$"
   ]
  },
  {
   "cell_type": "markdown",
   "id": "95c0d5c2",
   "metadata": {
    "slideshow": {
     "slide_type": "slide"
    },
    "tags": [
     "colab-keep"
    ]
   },
   "source": [
    "## More advanced material: Weyl's inequality; image segmentation"
   ]
  },
  {
   "cell_type": "markdown",
   "id": "b21c37f9",
   "metadata": {
    "slideshow": {
     "slide_type": "slide"
    },
    "tags": [
     "colab-keep"
    ]
   },
   "source": [
    "### Image segmentation"
   ]
  },
  {
   "cell_type": "markdown",
   "id": "216a0247",
   "metadata": {
    "slideshow": {
     "slide_type": "slide"
    },
    "tags": [
     "colab-keep"
    ]
   },
   "source": [
    "We give a different, more involved application of the ideas developed in this topic to image segmentation. Let us quote Wikipedia:\n",
    "\n",
    ">  In computer vision, image segmentation is the process of partitioning a digital image into multiple segments (sets of pixels, also known as image objects). The goal of segmentation is to simplify and/or change the representation of an image into something that is more meaningful and easier to analyze. Image segmentation is typically used to locate objects and boundaries (lines, curves, etc.) in images. More precisely, image segmentation is the process of assigning a label to every pixel in an image such that pixels with the same label share certain characteristics."
   ]
  },
  {
   "cell_type": "markdown",
   "id": "5db9f986",
   "metadata": {
    "slideshow": {
     "slide_type": "fragment"
    },
    "tags": [
     "colab-keep"
    ]
   },
   "source": [
    "Throughout, we will use the [`scikit-image`](https://scikit-image.org) library for processing images."
   ]
  },
  {
   "cell_type": "code",
   "execution_count": null,
   "id": "3fad005d",
   "metadata": {
    "slideshow": {
     "slide_type": "skip"
    }
   },
   "outputs": [],
   "source": [
    "from skimage import io, segmentation, color\n",
    "from skimage import graph\n",
    "from sklearn.cluster import KMeans"
   ]
  },
  {
   "cell_type": "markdown",
   "id": "9f93d94c",
   "metadata": {
    "slideshow": {
     "slide_type": "slide"
    },
    "tags": [
     "colab-keep"
    ]
   },
   "source": [
    "As an example, here is a picture of cell nuclei taken through optical microscopy as part of some medical experiment. It is taken from [here](https://www.kaggle.com/c/data-science-bowl-2018/data). Here we used the function [`skimage.io.imread`](https://scikit-image.org/docs/dev/api/skimage.io.html#skimage.io.imread) to load an image from file."
   ]
  },
  {
   "cell_type": "code",
   "execution_count": null,
   "id": "d599fd98",
   "metadata": {
    "slideshow": {
     "slide_type": "fragment"
    }
   },
   "outputs": [],
   "source": [
    "img = io.imread('cell-nuclei.png')\n",
    "fig, ax = plt.subplots(figsize=(6, 6))\n",
    "ax.imshow(img)\n",
    "plt.show()"
   ]
  },
  {
   "cell_type": "markdown",
   "id": "11106127",
   "metadata": {
    "slideshow": {
     "slide_type": "slide"
    },
    "tags": [
     "colab-keep"
    ]
   },
   "source": [
    "Suppose that, as part of this experiment, we have a large number of such images and need to keep track of the cell nuclei in some way (maybe count how many there are, or track them from frame to frame). A natural pre-processing step is to identify the cell nuclei in the image. We use image segmentation for this purpose. \n",
    "\n",
    "We will come back to the example below. Let us start with some further examples."
   ]
  },
  {
   "cell_type": "markdown",
   "id": "36c57c8b",
   "metadata": {
    "slideshow": {
     "slide_type": "slide"
    },
    "tags": [
     "colab-keep"
    ]
   },
   "source": [
    "We will first work with the following [map of Wisconsin regions](https://www.dhs.wisconsin.gov/areaadmin/index.htm)."
   ]
  },
  {
   "cell_type": "code",
   "execution_count": null,
   "id": "f2bd57d2",
   "metadata": {
    "slideshow": {
     "slide_type": "fragment"
    }
   },
   "outputs": [],
   "source": [
    "img = io.imread('wisconsin-regions.png')\n",
    "fig, ax = plt.subplots(figsize=(6, 6))\n",
    "ax.imshow(img)\n",
    "plt.show()"
   ]
  },
  {
   "cell_type": "markdown",
   "id": "67cc6ff4",
   "metadata": {
    "slideshow": {
     "slide_type": "slide"
    },
    "tags": [
     "colab-keep"
    ]
   },
   "source": [
    "A color image such as this one is encoded as a $3$-dimensional array (or [tensor](https://en.wikipedia.org/wiki/Tensor)), meaning that it is an array with $3$ indices (unlike matrices which have only two indices). "
   ]
  },
  {
   "cell_type": "code",
   "execution_count": null,
   "id": "b150c963",
   "metadata": {
    "slideshow": {
     "slide_type": "fragment"
    }
   },
   "outputs": [],
   "source": [
    "img.shape"
   ]
  },
  {
   "cell_type": "markdown",
   "id": "c29769da",
   "metadata": {
    "slideshow": {
     "slide_type": "fragment"
    },
    "tags": [
     "colab-keep"
    ]
   },
   "source": [
    "The first two indices capture the position of a pixel. The third index capture the [RGB color model](https://en.wikipedia.org/wiki/RGB_color_model). Put differently, each pixel in the image has three numbers (between 0 and 255) attached to it that encodes its color. "
   ]
  },
  {
   "cell_type": "markdown",
   "id": "1c587857",
   "metadata": {
    "slideshow": {
     "slide_type": "slide"
    },
    "tags": [
     "colab-keep"
    ]
   },
   "source": [
    "For instance, at position $(300,400)$ the RGB color is:"
   ]
  },
  {
   "cell_type": "code",
   "execution_count": null,
   "id": "f439712e",
   "metadata": {
    "slideshow": {
     "slide_type": "fragment"
    }
   },
   "outputs": [],
   "source": [
    "img[300,400,:]"
   ]
  },
  {
   "cell_type": "code",
   "execution_count": null,
   "id": "af8248b7",
   "metadata": {
    "slideshow": {
     "slide_type": "fragment"
    }
   },
   "outputs": [],
   "source": [
    "plt.imshow(np.reshape(img[300,400,:],(1,1,3)))\n",
    "plt.show()"
   ]
  },
  {
   "cell_type": "markdown",
   "id": "304bb8b1",
   "metadata": {
    "slideshow": {
     "slide_type": "slide"
    },
    "tags": [
     "colab-keep"
    ]
   },
   "source": [
    "To perform image segmentation using the spectral graph theory we have developed, we transform our image into a graph. \n",
    "\n",
    "The first step is to coarsen the image by creating super-pixels, or regions of pixels that are close and have similar color. For this purpose, we will use [`skimage.segmentation.slic`](https://scikit-image.org/docs/stable/api/skimage.segmentation.html#skimage.segmentation.slic), which in essence uses $k$-means clustering on the color space to identify blobs of pixels that are in close proximity and have similar colors. It takes as imput a number of super-pixels desired (`n_segments`), a compactness parameter (`compactness`) and a smoothing parameter (`sigma`). The output is a label assignment for each pixel in the form of a $2$-dimensional array. \n",
    "\n",
    "On the choice of the parameter `compactness` via [scikit-image](https://scikit-image.org/docs/dev/api/skimage.segmentation.html#skimage.segmentation.slic):\n",
    "> Balances color proximity and space proximity. Higher values give more weight to space proximity, making superpixel shapes more square/cubic. This parameter depends strongly on image contrast and on the shapes of objects in the image. We recommend exploring possible values on a log scale, e.g., 0.01, 0.1, 1, 10, 100, before refining around a chosen value.\n",
    "\n",
    "The parameter `sigma` controls the level of [blurring](https://en.wikipedia.org/wiki/Gaussian_blur) applied to the image as a pre-processing step. In practice, experimentation is required to choose good parameters."
   ]
  },
  {
   "cell_type": "code",
   "execution_count": null,
   "id": "c6f29322",
   "metadata": {
    "slideshow": {
     "slide_type": "slide"
    }
   },
   "outputs": [],
   "source": [
    "labels1 = segmentation.slic(img, \n",
    "                            compactness=25, \n",
    "                            n_segments=100, \n",
    "                            sigma=2., \n",
    "                            start_label=0)\n",
    "print(labels1)"
   ]
  },
  {
   "cell_type": "markdown",
   "id": "fe6ba4d4",
   "metadata": {
    "slideshow": {
     "slide_type": "fragment"
    },
    "tags": [
     "colab-keep"
    ]
   },
   "source": [
    "A neat way to vizualize the super-pixels is to use the function [`skimage.color.label2rgb`](https://scikit-image.org/docs/dev/api/skimage.color.html#skimage.color.label2rgb) which takes as input an image and an array of labels. In the mode `kind='avg'`, it outputs a new image where the color of each pixel is replaced with the average color of its label (that is, the average of the RGB color over all pixels with the same label). As they say, an image is worth a thousand words - let's just see what it does. "
   ]
  },
  {
   "cell_type": "code",
   "execution_count": null,
   "id": "a077ff67",
   "metadata": {
    "slideshow": {
     "slide_type": "slide"
    }
   },
   "outputs": [],
   "source": [
    "out1 = color.label2rgb(labels1, img/255, kind='avg', bg_label=0)\n",
    "out1.shape"
   ]
  },
  {
   "cell_type": "code",
   "execution_count": null,
   "id": "d528a253",
   "metadata": {
    "scrolled": false,
    "slideshow": {
     "slide_type": "fragment"
    }
   },
   "outputs": [],
   "source": [
    "fig, ax = plt.subplots(figsize=(6, 6))\n",
    "ax.imshow(out1)\n",
    "plt.show()"
   ]
  },
  {
   "cell_type": "markdown",
   "id": "f32184ca",
   "metadata": {
    "slideshow": {
     "slide_type": "slide"
    },
    "tags": [
     "colab-keep"
    ]
   },
   "source": [
    "Recall that our goal is to turn our original image into a graph. After the first step of creating super-pixels, the second step is to form a graph whose nodes are the super-pixels. Edges are added between adjacent super-pixels and a weight is given to each edge which reflects the difference in mean color between the two. \n",
    "\n",
    "We use [`skimage.graph.rag_mean_color`](https://scikit-image.org/docs/stable/api/skimage.graph.html#skimage.graph.rag_mean_color). In mode `similarity`, it uses the following weight formula (quoting the documentation):\n",
    "> The weight between two adjacent regions is exp(-d^2/sigma) where d=|c1−c2|, where c1 and c2 are the mean colors of the two regions. It represents how similar two regions are.\n",
    "\n",
    "The output, which is known as a region adjacency graph (RAG), is a `NetworkX` graph and can be manipulated using that package."
   ]
  },
  {
   "cell_type": "code",
   "execution_count": null,
   "id": "658fd2f8",
   "metadata": {
    "slideshow": {
     "slide_type": "slide"
    }
   },
   "outputs": [],
   "source": [
    "g = graph.rag_mean_color(img, labels1, mode='similarity')\n",
    "nx.draw(g, pos=nx.spring_layout(g))"
   ]
  },
  {
   "cell_type": "markdown",
   "id": "bc9585c8",
   "metadata": {
    "slideshow": {
     "slide_type": "slide"
    },
    "tags": [
     "colab-keep"
    ]
   },
   "source": [
    "`scikit-image` also provides a more effective way of vizualizing a RAG, using the function [`skimage.future.graph.show_rag`](https://scikit-image.org/docs/dev/api/skimage.future.graph.html#skimage.future.graph.show_rag). Here the graph is super-imposed on the image and the edge weights are depicted by their color."
   ]
  },
  {
   "cell_type": "code",
   "execution_count": null,
   "id": "b5cd7e0f",
   "metadata": {
    "slideshow": {
     "slide_type": "fragment"
    }
   },
   "outputs": [],
   "source": [
    "fig, ax = plt.subplots(nrows=1, figsize=(6, 8))\n",
    "lc = graph.show_rag(labels1, g, img, ax=ax)\n",
    "fig.colorbar(lc, fraction=0.05, ax=ax)\n",
    "plt.show()"
   ]
  },
  {
   "cell_type": "markdown",
   "id": "7525de60",
   "metadata": {
    "slideshow": {
     "slide_type": "slide"
    },
    "tags": [
     "colab-keep"
    ]
   },
   "source": [
    "We can apply the spectral clustering techniques we have developed in this chapter. Next we compute a spectral decomposition of the weighted Laplacian and plot the eigenvalues."
   ]
  },
  {
   "cell_type": "code",
   "execution_count": null,
   "id": "bbe1c04a",
   "metadata": {
    "slideshow": {
     "slide_type": "fragment"
    }
   },
   "outputs": [],
   "source": [
    "L = nx.laplacian_matrix(g).toarray()\n",
    "print(L)"
   ]
  },
  {
   "cell_type": "code",
   "execution_count": null,
   "id": "6f93097c",
   "metadata": {
    "slideshow": {
     "slide_type": "slide"
    }
   },
   "outputs": [],
   "source": [
    "w, v = LA.eigh(L)\n",
    "plt.plot(np.sort(w))\n",
    "plt.show()"
   ]
  },
  {
   "cell_type": "markdown",
   "id": "3d209e9a",
   "metadata": {
    "slideshow": {
     "slide_type": "slide"
    },
    "tags": [
     "colab-keep"
    ]
   },
   "source": [
    "From the theory, this suggests that there are roughly 15 components in this graph. We project to $15$ dimensions and apply $k$-means clustering to find segments. Rather than using our own implementation, we use [`sklearn.cluster.KMeans`](https://scikit-learn.org/stable/modules/generated/sklearn.cluster.KMeans.html) from the [`scikit-learn`](https://scikit-learn.org/stable/index.html) library. That implementation uses the [$k$-means$++$](https://en.wikipedia.org/wiki/K-means%2B%2B) initialization, which is particularly effective in practice. A label assignment for each node can be accessed using `labels_`.  "
   ]
  },
  {
   "cell_type": "code",
   "execution_count": null,
   "id": "29278156",
   "metadata": {
    "slideshow": {
     "slide_type": "fragment"
    }
   },
   "outputs": [],
   "source": [
    "ndims = 15 # number of dimensions to project to\n",
    "nsegs = 10 # number of segments\n",
    "\n",
    "top = np.argsort(w)[1:ndims]\n",
    "topvecs = v[:,top]\n",
    "topvals = w[top]\n",
    "\n",
    "kmeans = KMeans(n_clusters=nsegs, random_state=12345).fit(topvecs)\n",
    "assign_seg = kmeans.labels_\n",
    "print(assign_seg)"
   ]
  },
  {
   "cell_type": "markdown",
   "id": "eacd0a84",
   "metadata": {
    "slideshow": {
     "slide_type": "slide"
    },
    "tags": [
     "colab-keep"
    ]
   },
   "source": [
    "To vizualize the segmentation, we assign to each segment (i.e., collection of super-pixels) a random color. This can be done using [`skimage.color.label2rgb`](https://scikit-image.org/docs/dev/api/skimage.color.html#skimage.color.label2rgb) again, this time in mode `kind='overlay'`. First, we assign to each pixel from the original image its label under this clustering. Recall that `labels1` assigns to each pixel its super-pixel (represented by a node of the RAG), so that applying `assign_seg` element-wise to `labels1` results is assigning a cluster to each pixel. In code:"
   ]
  },
  {
   "cell_type": "code",
   "execution_count": null,
   "id": "561fd651",
   "metadata": {
    "slideshow": {
     "slide_type": "fragment"
    }
   },
   "outputs": [],
   "source": [
    "labels2 = assign_seg[labels1]\n",
    "print(labels2)"
   ]
  },
  {
   "cell_type": "code",
   "execution_count": null,
   "id": "8f566abc",
   "metadata": {
    "slideshow": {
     "slide_type": "fragment"
    }
   },
   "outputs": [],
   "source": [
    "out2 = color.label2rgb(labels2, kind='overlay', bg_label=0)\n",
    "out2.shape"
   ]
  },
  {
   "cell_type": "code",
   "execution_count": null,
   "id": "635be01d",
   "metadata": {
    "slideshow": {
     "slide_type": "slide"
    }
   },
   "outputs": [],
   "source": [
    "fig, ax = plt.subplots(nrows=2, sharex=True, sharey=True, figsize=(16, 8))\n",
    "ax[0].imshow(img)\n",
    "ax[1].imshow(out2)\n",
    "plt.show()"
   ]
  },
  {
   "cell_type": "markdown",
   "id": "a1bf0976",
   "metadata": {
    "slideshow": {
     "slide_type": "slide"
    },
    "tags": [
     "colab-keep"
    ]
   },
   "source": [
    "As you can see, the result is reasonable but far from perfect. "
   ]
  },
  {
   "cell_type": "markdown",
   "id": "13b8c461",
   "metadata": {
    "slideshow": {
     "slide_type": "skip"
    },
    "tags": [
     "colab-keep"
    ]
   },
   "source": [
    "For ease of use, we encapsulate the main steps above in sub-routines. "
   ]
  },
  {
   "cell_type": "code",
   "execution_count": null,
   "id": "c87d13ce",
   "metadata": {
    "slideshow": {
     "slide_type": "slide"
    }
   },
   "outputs": [],
   "source": [
    "def imgseg_rag(img, compactness=30, n_spixels=400, sigma=0., figsize=(10,10)):\n",
    "    labels1 = segmentation.slic(img, \n",
    "                                compactness=compactness, \n",
    "                                n_segments=n_spixels, \n",
    "                                sigma=sigma, \n",
    "                                start_label=0)\n",
    "    out1 = color.label2rgb(labels1, img/255, kind='avg', bg_label=0)\n",
    "    g = graph.rag_mean_color(img, labels1, mode='similarity')\n",
    "    fig, ax = plt.subplots(figsize=figsize)\n",
    "    ax.imshow(out1)\n",
    "    plt.show()\n",
    "    return labels1, g"
   ]
  },
  {
   "cell_type": "code",
   "execution_count": null,
   "id": "63191dea",
   "metadata": {
    "slideshow": {
     "slide_type": "fragment"
    }
   },
   "outputs": [],
   "source": [
    "def imgseg_eig(g):\n",
    "    L = nx.laplacian_matrix(g).toarray()\n",
    "    w, v = LA.eigh(L)\n",
    "    plt.plot(np.sort(w))\n",
    "    plt.show()\n",
    "    return w,v"
   ]
  },
  {
   "cell_type": "code",
   "execution_count": null,
   "id": "ec1af27d",
   "metadata": {
    "slideshow": {
     "slide_type": "slide"
    }
   },
   "outputs": [],
   "source": [
    "def imgseg_labels(w, v, n_dims=10, n_segments=5, random_state=0):\n",
    "    top = np.argsort(w)[1:n_dims]\n",
    "    topvecs = v[:,top]\n",
    "    topvals = w[top]\n",
    "    kmeans = KMeans(n_clusters=n_segments, \n",
    "                    random_state=random_state).fit(topvecs)\n",
    "    assign_seg = kmeans.labels_\n",
    "    labels2 = assign_seg[labels1]\n",
    "    return labels2"
   ]
  },
  {
   "cell_type": "code",
   "execution_count": null,
   "id": "786ac3f5",
   "metadata": {
    "slideshow": {
     "slide_type": "fragment"
    }
   },
   "outputs": [],
   "source": [
    "def imgseg_viz(img, labels2, figsize=(20,10)):\n",
    "    out2 = color.label2rgb(labels2, kind='overlay', bg_label=0)\n",
    "    fig, ax = plt.subplots(nrows=2, sharex=True, sharey=True, figsize=figsize)\n",
    "    ax[0].imshow(img)\n",
    "    ax[1].imshow(out2)\n",
    "    plt.show()"
   ]
  },
  {
   "cell_type": "markdown",
   "id": "7743631c",
   "metadata": {
    "slideshow": {
     "slide_type": "slide"
    },
    "tags": [
     "colab-keep"
    ]
   },
   "source": [
    "Let's try a more complicated image. This one is taken from [here](https://www.reddit.com/r/aww/comments/169s6e/badgers_can_be_cute_too/)."
   ]
  },
  {
   "cell_type": "code",
   "execution_count": null,
   "id": "d68d8552",
   "metadata": {
    "slideshow": {
     "slide_type": "fragment"
    }
   },
   "outputs": [],
   "source": [
    "img = io.imread('two-badgers.jpg')\n",
    "fig, ax = plt.subplots(figsize=(10, 10))\n",
    "ax.imshow(img)\n",
    "plt.show()"
   ]
  },
  {
   "cell_type": "markdown",
   "id": "856b3e90",
   "metadata": {
    "slideshow": {
     "slide_type": "slide"
    },
    "tags": [
     "colab-keep"
    ]
   },
   "source": [
    "Recall that the choice of parameters requires significant fidgeting. "
   ]
  },
  {
   "cell_type": "code",
   "execution_count": null,
   "id": "dc42f88a",
   "metadata": {
    "slideshow": {
     "slide_type": "fragment"
    }
   },
   "outputs": [],
   "source": [
    "labels1, g = imgseg_rag(img, \n",
    "                        compactness=30, \n",
    "                        n_spixels=1000, \n",
    "                        sigma=0., \n",
    "                        figsize=(10,10))"
   ]
  },
  {
   "cell_type": "code",
   "execution_count": null,
   "id": "e0b1ec8c",
   "metadata": {
    "slideshow": {
     "slide_type": "slide"
    }
   },
   "outputs": [],
   "source": [
    "w, v = imgseg_eig(g)"
   ]
  },
  {
   "cell_type": "code",
   "execution_count": null,
   "id": "0a86f5a0",
   "metadata": {
    "slideshow": {
     "slide_type": "slide"
    }
   },
   "outputs": [],
   "source": [
    "labels2 = imgseg_labels(w, v, n_dims=60, n_segments=50, random_state=535)\n",
    "imgseg_viz(img,labels2,figsize=(20,10))"
   ]
  },
  {
   "cell_type": "markdown",
   "id": "11dd610e",
   "metadata": {
    "slideshow": {
     "slide_type": "skip"
    },
    "tags": [
     "colab-keep"
    ]
   },
   "source": [
    "Again, the results are far from perfect - but not unreasonable."
   ]
  },
  {
   "cell_type": "markdown",
   "id": "d92e0ee3",
   "metadata": {
    "slideshow": {
     "slide_type": "slide"
    },
    "tags": [
     "colab-keep"
    ]
   },
   "source": [
    "Finally, we return to our medical example. We first reload the image and find super-pixels."
   ]
  },
  {
   "cell_type": "code",
   "execution_count": null,
   "id": "78339b90",
   "metadata": {
    "slideshow": {
     "slide_type": "fragment"
    }
   },
   "outputs": [],
   "source": [
    "img = io.imread('cell-nuclei.png')\n",
    "labels1, g = imgseg_rag(img,compactness=40,n_spixels=300,sigma=0.1,figsize=(6,6))"
   ]
  },
  {
   "cell_type": "markdown",
   "id": "a030d963",
   "metadata": {
    "slideshow": {
     "slide_type": "slide"
    },
    "tags": [
     "colab-keep"
    ]
   },
   "source": [
    "We then form the weighted Laplacian and plot its eigenvalues. This time, about $40$ dimensions seem appropriate."
   ]
  },
  {
   "cell_type": "code",
   "execution_count": null,
   "id": "986a3354",
   "metadata": {
    "slideshow": {
     "slide_type": "fragment"
    }
   },
   "outputs": [],
   "source": [
    "w, v = imgseg_eig(g)"
   ]
  },
  {
   "cell_type": "code",
   "execution_count": null,
   "id": "777c01f8",
   "metadata": {
    "slideshow": {
     "slide_type": "slide"
    }
   },
   "outputs": [],
   "source": [
    "labels2 = imgseg_labels(w, v, n_dims=40, n_segments=30, random_state=535)\n",
    "imgseg_viz(img,labels2,figsize=(20,10))"
   ]
  },
  {
   "cell_type": "markdown",
   "id": "9738c253",
   "metadata": {
    "slideshow": {
     "slide_type": "slide"
    },
    "tags": [
     "colab-keep"
    ]
   },
   "source": [
    "This method is quite finicky. The choice of parameters affects the results significantly. You should see for yourself. \n",
    "\n",
    "We mention that `scikit-image` has an implementation of a closely related method, Normalized Cut, [`skimage.graph.cut_normalized`](https://scikit-image.org/docs/dev/api/skimage.graph.html#skimage.graph.cut_normalized). Rather than performing $k$-means after projection, it recursively performs $2$-way cuts on the RAG and resulting subgraphs. \n",
    "\n",
    "We try it next. The results are similar as you can see."
   ]
  },
  {
   "cell_type": "code",
   "execution_count": null,
   "id": "a7320586",
   "metadata": {
    "slideshow": {
     "slide_type": "slide"
    }
   },
   "outputs": [],
   "source": [
    "labels2 = graph.cut_normalized(labels1, g)\n",
    "imgseg_viz(img,labels2,figsize=(20,10))"
   ]
  },
  {
   "cell_type": "markdown",
   "id": "a0c01cb0",
   "metadata": {
    "slideshow": {
     "slide_type": "skip"
    },
    "tags": [
     "colab-keep"
    ]
   },
   "source": [
    "There are many other image segmentation methods. See for example [here](https://scikit-image.org/docs/dev/api/skimage.segmentation.html#module-skimage.segmentation). "
   ]
  }
 ],
 "metadata": {
  "kernelspec": {
   "display_name": "Python 3",
   "language": "python",
   "name": "python3"
  },
  "language_info": {
   "codemirror_mode": {
    "name": "ipython",
    "version": 3
   },
   "file_extension": ".py",
   "mimetype": "text/x-python",
   "name": "python",
   "nbconvert_exporter": "python",
   "pygments_lexer": "ipython3",
   "version": "3.8.8"
  }
 },
 "nbformat": 4,
 "nbformat_minor": 5
}
